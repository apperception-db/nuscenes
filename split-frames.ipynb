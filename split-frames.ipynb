{
 "cells": [
  {
   "cell_type": "code",
   "execution_count": 8,
   "id": "f91f911b-6838-496c-b62c-428eb0cf4e1d",
   "metadata": {
    "tags": []
   },
   "outputs": [],
   "source": [
    "import pickle\n",
    "import os\n",
    "import json\n",
    "from tqdm import tqdm\n",
    "from utils.data_dirs import data_dirs\n",
    "from utils.frame_json_encoder import FrameJSONEncoder"
   ]
  },
  {
   "cell_type": "code",
   "execution_count": 2,
   "id": "b50a2818-ab73-4518-b38d-35ef26a1b974",
   "metadata": {
    "tags": []
   },
   "outputs": [
    {
     "name": "stdout",
     "output_type": "stream",
     "text": [
      "/work/apperception/data/raw/nuScenes/full-dataset-v1.0/Trainval\n",
      "/data/apperception-data/processed/nuscenes/full-dataset-v1.0/Trainval\n",
      "v1.0-trainval\n",
      "/work/apperception/data/raw/scenic/experiment_data\n",
      "\n"
     ]
    }
   ],
   "source": [
    "raw_dir, processed_dir, folder, EXPERIMENT_DATA, suffix, *_ = data_dirs(False)\n",
    "print(raw_dir)\n",
    "print(processed_dir)\n",
    "print(folder)\n",
    "print(EXPERIMENT_DATA)\n",
    "print(suffix)"
   ]
  },
  {
   "cell_type": "code",
   "execution_count": 4,
   "id": "a3b2d602-0d3c-4732-91ef-ea53f096851e",
   "metadata": {
    "tags": []
   },
   "outputs": [],
   "source": [
    "base = os.path.join(processed_dir, 'videos')\n",
    "with open(os.path.join(base, 'frames.pkl'), \"rb\") as f:\n",
    "    frames = pickle.load(f)"
   ]
  },
  {
   "cell_type": "code",
   "execution_count": 5,
   "id": "e625b9cb-f989-4ae3-914d-8c24d58634e9",
   "metadata": {
    "tags": []
   },
   "outputs": [
    {
     "name": "stdout",
     "output_type": "stream",
     "text": [
      "scene-0001-CAM_FRONT\n",
      "scene-0001-CAM_FRONT_RIGHT\n",
      "scene-0001-CAM_BACK_RIGHT\n",
      "scene-0001-CAM_BACK\n",
      "scene-0001-CAM_BACK_LEFT\n",
      "scene-0001-CAM_FRONT_LEFT\n",
      "scene-0002-CAM_FRONT\n",
      "scene-0002-CAM_FRONT_RIGHT\n",
      "scene-0002-CAM_BACK_RIGHT\n",
      "scene-0002-CAM_BACK\n"
     ]
    }
   ],
   "source": [
    "for f in list(frames.keys())[:10]:\n",
    "    print(f)"
   ]
  },
  {
   "cell_type": "code",
   "execution_count": 6,
   "id": "96f95925-f5ba-42b0-8a95-78b9ae2310c1",
   "metadata": {
    "tags": []
   },
   "outputs": [],
   "source": [
    "with open(os.path.join(base, 'videos.json'), 'w') as f:\n",
    "    json.dump(list(frames.keys()), f)"
   ]
  },
  {
   "cell_type": "code",
   "execution_count": 9,
   "id": "aa49edf3-0ad2-47af-9934-4eab9b217870",
   "metadata": {
    "tags": []
   },
   "outputs": [
    {
     "name": "stderr",
     "output_type": "stream",
     "text": [
      "100%|███████████████████████████████| 5100/5100 [01:19<00:00, 64.53it/s]\n"
     ]
    }
   ],
   "source": [
    "for name, frame in tqdm(list(frames.items())):\n",
    "    # print(frame['filename'][:-len('.mp4')])\n",
    "    with open(os.path.join(base, frame['filename'][:-len('.mp4')] + '.pkl'), 'wb') as f:\n",
    "        pickle.dump(frame, f)\n",
    "    with open(os.path.join(base, frame['filename'][:-len('.mp4')] + '.json'), 'w') as f:\n",
    "        json.dump(frame, f, indent=1, sort_keys=True, cls=FrameJSONEncoder)"
   ]
  },
  {
   "cell_type": "code",
   "execution_count": null,
   "id": "b32d421d-bd5c-438e-bf35-020fc922f3a0",
   "metadata": {},
   "outputs": [],
   "source": []
  }
 ],
 "metadata": {
  "kernelspec": {
   "display_name": "Python 3",
   "language": "python",
   "name": "python3"
  },
  "language_info": {
   "codemirror_mode": {
    "name": "ipython",
    "version": 3
   },
   "file_extension": ".py",
   "mimetype": "text/x-python",
   "name": "python",
   "nbconvert_exporter": "python",
   "pygments_lexer": "ipython3",
   "version": "3.10.12"
  }
 },
 "nbformat": 4,
 "nbformat_minor": 5
}
