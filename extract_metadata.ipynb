{
 "cells": [
  {
   "cell_type": "code",
   "execution_count": null,
   "id": "1f844c70-51ee-4ea1-8ec9-fdb53c568d9e",
   "metadata": {
    "tags": []
   },
   "outputs": [],
   "source": [
    "import json\n",
    "import os\n",
    "from pyquaternion import Quaternion\n",
    "import pandas as pd\n",
    "import pickle\n",
    "import numpy as np\n",
    "import math\n",
    "\n",
    "from utils.data_dirs import data_dirs\n",
    "from utils.get_camera_heading import get_camera_heading\n",
    "from utils.get_camera_position import get_camera_position\n",
    "from utils.get_camera_rotation import get_camera_rotation\n",
    "from utils.get_heading_from_north import get_heading_from_north\n",
    "from utils.get_heading import get_heading\n",
    "from utils.index import index\n",
    "from utils.normalize_angle import normalize_angle\n",
    "from utils.unique import unique"
   ]
  },
  {
   "cell_type": "code",
   "execution_count": null,
   "id": "9ad2c940-500f-4d65-b54a-90d615e47375",
   "metadata": {
    "tags": []
   },
   "outputs": [],
   "source": [
    "EXPERIMENT = False"
   ]
  },
  {
   "cell_type": "code",
   "execution_count": null,
   "id": "3e169741",
   "metadata": {},
   "outputs": [],
   "source": [
    "base_dir, output_dir, folder, EXPERIMENT_DATA, suffix, *_ = data_dirs(EXPERIMENT)\n",
    "print(base_dir)\n",
    "print(output_dir)\n",
    "print(folder)\n",
    "print(EXPERIMENT_DATA)\n",
    "print(suffix)"
   ]
  },
  {
   "cell_type": "code",
   "execution_count": null,
   "id": "12c4bcba-750e-4831-a52d-c78f3bad0bd4",
   "metadata": {
    "tags": []
   },
   "outputs": [],
   "source": [
    "with open(os.path.join(base_dir, folder, 'calibrated_sensor.json')) as f:\n",
    "    calibrated_sensor_json = json.load(f)\n",
    "\n",
    "with open(os.path.join(base_dir, folder, 'category.json')) as f:\n",
    "    category_json = json.load(f)\n",
    "\n",
    "with open(os.path.join(base_dir, folder, 'sample.json')) as f:\n",
    "    sample_json = json.load(f)\n",
    "\n",
    "with open(os.path.join(base_dir, folder, 'sample_data.json')) as f:\n",
    "    sample_data_json = json.load(f)\n",
    "\n",
    "with open(os.path.join(base_dir, folder, 'sample_annotation.json')) as f:\n",
    "    sample_annotation_json = json.load(f)\n",
    "\n",
    "with open(os.path.join(base_dir, folder, 'instance.json')) as f:\n",
    "    instance_json = json.load(f)\n",
    "\n",
    "with open(os.path.join(base_dir, folder, 'scene.json')) as f:\n",
    "    scene_json = json.load(f)\n",
    "\n",
    "with open(os.path.join(base_dir, folder, 'ego_pose.json')) as f:\n",
    "    ego_pose_json = json.load(f)\n",
    "\n",
    "with open(os.path.join(base_dir, folder, 'sensor.json')) as f:\n",
    "    sensor_json = json.load(f)"
   ]
  },
  {
   "cell_type": "code",
   "execution_count": null,
   "id": "3ecad203-5505-4039-833f-0333339955d2",
   "metadata": {
    "tags": []
   },
   "outputs": [],
   "source": [
    "if EXPERIMENT:\n",
    "    files = os.listdir(EXPERIMENT_DATA)\n",
    "    files_set = set(files)\n",
    "    sample_data_filter = [s for s in sample_data_json if s['filename'].split('/')[2] in files_set]\n",
    "else:\n",
    "    sample_data_filter = sample_data_json\n",
    "sample_data_filter = [s for s in sample_data_filter if s['fileformat'] == 'jpg']"
   ]
  },
  {
   "cell_type": "code",
   "execution_count": null,
   "id": "34598843-8c97-4fda-801f-346dba71df80",
   "metadata": {
    "tags": []
   },
   "outputs": [],
   "source": [
    "sample_data_filter[0]"
   ]
  },
  {
   "cell_type": "code",
   "execution_count": null,
   "id": "566c30b5-c0d2-47cf-a122-0a371eab071c",
   "metadata": {
    "tags": []
   },
   "outputs": [],
   "source": [
    "sample_tokens = unique(sample_data_filter, 'sample_token')\n",
    "sample_filter = [\n",
    "    {\n",
    "        'sample_token': s['token'],\n",
    "        'scene_token': s['scene_token']\n",
    "    }\n",
    "    for s in sample_json\n",
    "    if s['token'] in sample_tokens\n",
    "]\n",
    "len(sample_filter)"
   ]
  },
  {
   "cell_type": "code",
   "execution_count": null,
   "id": "bffb4b31-5b3b-47e2-baae-ce7d677bcfb2",
   "metadata": {
    "tags": []
   },
   "outputs": [],
   "source": [
    "calibrated_sensor_tokens = unique(sample_data_filter, 'calibrated_sensor_token')\n",
    "calibrated_sensor_filter = [\n",
    "    {\n",
    "        'calibrated_sensor_token': c['token'],\n",
    "        'camera_translation': c['translation'],\n",
    "        'camera_rotation': c['rotation'],\n",
    "        'camera_intrinsic': c['camera_intrinsic']\n",
    "    }\n",
    "    for c in calibrated_sensor_json\n",
    "    if c['token'] in calibrated_sensor_tokens\n",
    "]\n",
    "len(calibrated_sensor_filter)"
   ]
  },
  {
   "cell_type": "code",
   "execution_count": null,
   "id": "dc366d2e-9a5f-4a91-8151-6238feecff3a",
   "metadata": {
    "tags": []
   },
   "outputs": [],
   "source": [
    "ego_pose_tokens = unique(sample_data_filter, 'ego_pose_token')\n",
    "ego_pose_filter = [\n",
    "    {\n",
    "        'ego_pose_token': e['token'],\n",
    "        'ego_translation': e['translation'],\n",
    "        'ego_rotation': e['rotation']\n",
    "    }\n",
    "    for e in ego_pose_json\n",
    "    if e['token'] in ego_pose_tokens\n",
    "]\n",
    "len(ego_pose_filter)"
   ]
  },
  {
   "cell_type": "code",
   "execution_count": null,
   "id": "c1d5df8b-0647-478d-b86f-04460dbe44c7",
   "metadata": {
    "tags": []
   },
   "outputs": [],
   "source": [
    "scene_tokens = unique(sample_filter, 'scene_token')\n",
    "scene_filter = [\n",
    "    {\n",
    "        'scene_token': s['token'],\n",
    "        'scene_name': s['name'],\n",
    "    }\n",
    "    for s in scene_json\n",
    "    if s['token'] in scene_tokens\n",
    "]\n",
    "len(scene_filter)"
   ]
  },
  {
   "cell_type": "code",
   "execution_count": null,
   "id": "990890d3-1036-40ed-8989-58d3b5054622",
   "metadata": {
    "tags": []
   },
   "outputs": [],
   "source": [
    "sample_map = index(sample_filter, 'sample_token')\n",
    "calibrated_sensor_map = index(calibrated_sensor_filter, 'calibrated_sensor_token')\n",
    "ego_pose_map = index(ego_pose_filter, 'ego_pose_token')\n",
    "scene_map = index(scene_filter, 'scene_token')\n",
    "\n",
    "def s_map(s):\n",
    "    sample = sample_map[s['sample_token']]\n",
    "    calibrated_sensor = calibrated_sensor_map[s['calibrated_sensor_token']]\n",
    "    ego_pose = ego_pose_map[s['ego_pose_token']]\n",
    "    scene = scene_map[sample['scene_token']]\n",
    "    \n",
    "    ego_heading = get_heading_from_north(Quaternion(ego_pose['ego_rotation']))\n",
    "    camera_heading = get_camera_heading(Quaternion(calibrated_sensor['camera_rotation']))\n",
    "    ret = {\n",
    "        **s,\n",
    "        **sample,\n",
    "        **calibrated_sensor,\n",
    "        **ego_pose,\n",
    "        **scene,\n",
    "        'ego_heading': ego_heading * 180 / math.pi,\n",
    "        'camera_heading': normalize_angle(camera_heading + ego_heading) * 180 / math.pi,\n",
    "        'camera_translation': get_camera_position(\n",
    "            calibrated_sensor['camera_translation'],\n",
    "            ego_pose['ego_translation'],\n",
    "            ego_pose['ego_rotation'],\n",
    "        ),\n",
    "        'camera_rotation': get_camera_rotation(\n",
    "            calibrated_sensor['camera_rotation'],\n",
    "            ego_pose['ego_rotation'],\n",
    "        ),\n",
    "    }\n",
    "    del ret['ego_pose_token']\n",
    "    del ret['calibrated_sensor_token']\n",
    "    del ret['fileformat']\n",
    "    del ret['height']\n",
    "    del ret['width']\n",
    "    del ret['prev']\n",
    "    del ret['next']\n",
    "    del ret['scene_token']\n",
    "    return ret\n",
    "\n",
    "sample_data_res = [*map(s_map, sample_data_filter)]\n",
    "\n",
    "len(sample_data_res)"
   ]
  },
  {
   "cell_type": "code",
   "execution_count": null,
   "id": "049e2b9b-40dd-4d25-a7d9-fce72658b2aa",
   "metadata": {},
   "outputs": [],
   "source": [
    "sample_data_res[0]"
   ]
  },
  {
   "cell_type": "code",
   "execution_count": null,
   "id": "0ae8b702-ee28-4ca0-a6b1-a45fe2af1c03",
   "metadata": {
    "tags": []
   },
   "outputs": [],
   "source": []
  },
  {
   "cell_type": "code",
   "execution_count": null,
   "id": "89c673ec-172f-4cd6-95e8-9d7808b2b163",
   "metadata": {
    "tags": []
   },
   "outputs": [],
   "source": []
  },
  {
   "cell_type": "code",
   "execution_count": null,
   "id": "0a342275-8f83-4fea-ae2a-ecc4e7fe1320",
   "metadata": {
    "tags": []
   },
   "outputs": [],
   "source": [
    "sample_annotation_filter = [\n",
    "    sa\n",
    "    for sa in sample_annotation_json\n",
    "    if sa['sample_token'] in sample_tokens\n",
    "]\n",
    "len(sample_annotation_filter)"
   ]
  },
  {
   "cell_type": "code",
   "execution_count": null,
   "id": "cc87edd3-c7a7-4d52-8e82-6a64f5377d5e",
   "metadata": {
    "tags": []
   },
   "outputs": [],
   "source": [
    "instance_tokens = unique(sample_annotation_filter, 'instance_token')\n",
    "instance_filter = [\n",
    "    {\n",
    "        'instance_token': i['token'],\n",
    "        'category_token': i['category_token']\n",
    "    }\n",
    "    for i in instance_json\n",
    "    if i['token'] in instance_tokens\n",
    "]\n",
    "len(instance_filter)"
   ]
  },
  {
   "cell_type": "code",
   "execution_count": null,
   "id": "fe8a8d1f-0780-4889-ac68-dd68b8e9e9ea",
   "metadata": {
    "tags": []
   },
   "outputs": [],
   "source": [
    "category_tokens = unique(instance_filter, 'category_token')\n",
    "category_filter = [\n",
    "    {\n",
    "        'category_token': c['token'],\n",
    "        'category': c['name']\n",
    "    }\n",
    "    for c in category_json\n",
    "    if c['token'] in category_tokens\n",
    "]\n",
    "len(category_filter)"
   ]
  },
  {
   "cell_type": "code",
   "execution_count": null,
   "id": "ac4c5a41-8151-4f76-b57e-884b4ede46f2",
   "metadata": {
    "tags": []
   },
   "outputs": [],
   "source": [
    "instance_map = index(instance_filter, 'instance_token')\n",
    "category_map = index(category_filter, 'category_token')\n",
    "\n",
    "def sa_map(sa):\n",
    "    instance = instance_map[sa['instance_token']]\n",
    "    ret = {\n",
    "        **sa,\n",
    "        **instance,\n",
    "        **category_map[instance['category_token']],\n",
    "        'heading': (get_heading_from_north(Quaternion(sa['rotation']))) * 180 / math.pi\n",
    "    }\n",
    "    \n",
    "    del ret['visibility_token']\n",
    "    del ret['attribute_tokens']\n",
    "    del ret['prev']\n",
    "    del ret['next']\n",
    "    del ret['num_lidar_pts']\n",
    "    del ret['num_radar_pts']\n",
    "    del ret['category_token']\n",
    "    \n",
    "    return ret\n",
    "\n",
    "sample_annotation_res = [*map(sa_map, sample_annotation_filter)]\n",
    "len(sample_annotation_res)"
   ]
  },
  {
   "cell_type": "code",
   "execution_count": null,
   "id": "b31c9a76-9da2-4c7d-891b-43f747116921",
   "metadata": {
    "tags": []
   },
   "outputs": [],
   "source": [
    "sample_data_final = pd.DataFrame(sample_data_res)\n",
    "sample_data_final[:1]"
   ]
  },
  {
   "cell_type": "code",
   "execution_count": null,
   "id": "cb656b55-6505-4efb-b6b6-7f80cdbb7a7e",
   "metadata": {
    "tags": []
   },
   "outputs": [],
   "source": [
    "sample_annotation_final = pd.DataFrame(sample_annotation_res)\n",
    "sample_annotation_final[:1]"
   ]
  },
  {
   "cell_type": "code",
   "execution_count": null,
   "id": "fcca8394",
   "metadata": {},
   "outputs": [],
   "source": [
    "len(sample_annotation_final)"
   ]
  },
  {
   "cell_type": "code",
   "execution_count": null,
   "id": "aeec0306-65c6-4ea2-ad78-da5539bad861",
   "metadata": {
    "tags": []
   },
   "outputs": [],
   "source": [
    "df_sample_data_keyframe = sample_data_final[sample_data_final[\"is_key_frame\"]][\n",
    "    [\"token\", \"sample_token\"]\n",
    "]\n",
    "sample_annotation_final = sample_annotation_final.set_index(\"sample_token\").join(\n",
    "    df_sample_data_keyframe.set_index(\"sample_token\"), on=\"sample_token\", rsuffix=\"_sample_data\"\n",
    ")\n",
    "sample_annotation_final[:1]"
   ]
  },
  {
   "cell_type": "code",
   "execution_count": null,
   "id": "d7fc832d",
   "metadata": {},
   "outputs": [],
   "source": [
    "len(sample_annotation_final)"
   ]
  },
  {
   "cell_type": "code",
   "execution_count": null,
   "id": "417e750e",
   "metadata": {},
   "outputs": [],
   "source": [
    "len({*df_sample_data_keyframe[\"token\"].tolist()})"
   ]
  },
  {
   "cell_type": "code",
   "execution_count": null,
   "id": "40f719ef",
   "metadata": {},
   "outputs": [],
   "source": [
    "len({*df_sample_data_keyframe[\"sample_token\"].tolist()})"
   ]
  },
  {
   "cell_type": "code",
   "execution_count": null,
   "id": "454245fe-562d-4964-8cea-cba3587cdab9",
   "metadata": {
    "tags": []
   },
   "outputs": [],
   "source": [
    "sample_data_final = sample_data_final.sort_values(by=['scene_name', 'timestamp'])"
   ]
  },
  {
   "cell_type": "code",
   "execution_count": null,
   "id": "c42b1470-be7d-4e51-a42c-4d06a7326125",
   "metadata": {
    "tags": []
   },
   "outputs": [],
   "source": [
    "sample_data_final[\"frame_order\"] = 0\n",
    "scene = \"\"\n",
    "i = 1\n",
    "for index, row in sample_data_final.iterrows():\n",
    "    if row['scene_name'] != scene:\n",
    "        scene = row['scene_name']\n",
    "        sample_data_final.loc[index, \"frame_order\"] = 1\n",
    "        i = 2\n",
    "    else:\n",
    "        sample_data_final.loc[index, \"frame_order\"] = i\n",
    "        i += 1\n"
   ]
  },
  {
   "cell_type": "code",
   "execution_count": null,
   "id": "48a202e1-0862-40d0-b301-24f1978ff919",
   "metadata": {
    "tags": []
   },
   "outputs": [],
   "source": [
    "print(len(sample_data_final))"
   ]
  },
  {
   "cell_type": "code",
   "execution_count": null,
   "id": "b78cf691-25ed-4493-a505-9c705b8ae404",
   "metadata": {
    "tags": []
   },
   "outputs": [],
   "source": [
    "print(len(sample_annotation_final))"
   ]
  },
  {
   "cell_type": "code",
   "execution_count": null,
   "id": "e52bacca-0e53-4b63-b4ae-9b2a3fee55eb",
   "metadata": {},
   "outputs": [],
   "source": []
  },
  {
   "cell_type": "code",
   "execution_count": null,
   "id": "71b8fd3d-f9e5-4d85-8983-219e0fdb0b9d",
   "metadata": {
    "tags": []
   },
   "outputs": [],
   "source": [
    "with open(os.path.join(output_dir, f\"sample_data{suffix}.pickle\"), \"wb\") as f:\n",
    "    pickle.dump(sample_data_final, f)\n",
    "with open(os.path.join(output_dir, f\"annotation{suffix}.pickle\"), \"wb\") as f:\n",
    "    pickle.dump(sample_annotation_final, f)"
   ]
  },
  {
   "cell_type": "code",
   "execution_count": null,
   "id": "de13eeea-57de-4deb-b68b-222d73f14e5b",
   "metadata": {},
   "outputs": [],
   "source": []
  },
  {
   "cell_type": "code",
   "execution_count": null,
   "id": "f141a052-6784-4c1b-bdee-83f9bad1d178",
   "metadata": {
    "tags": []
   },
   "outputs": [],
   "source": [
    "sample_data_final.to_csv(os.path.join(output_dir, f\"sample_data{suffix}.csv\"), index=False)"
   ]
  },
  {
   "cell_type": "code",
   "execution_count": null,
   "id": "9c84d0dd",
   "metadata": {
    "tags": []
   },
   "outputs": [],
   "source": [
    "sample_annotation_final.to_csv(os.path.join(output_dir, f\"annotation{suffix}.csv\"), index=False)"
   ]
  },
  {
   "cell_type": "code",
   "execution_count": null,
   "id": "529f8953",
   "metadata": {},
   "outputs": [],
   "source": []
  },
  {
   "cell_type": "code",
   "execution_count": null,
   "id": "bbe71ef4",
   "metadata": {},
   "outputs": [],
   "source": []
  },
  {
   "cell_type": "code",
   "execution_count": null,
   "id": "6a15763b",
   "metadata": {},
   "outputs": [],
   "source": []
  },
  {
   "cell_type": "code",
   "execution_count": null,
   "id": "21b85212",
   "metadata": {},
   "outputs": [],
   "source": []
  }
 ],
 "metadata": {
  "interpreter": {
   "hash": "5c9f2372a2bfaf539cf701a38e7f23ab828911ee177c2e7bc9c32aa1f4b546df"
  },
  "kernelspec": {
   "display_name": "Python 3 (ipykernel)",
   "language": "python",
   "name": "python3"
  },
  "language_info": {
   "codemirror_mode": {
    "name": "ipython",
    "version": 3
   },
   "file_extension": ".py",
   "mimetype": "text/x-python",
   "name": "python",
   "nbconvert_exporter": "python",
   "pygments_lexer": "ipython3",
   "version": "3.10.6"
  }
 },
 "nbformat": 4,
 "nbformat_minor": 5
}
