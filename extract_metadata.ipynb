{
 "cells": [
  {
   "cell_type": "code",
   "execution_count": 1,
   "id": "1f844c70-51ee-4ea1-8ec9-fdb53c568d9e",
   "metadata": {
    "tags": []
   },
   "outputs": [],
   "source": [
    "import json\n",
    "import os\n",
    "from pyquaternion import Quaternion\n",
    "import pandas as pd\n",
    "import pickle\n",
    "import numpy as np\n",
    "import math\n",
    "from tqdm import tqdm\n",
    "\n",
    "from utils.data_dirs import data_dirs\n",
    "from utils.get_camera_heading import get_camera_heading\n",
    "from utils.get_camera_position import get_camera_position\n",
    "from utils.get_camera_rotation import get_camera_rotation\n",
    "from utils.get_heading_from_north import get_heading_from_north\n",
    "from utils.get_heading import get_heading\n",
    "from utils.index import index\n",
    "from utils.normalize_angle import normalize_angle\n",
    "from utils.unique import unique"
   ]
  },
  {
   "cell_type": "code",
   "execution_count": 2,
   "id": "9ad2c940-500f-4d65-b54a-90d615e47375",
   "metadata": {
    "tags": []
   },
   "outputs": [],
   "source": [
    "EXPERIMENT = False"
   ]
  },
  {
   "cell_type": "code",
   "execution_count": 3,
   "id": "3e169741",
   "metadata": {},
   "outputs": [
    {
     "name": "stdout",
     "output_type": "stream",
     "text": [
      "/work/apperception/data/raw/nuScenes/full-dataset-v1.0/Trainval\n",
      "/data/apperception-data/processed/nuscenes/full-dataset-v1.0/Trainval\n",
      "v1.0-trainval\n",
      "/work/apperception/data/raw/scenic/experiment_data\n",
      "\n"
     ]
    }
   ],
   "source": [
    "base_dir, output_dir, folder, EXPERIMENT_DATA, suffix, *_ = data_dirs(EXPERIMENT)\n",
    "print(base_dir)\n",
    "print(output_dir)\n",
    "print(folder)\n",
    "print(EXPERIMENT_DATA)\n",
    "print(suffix)"
   ]
  },
  {
   "cell_type": "code",
   "execution_count": 4,
   "id": "2162dfbb",
   "metadata": {},
   "outputs": [
    {
     "data": {
      "text/plain": [
       "['ego_pose.json',\n",
       " 'scene_js.swp',\n",
       " 'instance.json',\n",
       " 'map.json',\n",
       " 'sample_data.json',\n",
       " 'visibility.json',\n",
       " '.scene.json.swx',\n",
       " 'sample_annotation.json',\n",
       " 'log.json',\n",
       " 'sample.json',\n",
       " 'sensor.json',\n",
       " 'attribute.json',\n",
       " 'scene_js.swo',\n",
       " 'calibrated_sensor.json',\n",
       " '.scene.json.swp',\n",
       " 'scene.json',\n",
       " 'category.json']"
      ]
     },
     "execution_count": 4,
     "metadata": {},
     "output_type": "execute_result"
    }
   ],
   "source": [
    "os.listdir(os.path.join(base_dir, folder))"
   ]
  },
  {
   "cell_type": "code",
   "execution_count": 5,
   "id": "12c4bcba-750e-4831-a52d-c78f3bad0bd4",
   "metadata": {
    "tags": []
   },
   "outputs": [],
   "source": [
    "with open(os.path.join(base_dir, folder, 'calibrated_sensor.json')) as f:\n",
    "    calibrated_sensor_json = json.load(f)\n",
    "\n",
    "with open(os.path.join(base_dir, folder, 'category.json')) as f:\n",
    "    category_json = json.load(f)\n",
    "\n",
    "with open(os.path.join(base_dir, folder, 'sample.json')) as f:\n",
    "    sample_json = json.load(f)\n",
    "\n",
    "with open(os.path.join(base_dir, folder, 'sample_data.json')) as f:\n",
    "    sample_data_json = json.load(f)\n",
    "\n",
    "with open(os.path.join(base_dir, folder, 'sample_annotation.json')) as f:\n",
    "    sample_annotation_json = json.load(f)\n",
    "\n",
    "with open(os.path.join(base_dir, folder, 'instance.json')) as f:\n",
    "    instance_json = json.load(f)\n",
    "\n",
    "with open(os.path.join(base_dir, folder, 'scene.json')) as f:\n",
    "    scene_json = json.load(f)\n",
    "\n",
    "with open(os.path.join(base_dir, folder, 'ego_pose.json')) as f:\n",
    "    ego_pose_json = json.load(f)\n",
    "\n",
    "with open(os.path.join(base_dir, folder, 'sensor.json')) as f:\n",
    "    sensor_json = json.load(f)\n",
    "\n",
    "with open(os.path.join(base_dir, folder, 'log.json')) as f:\n",
    "    log_json = json.load(f)"
   ]
  },
  {
   "cell_type": "code",
   "execution_count": 6,
   "id": "3ecad203-5505-4039-833f-0333339955d2",
   "metadata": {
    "tags": []
   },
   "outputs": [],
   "source": [
    "if EXPERIMENT:\n",
    "    files = os.listdir(EXPERIMENT_DATA)\n",
    "    files_set = set(files)\n",
    "    sample_data_filter = [s for s in sample_data_json if s['filename'].split('/')[2] in files_set]\n",
    "else:\n",
    "    sample_data_filter = sample_data_json\n",
    "sample_data_filter = [s for s in sample_data_filter if s['fileformat'] == 'jpg']"
   ]
  },
  {
   "cell_type": "code",
   "execution_count": 7,
   "id": "34598843-8c97-4fda-801f-346dba71df80",
   "metadata": {
    "tags": []
   },
   "outputs": [
    {
     "data": {
      "text/plain": [
       "{'token': '050322aacb9047f4bc2a734e800c0192',\n",
       " 'sample_token': '14d5adfe50bb4445bc3aa5fe607691a8',\n",
       " 'ego_pose_token': '050322aacb9047f4bc2a734e800c0192',\n",
       " 'calibrated_sensor_token': '2e64b091b3b146a390c2606b9081343c',\n",
       " 'timestamp': 1531883530762460,\n",
       " 'fileformat': 'jpg',\n",
       " 'is_key_frame': False,\n",
       " 'height': 900,\n",
       " 'width': 1600,\n",
       " 'filename': 'sweeps/CAM_FRONT/n015-2018-07-18-11-07-57+0800__CAM_FRONT__1531883530762460.jpg',\n",
       " 'prev': 'f0c48a4f1d9f435e8d7b18a04d4d621b',\n",
       " 'next': '3f79b6459436470799616c6abf614398'}"
      ]
     },
     "execution_count": 7,
     "metadata": {},
     "output_type": "execute_result"
    }
   ],
   "source": [
    "sample_data_filter[0]"
   ]
  },
  {
   "cell_type": "code",
   "execution_count": 8,
   "id": "9cce7d35",
   "metadata": {},
   "outputs": [
    {
     "data": {
      "text/plain": [
       "68"
      ]
     },
     "execution_count": 8,
     "metadata": {},
     "output_type": "execute_result"
    }
   ],
   "source": [
    "len(log_json)"
   ]
  },
  {
   "cell_type": "code",
   "execution_count": 9,
   "id": "a60f73ba",
   "metadata": {},
   "outputs": [
    {
     "data": {
      "text/plain": [
       "{'token': '6b6513e6c8384cec88775cae30b78c0e',\n",
       " 'logfile': 'n015-2018-07-18-11-07-57+0800',\n",
       " 'vehicle': 'n015',\n",
       " 'date_captured': '2018-07-18',\n",
       " 'location': 'singapore-onenorth'}"
      ]
     },
     "execution_count": 9,
     "metadata": {},
     "output_type": "execute_result"
    }
   ],
   "source": [
    "log_json[0]"
   ]
  },
  {
   "cell_type": "code",
   "execution_count": 10,
   "id": "566c30b5-c0d2-47cf-a122-0a371eab071c",
   "metadata": {
    "tags": []
   },
   "outputs": [
    {
     "data": {
      "text/plain": [
       "34149"
      ]
     },
     "execution_count": 10,
     "metadata": {},
     "output_type": "execute_result"
    }
   ],
   "source": [
    "sample_tokens = unique(sample_data_filter, 'sample_token')\n",
    "sample_filter = [\n",
    "    {\n",
    "        'sample_token': s['token'],\n",
    "        'scene_token': s['scene_token'],\n",
    "        'sample_timestamp': s['timestamp'],\n",
    "    }\n",
    "    for s in sample_json\n",
    "    if s['token'] in sample_tokens\n",
    "]\n",
    "len(sample_filter)"
   ]
  },
  {
   "cell_type": "code",
   "execution_count": 11,
   "id": "bffb4b31-5b3b-47e2-baae-ce7d677bcfb2",
   "metadata": {
    "tags": []
   },
   "outputs": [
    {
     "data": {
      "text/plain": [
       "5100"
      ]
     },
     "execution_count": 11,
     "metadata": {},
     "output_type": "execute_result"
    }
   ],
   "source": [
    "calibrated_sensor_tokens = unique(sample_data_filter, 'calibrated_sensor_token')\n",
    "calibrated_sensor_filter = [\n",
    "    {\n",
    "        'calibrated_sensor_token': c['token'],\n",
    "        'camera_translation': c['translation'],\n",
    "        'camera_rotation': c['rotation'],\n",
    "        'camera_intrinsic': c['camera_intrinsic'],\n",
    "        'sensor_token': c['sensor_token']\n",
    "    }\n",
    "    for c in calibrated_sensor_json\n",
    "    if c['token'] in calibrated_sensor_tokens\n",
    "]\n",
    "len(calibrated_sensor_filter)"
   ]
  },
  {
   "cell_type": "code",
   "execution_count": 12,
   "id": "1f1ed734",
   "metadata": {},
   "outputs": [],
   "source": [
    "sensor_tokens = unique(calibrated_sensor_filter, 'sensor_token')\n",
    "sensor_filter = [\n",
    "    {\n",
    "        'sensor_token': s['token'],\n",
    "        'channel': s['channel'],\n",
    "        'modality': s['modality']\n",
    "    }\n",
    "    for s in sensor_json\n",
    "    if s['token'] in sensor_tokens\n",
    "]"
   ]
  },
  {
   "cell_type": "code",
   "execution_count": 13,
   "id": "dc366d2e-9a5f-4a91-8151-6238feecff3a",
   "metadata": {
    "tags": []
   },
   "outputs": [
    {
     "data": {
      "text/plain": [
       "1183790"
      ]
     },
     "execution_count": 13,
     "metadata": {},
     "output_type": "execute_result"
    }
   ],
   "source": [
    "ego_pose_tokens = unique(sample_data_filter, 'ego_pose_token')\n",
    "ego_pose_filter = [\n",
    "    {\n",
    "        'ego_pose_token': e['token'],\n",
    "        'ego_translation': e['translation'],\n",
    "        'ego_rotation': e['rotation'],\n",
    "    }\n",
    "    for e in ego_pose_json\n",
    "    if e['token'] in ego_pose_tokens\n",
    "]\n",
    "len(ego_pose_filter)"
   ]
  },
  {
   "cell_type": "code",
   "execution_count": 14,
   "id": "c1d5df8b-0647-478d-b86f-04460dbe44c7",
   "metadata": {
    "tags": []
   },
   "outputs": [
    {
     "data": {
      "text/plain": [
       "850"
      ]
     },
     "execution_count": 14,
     "metadata": {},
     "output_type": "execute_result"
    }
   ],
   "source": [
    "scene_tokens = unique(sample_filter, 'scene_token')\n",
    "scene_filter = [\n",
    "    {\n",
    "        'scene_token': s['token'],\n",
    "        'scene_name': s['name'],\n",
    "        'log_token': s['log_token'],\n",
    "    }\n",
    "    for s in scene_json\n",
    "    if s['token'] in scene_tokens\n",
    "]\n",
    "len(scene_filter)"
   ]
  },
  {
   "cell_type": "code",
   "execution_count": 15,
   "id": "512a6a2c",
   "metadata": {},
   "outputs": [
    {
     "data": {
      "text/plain": [
       "68"
      ]
     },
     "execution_count": 15,
     "metadata": {},
     "output_type": "execute_result"
    }
   ],
   "source": [
    "log_tokens = unique(scene_filter, 'log_token')\n",
    "log_filter = [\n",
    "    {\n",
    "        'log_token': l['token'],\n",
    "        'location': l['location'],\n",
    "    }\n",
    "    for l in log_json\n",
    "    if l['token'] in log_tokens\n",
    "]\n",
    "len(log_filter)"
   ]
  },
  {
   "cell_type": "code",
   "execution_count": 16,
   "id": "c5b55bdf",
   "metadata": {},
   "outputs": [],
   "source": [
    "log_map = index(log_filter, 'log_token')\n",
    "sample_map = index(sample_filter, 'sample_token')\n",
    "calibrated_sensor_map = index(calibrated_sensor_filter, 'calibrated_sensor_token')\n",
    "ego_pose_map = index(ego_pose_filter, 'ego_pose_token')\n",
    "scene_map = index(scene_filter, 'scene_token')\n",
    "sensor_map = index(sensor_filter, 'sensor_token')"
   ]
  },
  {
   "cell_type": "code",
   "execution_count": 17,
   "id": "990890d3-1036-40ed-8989-58d3b5054622",
   "metadata": {
    "tags": []
   },
   "outputs": [
    {
     "name": "stderr",
     "output_type": "stream",
     "text": [
      "100%|███████████████████████████████████████████████████████████████████████████████████████████████████████████████████████████████████████████████████████████████████████████████████████████████████████████████████████████████████████████████████████████████████| 1183790/1183790 [04:00<00:00, 4923.72it/s]\n"
     ]
    },
    {
     "data": {
      "text/plain": [
       "1183790"
      ]
     },
     "execution_count": 17,
     "metadata": {},
     "output_type": "execute_result"
    }
   ],
   "source": [
    "def s_map(s):\n",
    "    sample = sample_map[s['sample_token']]\n",
    "    calibrated_sensor = calibrated_sensor_map[s['calibrated_sensor_token']]\n",
    "    ego_pose = ego_pose_map[s['ego_pose_token']]\n",
    "    scene = scene_map[sample['scene_token']]\n",
    "    sensor = sensor_map[calibrated_sensor['sensor_token']]\n",
    "    assert sensor['modality'] == 'camera'\n",
    "    \n",
    "    log = log_map[scene['log_token']]\n",
    "    \n",
    "    ego_heading = get_heading_from_north(Quaternion(ego_pose['ego_rotation']))\n",
    "    camera_heading = get_camera_heading(Quaternion(calibrated_sensor['camera_rotation']))\n",
    "    ret = {\n",
    "        **s,\n",
    "        **sample,\n",
    "        **calibrated_sensor,\n",
    "        **ego_pose,\n",
    "        **scene,\n",
    "        **sensor,\n",
    "        **log,\n",
    "        'ego_heading': ego_heading * 180 / math.pi,\n",
    "        'camera_heading': normalize_angle(camera_heading + ego_heading) * 180 / math.pi,\n",
    "        'camera_translation': get_camera_position(\n",
    "            calibrated_sensor['camera_translation'],\n",
    "            ego_pose['ego_translation'],\n",
    "            ego_pose['ego_rotation'],\n",
    "        ),\n",
    "        'camera_rotation': get_camera_rotation(\n",
    "            calibrated_sensor['camera_rotation'],\n",
    "            ego_pose['ego_rotation'],\n",
    "        ),\n",
    "    }\n",
    "    del ret['ego_pose_token']\n",
    "    del ret['calibrated_sensor_token']\n",
    "    del ret['log_token']\n",
    "    del ret['fileformat']\n",
    "    del ret['height']\n",
    "    del ret['width']\n",
    "    del ret['prev']\n",
    "    del ret['next']\n",
    "    del ret['scene_token']\n",
    "    del ret['sensor_token']\n",
    "    del ret['modality']\n",
    "    return ret\n",
    "\n",
    "sample_data_res = [*tqdm(map(s_map, sample_data_filter), total=len(sample_data_filter))]\n",
    "\n",
    "len(sample_data_res)"
   ]
  },
  {
   "cell_type": "code",
   "execution_count": 18,
   "id": "049e2b9b-40dd-4d25-a7d9-fce72658b2aa",
   "metadata": {},
   "outputs": [
    {
     "data": {
      "text/plain": [
       "{'token': '050322aacb9047f4bc2a734e800c0192',\n",
       " 'sample_token': '14d5adfe50bb4445bc3aa5fe607691a8',\n",
       " 'timestamp': 1531883530762460,\n",
       " 'is_key_frame': False,\n",
       " 'filename': 'sweeps/CAM_FRONT/n015-2018-07-18-11-07-57+0800__CAM_FRONT__1531883530762460.jpg',\n",
       " 'sample_timestamp': 1531883530949817,\n",
       " 'camera_translation': array([1010.28536588,  613.79584851,    1.55080497]),\n",
       " 'camera_rotation': array([-0.71340144,  0.7006582 , -0.00763616,  0.00884084]),\n",
       " 'camera_intrinsic': [[1266.417203046554, 0.0, 816.2670197447984],\n",
       "  [0.0, 1266.417203046554, 491.50706579294757],\n",
       "  [0.0, 0.0, 1.0]],\n",
       " 'ego_translation': [1010.2539305089451, 612.1315307276016, 0.0],\n",
       " 'ego_rotation': [-0.7172259417302351,\n",
       "  -0.008052965142693864,\n",
       "  0.008687339134831436,\n",
       "  -0.6967400005743498],\n",
       " 'scene_name': 'scene-0001',\n",
       " 'channel': 'CAM_FRONT',\n",
       " 'location': 'singapore-onenorth',\n",
       " 'ego_heading': -1.6592785295958965,\n",
       " 'camera_heading': -1.3335577747511875}"
      ]
     },
     "execution_count": 18,
     "metadata": {},
     "output_type": "execute_result"
    }
   ],
   "source": [
    "sample_data_res[0]"
   ]
  },
  {
   "cell_type": "code",
   "execution_count": null,
   "id": "0ae8b702-ee28-4ca0-a6b1-a45fe2af1c03",
   "metadata": {
    "tags": []
   },
   "outputs": [],
   "source": []
  },
  {
   "cell_type": "code",
   "execution_count": null,
   "id": "89c673ec-172f-4cd6-95e8-9d7808b2b163",
   "metadata": {
    "tags": []
   },
   "outputs": [],
   "source": []
  },
  {
   "cell_type": "code",
   "execution_count": 19,
   "id": "41d8b72a",
   "metadata": {},
   "outputs": [],
   "source": [
    "for sa in sample_annotation_json:\n",
    "    if sa['sample_token'] not in sample_tokens:\n",
    "        print(sa['sample_token'])"
   ]
  },
  {
   "cell_type": "code",
   "execution_count": 20,
   "id": "0a342275-8f83-4fea-ae2a-ecc4e7fe1320",
   "metadata": {
    "tags": []
   },
   "outputs": [
    {
     "data": {
      "text/plain": [
       "1166187"
      ]
     },
     "execution_count": 20,
     "metadata": {},
     "output_type": "execute_result"
    }
   ],
   "source": [
    "sample_annotation_filter = [\n",
    "    sa\n",
    "    for sa in sample_annotation_json\n",
    "    if sa['sample_token'] in sample_tokens\n",
    "]\n",
    "len(sample_annotation_filter)"
   ]
  },
  {
   "cell_type": "code",
   "execution_count": 21,
   "id": "cc87edd3-c7a7-4d52-8e82-6a64f5377d5e",
   "metadata": {
    "tags": []
   },
   "outputs": [
    {
     "data": {
      "text/plain": [
       "64386"
      ]
     },
     "execution_count": 21,
     "metadata": {},
     "output_type": "execute_result"
    }
   ],
   "source": [
    "instance_tokens = unique(sample_annotation_filter, 'instance_token')\n",
    "instance_filter = [\n",
    "    {\n",
    "        'instance_token': i['token'],\n",
    "        'category_token': i['category_token']\n",
    "    }\n",
    "    for i in instance_json\n",
    "    if i['token'] in instance_tokens\n",
    "]\n",
    "len(instance_filter)"
   ]
  },
  {
   "cell_type": "code",
   "execution_count": 22,
   "id": "fe8a8d1f-0780-4889-ac68-dd68b8e9e9ea",
   "metadata": {
    "tags": []
   },
   "outputs": [
    {
     "data": {
      "text/plain": [
       "23"
      ]
     },
     "execution_count": 22,
     "metadata": {},
     "output_type": "execute_result"
    }
   ],
   "source": [
    "category_tokens = unique(instance_filter, 'category_token')\n",
    "category_filter = [\n",
    "    {\n",
    "        'category_token': c['token'],\n",
    "        'category': c['name']\n",
    "    }\n",
    "    for c in category_json\n",
    "    if c['token'] in category_tokens\n",
    "]\n",
    "len(category_filter)"
   ]
  },
  {
   "cell_type": "code",
   "execution_count": 23,
   "id": "0eead8b7",
   "metadata": {},
   "outputs": [],
   "source": [
    "instance_map = index(instance_filter, 'instance_token')\n",
    "category_map = index(category_filter, 'category_token')"
   ]
  },
  {
   "cell_type": "code",
   "execution_count": 24,
   "id": "ac4c5a41-8151-4f76-b57e-884b4ede46f2",
   "metadata": {
    "tags": []
   },
   "outputs": [
    {
     "name": "stderr",
     "output_type": "stream",
     "text": [
      "100%|██████████████████████████████████████████████████████████████████████████████████████████████████████████████████████████████████████████████████████████████████████████████████████████████████████████████████████████████████████████████████████████████████| 1166187/1166187 [00:26<00:00, 43780.14it/s]\n"
     ]
    },
    {
     "data": {
      "text/plain": [
       "1166187"
      ]
     },
     "execution_count": 24,
     "metadata": {},
     "output_type": "execute_result"
    }
   ],
   "source": [
    "def sa_map(sa):\n",
    "    instance = instance_map[sa['instance_token']]\n",
    "    sample = sample_map[sa['sample_token']]\n",
    "    scene = scene_map[sample['scene_token']]\n",
    "    log = log_map[scene['log_token']]\n",
    "    ret = {\n",
    "        **sa,\n",
    "        **instance,\n",
    "        **category_map[instance['category_token']],\n",
    "        'heading': (get_heading_from_north(Quaternion(sa['rotation']))) * 180 / math.pi,\n",
    "        'location': log['location'],\n",
    "        'scene_name': scene['scene_name']\n",
    "    }\n",
    "    \n",
    "    del ret['visibility_token']\n",
    "    del ret['attribute_tokens']\n",
    "    del ret['prev']\n",
    "    del ret['next']\n",
    "    del ret['num_lidar_pts']\n",
    "    del ret['num_radar_pts']\n",
    "    del ret['category_token']\n",
    "    \n",
    "    return ret\n",
    "\n",
    "sample_annotation_res = [*tqdm(map(sa_map, sample_annotation_filter), total=len(sample_annotation_filter))]\n",
    "len(sample_annotation_res)"
   ]
  },
  {
   "cell_type": "code",
   "execution_count": 25,
   "id": "b31c9a76-9da2-4c7d-891b-43f747116921",
   "metadata": {
    "tags": []
   },
   "outputs": [
    {
     "name": "stdout",
     "output_type": "stream",
     "text": [
      "1183790\n"
     ]
    },
    {
     "data": {
      "text/html": [
       "<div>\n",
       "<style scoped>\n",
       "    .dataframe tbody tr th:only-of-type {\n",
       "        vertical-align: middle;\n",
       "    }\n",
       "\n",
       "    .dataframe tbody tr th {\n",
       "        vertical-align: top;\n",
       "    }\n",
       "\n",
       "    .dataframe thead th {\n",
       "        text-align: right;\n",
       "    }\n",
       "</style>\n",
       "<table border=\"1\" class=\"dataframe\">\n",
       "  <thead>\n",
       "    <tr style=\"text-align: right;\">\n",
       "      <th></th>\n",
       "      <th>token</th>\n",
       "      <th>sample_token</th>\n",
       "      <th>timestamp</th>\n",
       "      <th>is_key_frame</th>\n",
       "      <th>filename</th>\n",
       "      <th>sample_timestamp</th>\n",
       "      <th>camera_translation</th>\n",
       "      <th>camera_rotation</th>\n",
       "      <th>camera_intrinsic</th>\n",
       "      <th>ego_translation</th>\n",
       "      <th>ego_rotation</th>\n",
       "      <th>scene_name</th>\n",
       "      <th>channel</th>\n",
       "      <th>location</th>\n",
       "      <th>ego_heading</th>\n",
       "      <th>camera_heading</th>\n",
       "    </tr>\n",
       "  </thead>\n",
       "  <tbody>\n",
       "    <tr>\n",
       "      <th>0</th>\n",
       "      <td>050322aacb9047f4bc2a734e800c0192</td>\n",
       "      <td>14d5adfe50bb4445bc3aa5fe607691a8</td>\n",
       "      <td>1531883530762460</td>\n",
       "      <td>False</td>\n",
       "      <td>sweeps/CAM_FRONT/n015-2018-07-18-11-07-57+0800...</td>\n",
       "      <td>1531883530949817</td>\n",
       "      <td>[1010.2853658775477, 613.795848507104, 1.55080...</td>\n",
       "      <td>[-0.7134014433076645, 0.7006581972076307, -0.0...</td>\n",
       "      <td>[[1266.417203046554, 0.0, 816.2670197447984], ...</td>\n",
       "      <td>[1010.2539305089451, 612.1315307276016, 0.0]</td>\n",
       "      <td>[-0.7172259417302351, -0.008052965142693864, 0...</td>\n",
       "      <td>scene-0001</td>\n",
       "      <td>CAM_FRONT</td>\n",
       "      <td>singapore-onenorth</td>\n",
       "      <td>-1.659279</td>\n",
       "      <td>-1.333558</td>\n",
       "    </tr>\n",
       "  </tbody>\n",
       "</table>\n",
       "</div>"
      ],
      "text/plain": [
       "                              token                      sample_token  \\\n",
       "0  050322aacb9047f4bc2a734e800c0192  14d5adfe50bb4445bc3aa5fe607691a8   \n",
       "\n",
       "          timestamp  is_key_frame  \\\n",
       "0  1531883530762460         False   \n",
       "\n",
       "                                            filename  sample_timestamp  \\\n",
       "0  sweeps/CAM_FRONT/n015-2018-07-18-11-07-57+0800...  1531883530949817   \n",
       "\n",
       "                                  camera_translation  \\\n",
       "0  [1010.2853658775477, 613.795848507104, 1.55080...   \n",
       "\n",
       "                                     camera_rotation  \\\n",
       "0  [-0.7134014433076645, 0.7006581972076307, -0.0...   \n",
       "\n",
       "                                    camera_intrinsic  \\\n",
       "0  [[1266.417203046554, 0.0, 816.2670197447984], ...   \n",
       "\n",
       "                                ego_translation  \\\n",
       "0  [1010.2539305089451, 612.1315307276016, 0.0]   \n",
       "\n",
       "                                        ego_rotation  scene_name    channel  \\\n",
       "0  [-0.7172259417302351, -0.008052965142693864, 0...  scene-0001  CAM_FRONT   \n",
       "\n",
       "             location  ego_heading  camera_heading  \n",
       "0  singapore-onenorth    -1.659279       -1.333558  "
      ]
     },
     "execution_count": 25,
     "metadata": {},
     "output_type": "execute_result"
    }
   ],
   "source": [
    "df_sample_data = pd.DataFrame(sample_data_res)\n",
    "print(len(df_sample_data))\n",
    "df_sample_data[:1]"
   ]
  },
  {
   "cell_type": "code",
   "execution_count": 26,
   "id": "cb656b55-6505-4efb-b6b6-7f80cdbb7a7e",
   "metadata": {
    "tags": []
   },
   "outputs": [
    {
     "name": "stdout",
     "output_type": "stream",
     "text": [
      "1166187\n"
     ]
    },
    {
     "data": {
      "text/html": [
       "<div>\n",
       "<style scoped>\n",
       "    .dataframe tbody tr th:only-of-type {\n",
       "        vertical-align: middle;\n",
       "    }\n",
       "\n",
       "    .dataframe tbody tr th {\n",
       "        vertical-align: top;\n",
       "    }\n",
       "\n",
       "    .dataframe thead th {\n",
       "        text-align: right;\n",
       "    }\n",
       "</style>\n",
       "<table border=\"1\" class=\"dataframe\">\n",
       "  <thead>\n",
       "    <tr style=\"text-align: right;\">\n",
       "      <th></th>\n",
       "      <th>token</th>\n",
       "      <th>sample_token</th>\n",
       "      <th>instance_token</th>\n",
       "      <th>translation</th>\n",
       "      <th>size</th>\n",
       "      <th>rotation</th>\n",
       "      <th>category</th>\n",
       "      <th>heading</th>\n",
       "      <th>location</th>\n",
       "      <th>scene_name</th>\n",
       "    </tr>\n",
       "  </thead>\n",
       "  <tbody>\n",
       "    <tr>\n",
       "      <th>0</th>\n",
       "      <td>2cd832644d09479389ed0785e5de85c9</td>\n",
       "      <td>c36eb85918a84a788e236f5c9eef2b05</td>\n",
       "      <td>5e2b6fd1fab74d04a79eefebbec357bb</td>\n",
       "      <td>[993.884, 612.441, 0.675]</td>\n",
       "      <td>[0.3, 0.291, 0.734]</td>\n",
       "      <td>[-0.04208490861058176, 0.0, 0.0, 0.99911403776...</td>\n",
       "      <td>movable_object.trafficcone</td>\n",
       "      <td>94.824</td>\n",
       "      <td>singapore-onenorth</td>\n",
       "      <td>scene-0001</td>\n",
       "    </tr>\n",
       "  </tbody>\n",
       "</table>\n",
       "</div>"
      ],
      "text/plain": [
       "                              token                      sample_token  \\\n",
       "0  2cd832644d09479389ed0785e5de85c9  c36eb85918a84a788e236f5c9eef2b05   \n",
       "\n",
       "                     instance_token                translation  \\\n",
       "0  5e2b6fd1fab74d04a79eefebbec357bb  [993.884, 612.441, 0.675]   \n",
       "\n",
       "                  size                                           rotation  \\\n",
       "0  [0.3, 0.291, 0.734]  [-0.04208490861058176, 0.0, 0.0, 0.99911403776...   \n",
       "\n",
       "                     category  heading            location  scene_name  \n",
       "0  movable_object.trafficcone   94.824  singapore-onenorth  scene-0001  "
      ]
     },
     "execution_count": 26,
     "metadata": {},
     "output_type": "execute_result"
    }
   ],
   "source": [
    "df_sample_annotation = pd.DataFrame(sample_annotation_res)\n",
    "print(len(df_sample_annotation))\n",
    "df_sample_annotation[:1]"
   ]
  },
  {
   "cell_type": "code",
   "execution_count": 27,
   "id": "aeec0306-65c6-4ea2-ad78-da5539bad861",
   "metadata": {
    "tags": []
   },
   "outputs": [
    {
     "name": "stdout",
     "output_type": "stream",
     "text": [
      "1166187\n"
     ]
    },
    {
     "data": {
      "text/html": [
       "<div>\n",
       "<style scoped>\n",
       "    .dataframe tbody tr th:only-of-type {\n",
       "        vertical-align: middle;\n",
       "    }\n",
       "\n",
       "    .dataframe tbody tr th {\n",
       "        vertical-align: top;\n",
       "    }\n",
       "\n",
       "    .dataframe thead th {\n",
       "        text-align: right;\n",
       "    }\n",
       "</style>\n",
       "<table border=\"1\" class=\"dataframe\">\n",
       "  <thead>\n",
       "    <tr style=\"text-align: right;\">\n",
       "      <th></th>\n",
       "      <th>sample_token</th>\n",
       "      <th>token</th>\n",
       "      <th>instance_token</th>\n",
       "      <th>translation</th>\n",
       "      <th>size</th>\n",
       "      <th>rotation</th>\n",
       "      <th>category</th>\n",
       "      <th>heading</th>\n",
       "      <th>location</th>\n",
       "      <th>scene_name</th>\n",
       "      <th>sample_data_tokens</th>\n",
       "    </tr>\n",
       "  </thead>\n",
       "  <tbody>\n",
       "    <tr>\n",
       "      <th>0</th>\n",
       "      <td>c36eb85918a84a788e236f5c9eef2b05</td>\n",
       "      <td>2cd832644d09479389ed0785e5de85c9</td>\n",
       "      <td>5e2b6fd1fab74d04a79eefebbec357bb</td>\n",
       "      <td>[993.884, 612.441, 0.675]</td>\n",
       "      <td>[0.3, 0.291, 0.734]</td>\n",
       "      <td>[-0.04208490861058176, 0.0, 0.0, 0.99911403776...</td>\n",
       "      <td>movable_object.trafficcone</td>\n",
       "      <td>94.824</td>\n",
       "      <td>singapore-onenorth</td>\n",
       "      <td>scene-0001</td>\n",
       "      <td>[7ad5d6b946ec4c8daf9ce2938e419ba7, e2310bef3df...</td>\n",
       "    </tr>\n",
       "  </tbody>\n",
       "</table>\n",
       "</div>"
      ],
      "text/plain": [
       "                       sample_token                             token  \\\n",
       "0  c36eb85918a84a788e236f5c9eef2b05  2cd832644d09479389ed0785e5de85c9   \n",
       "\n",
       "                     instance_token                translation  \\\n",
       "0  5e2b6fd1fab74d04a79eefebbec357bb  [993.884, 612.441, 0.675]   \n",
       "\n",
       "                  size                                           rotation  \\\n",
       "0  [0.3, 0.291, 0.734]  [-0.04208490861058176, 0.0, 0.0, 0.99911403776...   \n",
       "\n",
       "                     category  heading            location  scene_name  \\\n",
       "0  movable_object.trafficcone   94.824  singapore-onenorth  scene-0001   \n",
       "\n",
       "                                  sample_data_tokens  \n",
       "0  [7ad5d6b946ec4c8daf9ce2938e419ba7, e2310bef3df...  "
      ]
     },
     "execution_count": 27,
     "metadata": {},
     "output_type": "execute_result"
    }
   ],
   "source": [
    "df_sample_data_keyframe = (df_sample_data\n",
    "    [df_sample_data[\"is_key_frame\"]]\n",
    "    [[\"token\", \"sample_token\"]]\n",
    "    .groupby('sample_token')\n",
    "    .agg(list)\n",
    "    .reset_index()\n",
    "    .rename(columns={'token': 'sample_data_tokens'})\n",
    ")\n",
    "\n",
    "df_sample_annotation = (df_sample_annotation\n",
    "    .set_index(\"sample_token\")\n",
    "    .join(\n",
    "        df_sample_data_keyframe.set_index(\"sample_token\"),\n",
    "        on=\"sample_token\",\n",
    "    )\n",
    "    .reset_index()\n",
    ")\n",
    "print(len(df_sample_annotation))\n",
    "df_sample_annotation[:1]"
   ]
  },
  {
   "cell_type": "code",
   "execution_count": 28,
   "id": "d7fc832d",
   "metadata": {},
   "outputs": [
    {
     "data": {
      "text/plain": [
       "1166187"
      ]
     },
     "execution_count": 28,
     "metadata": {},
     "output_type": "execute_result"
    }
   ],
   "source": [
    "len(df_sample_annotation)"
   ]
  },
  {
   "cell_type": "code",
   "execution_count": 29,
   "id": "417e750e",
   "metadata": {},
   "outputs": [
    {
     "data": {
      "text/plain": [
       "34149"
      ]
     },
     "execution_count": 29,
     "metadata": {},
     "output_type": "execute_result"
    }
   ],
   "source": [
    "len(df_sample_data_keyframe[\"sample_data_tokens\"].tolist())"
   ]
  },
  {
   "cell_type": "code",
   "execution_count": 30,
   "id": "40f719ef",
   "metadata": {},
   "outputs": [
    {
     "data": {
      "text/plain": [
       "34149"
      ]
     },
     "execution_count": 30,
     "metadata": {},
     "output_type": "execute_result"
    }
   ],
   "source": [
    "len({*df_sample_data_keyframe[\"sample_token\"].tolist()})\n",
    "len(df_sample_data_keyframe[\"sample_token\"].tolist())"
   ]
  },
  {
   "cell_type": "code",
   "execution_count": 31,
   "id": "c42b1470-be7d-4e51-a42c-4d06a7326125",
   "metadata": {
    "tags": []
   },
   "outputs": [],
   "source": [
    "df_sample_data[\"frame_order\"] = (df_sample_data\n",
    "    .groupby('scene_name')['timestamp']\n",
    "    .rank(method='first')\n",
    "    .astype(int)\n",
    ")"
   ]
  },
  {
   "cell_type": "code",
   "execution_count": 32,
   "id": "48a202e1-0862-40d0-b301-24f1978ff919",
   "metadata": {
    "tags": []
   },
   "outputs": [
    {
     "name": "stdout",
     "output_type": "stream",
     "text": [
      "1183790\n"
     ]
    }
   ],
   "source": [
    "print(len(df_sample_data))"
   ]
  },
  {
   "cell_type": "code",
   "execution_count": 33,
   "id": "b78cf691-25ed-4493-a505-9c705b8ae404",
   "metadata": {
    "tags": []
   },
   "outputs": [
    {
     "name": "stdout",
     "output_type": "stream",
     "text": [
      "1166187\n"
     ]
    }
   ],
   "source": [
    "print(len(df_sample_annotation))"
   ]
  },
  {
   "cell_type": "code",
   "execution_count": null,
   "id": "e52bacca-0e53-4b63-b4ae-9b2a3fee55eb",
   "metadata": {},
   "outputs": [],
   "source": []
  },
  {
   "cell_type": "code",
   "execution_count": 34,
   "id": "71b8fd3d-f9e5-4d85-8983-219e0fdb0b9d",
   "metadata": {
    "tags": []
   },
   "outputs": [],
   "source": [
    "df_sample_data.to_pickle(os.path.join(output_dir, f'sample_data{suffix}.pkl'))\n",
    "df_sample_annotation.to_pickle(os.path.join(output_dir, f'annotation{suffix}.pkl'))"
   ]
  },
  {
   "cell_type": "code",
   "execution_count": null,
   "id": "de13eeea-57de-4deb-b68b-222d73f14e5b",
   "metadata": {},
   "outputs": [],
   "source": []
  },
  {
   "cell_type": "code",
   "execution_count": 35,
   "id": "f141a052-6784-4c1b-bdee-83f9bad1d178",
   "metadata": {
    "tags": []
   },
   "outputs": [],
   "source": [
    "# sample_data_final.to_csv(os.path.join(output_dir, f\"sample_data{suffix}.csv\"), index=False)"
   ]
  },
  {
   "cell_type": "code",
   "execution_count": 36,
   "id": "9c84d0dd",
   "metadata": {
    "tags": []
   },
   "outputs": [],
   "source": [
    "# sample_annotation_final.to_csv(os.path.join(output_dir, f\"annotation{suffix}.csv\"), index=False)"
   ]
  },
  {
   "cell_type": "code",
   "execution_count": null,
   "id": "529f8953",
   "metadata": {},
   "outputs": [],
   "source": []
  },
  {
   "cell_type": "markdown",
   "id": "5cab092a",
   "metadata": {},
   "source": [
    "# Experiment with the data + some validation"
   ]
  },
  {
   "cell_type": "code",
   "execution_count": 37,
   "id": "6a15763b",
   "metadata": {},
   "outputs": [
    {
     "data": {
      "text/plain": [
       "1         -0.037737\n",
       "3         -0.036907\n",
       "9         -0.037503\n",
       "13        -0.037357\n",
       "16        -0.036216\n",
       "             ...   \n",
       "1183767   -0.043393\n",
       "1183775   -0.043458\n",
       "1183777   -0.043966\n",
       "1183786   -0.042987\n",
       "1183789   -0.043593\n",
       "Length: 204894, dtype: float64"
      ]
     },
     "execution_count": 37,
     "metadata": {},
     "output_type": "execute_result"
    }
   ],
   "source": [
    "(df_sample_data[df_sample_data['is_key_frame']]['timestamp'] - df_sample_data[df_sample_data['is_key_frame']]['sample_timestamp']) / 1_000_000"
   ]
  },
  {
   "cell_type": "code",
   "execution_count": 38,
   "id": "21b85212",
   "metadata": {},
   "outputs": [
    {
     "data": {
      "text/html": [
       "<div>\n",
       "<style scoped>\n",
       "    .dataframe tbody tr th:only-of-type {\n",
       "        vertical-align: middle;\n",
       "    }\n",
       "\n",
       "    .dataframe tbody tr th {\n",
       "        vertical-align: top;\n",
       "    }\n",
       "\n",
       "    .dataframe thead th {\n",
       "        text-align: right;\n",
       "    }\n",
       "</style>\n",
       "<table border=\"1\" class=\"dataframe\">\n",
       "  <thead>\n",
       "    <tr style=\"text-align: right;\">\n",
       "      <th></th>\n",
       "      <th>timestamp_len</th>\n",
       "      <th>timestamp_avg</th>\n",
       "      <th>timestamp_range</th>\n",
       "      <th>timestamp_max</th>\n",
       "      <th>timestamp_min</th>\n",
       "      <th>sample_timestamp</th>\n",
       "    </tr>\n",
       "    <tr>\n",
       "      <th>sample_token</th>\n",
       "      <th></th>\n",
       "      <th></th>\n",
       "      <th></th>\n",
       "      <th></th>\n",
       "      <th></th>\n",
       "      <th></th>\n",
       "    </tr>\n",
       "  </thead>\n",
       "  <tbody>\n",
       "    <tr>\n",
       "      <th>00014584c6de4789a69b4717fa3c0d22</th>\n",
       "      <td>6</td>\n",
       "      <td>1538033994275080.75000</td>\n",
       "      <td>42579</td>\n",
       "      <td>1538033994297423</td>\n",
       "      <td>1538033994254844</td>\n",
       "      <td>{1538033994297142}</td>\n",
       "    </tr>\n",
       "    <tr>\n",
       "      <th>0003b4042e73443d81e17dc6f5b14de3</th>\n",
       "      <td>6</td>\n",
       "      <td>1537290912875126.75000</td>\n",
       "      <td>42606</td>\n",
       "      <td>1537290912897405</td>\n",
       "      <td>1537290912854799</td>\n",
       "      <td>{1537290912898341}</td>\n",
       "    </tr>\n",
       "    <tr>\n",
       "      <th>000681a060c04755a1537cf83b53ba57</th>\n",
       "      <td>6</td>\n",
       "      <td>1531281560175081.75000</td>\n",
       "      <td>42579</td>\n",
       "      <td>1531281560197423</td>\n",
       "      <td>1531281560154844</td>\n",
       "      <td>{1531281560199908}</td>\n",
       "    </tr>\n",
       "    <tr>\n",
       "      <th>000868a72138448191b4092f75ed7776</th>\n",
       "      <td>6</td>\n",
       "      <td>1533151882525126.75000</td>\n",
       "      <td>42606</td>\n",
       "      <td>1533151882547405</td>\n",
       "      <td>1533151882504799</td>\n",
       "      <td>{1533151882547619}</td>\n",
       "    </tr>\n",
       "    <tr>\n",
       "      <th>0008b7653d1a42179ac9c222e734bcef</th>\n",
       "      <td>6</td>\n",
       "      <td>1537299517425126.75000</td>\n",
       "      <td>42606</td>\n",
       "      <td>1537299517447405</td>\n",
       "      <td>1537299517404799</td>\n",
       "      <td>{1537299517449730}</td>\n",
       "    </tr>\n",
       "    <tr>\n",
       "      <th>...</th>\n",
       "      <td>...</td>\n",
       "      <td>...</td>\n",
       "      <td>...</td>\n",
       "      <td>...</td>\n",
       "      <td>...</td>\n",
       "      <td>...</td>\n",
       "    </tr>\n",
       "    <tr>\n",
       "      <th>fff7106ca1f34c7a83e72ffbc0c0b1b5</th>\n",
       "      <td>6</td>\n",
       "      <td>1537296206625126.75000</td>\n",
       "      <td>42606</td>\n",
       "      <td>1537296206647405</td>\n",
       "      <td>1537296206604799</td>\n",
       "      <td>{1537296206649326}</td>\n",
       "    </tr>\n",
       "    <tr>\n",
       "      <th>fff7244095b441d6a053da2951cf2b3b</th>\n",
       "      <td>6</td>\n",
       "      <td>1542801265425080.75000</td>\n",
       "      <td>42579</td>\n",
       "      <td>1542801265447423</td>\n",
       "      <td>1542801265404844</td>\n",
       "      <td>{1542801265448126}</td>\n",
       "    </tr>\n",
       "    <tr>\n",
       "      <th>fff7416f03794572b82bc42d4fc7093d</th>\n",
       "      <td>6</td>\n",
       "      <td>1532663148175080.75000</td>\n",
       "      <td>42579</td>\n",
       "      <td>1532663148197423</td>\n",
       "      <td>1532663148154844</td>\n",
       "      <td>{1532663148198418}</td>\n",
       "    </tr>\n",
       "    <tr>\n",
       "      <th>fff90cea23294012b490f4922e4cda64</th>\n",
       "      <td>6</td>\n",
       "      <td>1526915378525002.75000</td>\n",
       "      <td>42378</td>\n",
       "      <td>1526915378547295</td>\n",
       "      <td>1526915378504917</td>\n",
       "      <td>{1526915378548008}</td>\n",
       "    </tr>\n",
       "    <tr>\n",
       "      <th>fffce4445c964803a12a2d64023fde40</th>\n",
       "      <td>6</td>\n",
       "      <td>1537932023425080.75000</td>\n",
       "      <td>42579</td>\n",
       "      <td>1537932023447423</td>\n",
       "      <td>1537932023404844</td>\n",
       "      <td>{1537932023446983}</td>\n",
       "    </tr>\n",
       "  </tbody>\n",
       "</table>\n",
       "<p>34149 rows × 6 columns</p>\n",
       "</div>"
      ],
      "text/plain": [
       "                                  timestamp_len           timestamp_avg  \\\n",
       "sample_token                                                              \n",
       "00014584c6de4789a69b4717fa3c0d22              6  1538033994275080.75000   \n",
       "0003b4042e73443d81e17dc6f5b14de3              6  1537290912875126.75000   \n",
       "000681a060c04755a1537cf83b53ba57              6  1531281560175081.75000   \n",
       "000868a72138448191b4092f75ed7776              6  1533151882525126.75000   \n",
       "0008b7653d1a42179ac9c222e734bcef              6  1537299517425126.75000   \n",
       "...                                         ...                     ...   \n",
       "fff7106ca1f34c7a83e72ffbc0c0b1b5              6  1537296206625126.75000   \n",
       "fff7244095b441d6a053da2951cf2b3b              6  1542801265425080.75000   \n",
       "fff7416f03794572b82bc42d4fc7093d              6  1532663148175080.75000   \n",
       "fff90cea23294012b490f4922e4cda64              6  1526915378525002.75000   \n",
       "fffce4445c964803a12a2d64023fde40              6  1537932023425080.75000   \n",
       "\n",
       "                                  timestamp_range     timestamp_max  \\\n",
       "sample_token                                                          \n",
       "00014584c6de4789a69b4717fa3c0d22            42579  1538033994297423   \n",
       "0003b4042e73443d81e17dc6f5b14de3            42606  1537290912897405   \n",
       "000681a060c04755a1537cf83b53ba57            42579  1531281560197423   \n",
       "000868a72138448191b4092f75ed7776            42606  1533151882547405   \n",
       "0008b7653d1a42179ac9c222e734bcef            42606  1537299517447405   \n",
       "...                                           ...               ...   \n",
       "fff7106ca1f34c7a83e72ffbc0c0b1b5            42606  1537296206647405   \n",
       "fff7244095b441d6a053da2951cf2b3b            42579  1542801265447423   \n",
       "fff7416f03794572b82bc42d4fc7093d            42579  1532663148197423   \n",
       "fff90cea23294012b490f4922e4cda64            42378  1526915378547295   \n",
       "fffce4445c964803a12a2d64023fde40            42579  1537932023447423   \n",
       "\n",
       "                                     timestamp_min    sample_timestamp  \n",
       "sample_token                                                            \n",
       "00014584c6de4789a69b4717fa3c0d22  1538033994254844  {1538033994297142}  \n",
       "0003b4042e73443d81e17dc6f5b14de3  1537290912854799  {1537290912898341}  \n",
       "000681a060c04755a1537cf83b53ba57  1531281560154844  {1531281560199908}  \n",
       "000868a72138448191b4092f75ed7776  1533151882504799  {1533151882547619}  \n",
       "0008b7653d1a42179ac9c222e734bcef  1537299517404799  {1537299517449730}  \n",
       "...                                            ...                 ...  \n",
       "fff7106ca1f34c7a83e72ffbc0c0b1b5  1537296206604799  {1537296206649326}  \n",
       "fff7244095b441d6a053da2951cf2b3b  1542801265404844  {1542801265448126}  \n",
       "fff7416f03794572b82bc42d4fc7093d  1532663148154844  {1532663148198418}  \n",
       "fff90cea23294012b490f4922e4cda64  1526915378504917  {1526915378548008}  \n",
       "fffce4445c964803a12a2d64023fde40  1537932023404844  {1537932023446983}  \n",
       "\n",
       "[34149 rows x 6 columns]"
      ]
     },
     "execution_count": 38,
     "metadata": {},
     "output_type": "execute_result"
    }
   ],
   "source": [
    "df_sample_data[df_sample_data['is_key_frame']].groupby('sample_token').agg(\n",
    "    timestamp_len=pd.NamedAgg(column=\"timestamp\", aggfunc=lambda x: len(set(x))),\n",
    "    timestamp_avg=pd.NamedAgg(column=\"timestamp\", aggfunc=lambda x: f\"{sum(x) / len(x):.5f}\"),\n",
    "    timestamp_range=pd.NamedAgg(column=\"timestamp\", aggfunc=lambda x: max(x) - min(x)),\n",
    "    timestamp_max=pd.NamedAgg(column=\"timestamp\", aggfunc=lambda x: max(x)),\n",
    "    timestamp_min=pd.NamedAgg(column=\"timestamp\", aggfunc=lambda x: min(x)),\n",
    "    sample_timestamp=pd.NamedAgg(column=\"sample_timestamp\", aggfunc=lambda x: set(x))\n",
    ")\n",
    "\n",
    "\n",
    "# .agg({\n",
    "#     'timestamp': (lambda x: len(set(x))),\n",
    "#     'timestamp': (lambda x: sum(x) / len(x))\n",
    "# })"
   ]
  },
  {
   "cell_type": "code",
   "execution_count": 39,
   "id": "0f7d2e41",
   "metadata": {},
   "outputs": [
    {
     "data": {
      "text/plain": [
       "0.042606"
      ]
     },
     "execution_count": 39,
     "metadata": {},
     "output_type": "execute_result"
    }
   ],
   "source": [
    "42606 / 1_000_000"
   ]
  },
  {
   "cell_type": "code",
   "execution_count": 40,
   "id": "d53589f4",
   "metadata": {},
   "outputs": [
    {
     "data": {
      "text/html": [
       "<div>\n",
       "<style scoped>\n",
       "    .dataframe tbody tr th:only-of-type {\n",
       "        vertical-align: middle;\n",
       "    }\n",
       "\n",
       "    .dataframe tbody tr th {\n",
       "        vertical-align: top;\n",
       "    }\n",
       "\n",
       "    .dataframe thead th {\n",
       "        text-align: right;\n",
       "    }\n",
       "</style>\n",
       "<table border=\"1\" class=\"dataframe\">\n",
       "  <thead>\n",
       "    <tr style=\"text-align: right;\">\n",
       "      <th></th>\n",
       "      <th>token</th>\n",
       "      <th>sample_token</th>\n",
       "      <th>timestamp</th>\n",
       "      <th>is_key_frame</th>\n",
       "      <th>filename</th>\n",
       "      <th>sample_timestamp</th>\n",
       "      <th>camera_translation</th>\n",
       "      <th>camera_rotation</th>\n",
       "      <th>camera_intrinsic</th>\n",
       "      <th>ego_translation</th>\n",
       "      <th>ego_rotation</th>\n",
       "      <th>scene_name</th>\n",
       "      <th>channel</th>\n",
       "      <th>location</th>\n",
       "      <th>ego_heading</th>\n",
       "      <th>camera_heading</th>\n",
       "      <th>frame_order</th>\n",
       "    </tr>\n",
       "  </thead>\n",
       "  <tbody>\n",
       "    <tr>\n",
       "      <th>88197</th>\n",
       "      <td>d3aff8de619b495b8f7f7bedd9ac92f6</td>\n",
       "      <td>1a2fa42ebe374ca4bdb234d8b9bc0ad7</td>\n",
       "      <td>1533153439147405</td>\n",
       "      <td>True</td>\n",
       "      <td>samples/CAM_BACK_LEFT/n008-2018-08-01-15-52-19...</td>\n",
       "      <td>1533153439147405</td>\n",
       "      <td>[1949.0928978847091, 870.9364965073557, 1.5523...</td>\n",
       "      <td>[-0.6939571881653821, 0.6996558611738033, 0.11...</td>\n",
       "      <td>[[1254.9860565800168, 0.0, 829.5769333630991],...</td>\n",
       "      <td>[1948.0600093886542, 870.3921681493506, 0.0]</td>\n",
       "      <td>[-0.999863886828878, 0.013832570595238017, 0.0...</td>\n",
       "      <td>scene-0067</td>\n",
       "      <td>CAM_BACK_LEFT</td>\n",
       "      <td>boston-seaport</td>\n",
       "      <td>-89.002501</td>\n",
       "      <td>19.570889</td>\n",
       "      <td>625</td>\n",
       "    </tr>\n",
       "    <tr>\n",
       "      <th>434744</th>\n",
       "      <td>d3c8623c857b4f79b328070c1e99de10</td>\n",
       "      <td>5cca256ed9ac40a1ac2f91fe485a4d5c</td>\n",
       "      <td>1538033647297423</td>\n",
       "      <td>True</td>\n",
       "      <td>samples/CAM_BACK_LEFT/n015-2018-09-27-15-33-17...</td>\n",
       "      <td>1538033647297423</td>\n",
       "      <td>[599.7696559975788, 1995.8120655161458, 1.5997...</td>\n",
       "      <td>[0.16967847715037687, -0.16587495589955784, -0...</td>\n",
       "      <td>[[1256.7414812095406, 0.0, 792.1125740759628],...</td>\n",
       "      <td>[600.8363571699199, 1995.4354757460915, 0.0]</td>\n",
       "      <td>[0.39112586315815345, 0.0043199748487511, -0.0...</td>\n",
       "      <td>scene-0400</td>\n",
       "      <td>CAM_BACK_LEFT</td>\n",
       "      <td>singapore-hollandvillage</td>\n",
       "      <td>43.947899</td>\n",
       "      <td>152.542952</td>\n",
       "      <td>402</td>\n",
       "    </tr>\n",
       "    <tr>\n",
       "      <th>520920</th>\n",
       "      <td>497993e6c5564c7a9810dfc7aa290899</td>\n",
       "      <td>0a566bf5174241078ac082913e9763ea</td>\n",
       "      <td>1537289882547419</td>\n",
       "      <td>True</td>\n",
       "      <td>samples/CAM_BACK_LEFT/n008-2018-09-18-12-53-31...</td>\n",
       "      <td>1537289882547419</td>\n",
       "      <td>[1315.8283544488515, 1038.2258572601168, 1.562...</td>\n",
       "      <td>[-0.13355111389173654, 0.13336922972646031, 0....</td>\n",
       "      <td>[[1254.9860565800168, 0.0, 829.5769333630991],...</td>\n",
       "      <td>[1316.9507949017625, 1037.9601252189689, 0.0]</td>\n",
       "      <td>[-0.3447495981725934, -0.0017739041791563614, ...</td>\n",
       "      <td>scene-0464</td>\n",
       "      <td>CAM_BACK_LEFT</td>\n",
       "      <td>boston-seaport</td>\n",
       "      <td>49.667954</td>\n",
       "      <td>158.241343</td>\n",
       "      <td>77</td>\n",
       "    </tr>\n",
       "    <tr>\n",
       "      <th>666814</th>\n",
       "      <td>cda735ed257e4a839dbb076c60d77995</td>\n",
       "      <td>924154c08a8549c3b1e4a7e20aa0ab77</td>\n",
       "      <td>1537295814897405</td>\n",
       "      <td>True</td>\n",
       "      <td>samples/CAM_BACK_LEFT/n008-2018-09-18-14-35-12...</td>\n",
       "      <td>1537295814897405</td>\n",
       "      <td>[1565.1119874339486, 1328.1061335613247, 1.584...</td>\n",
       "      <td>[0.7177714448087549, -0.6950076194590807, 0.02...</td>\n",
       "      <td>[[1254.9860565800168, 0.0, 829.5769333630991],...</td>\n",
       "      <td>[1563.9884634395687, 1328.0941376888122, 0.0]</td>\n",
       "      <td>[0.9793259846878615, 0.007183603355500013, -0....</td>\n",
       "      <td>scene-0625</td>\n",
       "      <td>CAM_BACK_LEFT</td>\n",
       "      <td>boston-seaport</td>\n",
       "      <td>-113.301615</td>\n",
       "      <td>-4.728226</td>\n",
       "      <td>77</td>\n",
       "    </tr>\n",
       "    <tr>\n",
       "      <th>850770</th>\n",
       "      <td>9d1e2a81c71d43288e1f2be78c32ec6d</td>\n",
       "      <td>6e54dfd8cdf34ef7bb61e2284e9911b5</td>\n",
       "      <td>1538449267447423</td>\n",
       "      <td>True</td>\n",
       "      <td>samples/CAM_BACK_LEFT/n015-2018-10-02-10-56-37...</td>\n",
       "      <td>1538449267447423</td>\n",
       "      <td>[1692.23825799362, 2723.1729223912494, 1.56304...</td>\n",
       "      <td>[-0.6614956534299359, 0.6853718191713943, -0.2...</td>\n",
       "      <td>[[1256.7414812095406, 0.0, 792.1125740759628],...</td>\n",
       "      <td>[1691.1877622048573, 2723.7134991905714, 0.0]</td>\n",
       "      <td>[-0.8907746669439669, 0.010802745393030054, -0...</td>\n",
       "      <td>scene-0791</td>\n",
       "      <td>CAM_BACK_LEFT</td>\n",
       "      <td>singapore-queenstown</td>\n",
       "      <td>-144.021243</td>\n",
       "      <td>-35.426189</td>\n",
       "      <td>650</td>\n",
       "    </tr>\n",
       "    <tr>\n",
       "      <th>898462</th>\n",
       "      <td>c4695bac29764181881a7aedfe857f35</td>\n",
       "      <td>02c953a65a614ba6a0b64d78111bc8f4</td>\n",
       "      <td>1538985963147423</td>\n",
       "      <td>True</td>\n",
       "      <td>samples/CAM_BACK_LEFT/n015-2018-10-08-16-03-24...</td>\n",
       "      <td>1538985963147423</td>\n",
       "      <td>[1835.8346365833024, 1510.4861359491176, 1.603...</td>\n",
       "      <td>[0.3600013392295245, -0.3769074554876809, 0.60...</td>\n",
       "      <td>[[1256.7414812095406, 0.0, 792.1125740759628],...</td>\n",
       "      <td>[1836.2235304067606, 1511.5429558162184, 0.0]</td>\n",
       "      <td>[0.3763837187490786, -0.00594234457585575, -0....</td>\n",
       "      <td>scene-0854</td>\n",
       "      <td>CAM_BACK_LEFT</td>\n",
       "      <td>singapore-queenstown</td>\n",
       "      <td>134.222845</td>\n",
       "      <td>-117.182102</td>\n",
       "      <td>953</td>\n",
       "    </tr>\n",
       "    <tr>\n",
       "      <th>1068329</th>\n",
       "      <td>107e469c2f0743858ff1009505d9bb7e</td>\n",
       "      <td>04cebd7db4ce44369523b4f3f2ec6ce4</td>\n",
       "      <td>1542193584447423</td>\n",
       "      <td>True</td>\n",
       "      <td>samples/CAM_BACK_LEFT/n015-2018-11-14-18-57-54...</td>\n",
       "      <td>1542193584447423</td>\n",
       "      <td>[1053.1738261449236, 1728.7353151441898, 1.591...</td>\n",
       "      <td>[0.6937276111803539, -0.7183465147075474, -0.0...</td>\n",
       "      <td>[[1256.7414812095406, 0.0, 792.1125740759628],...</td>\n",
       "      <td>[1052.0648287529004, 1728.4589602723213, 0.0]</td>\n",
       "      <td>[0.9938772719007054, -0.009076941081439744, -0...</td>\n",
       "      <td>scene-1009</td>\n",
       "      <td>CAM_BACK_LEFT</td>\n",
       "      <td>singapore-queenstown</td>\n",
       "      <td>-102.641060</td>\n",
       "      <td>5.953993</td>\n",
       "      <td>214</td>\n",
       "    </tr>\n",
       "    <tr>\n",
       "      <th>1132870</th>\n",
       "      <td>b67b067d9b59458b94cea7b08135cf16</td>\n",
       "      <td>df9df601e42b4186a01182d1841e2a09</td>\n",
       "      <td>1542799756947423</td>\n",
       "      <td>True</td>\n",
       "      <td>samples/CAM_BACK_LEFT/n015-2018-11-21-19-21-35...</td>\n",
       "      <td>1542799756947423</td>\n",
       "      <td>[616.7363470933337, 2027.1991738556992, 1.6323...</td>\n",
       "      <td>[0.40327675398772317, -0.4760601946017423, 0.5...</td>\n",
       "      <td>[[1256.7414812095406, 0.0, 792.1125740759628],...</td>\n",
       "      <td>[616.7213875077988, 2028.2827698918913, 0.0]</td>\n",
       "      <td>[0.4876838260380836, -0.04684805113221287, 0.0...</td>\n",
       "      <td>scene-1073</td>\n",
       "      <td>CAM_BACK_LEFT</td>\n",
       "      <td>singapore-hollandvillage</td>\n",
       "      <td>148.532755</td>\n",
       "      <td>-102.872191</td>\n",
       "      <td>1000</td>\n",
       "    </tr>\n",
       "  </tbody>\n",
       "</table>\n",
       "</div>"
      ],
      "text/plain": [
       "                                    token                      sample_token  \\\n",
       "88197    d3aff8de619b495b8f7f7bedd9ac92f6  1a2fa42ebe374ca4bdb234d8b9bc0ad7   \n",
       "434744   d3c8623c857b4f79b328070c1e99de10  5cca256ed9ac40a1ac2f91fe485a4d5c   \n",
       "520920   497993e6c5564c7a9810dfc7aa290899  0a566bf5174241078ac082913e9763ea   \n",
       "666814   cda735ed257e4a839dbb076c60d77995  924154c08a8549c3b1e4a7e20aa0ab77   \n",
       "850770   9d1e2a81c71d43288e1f2be78c32ec6d  6e54dfd8cdf34ef7bb61e2284e9911b5   \n",
       "898462   c4695bac29764181881a7aedfe857f35  02c953a65a614ba6a0b64d78111bc8f4   \n",
       "1068329  107e469c2f0743858ff1009505d9bb7e  04cebd7db4ce44369523b4f3f2ec6ce4   \n",
       "1132870  b67b067d9b59458b94cea7b08135cf16  df9df601e42b4186a01182d1841e2a09   \n",
       "\n",
       "                timestamp  is_key_frame  \\\n",
       "88197    1533153439147405          True   \n",
       "434744   1538033647297423          True   \n",
       "520920   1537289882547419          True   \n",
       "666814   1537295814897405          True   \n",
       "850770   1538449267447423          True   \n",
       "898462   1538985963147423          True   \n",
       "1068329  1542193584447423          True   \n",
       "1132870  1542799756947423          True   \n",
       "\n",
       "                                                  filename  sample_timestamp  \\\n",
       "88197    samples/CAM_BACK_LEFT/n008-2018-08-01-15-52-19...  1533153439147405   \n",
       "434744   samples/CAM_BACK_LEFT/n015-2018-09-27-15-33-17...  1538033647297423   \n",
       "520920   samples/CAM_BACK_LEFT/n008-2018-09-18-12-53-31...  1537289882547419   \n",
       "666814   samples/CAM_BACK_LEFT/n008-2018-09-18-14-35-12...  1537295814897405   \n",
       "850770   samples/CAM_BACK_LEFT/n015-2018-10-02-10-56-37...  1538449267447423   \n",
       "898462   samples/CAM_BACK_LEFT/n015-2018-10-08-16-03-24...  1538985963147423   \n",
       "1068329  samples/CAM_BACK_LEFT/n015-2018-11-14-18-57-54...  1542193584447423   \n",
       "1132870  samples/CAM_BACK_LEFT/n015-2018-11-21-19-21-35...  1542799756947423   \n",
       "\n",
       "                                        camera_translation  \\\n",
       "88197    [1949.0928978847091, 870.9364965073557, 1.5523...   \n",
       "434744   [599.7696559975788, 1995.8120655161458, 1.5997...   \n",
       "520920   [1315.8283544488515, 1038.2258572601168, 1.562...   \n",
       "666814   [1565.1119874339486, 1328.1061335613247, 1.584...   \n",
       "850770   [1692.23825799362, 2723.1729223912494, 1.56304...   \n",
       "898462   [1835.8346365833024, 1510.4861359491176, 1.603...   \n",
       "1068329  [1053.1738261449236, 1728.7353151441898, 1.591...   \n",
       "1132870  [616.7363470933337, 2027.1991738556992, 1.6323...   \n",
       "\n",
       "                                           camera_rotation  \\\n",
       "88197    [-0.6939571881653821, 0.6996558611738033, 0.11...   \n",
       "434744   [0.16967847715037687, -0.16587495589955784, -0...   \n",
       "520920   [-0.13355111389173654, 0.13336922972646031, 0....   \n",
       "666814   [0.7177714448087549, -0.6950076194590807, 0.02...   \n",
       "850770   [-0.6614956534299359, 0.6853718191713943, -0.2...   \n",
       "898462   [0.3600013392295245, -0.3769074554876809, 0.60...   \n",
       "1068329  [0.6937276111803539, -0.7183465147075474, -0.0...   \n",
       "1132870  [0.40327675398772317, -0.4760601946017423, 0.5...   \n",
       "\n",
       "                                          camera_intrinsic  \\\n",
       "88197    [[1254.9860565800168, 0.0, 829.5769333630991],...   \n",
       "434744   [[1256.7414812095406, 0.0, 792.1125740759628],...   \n",
       "520920   [[1254.9860565800168, 0.0, 829.5769333630991],...   \n",
       "666814   [[1254.9860565800168, 0.0, 829.5769333630991],...   \n",
       "850770   [[1256.7414812095406, 0.0, 792.1125740759628],...   \n",
       "898462   [[1256.7414812095406, 0.0, 792.1125740759628],...   \n",
       "1068329  [[1256.7414812095406, 0.0, 792.1125740759628],...   \n",
       "1132870  [[1256.7414812095406, 0.0, 792.1125740759628],...   \n",
       "\n",
       "                                       ego_translation  \\\n",
       "88197     [1948.0600093886542, 870.3921681493506, 0.0]   \n",
       "434744    [600.8363571699199, 1995.4354757460915, 0.0]   \n",
       "520920   [1316.9507949017625, 1037.9601252189689, 0.0]   \n",
       "666814   [1563.9884634395687, 1328.0941376888122, 0.0]   \n",
       "850770   [1691.1877622048573, 2723.7134991905714, 0.0]   \n",
       "898462   [1836.2235304067606, 1511.5429558162184, 0.0]   \n",
       "1068329  [1052.0648287529004, 1728.4589602723213, 0.0]   \n",
       "1132870   [616.7213875077988, 2028.2827698918913, 0.0]   \n",
       "\n",
       "                                              ego_rotation  scene_name  \\\n",
       "88197    [-0.999863886828878, 0.013832570595238017, 0.0...  scene-0067   \n",
       "434744   [0.39112586315815345, 0.0043199748487511, -0.0...  scene-0400   \n",
       "520920   [-0.3447495981725934, -0.0017739041791563614, ...  scene-0464   \n",
       "666814   [0.9793259846878615, 0.007183603355500013, -0....  scene-0625   \n",
       "850770   [-0.8907746669439669, 0.010802745393030054, -0...  scene-0791   \n",
       "898462   [0.3763837187490786, -0.00594234457585575, -0....  scene-0854   \n",
       "1068329  [0.9938772719007054, -0.009076941081439744, -0...  scene-1009   \n",
       "1132870  [0.4876838260380836, -0.04684805113221287, 0.0...  scene-1073   \n",
       "\n",
       "               channel                  location  ego_heading  camera_heading  \\\n",
       "88197    CAM_BACK_LEFT            boston-seaport   -89.002501       19.570889   \n",
       "434744   CAM_BACK_LEFT  singapore-hollandvillage    43.947899      152.542952   \n",
       "520920   CAM_BACK_LEFT            boston-seaport    49.667954      158.241343   \n",
       "666814   CAM_BACK_LEFT            boston-seaport  -113.301615       -4.728226   \n",
       "850770   CAM_BACK_LEFT      singapore-queenstown  -144.021243      -35.426189   \n",
       "898462   CAM_BACK_LEFT      singapore-queenstown   134.222845     -117.182102   \n",
       "1068329  CAM_BACK_LEFT      singapore-queenstown  -102.641060        5.953993   \n",
       "1132870  CAM_BACK_LEFT  singapore-hollandvillage   148.532755     -102.872191   \n",
       "\n",
       "         frame_order  \n",
       "88197            625  \n",
       "434744           402  \n",
       "520920            77  \n",
       "666814            77  \n",
       "850770           650  \n",
       "898462           953  \n",
       "1068329          214  \n",
       "1132870         1000  "
      ]
     },
     "execution_count": 40,
     "metadata": {},
     "output_type": "execute_result"
    }
   ],
   "source": [
    "df_sample_data[df_sample_data['timestamp'] == df_sample_data['sample_timestamp']]"
   ]
  },
  {
   "cell_type": "code",
   "execution_count": 41,
   "id": "34e1e35c",
   "metadata": {},
   "outputs": [],
   "source": [
    "df = df_sample_data.copy(deep=True)\n",
    "df['timediff'] = df['sample_timestamp'] - df['timestamp']\n",
    "df['timediffabs'] = abs(df['sample_timestamp'] - df['timestamp'])"
   ]
  },
  {
   "cell_type": "code",
   "execution_count": 42,
   "id": "8a40c26f",
   "metadata": {},
   "outputs": [
    {
     "data": {
      "text/html": [
       "<div>\n",
       "<style scoped>\n",
       "    .dataframe tbody tr th:only-of-type {\n",
       "        vertical-align: middle;\n",
       "    }\n",
       "\n",
       "    .dataframe tbody tr th {\n",
       "        vertical-align: top;\n",
       "    }\n",
       "\n",
       "    .dataframe thead th {\n",
       "        text-align: right;\n",
       "    }\n",
       "</style>\n",
       "<table border=\"1\" class=\"dataframe\">\n",
       "  <thead>\n",
       "    <tr style=\"text-align: right;\">\n",
       "      <th></th>\n",
       "      <th>token</th>\n",
       "      <th>sample_token</th>\n",
       "      <th>timestamp</th>\n",
       "      <th>is_key_frame</th>\n",
       "      <th>filename</th>\n",
       "      <th>sample_timestamp</th>\n",
       "      <th>camera_translation</th>\n",
       "      <th>camera_rotation</th>\n",
       "      <th>camera_intrinsic</th>\n",
       "      <th>ego_translation</th>\n",
       "      <th>ego_rotation</th>\n",
       "      <th>scene_name</th>\n",
       "      <th>channel</th>\n",
       "      <th>location</th>\n",
       "      <th>ego_heading</th>\n",
       "      <th>camera_heading</th>\n",
       "      <th>frame_order</th>\n",
       "      <th>timediff</th>\n",
       "      <th>timediffabs</th>\n",
       "    </tr>\n",
       "  </thead>\n",
       "  <tbody>\n",
       "  </tbody>\n",
       "</table>\n",
       "</div>"
      ],
      "text/plain": [
       "Empty DataFrame\n",
       "Columns: [token, sample_token, timestamp, is_key_frame, filename, sample_timestamp, camera_translation, camera_rotation, camera_intrinsic, ego_translation, ego_rotation, scene_name, channel, location, ego_heading, camera_heading, frame_order, timediff, timediffabs]\n",
       "Index: []"
      ]
     },
     "execution_count": 42,
     "metadata": {},
     "output_type": "execute_result"
    }
   ],
   "source": [
    "df[(df['timediff'] < 0) & (df['is_key_frame'] != True)]"
   ]
  },
  {
   "cell_type": "code",
   "execution_count": 43,
   "id": "2efcf96c",
   "metadata": {},
   "outputs": [
    {
     "data": {
      "text/html": [
       "<div>\n",
       "<style scoped>\n",
       "    .dataframe tbody tr th:only-of-type {\n",
       "        vertical-align: middle;\n",
       "    }\n",
       "\n",
       "    .dataframe tbody tr th {\n",
       "        vertical-align: top;\n",
       "    }\n",
       "\n",
       "    .dataframe thead th {\n",
       "        text-align: right;\n",
       "    }\n",
       "</style>\n",
       "<table border=\"1\" class=\"dataframe\">\n",
       "  <thead>\n",
       "    <tr style=\"text-align: right;\">\n",
       "      <th></th>\n",
       "      <th></th>\n",
       "      <th>timestamp_arr</th>\n",
       "      <th>iskeyframe_arr</th>\n",
       "      <th>keyframe_closest</th>\n",
       "    </tr>\n",
       "    <tr>\n",
       "      <th>sample_token</th>\n",
       "      <th>channel</th>\n",
       "      <th></th>\n",
       "      <th></th>\n",
       "      <th></th>\n",
       "    </tr>\n",
       "  </thead>\n",
       "  <tbody>\n",
       "    <tr>\n",
       "      <th rowspan=\"5\" valign=\"top\">00014584c6de4789a69b4717fa3c0d22</th>\n",
       "      <th>CAM_BACK</th>\n",
       "      <td>[159617, 409617, 359617, 109617, 259617, 9617]</td>\n",
       "      <td>[False, False, False, False, False, True]</td>\n",
       "      <td>False</td>\n",
       "    </tr>\n",
       "    <tr>\n",
       "      <th>CAM_BACK_LEFT</th>\n",
       "      <td>[249719, 349719, 99719, 399719, 149719, -281]</td>\n",
       "      <td>[False, False, False, False, False, True]</td>\n",
       "      <td>False</td>\n",
       "    </tr>\n",
       "    <tr>\n",
       "      <th>CAM_BACK_RIGHT</th>\n",
       "      <td>[269249, 369249, 419249, 169249, 119249, 19249]</td>\n",
       "      <td>[False, False, False, False, False, True]</td>\n",
       "      <td>False</td>\n",
       "    </tr>\n",
       "    <tr>\n",
       "      <th>CAM_FRONT</th>\n",
       "      <td>[434682, 384682, 284682, 184682, 134682, 34681]</td>\n",
       "      <td>[False, False, False, False, False, True]</td>\n",
       "      <td>False</td>\n",
       "    </tr>\n",
       "    <tr>\n",
       "      <th>CAM_FRONT_LEFT</th>\n",
       "      <td>[142298, 392298, 442298, 292298, 192298, 42298]</td>\n",
       "      <td>[False, False, False, False, False, True]</td>\n",
       "      <td>False</td>\n",
       "    </tr>\n",
       "    <tr>\n",
       "      <th>...</th>\n",
       "      <th>...</th>\n",
       "      <td>...</td>\n",
       "      <td>...</td>\n",
       "      <td>...</td>\n",
       "    </tr>\n",
       "    <tr>\n",
       "      <th rowspan=\"5\" valign=\"top\">fffce4445c964803a12a2d64023fde40</th>\n",
       "      <th>CAM_BACK_LEFT</th>\n",
       "      <td>[49560, 299560, 399560, 149560, 249560, -440]</td>\n",
       "      <td>[False, False, False, False, False, True]</td>\n",
       "      <td>False</td>\n",
       "    </tr>\n",
       "    <tr>\n",
       "      <th>CAM_BACK_RIGHT</th>\n",
       "      <td>[319090, 419090, 69090, 169090, 269090, 19090]</td>\n",
       "      <td>[False, False, False, False, False, True]</td>\n",
       "      <td>False</td>\n",
       "    </tr>\n",
       "    <tr>\n",
       "      <th>CAM_FRONT</th>\n",
       "      <td>[334523, 184523, 84523, 284523, 434523, 34523]</td>\n",
       "      <td>[False, False, False, False, False, True]</td>\n",
       "      <td>False</td>\n",
       "    </tr>\n",
       "    <tr>\n",
       "      <th>CAM_FRONT_LEFT</th>\n",
       "      <td>[442139, 92139, 342139, 292139, 192139, 42139]</td>\n",
       "      <td>[False, False, False, False, False, True]</td>\n",
       "      <td>False</td>\n",
       "    </tr>\n",
       "    <tr>\n",
       "      <th>CAM_FRONT_RIGHT</th>\n",
       "      <td>[276644, 326644, 426063, 76644, 176644, 26644]</td>\n",
       "      <td>[False, False, False, False, False, True]</td>\n",
       "      <td>False</td>\n",
       "    </tr>\n",
       "  </tbody>\n",
       "</table>\n",
       "<p>204894 rows × 3 columns</p>\n",
       "</div>"
      ],
      "text/plain": [
       "                                                                                    timestamp_arr  \\\n",
       "sample_token                     channel                                                            \n",
       "00014584c6de4789a69b4717fa3c0d22 CAM_BACK          [159617, 409617, 359617, 109617, 259617, 9617]   \n",
       "                                 CAM_BACK_LEFT      [249719, 349719, 99719, 399719, 149719, -281]   \n",
       "                                 CAM_BACK_RIGHT   [269249, 369249, 419249, 169249, 119249, 19249]   \n",
       "                                 CAM_FRONT        [434682, 384682, 284682, 184682, 134682, 34681]   \n",
       "                                 CAM_FRONT_LEFT   [142298, 392298, 442298, 292298, 192298, 42298]   \n",
       "...                                                                                           ...   \n",
       "fffce4445c964803a12a2d64023fde40 CAM_BACK_LEFT      [49560, 299560, 399560, 149560, 249560, -440]   \n",
       "                                 CAM_BACK_RIGHT    [319090, 419090, 69090, 169090, 269090, 19090]   \n",
       "                                 CAM_FRONT         [334523, 184523, 84523, 284523, 434523, 34523]   \n",
       "                                 CAM_FRONT_LEFT    [442139, 92139, 342139, 292139, 192139, 42139]   \n",
       "                                 CAM_FRONT_RIGHT   [276644, 326644, 426063, 76644, 176644, 26644]   \n",
       "\n",
       "                                                                             iskeyframe_arr  \\\n",
       "sample_token                     channel                                                      \n",
       "00014584c6de4789a69b4717fa3c0d22 CAM_BACK         [False, False, False, False, False, True]   \n",
       "                                 CAM_BACK_LEFT    [False, False, False, False, False, True]   \n",
       "                                 CAM_BACK_RIGHT   [False, False, False, False, False, True]   \n",
       "                                 CAM_FRONT        [False, False, False, False, False, True]   \n",
       "                                 CAM_FRONT_LEFT   [False, False, False, False, False, True]   \n",
       "...                                                                                     ...   \n",
       "fffce4445c964803a12a2d64023fde40 CAM_BACK_LEFT    [False, False, False, False, False, True]   \n",
       "                                 CAM_BACK_RIGHT   [False, False, False, False, False, True]   \n",
       "                                 CAM_FRONT        [False, False, False, False, False, True]   \n",
       "                                 CAM_FRONT_LEFT   [False, False, False, False, False, True]   \n",
       "                                 CAM_FRONT_RIGHT  [False, False, False, False, False, True]   \n",
       "\n",
       "                                                  keyframe_closest  \n",
       "sample_token                     channel                            \n",
       "00014584c6de4789a69b4717fa3c0d22 CAM_BACK                    False  \n",
       "                                 CAM_BACK_LEFT               False  \n",
       "                                 CAM_BACK_RIGHT              False  \n",
       "                                 CAM_FRONT                   False  \n",
       "                                 CAM_FRONT_LEFT              False  \n",
       "...                                                            ...  \n",
       "fffce4445c964803a12a2d64023fde40 CAM_BACK_LEFT               False  \n",
       "                                 CAM_BACK_RIGHT              False  \n",
       "                                 CAM_FRONT                   False  \n",
       "                                 CAM_FRONT_LEFT              False  \n",
       "                                 CAM_FRONT_RIGHT             False  \n",
       "\n",
       "[204894 rows x 3 columns]"
      ]
     },
     "execution_count": 43,
     "metadata": {},
     "output_type": "execute_result"
    }
   ],
   "source": [
    "df1 = df.sort_values(['is_key_frame']).groupby(['sample_token', 'channel']).agg(\n",
    "#     timestamp_len=pd.NamedAgg(column=\"timestamp\", aggfunc=lambda x: len(set(x))),\n",
    "    timestamp_arr=pd.NamedAgg(column=\"timediff\", aggfunc=lambda x: list(x)),\n",
    "    iskeyframe_arr=pd.NamedAgg(column=\"is_key_frame\", aggfunc=lambda x: list(x)),\n",
    "    keyframe_closest=pd.NamedAgg(column=\"timediff\", aggfunc=lambda x: all(xx > x.iloc[-1] for xx in x)),\n",
    ")\n",
    "\n",
    "df1"
   ]
  },
  {
   "cell_type": "code",
   "execution_count": null,
   "id": "3edaa719",
   "metadata": {},
   "outputs": [],
   "source": []
  },
  {
   "cell_type": "code",
   "execution_count": null,
   "id": "8ff41fca",
   "metadata": {},
   "outputs": [],
   "source": []
  },
  {
   "cell_type": "code",
   "execution_count": null,
   "id": "598e76e9",
   "metadata": {},
   "outputs": [],
   "source": []
  }
 ],
 "metadata": {
  "interpreter": {
   "hash": "5c9f2372a2bfaf539cf701a38e7f23ab828911ee177c2e7bc9c32aa1f4b546df"
  },
  "kernelspec": {
   "display_name": "Python 3",
   "language": "python",
   "name": "python3"
  },
  "language_info": {
   "codemirror_mode": {
    "name": "ipython",
    "version": 3
   },
   "file_extension": ".py",
   "mimetype": "text/x-python",
   "name": "python",
   "nbconvert_exporter": "python",
   "pygments_lexer": "ipython3",
   "version": "3.10.8"
  }
 },
 "nbformat": 4,
 "nbformat_minor": 5
}
