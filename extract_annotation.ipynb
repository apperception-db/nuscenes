{
 "cells": [
  {
   "cell_type": "code",
   "execution_count": null,
   "id": "329ceb44",
   "metadata": {},
   "outputs": [],
   "source": [
    "import json\n",
    "import os\n",
    "import pandas as pd\n",
    "import pickle\n",
    "\n",
    "from utils.data_dirs import data_dirs\n",
    "from utils.index import index\n",
    "from utils.unique import unique"
   ]
  },
  {
   "cell_type": "code",
   "execution_count": null,
   "id": "ed1c498a",
   "metadata": {},
   "outputs": [],
   "source": [
    "EXPERIMENT = False"
   ]
  },
  {
   "cell_type": "code",
   "execution_count": null,
   "id": "8e2624a3",
   "metadata": {},
   "outputs": [],
   "source": [
    "base_dir, output_dir, folder, EXPERIMENT_DATA, suffix, *_ = data_dirs(EXPERIMENT)\n",
    "print(base_dir)\n",
    "print(output_dir)\n",
    "print(folder)\n",
    "print(EXPERIMENT_DATA)\n",
    "print(suffix)"
   ]
  },
  {
   "cell_type": "code",
   "execution_count": null,
   "id": "cae2f4ed",
   "metadata": {},
   "outputs": [],
   "source": [
    "with open(os.path.join(base_dir, folder, 'category.json')) as f:\n",
    "    category_json = json.load(f)\n",
    "\n",
    "with open(os.path.join(base_dir, folder, 'sample.json')) as f:\n",
    "    sample_json = json.load(f)\n",
    "\n",
    "with open(os.path.join(base_dir, folder, 'sample_annotation.json')) as f:\n",
    "    sample_annotation_json = json.load(f)\n",
    "\n",
    "with open(os.path.join(base_dir, folder, 'instance.json')) as f:\n",
    "    instance_json = json.load(f)\n",
    "\n",
    "with open(os.path.join(base_dir, folder, 'scene.json')) as f:\n",
    "    scene_json = json.load(f)\n",
    "\n",
    "with open(os.path.join(base_dir, folder, 'attribute.json')) as f:\n",
    "    attribute_json = json.load(f)\n",
    "\n",
    "with open(os.path.join(base_dir, folder, 'log.json')) as f:\n",
    "    log_json = json.load(f)"
   ]
  },
  {
   "cell_type": "code",
   "execution_count": null,
   "id": "e09e08e3",
   "metadata": {},
   "outputs": [],
   "source": [
    "log_filter = [\n",
    "    {\n",
    "        \"log_token\": l[\"token\"],\n",
    "        \"location\": l[\"location\"]\n",
    "    }\n",
    "    for l in log_json\n",
    "]\n",
    "len(log_filter)"
   ]
  },
  {
   "cell_type": "code",
   "execution_count": null,
   "id": "1e67156f",
   "metadata": {},
   "outputs": [],
   "source": [
    "pd.DataFrame(log_filter)"
   ]
  },
  {
   "cell_type": "code",
   "execution_count": null,
   "id": "ddf0daaa",
   "metadata": {},
   "outputs": [],
   "source": [
    "sample_filter = [\n",
    "    {\n",
    "        \"sample_token\": s[\"token\"],\n",
    "        \"timestamp\": s[\"timestamp\"],\n",
    "        \"scene_token\": s[\"scene_token\"]\n",
    "    }\n",
    "    for s in sample_json\n",
    "]\n",
    "len(sample_filter)"
   ]
  },
  {
   "cell_type": "code",
   "execution_count": null,
   "id": "1ae0f5c9",
   "metadata": {},
   "outputs": [],
   "source": [
    "pd.DataFrame(sample_filter)"
   ]
  },
  {
   "cell_type": "code",
   "execution_count": null,
   "id": "815a3068",
   "metadata": {},
   "outputs": [],
   "source": [
    "scene_filter = [\n",
    "    {\n",
    "        \"scene_token\": s[\"token\"],\n",
    "        \"log_token\": s[\"log_token\"],\n",
    "        \"name\": s[\"name\"],\n",
    "    }\n",
    "    for s in scene_json\n",
    "]\n",
    "len(scene_filter)"
   ]
  },
  {
   "cell_type": "code",
   "execution_count": null,
   "id": "d40e02d0",
   "metadata": {},
   "outputs": [],
   "source": [
    "pd.DataFrame(scene_filter)"
   ]
  },
  {
   "cell_type": "code",
   "execution_count": null,
   "id": "749149bd",
   "metadata": {},
   "outputs": [],
   "source": [
    "sample_annotation_filter = [\n",
    "    sa\n",
    "    for sa in sample_annotation_json\n",
    "]\n",
    "len(sample_annotation_filter)"
   ]
  },
  {
   "cell_type": "code",
   "execution_count": null,
   "id": "50ac78cb",
   "metadata": {},
   "outputs": [],
   "source": [
    "pd.DataFrame(sample_annotation_filter)"
   ]
  },
  {
   "cell_type": "code",
   "execution_count": null,
   "id": "748e798e",
   "metadata": {},
   "outputs": [],
   "source": [
    "instance_tokens = unique(sample_annotation_filter, 'instance_token')\n",
    "instance_filter = [\n",
    "    {\n",
    "        'instance_token': i['token'],\n",
    "        'category_token': i['category_token']\n",
    "    }\n",
    "    for i in instance_json\n",
    "    if i['token'] in instance_tokens\n",
    "]\n",
    "len(instance_filter)"
   ]
  },
  {
   "cell_type": "code",
   "execution_count": null,
   "id": "526f7125",
   "metadata": {},
   "outputs": [],
   "source": [
    "pd.DataFrame(instance_filter)"
   ]
  },
  {
   "cell_type": "code",
   "execution_count": null,
   "id": "fe9cb5ef",
   "metadata": {},
   "outputs": [],
   "source": [
    "category_tokens = unique(instance_filter, 'category_token')\n",
    "category_filter = [\n",
    "    {\n",
    "        'category_token': c['token'],\n",
    "        'category': c['name']\n",
    "    }\n",
    "    for c in category_json\n",
    "    if c['token'] in category_tokens\n",
    "]\n",
    "len(category_filter)"
   ]
  },
  {
   "cell_type": "code",
   "execution_count": null,
   "id": "1237f78e",
   "metadata": {},
   "outputs": [],
   "source": []
  },
  {
   "cell_type": "code",
   "execution_count": null,
   "id": "59b09038",
   "metadata": {},
   "outputs": [],
   "source": [
    "instance_map = index(instance_filter, 'instance_token')\n",
    "category_map = index(category_filter, 'category_token')\n",
    "sample_map = index(sample_filter, 'sample_token')\n",
    "log_map = index(log_filter, 'log_token')\n",
    "scene_map = index(scene_filter, 'scene_token')\n",
    "\n",
    "def sa_map(sa):\n",
    "    instance = instance_map[sa['instance_token']]\n",
    "    category = category_map[instance['category_token']]\n",
    "    sample = sample_map[sa['sample_token']]\n",
    "    scene = scene_map[sample['scene_token']]\n",
    "    log = log_map[scene['log_token']]\n",
    "    ret = {\n",
    "        **sa,\n",
    "        **instance,\n",
    "        **category,\n",
    "        **sample,\n",
    "        **scene,\n",
    "        **log,\n",
    "    }\n",
    "    \n",
    "    del ret['token']\n",
    "    del ret['visibility_token']\n",
    "    del ret['attribute_tokens']\n",
    "    del ret['prev']\n",
    "    del ret['next']\n",
    "    del ret['num_lidar_pts']\n",
    "    del ret['num_radar_pts']\n",
    "    del ret['category_token']\n",
    "    del ret['scene_token']\n",
    "    del ret['log_token']\n",
    "    \n",
    "    return ret\n",
    "\n",
    "sample_annotation_res = [*map(sa_map, sample_annotation_filter)]\n",
    "len(sample_annotation_res)"
   ]
  },
  {
   "cell_type": "code",
   "execution_count": null,
   "id": "bc36f1a1",
   "metadata": {},
   "outputs": [],
   "source": [
    "sample_annotation_final = pd.DataFrame(sample_annotation_res)\n",
    "sample_annotation_final[:1]"
   ]
  },
  {
   "cell_type": "code",
   "execution_count": null,
   "id": "256ea422",
   "metadata": {},
   "outputs": [],
   "source": [
    "locations = {}\n",
    "\n",
    "for a in sample_annotation_res:\n",
    "    location = a['location']\n",
    "    if location not in locations:\n",
    "        locations[location] = []\n",
    "    locations[location].append(a)"
   ]
  },
  {
   "cell_type": "code",
   "execution_count": null,
   "id": "6a60f215",
   "metadata": {},
   "outputs": [],
   "source": [
    "for location, annotations in locations.items():\n",
    "    base = os.path.join(output_dir, 'partition', location)\n",
    "    if not os.path.exists(base):\n",
    "        os.makedirs(base)\n",
    "    with open(os.path.join(base, 'ground_truth_annotation.pickle'), \"wb\") as f:\n",
    "        pickle.dump(annotations, f)\n",
    "    with open(os.path.join(base, 'ground_truth_annotation.json'), \"w\") as f:\n",
    "        json.dump(annotations, f)"
   ]
  },
  {
   "cell_type": "code",
   "execution_count": null,
   "id": "29ea4f73",
   "metadata": {},
   "outputs": [],
   "source": []
  }
 ],
 "metadata": {
  "kernelspec": {
   "display_name": "Python 3",
   "language": "python",
   "name": "python3"
  },
  "language_info": {
   "codemirror_mode": {
    "name": "ipython",
    "version": 3
   },
   "file_extension": ".py",
   "mimetype": "text/x-python",
   "name": "python",
   "nbconvert_exporter": "python",
   "pygments_lexer": "ipython3",
   "version": "3.10.8"
  }
 },
 "nbformat": 4,
 "nbformat_minor": 5
}
