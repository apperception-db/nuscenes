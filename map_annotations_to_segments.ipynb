{
 "cells": [
  {
   "cell_type": "code",
   "execution_count": null,
   "id": "0d7da8d1",
   "metadata": {},
   "outputs": [],
   "source": [
    "import os\n",
    "from os import environ\n",
    "\n",
    "import pickle\n",
    "from pyquaternion import Quaternion\n",
    "import numpy as np\n",
    "\n",
    "import psycopg2\n",
    "import psycopg2.sql as sql\n",
    "import postgis.psycopg\n",
    "import mobilitydb.psycopg\n",
    "\n",
    "\n",
    "from utils.data_dirs import data_dirs\n",
    "from utils.index import index\n",
    "from utils.unique import unique"
   ]
  },
  {
   "cell_type": "code",
   "execution_count": null,
   "id": "dbc0cd15",
   "metadata": {},
   "outputs": [],
   "source": [
    "EXPERIMENT = False"
   ]
  },
  {
   "cell_type": "code",
   "execution_count": null,
   "id": "1c89eb2c",
   "metadata": {},
   "outputs": [],
   "source": [
    "base_dir, output_dir, folder, EXPERIMENT_DATA, suffix, *_ = data_dirs(EXPERIMENT)\n",
    "print(base_dir)\n",
    "print(output_dir)\n",
    "print(folder)\n",
    "print(EXPERIMENT_DATA)\n",
    "print(suffix)"
   ]
  },
  {
   "cell_type": "code",
   "execution_count": null,
   "id": "ff015bbd",
   "metadata": {},
   "outputs": [],
   "source": [
    "connection = psycopg2.connect(\n",
    "        dbname=environ.get(\"AP_DB\", \"mobilitydb\"),\n",
    "        user=environ.get(\"AP_USER\", \"docker\"),\n",
    "        host=environ.get(\"AP_HOST\", \"localhost\"),\n",
    "        port=environ.get(\"AP_PORT\", \"25432\"),\n",
    "        password=environ.get(\"AP_PASSWORD\", \"docker\"),\n",
    "    )\n",
    "connection.autocommit = True\n",
    "postgis.psycopg.register(connection)\n",
    "mobilitydb.psycopg.register(connection)"
   ]
  },
  {
   "cell_type": "code",
   "execution_count": null,
   "id": "bab57ce9",
   "metadata": {},
   "outputs": [],
   "source": [
    "cursor = connection.cursor()"
   ]
  },
  {
   "cell_type": "code",
   "execution_count": null,
   "id": "deb6180f",
   "metadata": {},
   "outputs": [],
   "source": [
    "with open(os.path.join(output_dir, 'partition/boston-seaport/ground_truth_annotation.pickle'), 'rb') as f:\n",
    "    annotations = pickle.load(f)"
   ]
  },
  {
   "cell_type": "code",
   "execution_count": null,
   "id": "04529091",
   "metadata": {},
   "outputs": [],
   "source": [
    "len(annotations)"
   ]
  },
  {
   "cell_type": "code",
   "execution_count": null,
   "id": "6b1dcdb3",
   "metadata": {},
   "outputs": [],
   "source": [
    "annotations = [a for a in annotations if a['category'].startswith('vehicle')]"
   ]
  },
  {
   "cell_type": "code",
   "execution_count": null,
   "id": "27a2e8c1",
   "metadata": {},
   "outputs": [],
   "source": [
    "annotations[0]"
   ]
  },
  {
   "cell_type": "code",
   "execution_count": null,
   "id": "e1f997ed",
   "metadata": {},
   "outputs": [],
   "source": [
    "trajectories = {}\n",
    "for a in annotations:\n",
    "    oid = a['instance_token']\n",
    "    if oid not in trajectories:\n",
    "        trajectories[oid] = []\n",
    "    trajectories[oid].append(a)"
   ]
  },
  {
   "cell_type": "code",
   "execution_count": null,
   "id": "bf970312",
   "metadata": {},
   "outputs": [],
   "source": [
    "[*trajectories.keys()][:10]"
   ]
  },
  {
   "cell_type": "code",
   "execution_count": null,
   "id": "9a6bd4b6",
   "metadata": {},
   "outputs": [],
   "source": []
  },
  {
   "cell_type": "code",
   "execution_count": null,
   "id": "81fffa79",
   "metadata": {},
   "outputs": [],
   "source": [
    "# direction vector = (1, 0) -> rotate\n",
    "# then compare the the direction of the segment."
   ]
  },
  {
   "cell_type": "code",
   "execution_count": null,
   "id": "ab332f1e",
   "metadata": {},
   "outputs": [],
   "source": [
    "for dets in trajectories.values():\n",
    "    for det in dets:\n",
    "        det['direction'] = Quaternion(det['rotation']).rotate([1, 0, 0])"
   ]
  },
  {
   "cell_type": "code",
   "execution_count": null,
   "id": "1b8cdf78",
   "metadata": {},
   "outputs": [],
   "source": []
  },
  {
   "cell_type": "code",
   "execution_count": null,
   "id": "7558c8ce",
   "metadata": {},
   "outputs": [],
   "source": [
    "tokens = [*range(len(annotations))]"
   ]
  },
  {
   "cell_type": "code",
   "execution_count": null,
   "id": "f77b49a3",
   "metadata": {},
   "outputs": [],
   "source": [
    "clss = [*map(lambda x: x['category'], annotations)]"
   ]
  },
  {
   "cell_type": "code",
   "execution_count": null,
   "id": "c7417409",
   "metadata": {},
   "outputs": [],
   "source": [
    "txs = [*map(lambda x: x['translation'][0], annotations)]\n",
    "tys = [*map(lambda x: x['translation'][1], annotations)]\n",
    "tzs = [*map(lambda x: x['translation'][2], annotations)]"
   ]
  },
  {
   "cell_type": "code",
   "execution_count": null,
   "id": "4169d659",
   "metadata": {},
   "outputs": [],
   "source": [
    "dxs = [*map(lambda x: x['direction'][0], annotations)]\n",
    "dys = [*map(lambda x: x['direction'][1], annotations)]"
   ]
  },
  {
   "cell_type": "code",
   "execution_count": null,
   "id": "9b779eaa",
   "metadata": {},
   "outputs": [],
   "source": [
    "def execute(query, val=None):\n",
    "    cursor.execute(query, val)\n",
    "    return cursor.fetchall()"
   ]
  },
  {
   "cell_type": "code",
   "execution_count": null,
   "id": "8d0ce9f3",
   "metadata": {},
   "outputs": [],
   "source": []
  },
  {
   "cell_type": "code",
   "execution_count": null,
   "id": "30748eb7",
   "metadata": {},
   "outputs": [],
   "source": [
    "point = sql.SQL(\"UNNEST({fields}) AS point (token, tx, ty, tz, dx, dy)\").format(\n",
    "    fields=sql.SQL(',').join(map(sql.Literal, [tokens, txs, tys, tzs, dxs, dys]))\n",
    ")\n",
    "\n",
    "cursor.execute(sql.SQL(\"\"\"\n",
    "SELECT *\n",
    "FROM {point}\n",
    "\"\"\").format(point=point))\n",
    "len(cursor.fetchall())"
   ]
  },
  {
   "cell_type": "code",
   "execution_count": null,
   "id": "5c2d2b9f",
   "metadata": {},
   "outputs": [],
   "source": [
    "points_in_polygon = sql.SQL(\"\"\"\n",
    "SELECT segmenttypes\n",
    "\n",
    "FROM SegmentPolygon as Polygon\n",
    "GROUP BY segmenttypes\n",
    "\"\"\").format(point=point)\n",
    "execute(points_in_polygon)"
   ]
  },
  {
   "cell_type": "code",
   "execution_count": null,
   "id": "c16e77b0",
   "metadata": {},
   "outputs": [],
   "source": [
    "points_in_polygon = sql.SQL(\"\"\"\n",
    "SELECT token\n",
    "FROM {point}\n",
    "JOIN SegmentPolygon as Polygon\n",
    "    ON ST_Contains(Polygon.elementPolygon, ST_Point(point.tx, point.ty))\n",
    "    AND ARRAY ['intersection', 'lane', 'lanegroup', 'lanesection'] && Polygon.segmenttypes\n",
    "GROUP BY token\n",
    "\"\"\").format(point=point)\n",
    "len(execute(points_in_polygon))"
   ]
  },
  {
   "cell_type": "code",
   "execution_count": null,
   "id": "18e22f8e",
   "metadata": {},
   "outputs": [],
   "source": [
    "min_polygon = sql.SQL(\"\"\"\n",
    "SELECT token, MIN(ST_Area(Polygon.elementPolygon)) as size\n",
    "FROM {point}\n",
    "JOIN SegmentPolygon as Polygon\n",
    "    ON ST_Contains(Polygon.elementPolygon, ST_Point(point.tx, point.ty))\n",
    "    AND ARRAY ['intersection', 'lane', 'lanegroup', 'lanesection'] && Polygon.segmenttypes\n",
    "GROUP BY token\n",
    "\"\"\").format(point=point)\n",
    "len(execute(min_polygon))"
   ]
  },
  {
   "cell_type": "code",
   "execution_count": null,
   "id": "8a82702e",
   "metadata": {},
   "outputs": [],
   "source": [
    "len(execute(sql.SQL(\"\"\"\n",
    "WITH\n",
    "MinPolygon AS ({min_polygon})\n",
    "SELECT token, MIN(elementId) as elementId\n",
    "FROM {point}\n",
    "JOIN MinPolygon USING (token)\n",
    "JOIN SegmentPolygon as Polygon\n",
    "    ON ST_Contains(Polygon.elementPolygon, ST_Point(point.tx, point.ty))\n",
    "    AND ST_Area(Polygon.elementPolygon) = MinPolygon.size\n",
    "GROUP BY token\n",
    "\"\"\").format(point=point, min_polygon=min_polygon)))"
   ]
  },
  {
   "cell_type": "code",
   "execution_count": null,
   "id": "92547a58",
   "metadata": {},
   "outputs": [],
   "source": [
    "function_angle = sql.SQL(\"\"\"\n",
    "DROP FUNCTION IF EXISTS angle(double precision);\n",
    "CREATE OR REPLACE FUNCTION angle(a double precision) RETURNS double precision AS\n",
    "$BODY$\n",
    "BEGIN\n",
    "    RETURN ((a::decimal % 360) + 360) % 360;\n",
    "END\n",
    "$BODY$\n",
    "LANGUAGE 'plpgsql';\n",
    "\"\"\")"
   ]
  },
  {
   "cell_type": "code",
   "execution_count": null,
   "id": "4d5364ec",
   "metadata": {},
   "outputs": [],
   "source": [
    "_segment_with_direction = sql.SQL(\"\"\"\n",
    "SELECT\n",
    "    *,\n",
    "    ST_X(endPoint) - ST_X(startPoint) AS _x,\n",
    "    ST_Y(endPoint) - ST_Y(startPoint) AS _y\n",
    "FROM Segment\n",
    "\"\"\")\n",
    "len(execute(_segment_with_direction))"
   ]
  },
  {
   "cell_type": "code",
   "execution_count": null,
   "id": "171bb422",
   "metadata": {},
   "outputs": [],
   "source": [
    "segment_with_direction = sql.SQL(\"\"\"\n",
    "SELECT\n",
    "    *,\n",
    "    (_x / SQRT(POWER(_x, 2) + POWER(_y, 2))) AS dx,\n",
    "    (_y / SQRT(POWER(_x, 2) + POWER(_y, 2))) AS dy\n",
    "FROM ({_segment_with_direction}) AS foo\n",
    "WHERE\n",
    "    _x <> 0 OR _y <> 0\n",
    "\"\"\").format(_segment_with_direction=_segment_with_direction)\n",
    "len(execute(segment_with_direction))"
   ]
  },
  {
   "cell_type": "code",
   "execution_count": null,
   "id": "b76ce5da",
   "metadata": {},
   "outputs": [],
   "source": [
    "execute(sql.SQL(\"\"\"\n",
    "WITH SegmentWithDirection AS ({segment_with_direction})\n",
    "SELECT *\n",
    "FROM SegmentWithDirection\n",
    "WHERE elementId = '8e3c85d1-6d99-44b0-b34a-28a3895485f1'\n",
    "\"\"\").format(segment_with_direction=segment_with_direction))"
   ]
  },
  {
   "cell_type": "code",
   "execution_count": null,
   "id": "916e388a",
   "metadata": {},
   "outputs": [],
   "source": [
    "execute(sql.SQL(\"\"\"\n",
    "WITH SegmentWithDirection AS ({segment_with_direction})\n",
    "SELECT *, ST_X(startPoint), ST_Y(startPoint), ST_X(endPoint), ST_Y(endPoint)\n",
    "FROM Segment\n",
    "WHERE elementId = '8e3c85d1-6d99-44b0-b34a-28a3895485f1'\n",
    "\"\"\").format(segment_with_direction=segment_with_direction))"
   ]
  },
  {
   "cell_type": "code",
   "execution_count": null,
   "id": "6198e10f",
   "metadata": {},
   "outputs": [],
   "source": [
    "polygon_segment = sql.SQL(\"\"\"\n",
    "SELECT elementId\n",
    "FROM SegmentPolygon\n",
    "\"\"\").format(segment_with_direction=segment_with_direction)\n",
    "len(execute(polygon_segment))"
   ]
  },
  {
   "cell_type": "code",
   "execution_count": null,
   "id": "9fa4dc6c",
   "metadata": {},
   "outputs": [],
   "source": [
    "\n",
    "execute(sql.SQL(\"\"\"\n",
    "WITH SegmentWithDirection AS ({segment_with_direction})\n",
    "SELECT elementId, segmenttypes\n",
    "FROM SegmentPolygon\n",
    "WHERE NOT EXISTS (\n",
    "    SELECT *\n",
    "    FROM SegmentWithDirection\n",
    "    WHERE SegmentPolygon.elementId = SegmentWithDirection.elementId\n",
    ")\n",
    "\"\"\").format(segment_with_direction=segment_with_direction))"
   ]
  },
  {
   "cell_type": "code",
   "execution_count": null,
   "id": "e808ea92",
   "metadata": {},
   "outputs": [],
   "source": [
    "polygon_segment = sql.SQL(\"\"\"\n",
    "WITH SegmentWithDirection AS ({segment_with_direction})\n",
    "SELECT elementId\n",
    "FROM SegmentPolygon\n",
    "JOIN SegmentWithDirection USING (elementId)\n",
    "GROUP BY elementId\n",
    "\"\"\").format(segment_with_direction=segment_with_direction)\n",
    "len(execute(polygon_segment))"
   ]
  },
  {
   "cell_type": "code",
   "execution_count": null,
   "id": "31805db7",
   "metadata": {},
   "outputs": [],
   "source": [
    "min_polygon_id = sql.SQL(\"\"\"\n",
    "WITH MinPolygon AS ({min_polygon})\n",
    "SELECT token, MIN(elementId) as elementId\n",
    "FROM {point}\n",
    "JOIN MinPolygon USING (token)\n",
    "JOIN SegmentPolygon as Polygon\n",
    "    ON ST_Contains(Polygon.elementPolygon, ST_Point(point.tx, point.ty))\n",
    "    AND ST_Area(Polygon.elementPolygon) = MinPolygon.size\n",
    "    AND ARRAY ['intersection', 'lane', 'lanegroup', 'lanesection'] && Polygon.segmenttypes\n",
    "GROUP BY token\n",
    "\"\"\").format(point=point, min_polygon=min_polygon)\n",
    "len(execute(min_polygon_id))"
   ]
  },
  {
   "cell_type": "code",
   "execution_count": null,
   "id": "63f4a93a",
   "metadata": {},
   "outputs": [],
   "source": [
    "execute(\n",
    "    sql.SQL(\"\"\"\n",
    "    WITH MinPolygonId as ({min_polygon_id})\n",
    "\n",
    "    SELECT segmenttypes\n",
    "    FROM SegmentPolygon\n",
    "    JOIN MinPolygonId USING (elementId)\n",
    "    GROUP BY segmenttypes\n",
    "    \"\"\").format(min_polygon_id=min_polygon_id)\n",
    ")"
   ]
  },
  {
   "cell_type": "code",
   "execution_count": null,
   "id": "ad006e79",
   "metadata": {},
   "outputs": [],
   "source": [
    "point_polygon_segment = sql.SQL(\"\"\"\n",
    "WITH\n",
    "SegmentWithDirection AS ({segment_with_direction}),\n",
    "MinPolygon AS ({min_polygon}),\n",
    "MinPolygonId AS ({min_polygon_id})\n",
    "\n",
    "SELECT token\n",
    "FROM {point}\n",
    "JOIN MinPolygonId USING (token)\n",
    "JOIN SegmentPolygon USING (elementId)\n",
    "JOIN SegmentWithDirection USING (elementId)\n",
    "WHERE\n",
    "    angle(ACOS((point.dx * SegmentWithDirection.dx) + (point.dy * SegmentWithDirection.dy)) * 180 / PI()) < 90\n",
    "    OR\n",
    "    angle(ACOS((point.dx * SegmentWithDirection.dx) + (point.dy * SegmentWithDirection.dy)) * 180 / PI()) > 270\n",
    "    OR\n",
    "    'intersection' = Any(SegmentPolygon.segmenttypes)\n",
    "GROUP BY token\n",
    "    \n",
    "\"\"\").format(\n",
    "    point=point,\n",
    "    segment_with_direction=segment_with_direction,\n",
    "    min_polygon=min_polygon,\n",
    "    min_polygon_id=min_polygon_id\n",
    ")\n",
    "len(execute(point_polygon_segment))"
   ]
  },
  {
   "cell_type": "code",
   "execution_count": null,
   "id": "016b095f",
   "metadata": {},
   "outputs": [],
   "source": [
    "execute(sql.SQL(\"\"\"\n",
    "WITH\n",
    "SegmentWithDirection AS ({segment_with_direction}),\n",
    "MinPolygon AS ({min_polygon}),\n",
    "MinPolygonId AS ({min_polygon_id})\n",
    "\n",
    "SELECT token, tx, ty, tz, dx, dy, elementId, elementPolygon, segmenttypes\n",
    "FROM {point}\n",
    "JOIN MinPolygonId USING (token)\n",
    "JOIN SegmentPolygon USING (elementId)\n",
    "WHERE\n",
    "    NOT EXISTS (\n",
    "        SELECT *\n",
    "        FROM SegmentWithDirection\n",
    "        WHERE SegmentWithDirection.elementId = SegmentPolygon.elementId AND\n",
    "        (\n",
    "            angle(ACOS((point.dx * SegmentWithDirection.dx) + (point.dy * SegmentWithDirection.dy)) * 180 / PI()) < 90\n",
    "            OR\n",
    "            angle(ACOS((point.dx * SegmentWithDirection.dx) + (point.dy * SegmentWithDirection.dy)) * 180 / PI()) > 270\n",
    "            OR\n",
    "            'intersection' = Any(SegmentPolygon.segmenttypes)\n",
    "        )\n",
    "    )\n",
    "\"\"\").format(\n",
    "    point=point,\n",
    "    segment_with_direction=segment_with_direction,\n",
    "    min_polygon=min_polygon,\n",
    "    min_polygon_id=min_polygon_id\n",
    "))"
   ]
  },
  {
   "cell_type": "code",
   "execution_count": null,
   "id": "2ffe7677",
   "metadata": {},
   "outputs": [],
   "source": []
  },
  {
   "cell_type": "code",
   "execution_count": null,
   "id": "8556e65b",
   "metadata": {},
   "outputs": [],
   "source": [
    "segment_map = execute(sql.SQL(\"\"\"\n",
    "{function_angle}\n",
    "\n",
    "WITH\n",
    "SegmentWithDirection AS ({segment_with_direction}),\n",
    "MinPolygon AS ({min_polygon}),\n",
    "MinPolygonId AS ({min_polygon_id}),\n",
    "PointPolygonSegment AS (\n",
    "    SELECT\n",
    "        *,\n",
    "        ST_Distance(ST_Point(tx, ty), ST_MakeLine(startPoint, endPoint)) AS distance,\n",
    "        angle(ACOS((point.dx * sd.dx) + (point.dy * sd.dy)) * 180 / PI()) AS anglediff\n",
    "    FROM {point}\n",
    "    JOIN MinPolygonId USING (token)\n",
    "    JOIN SegmentPolygon USING (elementId)\n",
    "    JOIN SegmentWithDirection AS sd USING (elementId)\n",
    "    WHERE\n",
    "        angle(ACOS((point.dx * sd.dx) + (point.dy * sd.dy)) * 180 / PI()) < 90\n",
    "        OR\n",
    "        angle(ACOS((point.dx * sd.dx) + (point.dy * sd.dy)) * 180 / PI()) > 270\n",
    "        OR\n",
    "        'intersection' = Any(SegmentPolygon.segmenttypes)\n",
    "),\n",
    "MinDis as (\n",
    "    SELECT token, MIN(distance) as mindistance\n",
    "    FROM PointPolygonSegment\n",
    "    GROUP BY token\n",
    "),\n",
    "MinDisMinAngle as (\n",
    "    SELECT token, MIN(LEAST(pps.anglediff, 360-pps.anglediff)) as minangle\n",
    "    FROM PointPolygonSegment AS pps\n",
    "    JOIN MinDis USING (token)\n",
    "    WHERE pps.distance = MinDis.mindistance\n",
    "    GROUP BY token\n",
    ")\n",
    "\n",
    "SELECT *\n",
    "FROM PointPolygonSegment\n",
    "JOIN MinDis USING (token)\n",
    "JOIN MinDisMinAngle USING (token)\n",
    "WHERE PointPolygonSegment.distance = MinDis.mindistance\n",
    "    AND PointPolygonSegment.anglediff = MinDisMinAngle.minangle\n",
    "\n",
    "\n",
    "\"\"\").format(\n",
    "    point=point,\n",
    "    segment_with_direction=segment_with_direction,\n",
    "    min_polygon=min_polygon,\n",
    "    min_polygon_id=min_polygon_id,\n",
    "    function_angle=function_angle\n",
    "))\n",
    "cursor.description"
   ]
  },
  {
   "cell_type": "code",
   "execution_count": null,
   "id": "2c369322",
   "metadata": {},
   "outputs": [],
   "source": [
    "[\n",
    "    {\n",
    "        **annotations[s[0]],\n",
    "        'segmentid': s[1],\n",
    "        'polygonid': s[9]\n",
    "    }\n",
    "    for s\n",
    "    in segment_map\n",
    "]"
   ]
  },
  {
   "cell_type": "code",
   "execution_count": null,
   "id": "f52ff5e0",
   "metadata": {},
   "outputs": [],
   "source": [
    "segment_trajectory = {}\n",
    "for s in segment_map:\n",
    "    annotation = annotations[s[0]]\n",
    "    segmentid = s[1]\n",
    "    polygonid = s[9]\n",
    "    itoken = annotation['instance_token']\n",
    "    if itoken not in segment_trajectory:\n",
    "        segment_trajectory[itoken] = []\n",
    "    segment_trajectory[itoken].append({\n",
    "        **annotation,\n",
    "        'segmentid': segmentid,\n",
    "        'polygonid': polygonid,\n",
    "    })"
   ]
  },
  {
   "cell_type": "code",
   "execution_count": null,
   "id": "0da9ad52",
   "metadata": {},
   "outputs": [],
   "source": [
    "segment_trajectory"
   ]
  },
  {
   "cell_type": "code",
   "execution_count": null,
   "id": "f90fd41e",
   "metadata": {},
   "outputs": [],
   "source": [
    "def map_points_and_directions_to_segment(annotations: \"list\"):\n",
    "    tokens = [*range(len(annotations))]\n",
    "    clss = [*map(lambda x: x['category'], annotations)]\n",
    "    txs = [*map(lambda x: x['translation'][0], annotations)]\n",
    "    tys = [*map(lambda x: x['translation'][1], annotations)]\n",
    "    tzs = [*map(lambda x: x['translation'][2], annotations)]\n",
    "    dxs = [*map(lambda x: x['direction'][0], annotations)]\n",
    "    dys = [*map(lambda x: x['direction'][1], annotations)]\n",
    "    \n",
    "    _point = sql.SQL(\"UNNEST({fields}) AS _point (token, tx, ty, tz, dx, dy)\").format(\n",
    "        fields=sql.SQL(',').join(map(sql.Literal, [tokens, txs, tys, tzs, dxs, dys]))\n",
    "    )\n",
    "    \n",
    "    out = sql.SQL(\"\"\"\n",
    "    DROP FUNCTION IF EXISTS angle(double precision);\n",
    "    CREATE OR REPLACE FUNCTION angle(a double precision) RETURNS double precision AS\n",
    "    $BODY$\n",
    "    BEGIN\n",
    "        RETURN ((a::decimal % 360) + 360) % 360;\n",
    "    END\n",
    "    $BODY$\n",
    "    LANGUAGE 'plpgsql';\n",
    "\n",
    "    WITH\n",
    "    Point AS (SELECT * FROM {_point}),\n",
    "    _SegmentWithDirection AS (\n",
    "        SELECT\n",
    "            *,\n",
    "            ST_X(endPoint) - ST_X(startPoint) AS _x,\n",
    "            ST_Y(endPoint) - ST_Y(startPoint) AS _y\n",
    "        FROM Segment\n",
    "    ),\n",
    "    SegmentWithDirection AS (\n",
    "        SELECT\n",
    "            *,\n",
    "            (_x / SQRT(POWER(_x, 2) + POWER(_y, 2))) AS dx,\n",
    "            (_y / SQRT(POWER(_x, 2) + POWER(_y, 2))) AS dy\n",
    "        FROM _SegmentWithDirection\n",
    "        WHERE\n",
    "            _x <> 0 OR _y <> 0\n",
    "    ),\n",
    "    MinPolygon AS (\n",
    "        SELECT token, MIN(ST_Area(Polygon.elementPolygon)) as size\n",
    "        FROM Point AS p\n",
    "        JOIN SegmentPolygon AS Polygon\n",
    "            ON ST_Contains(Polygon.elementPolygon, ST_Point(p.tx, p.ty))\n",
    "            AND ARRAY ['intersection', 'lane', 'lanegroup', 'lanesection'] && Polygon.segmenttypes\n",
    "        GROUP BY token\n",
    "    ),\n",
    "    MinPolygonId AS (\n",
    "        SELECT token, MIN(elementId) as elementId\n",
    "        FROM Point AS p\n",
    "        JOIN MinPolygon USING (token)\n",
    "        JOIN SegmentPolygon as Polygon\n",
    "            ON ST_Contains(Polygon.elementPolygon, ST_Point(p.tx, p.ty))\n",
    "            AND ST_Area(Polygon.elementPolygon) = MinPolygon.size\n",
    "            AND ARRAY ['intersection', 'lane', 'lanegroup', 'lanesection'] && Polygon.segmenttypes\n",
    "        GROUP BY token\n",
    "    ),\n",
    "    PointPolygonSegment AS (\n",
    "        SELECT\n",
    "            *,\n",
    "            ST_Distance(ST_Point(tx, ty), ST_MakeLine(startPoint, endPoint)) AS distance,\n",
    "            angle(ACOS((p.dx * sd.dx) + (p.dy * sd.dy)) * 180 / PI()) AS anglediff\n",
    "        FROM Point AS p\n",
    "        JOIN MinPolygonId USING (token)\n",
    "        JOIN SegmentPolygon USING (elementId)\n",
    "        JOIN SegmentWithDirection AS sd USING (elementId)\n",
    "        WHERE\n",
    "            angle(ACOS((p.dx * sd.dx) + (p.dy * sd.dy)) * 180 / PI()) < 90\n",
    "            OR\n",
    "            angle(ACOS((p.dx * sd.dx) + (p.dy * sd.dy)) * 180 / PI()) > 270\n",
    "            OR\n",
    "            'intersection' = Any(SegmentPolygon.segmenttypes)\n",
    "    ),\n",
    "    MinDis as (\n",
    "        SELECT token, MIN(distance) as mindistance\n",
    "        FROM PointPolygonSegment\n",
    "        GROUP BY token\n",
    "    ),\n",
    "    MinDisMinAngle as (\n",
    "        SELECT token, MIN(LEAST(pps.anglediff, 360-pps.anglediff)) as minangle\n",
    "        FROM PointPolygonSegment AS pps\n",
    "        JOIN MinDis USING (token)\n",
    "        WHERE pps.distance = MinDis.mindistance\n",
    "        GROUP BY token\n",
    "    )\n",
    "\n",
    "    SELECT token, elementid, segmentid\n",
    "    FROM PointPolygonSegment\n",
    "    JOIN MinDis USING (token)\n",
    "    JOIN MinDisMinAngle USING (token)\n",
    "    WHERE PointPolygonSegment.distance = MinDis.mindistance\n",
    "        AND PointPolygonSegment.anglediff = MinDisMinAngle.minangle\n",
    "    \"\"\").format(_point=_point)\n",
    "    \n",
    "    result = execute(out)\n",
    "    return result"
   ]
  },
  {
   "cell_type": "code",
   "execution_count": null,
   "id": "534301a4",
   "metadata": {},
   "outputs": [],
   "source": [
    "map_points_and_directions_to_segment(annotations)[:60]"
   ]
  },
  {
   "cell_type": "code",
   "execution_count": null,
   "id": "dab300d7",
   "metadata": {},
   "outputs": [],
   "source": []
  },
  {
   "cell_type": "code",
   "execution_count": null,
   "id": "0e07497c",
   "metadata": {},
   "outputs": [],
   "source": []
  },
  {
   "cell_type": "code",
   "execution_count": null,
   "id": "b373bc1a",
   "metadata": {},
   "outputs": [],
   "source": []
  }
 ],
 "metadata": {
  "kernelspec": {
   "display_name": "Python 3",
   "language": "python",
   "name": "python3"
  },
  "language_info": {
   "codemirror_mode": {
    "name": "ipython",
    "version": 3
   },
   "file_extension": ".py",
   "mimetype": "text/x-python",
   "name": "python",
   "nbconvert_exporter": "python",
   "pygments_lexer": "ipython3",
   "version": "3.10.8"
  }
 },
 "nbformat": 4,
 "nbformat_minor": 5
}
