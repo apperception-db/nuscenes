{
 "cells": [
  {
   "cell_type": "code",
   "execution_count": null,
   "id": "36d3ff94",
   "metadata": {},
   "outputs": [],
   "source": [
    "import json\n",
    "import os\n",
    "from utils.data_dirs import data_dirs\n",
    "from utils.filter_road import filter_road"
   ]
  },
  {
   "cell_type": "code",
   "execution_count": null,
   "id": "b0e8c425",
   "metadata": {},
   "outputs": [],
   "source": [
    "d = data_dirs()\n",
    "print(d.raw_road)\n",
    "print(d.processed_road)\n",
    "print(d.raw_map)\n",
    "print(d.processed_map)"
   ]
  },
  {
   "cell_type": "code",
   "execution_count": null,
   "id": "e9fc693f",
   "metadata": {},
   "outputs": [],
   "source": [
    "with open(os.path.join(d.raw_road, 'polygon.json'), 'r') as f:\n",
    "    polygons = json.load(f)\n",
    "polygons[0]"
   ]
  },
  {
   "cell_type": "code",
   "execution_count": null,
   "id": "9d21f339",
   "metadata": {},
   "outputs": [],
   "source": [
    "keys = [p['id'] for p in polygons]\n",
    "keys"
   ]
  },
  {
   "cell_type": "code",
   "execution_count": null,
   "id": "277e9284",
   "metadata": {},
   "outputs": [],
   "source": [
    "(len(keys) == len(set(keys))), len(keys)"
   ]
  },
  {
   "cell_type": "code",
   "execution_count": null,
   "id": "46bafee5",
   "metadata": {},
   "outputs": [],
   "source": [
    "ids = set([k.split(\"_\")[0] for k in keys])\n",
    "ids, len(ids)"
   ]
  },
  {
   "cell_type": "code",
   "execution_count": null,
   "id": "4fab2445",
   "metadata": {},
   "outputs": [],
   "source": [
    "def is_id(s: str) -> bool:\n",
    "    tokens = s.split(\"-\")\n",
    "    \n",
    "    if len(tokens) != 5:\n",
    "        return False\n",
    "    \n",
    "    return (\n",
    "        len(tokens) == 5 and\n",
    "        len(tokens[0]) == 8 and\n",
    "        len(tokens[1]) == 4 and\n",
    "        len(tokens[2]) == 4 and\n",
    "        len(tokens[3]) == 4 and\n",
    "        len(tokens[4]) == 12\n",
    "    )"
   ]
  },
  {
   "cell_type": "code",
   "execution_count": null,
   "id": "5aea14a4",
   "metadata": {},
   "outputs": [],
   "source": [
    "all([is_id(i) for i in ids])"
   ]
  },
  {
   "cell_type": "code",
   "execution_count": null,
   "id": "1dd2deb5",
   "metadata": {},
   "outputs": [],
   "source": [
    "suffix = set()\n",
    "only_ids = set()\n",
    "for k in keys:\n",
    "    kk = k.split(\"_\")\n",
    "    if len(kk) > 1:\n",
    "        suffix.add(kk[1])\n",
    "    else:\n",
    "        only_ids.add(kk[0])\n",
    "\n",
    "suffix"
   ]
  },
  {
   "cell_type": "code",
   "execution_count": null,
   "id": "a704513f",
   "metadata": {},
   "outputs": [],
   "source": [
    "only_ids"
   ]
  },
  {
   "cell_type": "code",
   "execution_count": null,
   "id": "581a0589",
   "metadata": {},
   "outputs": [],
   "source": [
    "indexed_polygons = {}\n",
    "for p in polygons:\n",
    "    indexed_polygons[p['id']] = p\n",
    "\n",
    "for k in keys:\n",
    "    kk = k.split(\"_\")\n",
    "    if len(kk) > 1:\n",
    "        if kk[0] not in only_ids:\n",
    "            print(\"not duplicate\")\n",
    "        else:\n",
    "            e1 = indexed_polygons[kk[0]]\n",
    "            e2 = indexed_polygons[k]\n",
    "            if e1['polygon'] != e2['polygon']:\n",
    "                print(\"not equal\")"
   ]
  },
  {
   "cell_type": "code",
   "execution_count": null,
   "id": "0a42bebb",
   "metadata": {},
   "outputs": [],
   "source": []
  }
 ],
 "metadata": {
  "kernelspec": {
   "display_name": "Python 3 (ipykernel)",
   "language": "python",
   "name": "python3"
  },
  "language_info": {
   "codemirror_mode": {
    "name": "ipython",
    "version": 3
   },
   "file_extension": ".py",
   "mimetype": "text/x-python",
   "name": "python",
   "nbconvert_exporter": "python",
   "pygments_lexer": "ipython3",
   "version": "3.10.7"
  }
 },
 "nbformat": 4,
 "nbformat_minor": 5
}
