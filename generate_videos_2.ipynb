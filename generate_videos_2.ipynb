{
 "cells": [
  {
   "cell_type": "code",
   "execution_count": null,
   "id": "d0bbe44d-7410-4539-b1c0-38b50f65e2c0",
   "metadata": {
    "execution": {
     "iopub.execute_input": "2022-10-05T02:47:35.779725Z",
     "iopub.status.busy": "2022-10-05T02:47:35.778898Z",
     "iopub.status.idle": "2022-10-05T02:47:36.265596Z",
     "shell.execute_reply": "2022-10-05T02:47:36.264731Z"
    }
   },
   "outputs": [],
   "source": [
    "from typing import List, Tuple\n",
    "from datetime import datetime, timedelta\n",
    "import os\n",
    "import cv2\n",
    "import pickle\n",
    "import itertools\n",
    "import json\n",
    "import multiprocessing\n",
    "from math import nan\n",
    "\n",
    "import altair as alt\n",
    "import numpy.typing as npt\n",
    "import numpy as np\n",
    "import pandas as pd\n",
    "from tqdm import tqdm\n",
    "\n",
    "from utils.compose2_factory import compose2_factory\n",
    "from utils.data_dirs import data_dirs\n",
    "from utils.get_videos import get_videos\n",
    "from utils.frame_json_encoder import FrameJSONEncoder\n",
    "from utils.typings import Frame\n",
    "from utils.load_images import load_images"
   ]
  },
  {
   "cell_type": "code",
   "execution_count": null,
   "id": "1e70ec21",
   "metadata": {},
   "outputs": [],
   "source": [
    "raw_dir, processed_dir, folder, EXPERIMENT_DATA, suffix, *_ = data_dirs(False)\n",
    "print(raw_dir)\n",
    "print(processed_dir)\n",
    "print(folder)\n",
    "print(EXPERIMENT_DATA)\n",
    "print(suffix)"
   ]
  },
  {
   "cell_type": "code",
   "execution_count": null,
   "id": "7a388e68",
   "metadata": {},
   "outputs": [],
   "source": [
    "fps = 20"
   ]
  },
  {
   "cell_type": "code",
   "execution_count": null,
   "id": "5b735bc4",
   "metadata": {},
   "outputs": [],
   "source": [
    "interpolate = False"
   ]
  },
  {
   "cell_type": "code",
   "execution_count": null,
   "id": "d8d80573",
   "metadata": {
    "execution": {
     "iopub.execute_input": "2022-10-05T02:47:36.299634Z",
     "iopub.status.busy": "2022-10-05T02:47:36.299392Z",
     "iopub.status.idle": "2022-10-05T02:47:36.302730Z",
     "shell.execute_reply": "2022-10-05T02:47:36.302020Z"
    }
   },
   "outputs": [],
   "source": [
    "partition_dir = os.path.join(processed_dir, 'partition')"
   ]
  },
  {
   "cell_type": "code",
   "execution_count": null,
   "id": "a0c62fb5",
   "metadata": {
    "execution": {
     "iopub.execute_input": "2022-10-05T02:47:36.445981Z",
     "iopub.status.busy": "2022-10-05T02:47:36.445440Z",
     "iopub.status.idle": "2022-10-05T02:47:36.464360Z",
     "shell.execute_reply": "2022-10-05T02:47:36.463537Z"
    }
   },
   "outputs": [],
   "source": [
    "compose = compose2_factory(fps, raw_dir, processed_dir, interpolate)"
   ]
  },
  {
   "cell_type": "code",
   "execution_count": null,
   "id": "be9c8e7f",
   "metadata": {},
   "outputs": [],
   "source": [
    "def iframe(timestamp: \"datetime\"):\n",
    "    return Frame(\n",
    "        scene=None,\n",
    "        token=None,\n",
    "        frame_order=nan,\n",
    "        filename=None,\n",
    "        camera_translation=(nan, nan, nan),\n",
    "        camera_rotation=(nan, nan, nan, nan),\n",
    "        camera_intrinsic=((nan, nan, nan), (nan, nan, nan), (nan, nan, nan)),\n",
    "        ego_translation=(nan, nan, nan),\n",
    "        ego_rotation=(nan, nan, nan, nan),\n",
    "        timestamp=timestamp,\n",
    "        camera_heading=nan,\n",
    "        ego_heading=nan\n",
    "    )"
   ]
  },
  {
   "cell_type": "code",
   "execution_count": null,
   "id": "50eff738",
   "metadata": {},
   "outputs": [],
   "source": [
    "all_misalignments = []\n",
    "for l in os.listdir(partition_dir):\n",
    "    d = os.path.join(partition_dir, l)\n",
    "    with open(os.path.join(d, 'sample_data.pickle'), \"rb\") as f:\n",
    "        sample_data = pickle.load(f)\n",
    "    videos = get_videos(sample_data)\n",
    "    \n",
    "    filenames = []\n",
    "    for name, video in videos.items():\n",
    "#         if 'scene-1077-CAM_BACK' not in name:\n",
    "#             continue\n",
    "        for f in video:\n",
    "            filenames.append(f.filename)\n",
    "    \n",
    "    img_cache = load_images(raw_dir, filenames)\n",
    "    print(\"Done Loading Images\")\n",
    "    \n",
    "#     with multiprocessing.Pool() as pool:\n",
    "#         inputs = ((l, name, video, img_cache, compose) for name, video in videos.items())\n",
    "#         _outputs = tqdm(pool.imap_unordered(process_one_video, inputs), total=len(videos))\n",
    "#         output = {\n",
    "#             k: v\n",
    "#             for k, v\n",
    "#             in _outputs\n",
    "#         }\n",
    "    \n",
    "    output = {}\n",
    "    misalignments = []\n",
    "    for name in videos:\n",
    "#         if 'scene-1077-CAM_BACK' not in name:\n",
    "#             continue\n",
    "        video = videos[name]\n",
    "        frames, filename, _misalignments = compose(l, name, video, img_cache)\n",
    "        misalignments.extend(_misalignments)\n",
    "#         prev = video[0][9]\n",
    "#         for v in video[1:]:\n",
    "#             print(int(round((v[9] - prev).total_seconds() * 100,)))\n",
    "#             prev = v[9]\n",
    "        o = {\n",
    "            \"filename\": filename,\n",
    "            \"start\": video[0][9],\n",
    "            \"columns\": [\n",
    "                \"cameraId\",\n",
    "                \"frameId\",\n",
    "                \"frameNum\",\n",
    "                \"filename\",\n",
    "                \"cameraTranslation\",\n",
    "                \"cameraRotation\",\n",
    "                \"cameraIntrinsic\",\n",
    "                \"egoTranslation\",\n",
    "                \"egoRotation\",\n",
    "                \"timestamp\",\n",
    "                \"cameraHeading\",\n",
    "                \"egoHeading\",\n",
    "            ],\n",
    "            \"frames\": [\n",
    "                (tuple(iframe(f)) if isinstance(f, datetime) else tuple(video[f]))\n",
    "                for img, f in frames\n",
    "            ]\n",
    "        }\n",
    "#         print('---------------------------')\n",
    "        prev = o['frames'][0][9]\n",
    "        for i, v in enumerate(o['frames'][1:30]):\n",
    "#             print(int(round((v[9] - prev).total_seconds() * 100,)))\n",
    "            assert int(round((v[9] - prev).total_seconds() * 100)) == 5, (int(round((v[9] - prev).total_seconds() * 100,)), i + 1, v)\n",
    "            prev = v[9]\n",
    "        output[name] = o\n",
    "        print(\"done\", filename)\n",
    "    base = os.path.join(processed_dir, 'videos', l)\n",
    "    with open(os.path.join(base, 'frames-skip.pickle'), \"wb\") as f:\n",
    "        pickle.dump(output, f)\n",
    "    \n",
    "    with open(os.path.join(base, 'frames-skip.json'), \"w\") as f:\n",
    "        json.dump(output, f, indent=2, sort_keys=True, cls=FrameJSONEncoder)\n",
    "    \n",
    "    # with open(os.path.join(base, 'misalignments.json'), \"w\") as f:\n",
    "    #     json.dump([{'misalignment': m} for m in misalignments], f, indent=2)\n",
    "    all_misalignments.extend([{'misalignment': m, \"location\": l} for m in misalignments])"
   ]
  },
  {
   "cell_type": "code",
   "execution_count": null,
   "id": "a1863824",
   "metadata": {
    "execution": {
     "iopub.execute_input": "2022-10-05T02:47:36.470011Z",
     "iopub.status.busy": "2022-10-05T02:47:36.469759Z",
     "iopub.status.idle": "2022-10-05T03:02:56.290475Z",
     "shell.execute_reply": "2022-10-05T03:02:56.289432Z"
    }
   },
   "outputs": [],
   "source": [
    "# TODO: Partition data based on location\n",
    "alt.Chart(pd.DataFrame(all_misalignments)).mark_tick().encode(\n",
    "    alt.X('misalignment:Q', title='Misalignment (%)'),\n",
    "    alt.Y('location:Q', title='Location'),\n",
    ")"
   ]
  },
  {
   "cell_type": "code",
   "execution_count": null,
   "id": "ac973260",
   "metadata": {},
   "outputs": [],
   "source": []
  }
 ],
 "metadata": {
  "kernelspec": {
   "display_name": "Python 3",
   "language": "python",
   "name": "python3"
  },
  "language_info": {
   "codemirror_mode": {
    "name": "ipython",
    "version": 3
   },
   "file_extension": ".py",
   "mimetype": "text/x-python",
   "name": "python",
   "nbconvert_exporter": "python",
   "pygments_lexer": "ipython3",
   "version": "3.10.8 | packaged by conda-forge | (main, Nov 22 2022, 08:26:04) [GCC 10.4.0]"
  },
  "vscode": {
   "interpreter": {
    "hash": "7a68e3870120896cc011159b0b8d16aa386310a929479cd4a55bc648d6632153"
   }
  }
 },
 "nbformat": 4,
 "nbformat_minor": 5
}
