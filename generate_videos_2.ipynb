{
 "cells": [
  {
   "cell_type": "code",
   "execution_count": 1,
   "id": "d0bbe44d-7410-4539-b1c0-38b50f65e2c0",
   "metadata": {
    "execution": {
     "iopub.execute_input": "2022-10-05T02:47:35.779725Z",
     "iopub.status.busy": "2022-10-05T02:47:35.778898Z",
     "iopub.status.idle": "2022-10-05T02:47:36.265596Z",
     "shell.execute_reply": "2022-10-05T02:47:36.264731Z"
    }
   },
   "outputs": [],
   "source": [
    "from typing import List, Tuple\n",
    "from datetime import datetime, timedelta\n",
    "import numpy.typing as npt\n",
    "import numpy as np\n",
    "import os\n",
    "import cv2\n",
    "import pickle\n",
    "from tqdm import tqdm\n",
    "import itertools\n",
    "import json\n",
    "\n",
    "from utils.compose2_factory import compose2_factory\n",
    "from utils.data_dirs import data_dirs\n",
    "from utils.get_videos import get_videos"
   ]
  },
  {
   "cell_type": "code",
   "execution_count": 2,
   "id": "1e70ec21",
   "metadata": {},
   "outputs": [
    {
     "name": "stdout",
     "output_type": "stream",
     "text": [
      "/work/apperception/data/raw/nuScenes/full-dataset-v1.0/Mini\n",
      "/data/apperception-data/processed/nuscenes/full-dataset-v1.0/Mini\n",
      "v1.0-mini\n",
      "/work/apperception/data/raw/scenic/experiment_data\n",
      "\n"
     ]
    }
   ],
   "source": [
    "raw_dir, processed_dir, folder, EXPERIMENT_DATA, suffix, *_ = data_dirs(False)\n",
    "print(raw_dir)\n",
    "print(processed_dir)\n",
    "print(folder)\n",
    "print(EXPERIMENT_DATA)\n",
    "print(suffix)"
   ]
  },
  {
   "cell_type": "code",
   "execution_count": 3,
   "id": "7a388e68",
   "metadata": {},
   "outputs": [],
   "source": [
    "fps = 20"
   ]
  },
  {
   "cell_type": "code",
   "execution_count": 4,
   "id": "5b735bc4",
   "metadata": {},
   "outputs": [],
   "source": [
    "interpolate = False"
   ]
  },
  {
   "cell_type": "code",
   "execution_count": 5,
   "id": "d8d80573",
   "metadata": {
    "execution": {
     "iopub.execute_input": "2022-10-05T02:47:36.299634Z",
     "iopub.status.busy": "2022-10-05T02:47:36.299392Z",
     "iopub.status.idle": "2022-10-05T02:47:36.302730Z",
     "shell.execute_reply": "2022-10-05T02:47:36.302020Z"
    }
   },
   "outputs": [],
   "source": [
    "partition_dir = os.path.join(processed_dir, 'partition')"
   ]
  },
  {
   "cell_type": "code",
   "execution_count": 6,
   "id": "a0c62fb5",
   "metadata": {
    "execution": {
     "iopub.execute_input": "2022-10-05T02:47:36.445981Z",
     "iopub.status.busy": "2022-10-05T02:47:36.445440Z",
     "iopub.status.idle": "2022-10-05T02:47:36.464360Z",
     "shell.execute_reply": "2022-10-05T02:47:36.463537Z"
    }
   },
   "outputs": [],
   "source": [
    "compose = compose2_factory(fps, raw_dir, processed_dir, interpolate)"
   ]
  },
  {
   "cell_type": "code",
   "execution_count": 7,
   "id": "50eff738",
   "metadata": {
    "scrolled": true
   },
   "outputs": [
    {
     "name": "stderr",
     "output_type": "stream",
     "text": [
      "100%|████████████████████████████████████████████████████████████████████████████████████████████████████████████████████████████████████████████████████████████████████████████████████| 237/237 [00:04<00:00, 51.26it/s]\n"
     ]
    },
    {
     "name": "stdout",
     "output_type": "stream",
     "text": [
      "Writing scene (/data/apperception-data/processed/nuscenes/full-dataset-v1.0/Mini/videos/singapore-hollandvillage/skipped-scene-1077-CAM_FRONT_LEFT-2018-11-21-3-39-27-904844.mp4):\n"
     ]
    },
    {
     "name": "stderr",
     "output_type": "stream",
     "text": [
      "100%|████████████████████████████████████████████████████████████████████████████████████████████████████████████████████████████████████████████████████████████████████████████████████| 401/401 [00:04<00:00, 85.58it/s]\n"
     ]
    },
    {
     "name": "stdout",
     "output_type": "stream",
     "text": [
      "done skipped-scene-1077-CAM_FRONT_LEFT-2018-11-21-3-39-27-904844.mp4\n"
     ]
    },
    {
     "name": "stderr",
     "output_type": "stream",
     "text": [
      "100%|████████████████████████████████████████████████████████████████████████████████████████████████████████████████████████████████████████████████████████████████████████████████████| 240/240 [11:41<00:00,  2.92s/it]\n"
     ]
    },
    {
     "name": "stdout",
     "output_type": "stream",
     "text": [
      "Writing scene (/data/apperception-data/processed/nuscenes/full-dataset-v1.0/Mini/videos/singapore-hollandvillage/skipped-scene-1077-CAM_FRONT-2018-11-21-3-39-27-912460.mp4):\n"
     ]
    },
    {
     "name": "stderr",
     "output_type": "stream",
     "text": [
      "100%|████████████████████████████████████████████████████████████████████████████████████████████████████████████████████████████████████████████████████████████████████████████████████| 401/401 [00:05<00:00, 72.79it/s]\n"
     ]
    },
    {
     "name": "stdout",
     "output_type": "stream",
     "text": [
      "done skipped-scene-1077-CAM_FRONT-2018-11-21-3-39-27-912460.mp4\n"
     ]
    },
    {
     "name": "stderr",
     "output_type": "stream",
     "text": [
      "100%|████████████████████████████████████████████████████████████████████████████████████████████████████████████████████████████████████████████████████████████████████████████████████| 237/237 [00:04<00:00, 57.70it/s]\n"
     ]
    },
    {
     "name": "stdout",
     "output_type": "stream",
     "text": [
      "Writing scene (/data/apperception-data/processed/nuscenes/full-dataset-v1.0/Mini/videos/singapore-hollandvillage/skipped-scene-1077-CAM_FRONT_RIGHT-2018-11-21-3-39-27-920339.mp4):\n"
     ]
    },
    {
     "name": "stderr",
     "output_type": "stream",
     "text": [
      "100%|████████████████████████████████████████████████████████████████████████████████████████████████████████████████████████████████████████████████████████████████████████████████████| 401/401 [00:05<00:00, 79.11it/s]\n"
     ]
    },
    {
     "name": "stdout",
     "output_type": "stream",
     "text": [
      "done skipped-scene-1077-CAM_FRONT_RIGHT-2018-11-21-3-39-27-920339.mp4\n"
     ]
    },
    {
     "name": "stderr",
     "output_type": "stream",
     "text": [
      "100%|████████████████████████████████████████████████████████████████████████████████████████████████████████████████████████████████████████████████████████████████████████████████████| 239/239 [00:04<00:00, 58.97it/s]\n"
     ]
    },
    {
     "name": "stdout",
     "output_type": "stream",
     "text": [
      "Writing scene (/data/apperception-data/processed/nuscenes/full-dataset-v1.0/Mini/videos/singapore-hollandvillage/skipped-scene-1077-CAM_BACK_RIGHT-2018-11-21-3-39-27-927893.mp4):\n"
     ]
    },
    {
     "name": "stderr",
     "output_type": "stream",
     "text": [
      "100%|████████████████████████████████████████████████████████████████████████████████████████████████████████████████████████████████████████████████████████████████████████████████████| 401/401 [00:04<00:00, 83.04it/s]\n"
     ]
    },
    {
     "name": "stdout",
     "output_type": "stream",
     "text": [
      "done skipped-scene-1077-CAM_BACK_RIGHT-2018-11-21-3-39-27-927893.mp4\n"
     ]
    },
    {
     "name": "stderr",
     "output_type": "stream",
     "text": [
      "100%|████████████████████████████████████████████████████████████████████████████████████████████████████████████████████████████████████████████████████████████████████████████████████| 233/233 [00:04<00:00, 57.92it/s]\n"
     ]
    },
    {
     "name": "stdout",
     "output_type": "stream",
     "text": [
      "Writing scene (/data/apperception-data/processed/nuscenes/full-dataset-v1.0/Mini/videos/singapore-hollandvillage/skipped-scene-1077-CAM_BACK-2018-11-21-3-39-27-937525.mp4):\n"
     ]
    },
    {
     "name": "stderr",
     "output_type": "stream",
     "text": [
      "100%|████████████████████████████████████████████████████████████████████████████████████████████████████████████████████████████████████████████████████████████████████████████████████| 401/401 [00:05<00:00, 78.19it/s]\n"
     ]
    },
    {
     "name": "stdout",
     "output_type": "stream",
     "text": [
      "done skipped-scene-1077-CAM_BACK-2018-11-21-3-39-27-937525.mp4\n"
     ]
    },
    {
     "name": "stderr",
     "output_type": "stream",
     "text": [
      "100%|████████████████████████████████████████████████████████████████████████████████████████████████████████████████████████████████████████████████████████████████████████████████████| 238/238 [11:05<00:00,  2.80s/it]\n"
     ]
    },
    {
     "name": "stdout",
     "output_type": "stream",
     "text": [
      "Writing scene (/data/apperception-data/processed/nuscenes/full-dataset-v1.0/Mini/videos/singapore-hollandvillage/skipped-scene-1077-CAM_BACK_LEFT-2018-11-21-3-39-27-947423.mp4):\n"
     ]
    },
    {
     "name": "stderr",
     "output_type": "stream",
     "text": [
      "100%|████████████████████████████████████████████████████████████████████████████████████████████████████████████████████████████████████████████████████████████████████████████████████| 401/401 [00:04<00:00, 88.30it/s]\n"
     ]
    },
    {
     "name": "stdout",
     "output_type": "stream",
     "text": [
      "done skipped-scene-1077-CAM_BACK_LEFT-2018-11-21-3-39-27-947423.mp4\n"
     ]
    },
    {
     "name": "stderr",
     "output_type": "stream",
     "text": [
      "100%|████████████████████████████████████████████████████████████████████████████████████████████████████████████████████████████████████████████████████████████████████████████████████| 232/232 [00:04<00:00, 57.82it/s]\n"
     ]
    },
    {
     "name": "stdout",
     "output_type": "stream",
     "text": [
      "Writing scene (/data/apperception-data/processed/nuscenes/full-dataset-v1.0/Mini/videos/singapore-hollandvillage/skipped-scene-1094-CAM_FRONT_LEFT-2018-11-21-3-47-27-904844.mp4):\n"
     ]
    },
    {
     "name": "stderr",
     "output_type": "stream",
     "text": [
      "100%|████████████████████████████████████████████████████████████████████████████████████████████████████████████████████████████████████████████████████████████████████████████████████| 392/392 [00:04<00:00, 80.21it/s]\n"
     ]
    },
    {
     "name": "stdout",
     "output_type": "stream",
     "text": [
      "done skipped-scene-1094-CAM_FRONT_LEFT-2018-11-21-3-47-27-904844.mp4\n"
     ]
    },
    {
     "name": "stderr",
     "output_type": "stream",
     "text": [
      "100%|████████████████████████████████████████████████████████████████████████████████████████████████████████████████████████████████████████████████████████████████████████████████████| 232/232 [04:10<00:00,  1.08s/it]\n"
     ]
    },
    {
     "name": "stdout",
     "output_type": "stream",
     "text": [
      "Writing scene (/data/apperception-data/processed/nuscenes/full-dataset-v1.0/Mini/videos/singapore-hollandvillage/skipped-scene-1094-CAM_FRONT-2018-11-21-3-47-27-912460.mp4):\n"
     ]
    },
    {
     "name": "stderr",
     "output_type": "stream",
     "text": [
      "100%|████████████████████████████████████████████████████████████████████████████████████████████████████████████████████████████████████████████████████████████████████████████████████| 392/392 [00:04<00:00, 78.74it/s]\n"
     ]
    },
    {
     "name": "stdout",
     "output_type": "stream",
     "text": [
      "done skipped-scene-1094-CAM_FRONT-2018-11-21-3-47-27-912460.mp4\n"
     ]
    },
    {
     "name": "stderr",
     "output_type": "stream",
     "text": [
      "100%|████████████████████████████████████████████████████████████████████████████████████████████████████████████████████████████████████████████████████████████████████████████████████| 234/234 [00:04<00:00, 55.65it/s]\n"
     ]
    },
    {
     "name": "stdout",
     "output_type": "stream",
     "text": [
      "Writing scene (/data/apperception-data/processed/nuscenes/full-dataset-v1.0/Mini/videos/singapore-hollandvillage/skipped-scene-1094-CAM_FRONT_RIGHT-2018-11-21-3-47-27-920339.mp4):\n"
     ]
    },
    {
     "name": "stderr",
     "output_type": "stream",
     "text": [
      "100%|████████████████████████████████████████████████████████████████████████████████████████████████████████████████████████████████████████████████████████████████████████████████████| 392/392 [00:04<00:00, 83.32it/s]\n"
     ]
    },
    {
     "name": "stdout",
     "output_type": "stream",
     "text": [
      "done skipped-scene-1094-CAM_FRONT_RIGHT-2018-11-21-3-47-27-920339.mp4\n"
     ]
    },
    {
     "name": "stderr",
     "output_type": "stream",
     "text": [
      "100%|████████████████████████████████████████████████████████████████████████████████████████████████████████████████████████████████████████████████████████████████████████████████████| 235/235 [00:04<00:00, 57.36it/s]\n"
     ]
    },
    {
     "name": "stdout",
     "output_type": "stream",
     "text": [
      "Writing scene (/data/apperception-data/processed/nuscenes/full-dataset-v1.0/Mini/videos/singapore-hollandvillage/skipped-scene-1094-CAM_BACK_RIGHT-2018-11-21-3-47-27-927893.mp4):\n"
     ]
    },
    {
     "name": "stderr",
     "output_type": "stream",
     "text": [
      "100%|████████████████████████████████████████████████████████████████████████████████████████████████████████████████████████████████████████████████████████████████████████████████████| 392/392 [00:04<00:00, 83.62it/s]\n"
     ]
    },
    {
     "name": "stdout",
     "output_type": "stream",
     "text": [
      "done skipped-scene-1094-CAM_BACK_RIGHT-2018-11-21-3-47-27-927893.mp4\n"
     ]
    },
    {
     "name": "stderr",
     "output_type": "stream",
     "text": [
      "100%|████████████████████████████████████████████████████████████████████████████████████████████████████████████████████████████████████████████████████████████████████████████████████| 233/233 [00:04<00:00, 57.79it/s]\n"
     ]
    },
    {
     "name": "stdout",
     "output_type": "stream",
     "text": [
      "Writing scene (/data/apperception-data/processed/nuscenes/full-dataset-v1.0/Mini/videos/singapore-hollandvillage/skipped-scene-1094-CAM_BACK-2018-11-21-3-47-27-937525.mp4):\n"
     ]
    },
    {
     "name": "stderr",
     "output_type": "stream",
     "text": [
      "100%|████████████████████████████████████████████████████████████████████████████████████████████████████████████████████████████████████████████████████████████████████████████████████| 392/392 [00:04<00:00, 84.89it/s]\n"
     ]
    },
    {
     "name": "stdout",
     "output_type": "stream",
     "text": [
      "done skipped-scene-1094-CAM_BACK-2018-11-21-3-47-27-937525.mp4\n"
     ]
    },
    {
     "name": "stderr",
     "output_type": "stream",
     "text": [
      "100%|████████████████████████████████████████████████████████████████████████████████████████████████████████████████████████████████████████████████████████████████████████████████████| 229/229 [00:03<00:00, 61.98it/s]\n"
     ]
    },
    {
     "name": "stdout",
     "output_type": "stream",
     "text": [
      "Writing scene (/data/apperception-data/processed/nuscenes/full-dataset-v1.0/Mini/videos/singapore-hollandvillage/skipped-scene-1094-CAM_BACK_LEFT-2018-11-21-3-47-27-947423.mp4):\n"
     ]
    },
    {
     "name": "stderr",
     "output_type": "stream",
     "text": [
      "100%|████████████████████████████████████████████████████████████████████████████████████████████████████████████████████████████████████████████████████████████████████████████████████| 392/392 [00:04<00:00, 87.06it/s]\n"
     ]
    },
    {
     "name": "stdout",
     "output_type": "stream",
     "text": [
      "done skipped-scene-1094-CAM_BACK_LEFT-2018-11-21-3-47-27-947423.mp4\n"
     ]
    },
    {
     "name": "stderr",
     "output_type": "stream",
     "text": [
      "100%|████████████████████████████████████████████████████████████████████████████████████████████████████████████████████████████████████████████████████████████████████████████████████| 233/233 [00:15<00:00, 14.57it/s]\n"
     ]
    },
    {
     "name": "stdout",
     "output_type": "stream",
     "text": [
      "Writing scene (/data/apperception-data/processed/nuscenes/full-dataset-v1.0/Mini/videos/singapore-hollandvillage/skipped-scene-1100-CAM_FRONT_LEFT-2018-11-21-3-49-47-904844.mp4):\n"
     ]
    },
    {
     "name": "stderr",
     "output_type": "stream",
     "text": [
      "100%|████████████████████████████████████████████████████████████████████████████████████████████████████████████████████████████████████████████████████████████████████████████████████| 392/392 [00:05<00:00, 65.53it/s]\n"
     ]
    },
    {
     "name": "stdout",
     "output_type": "stream",
     "text": [
      "done skipped-scene-1100-CAM_FRONT_LEFT-2018-11-21-3-49-47-904844.mp4\n"
     ]
    },
    {
     "name": "stderr",
     "output_type": "stream",
     "text": [
      "100%|████████████████████████████████████████████████████████████████████████████████████████████████████████████████████████████████████████████████████████████████████████████████████| 232/232 [00:17<00:00, 13.07it/s]\n"
     ]
    },
    {
     "name": "stdout",
     "output_type": "stream",
     "text": [
      "Writing scene (/data/apperception-data/processed/nuscenes/full-dataset-v1.0/Mini/videos/singapore-hollandvillage/skipped-scene-1100-CAM_FRONT-2018-11-21-3-49-47-912460.mp4):\n"
     ]
    },
    {
     "name": "stderr",
     "output_type": "stream",
     "text": [
      "100%|████████████████████████████████████████████████████████████████████████████████████████████████████████████████████████████████████████████████████████████████████████████████████| 392/392 [00:05<00:00, 74.58it/s]\n"
     ]
    },
    {
     "name": "stdout",
     "output_type": "stream",
     "text": [
      "done skipped-scene-1100-CAM_FRONT-2018-11-21-3-49-47-912460.mp4\n"
     ]
    },
    {
     "name": "stderr",
     "output_type": "stream",
     "text": [
      "100%|████████████████████████████████████████████████████████████████████████████████████████████████████████████████████████████████████████████████████████████████████████████████████| 233/233 [00:04<00:00, 54.88it/s]\n"
     ]
    },
    {
     "name": "stdout",
     "output_type": "stream",
     "text": [
      "Writing scene (/data/apperception-data/processed/nuscenes/full-dataset-v1.0/Mini/videos/singapore-hollandvillage/skipped-scene-1100-CAM_FRONT_RIGHT-2018-11-21-3-49-47-920339.mp4):\n"
     ]
    },
    {
     "name": "stderr",
     "output_type": "stream",
     "text": [
      "100%|████████████████████████████████████████████████████████████████████████████████████████████████████████████████████████████████████████████████████████████████████████████████████| 392/392 [00:05<00:00, 76.78it/s]\n"
     ]
    },
    {
     "name": "stdout",
     "output_type": "stream",
     "text": [
      "done skipped-scene-1100-CAM_FRONT_RIGHT-2018-11-21-3-49-47-920339.mp4\n"
     ]
    },
    {
     "name": "stderr",
     "output_type": "stream",
     "text": [
      "100%|████████████████████████████████████████████████████████████████████████████████████████████████████████████████████████████████████████████████████████████████████████████████████| 234/234 [00:15<00:00, 14.71it/s]\n"
     ]
    },
    {
     "name": "stdout",
     "output_type": "stream",
     "text": [
      "Writing scene (/data/apperception-data/processed/nuscenes/full-dataset-v1.0/Mini/videos/singapore-hollandvillage/skipped-scene-1100-CAM_BACK_RIGHT-2018-11-21-3-49-47-927893.mp4):\n"
     ]
    },
    {
     "name": "stderr",
     "output_type": "stream",
     "text": [
      "100%|████████████████████████████████████████████████████████████████████████████████████████████████████████████████████████████████████████████████████████████████████████████████████| 392/392 [00:04<00:00, 79.45it/s]\n"
     ]
    },
    {
     "name": "stdout",
     "output_type": "stream",
     "text": [
      "done skipped-scene-1100-CAM_BACK_RIGHT-2018-11-21-3-49-47-927893.mp4\n"
     ]
    },
    {
     "name": "stderr",
     "output_type": "stream",
     "text": [
      "100%|████████████████████████████████████████████████████████████████████████████████████████████████████████████████████████████████████████████████████████████████████████████████████| 234/234 [00:14<00:00, 15.61it/s]\n"
     ]
    },
    {
     "name": "stdout",
     "output_type": "stream",
     "text": [
      "Writing scene (/data/apperception-data/processed/nuscenes/full-dataset-v1.0/Mini/videos/singapore-hollandvillage/skipped-scene-1100-CAM_BACK-2018-11-21-3-49-47-937525.mp4):\n"
     ]
    },
    {
     "name": "stderr",
     "output_type": "stream",
     "text": [
      "100%|████████████████████████████████████████████████████████████████████████████████████████████████████████████████████████████████████████████████████████████████████████████████████| 392/392 [00:04<00:00, 84.02it/s]\n"
     ]
    },
    {
     "name": "stdout",
     "output_type": "stream",
     "text": [
      "done skipped-scene-1100-CAM_BACK-2018-11-21-3-49-47-937525.mp4\n"
     ]
    },
    {
     "name": "stderr",
     "output_type": "stream",
     "text": [
      "100%|████████████████████████████████████████████████████████████████████████████████████████████████████████████████████████████████████████████████████████████████████████████████████| 231/231 [00:03<00:00, 59.91it/s]\n"
     ]
    },
    {
     "name": "stdout",
     "output_type": "stream",
     "text": [
      "Writing scene (/data/apperception-data/processed/nuscenes/full-dataset-v1.0/Mini/videos/singapore-hollandvillage/skipped-scene-1100-CAM_BACK_LEFT-2018-11-21-3-49-47-947423.mp4):\n"
     ]
    },
    {
     "name": "stderr",
     "output_type": "stream",
     "text": [
      "100%|████████████████████████████████████████████████████████████████████████████████████████████████████████████████████████████████████████████████████████████████████████████████████| 392/392 [00:05<00:00, 73.54it/s]\n"
     ]
    },
    {
     "name": "stdout",
     "output_type": "stream",
     "text": [
      "done skipped-scene-1100-CAM_BACK_LEFT-2018-11-21-3-49-47-947423.mp4\n"
     ]
    },
    {
     "name": "stderr",
     "output_type": "stream",
     "text": [
      "100%|████████████████████████████████████████████████████████████████████████████████████████████████████████████████████████████████████████████████████████████████████████████████████| 231/231 [00:03<00:00, 70.69it/s]\n"
     ]
    },
    {
     "name": "stdout",
     "output_type": "stream",
     "text": [
      "Writing scene (/data/apperception-data/processed/nuscenes/full-dataset-v1.0/Mini/videos/boston-seaport/skipped-scene-0103-CAM_FRONT_LEFT-2018-8-1-12-26-43-504799.mp4):\n"
     ]
    },
    {
     "name": "stderr",
     "output_type": "stream",
     "text": [
      "100%|████████████████████████████████████████████████████████████████████████████████████████████████████████████████████████████████████████████████████████████████████████████████████| 390/390 [00:04<00:00, 95.60it/s]\n"
     ]
    },
    {
     "name": "stdout",
     "output_type": "stream",
     "text": [
      "done skipped-scene-0103-CAM_FRONT_LEFT-2018-8-1-12-26-43-504799.mp4\n"
     ]
    },
    {
     "name": "stderr",
     "output_type": "stream",
     "text": [
      "100%|████████████████████████████████████████████████████████████████████████████████████████████████████████████████████████████████████████████████████████████████████████████████████| 229/229 [00:03<00:00, 71.95it/s]\n"
     ]
    },
    {
     "name": "stdout",
     "output_type": "stream",
     "text": [
      "Writing scene (/data/apperception-data/processed/nuscenes/full-dataset-v1.0/Mini/videos/boston-seaport/skipped-scene-0103-CAM_FRONT-2018-8-1-12-26-43-512404.mp4):\n"
     ]
    },
    {
     "name": "stderr",
     "output_type": "stream",
     "text": [
      "100%|███████████████████████████████████████████████████████████████████████████████████████████████████████████████████████████████████████████████████████████████████████████████████| 390/390 [00:03<00:00, 101.15it/s]\n"
     ]
    },
    {
     "name": "stdout",
     "output_type": "stream",
     "text": [
      "done skipped-scene-0103-CAM_FRONT-2018-8-1-12-26-43-512404.mp4\n"
     ]
    },
    {
     "name": "stderr",
     "output_type": "stream",
     "text": [
      "100%|████████████████████████████████████████████████████████████████████████████████████████████████████████████████████████████████████████████████████████████████████████████████████| 233/233 [01:36<00:00,  2.41it/s]\n"
     ]
    },
    {
     "name": "stdout",
     "output_type": "stream",
     "text": [
      "Writing scene (/data/apperception-data/processed/nuscenes/full-dataset-v1.0/Mini/videos/boston-seaport/skipped-scene-0103-CAM_FRONT_RIGHT-2018-8-1-12-26-43-520482.mp4):\n"
     ]
    },
    {
     "name": "stderr",
     "output_type": "stream",
     "text": [
      "100%|████████████████████████████████████████████████████████████████████████████████████████████████████████████████████████████████████████████████████████████████████████████████████| 390/390 [00:03<00:00, 99.93it/s]\n"
     ]
    },
    {
     "name": "stdout",
     "output_type": "stream",
     "text": [
      "done skipped-scene-0103-CAM_FRONT_RIGHT-2018-8-1-12-26-43-520482.mp4\n"
     ]
    },
    {
     "name": "stderr",
     "output_type": "stream",
     "text": [
      "100%|████████████████████████████████████████████████████████████████████████████████████████████████████████████████████████████████████████████████████████████████████████████████████| 234/234 [00:44<00:00,  5.29it/s]\n"
     ]
    },
    {
     "name": "stdout",
     "output_type": "stream",
     "text": [
      "Writing scene (/data/apperception-data/processed/nuscenes/full-dataset-v1.0/Mini/videos/boston-seaport/skipped-scene-0103-CAM_BACK_RIGHT-2018-8-1-12-26-43-528113.mp4):\n"
     ]
    },
    {
     "name": "stderr",
     "output_type": "stream",
     "text": [
      "100%|████████████████████████████████████████████████████████████████████████████████████████████████████████████████████████████████████████████████████████████████████████████████████| 390/390 [00:04<00:00, 95.99it/s]\n"
     ]
    },
    {
     "name": "stdout",
     "output_type": "stream",
     "text": [
      "done skipped-scene-0103-CAM_BACK_RIGHT-2018-8-1-12-26-43-528113.mp4\n"
     ]
    },
    {
     "name": "stderr",
     "output_type": "stream",
     "text": [
      "100%|████████████████████████████████████████████████████████████████████████████████████████████████████████████████████████████████████████████████████████████████████████████████████| 229/229 [00:03<00:00, 74.14it/s]\n"
     ]
    },
    {
     "name": "stdout",
     "output_type": "stream",
     "text": [
      "Writing scene (/data/apperception-data/processed/nuscenes/full-dataset-v1.0/Mini/videos/boston-seaport/skipped-scene-0103-CAM_BACK-2018-8-1-12-26-43-537558.mp4):\n"
     ]
    },
    {
     "name": "stderr",
     "output_type": "stream",
     "text": [
      "100%|███████████████████████████████████████████████████████████████████████████████████████████████████████████████████████████████████████████████████████████████████████████████████| 390/390 [00:03<00:00, 107.96it/s]\n"
     ]
    },
    {
     "name": "stdout",
     "output_type": "stream",
     "text": [
      "done skipped-scene-0103-CAM_BACK-2018-8-1-12-26-43-537558.mp4\n"
     ]
    },
    {
     "name": "stderr",
     "output_type": "stream",
     "text": [
      "100%|████████████████████████████████████████████████████████████████████████████████████████████████████████████████████████████████████████████████████████████████████████████████████| 228/228 [00:03<00:00, 74.35it/s]\n"
     ]
    },
    {
     "name": "stdout",
     "output_type": "stream",
     "text": [
      "Writing scene (/data/apperception-data/processed/nuscenes/full-dataset-v1.0/Mini/videos/boston-seaport/skipped-scene-0103-CAM_BACK_LEFT-2018-8-1-12-26-43-547405.mp4):\n"
     ]
    },
    {
     "name": "stderr",
     "output_type": "stream",
     "text": [
      "100%|███████████████████████████████████████████████████████████████████████████████████████████████████████████████████████████████████████████████████████████████████████████████████| 390/390 [00:03<00:00, 105.17it/s]\n"
     ]
    },
    {
     "name": "stdout",
     "output_type": "stream",
     "text": [
      "done skipped-scene-0103-CAM_BACK_LEFT-2018-8-1-12-26-43-547405.mp4\n"
     ]
    },
    {
     "name": "stderr",
     "output_type": "stream",
     "text": [
      "100%|████████████████████████████████████████████████████████████████████████████████████████████████████████████████████████████████████████████████████████████████████████████████████| 239/239 [03:35<00:00,  1.11it/s]\n"
     ]
    },
    {
     "name": "stdout",
     "output_type": "stream",
     "text": [
      "Writing scene (/data/apperception-data/processed/nuscenes/full-dataset-v1.0/Mini/videos/boston-seaport/skipped-scene-0553-CAM_FRONT_LEFT-2018-8-28-13-48-16-4799.mp4):\n"
     ]
    },
    {
     "name": "stderr",
     "output_type": "stream",
     "text": [
      "100%|████████████████████████████████████████████████████████████████████████████████████████████████████████████████████████████████████████████████████████████████████████████████████| 400/400 [00:04<00:00, 91.10it/s]\n"
     ]
    },
    {
     "name": "stdout",
     "output_type": "stream",
     "text": [
      "done skipped-scene-0553-CAM_FRONT_LEFT-2018-8-28-13-48-16-4799.mp4\n"
     ]
    },
    {
     "name": "stderr",
     "output_type": "stream",
     "text": [
      "100%|████████████████████████████████████████████████████████████████████████████████████████████████████████████████████████████████████████████████████████████████████████████████████| 237/237 [01:13<00:00,  3.22it/s]\n"
     ]
    },
    {
     "name": "stdout",
     "output_type": "stream",
     "text": [
      "Writing scene (/data/apperception-data/processed/nuscenes/full-dataset-v1.0/Mini/videos/boston-seaport/skipped-scene-0553-CAM_FRONT-2018-8-28-13-48-16-12404.mp4):\n"
     ]
    },
    {
     "name": "stderr",
     "output_type": "stream",
     "text": [
      "100%|███████████████████████████████████████████████████████████████████████████████████████████████████████████████████████████████████████████████████████████████████████████████████| 400/400 [00:03<00:00, 110.26it/s]\n"
     ]
    },
    {
     "name": "stdout",
     "output_type": "stream",
     "text": [
      "done skipped-scene-0553-CAM_FRONT-2018-8-28-13-48-16-12404.mp4\n"
     ]
    },
    {
     "name": "stderr",
     "output_type": "stream",
     "text": [
      "100%|████████████████████████████████████████████████████████████████████████████████████████████████████████████████████████████████████████████████████████████████████████████████████| 239/239 [00:15<00:00, 15.05it/s]\n"
     ]
    },
    {
     "name": "stdout",
     "output_type": "stream",
     "text": [
      "Writing scene (/data/apperception-data/processed/nuscenes/full-dataset-v1.0/Mini/videos/boston-seaport/skipped-scene-0553-CAM_FRONT_RIGHT-2018-8-28-13-48-16-20482.mp4):\n"
     ]
    },
    {
     "name": "stderr",
     "output_type": "stream",
     "text": [
      "100%|████████████████████████████████████████████████████████████████████████████████████████████████████████████████████████████████████████████████████████████████████████████████████| 400/400 [00:04<00:00, 89.40it/s]\n"
     ]
    },
    {
     "name": "stdout",
     "output_type": "stream",
     "text": [
      "done skipped-scene-0553-CAM_FRONT_RIGHT-2018-8-28-13-48-16-20482.mp4\n"
     ]
    },
    {
     "name": "stderr",
     "output_type": "stream",
     "text": [
      "100%|████████████████████████████████████████████████████████████████████████████████████████████████████████████████████████████████████████████████████████████████████████████████████| 236/236 [00:04<00:00, 56.20it/s]\n"
     ]
    },
    {
     "name": "stdout",
     "output_type": "stream",
     "text": [
      "Writing scene (/data/apperception-data/processed/nuscenes/full-dataset-v1.0/Mini/videos/boston-seaport/skipped-scene-0553-CAM_BACK_RIGHT-2018-8-28-13-48-16-28113.mp4):\n"
     ]
    },
    {
     "name": "stderr",
     "output_type": "stream",
     "text": [
      "100%|████████████████████████████████████████████████████████████████████████████████████████████████████████████████████████████████████████████████████████████████████████████████████| 400/400 [00:04<00:00, 94.04it/s]\n"
     ]
    },
    {
     "name": "stdout",
     "output_type": "stream",
     "text": [
      "done skipped-scene-0553-CAM_BACK_RIGHT-2018-8-28-13-48-16-28113.mp4\n"
     ]
    },
    {
     "name": "stderr",
     "output_type": "stream",
     "text": [
      "100%|████████████████████████████████████████████████████████████████████████████████████████████████████████████████████████████████████████████████████████████████████████████████████| 235/235 [00:03<00:00, 58.83it/s]\n"
     ]
    },
    {
     "name": "stdout",
     "output_type": "stream",
     "text": [
      "Writing scene (/data/apperception-data/processed/nuscenes/full-dataset-v1.0/Mini/videos/boston-seaport/skipped-scene-0553-CAM_BACK-2018-8-28-13-48-16-37558.mp4):\n"
     ]
    },
    {
     "name": "stderr",
     "output_type": "stream",
     "text": [
      "100%|████████████████████████████████████████████████████████████████████████████████████████████████████████████████████████████████████████████████████████████████████████████████████| 400/400 [00:04<00:00, 89.72it/s]\n"
     ]
    },
    {
     "name": "stdout",
     "output_type": "stream",
     "text": [
      "done skipped-scene-0553-CAM_BACK-2018-8-28-13-48-16-37558.mp4\n"
     ]
    },
    {
     "name": "stderr",
     "output_type": "stream",
     "text": [
      "100%|████████████████████████████████████████████████████████████████████████████████████████████████████████████████████████████████████████████████████████████████████████████████████| 237/237 [00:46<00:00,  5.06it/s]\n"
     ]
    },
    {
     "name": "stdout",
     "output_type": "stream",
     "text": [
      "Writing scene (/data/apperception-data/processed/nuscenes/full-dataset-v1.0/Mini/videos/boston-seaport/skipped-scene-0553-CAM_BACK_LEFT-2018-8-28-13-48-16-47405.mp4):\n"
     ]
    },
    {
     "name": "stderr",
     "output_type": "stream",
     "text": [
      "100%|████████████████████████████████████████████████████████████████████████████████████████████████████████████████████████████████████████████████████████████████████████████████████| 400/400 [00:04<00:00, 93.47it/s]\n"
     ]
    },
    {
     "name": "stdout",
     "output_type": "stream",
     "text": [
      "done skipped-scene-0553-CAM_BACK_LEFT-2018-8-28-13-48-16-47405.mp4\n"
     ]
    },
    {
     "name": "stderr",
     "output_type": "stream",
     "text": [
      "100%|████████████████████████████████████████████████████████████████████████████████████████████████████████████████████████████████████████████████████████████████████████████████████| 237/237 [00:16<00:00, 14.01it/s]\n"
     ]
    },
    {
     "name": "stdout",
     "output_type": "stream",
     "text": [
      "Writing scene (/data/apperception-data/processed/nuscenes/full-dataset-v1.0/Mini/videos/boston-seaport/skipped-scene-0655-CAM_FRONT_LEFT-2018-8-27-8-51-32-104799.mp4):\n"
     ]
    },
    {
     "name": "stderr",
     "output_type": "stream",
     "text": [
      "100%|████████████████████████████████████████████████████████████████████████████████████████████████████████████████████████████████████████████████████████████████████████████████████| 398/398 [00:05<00:00, 73.30it/s]\n"
     ]
    },
    {
     "name": "stdout",
     "output_type": "stream",
     "text": [
      "done skipped-scene-0655-CAM_FRONT_LEFT-2018-8-27-8-51-32-104799.mp4\n"
     ]
    },
    {
     "name": "stderr",
     "output_type": "stream",
     "text": [
      "100%|████████████████████████████████████████████████████████████████████████████████████████████████████████████████████████████████████████████████████████████████████████████████████| 237/237 [00:04<00:00, 55.18it/s]\n"
     ]
    },
    {
     "name": "stdout",
     "output_type": "stream",
     "text": [
      "Writing scene (/data/apperception-data/processed/nuscenes/full-dataset-v1.0/Mini/videos/boston-seaport/skipped-scene-0655-CAM_FRONT-2018-8-27-8-51-32-112404.mp4):\n"
     ]
    },
    {
     "name": "stderr",
     "output_type": "stream",
     "text": [
      "100%|████████████████████████████████████████████████████████████████████████████████████████████████████████████████████████████████████████████████████████████████████████████████████| 398/398 [00:04<00:00, 81.28it/s]\n"
     ]
    },
    {
     "name": "stdout",
     "output_type": "stream",
     "text": [
      "done skipped-scene-0655-CAM_FRONT-2018-8-27-8-51-32-112404.mp4\n"
     ]
    },
    {
     "name": "stderr",
     "output_type": "stream",
     "text": [
      "100%|████████████████████████████████████████████████████████████████████████████████████████████████████████████████████████████████████████████████████████████████████████████████████| 236/236 [00:04<00:00, 54.44it/s]\n"
     ]
    },
    {
     "name": "stdout",
     "output_type": "stream",
     "text": [
      "Writing scene (/data/apperception-data/processed/nuscenes/full-dataset-v1.0/Mini/videos/boston-seaport/skipped-scene-0655-CAM_FRONT_RIGHT-2018-8-27-8-51-32-120482.mp4):\n"
     ]
    },
    {
     "name": "stderr",
     "output_type": "stream",
     "text": [
      "100%|████████████████████████████████████████████████████████████████████████████████████████████████████████████████████████████████████████████████████████████████████████████████████| 398/398 [00:05<00:00, 73.02it/s]\n"
     ]
    },
    {
     "name": "stdout",
     "output_type": "stream",
     "text": [
      "done skipped-scene-0655-CAM_FRONT_RIGHT-2018-8-27-8-51-32-120482.mp4\n"
     ]
    },
    {
     "name": "stderr",
     "output_type": "stream",
     "text": [
      "100%|████████████████████████████████████████████████████████████████████████████████████████████████████████████████████████████████████████████████████████████████████████████████████| 237/237 [00:04<00:00, 54.31it/s]\n"
     ]
    },
    {
     "name": "stdout",
     "output_type": "stream",
     "text": [
      "Writing scene (/data/apperception-data/processed/nuscenes/full-dataset-v1.0/Mini/videos/boston-seaport/skipped-scene-0655-CAM_BACK_RIGHT-2018-8-27-8-51-32-128113.mp4):\n"
     ]
    },
    {
     "name": "stderr",
     "output_type": "stream",
     "text": [
      "100%|████████████████████████████████████████████████████████████████████████████████████████████████████████████████████████████████████████████████████████████████████████████████████| 398/398 [00:05<00:00, 76.64it/s]\n"
     ]
    },
    {
     "name": "stdout",
     "output_type": "stream",
     "text": [
      "done skipped-scene-0655-CAM_BACK_RIGHT-2018-8-27-8-51-32-128113.mp4\n"
     ]
    },
    {
     "name": "stderr",
     "output_type": "stream",
     "text": [
      "100%|████████████████████████████████████████████████████████████████████████████████████████████████████████████████████████████████████████████████████████████████████████████████████| 230/230 [00:04<00:00, 56.14it/s]\n"
     ]
    },
    {
     "name": "stdout",
     "output_type": "stream",
     "text": [
      "Writing scene (/data/apperception-data/processed/nuscenes/full-dataset-v1.0/Mini/videos/boston-seaport/skipped-scene-0655-CAM_BACK-2018-8-27-8-51-32-137558.mp4):\n"
     ]
    },
    {
     "name": "stderr",
     "output_type": "stream",
     "text": [
      "100%|████████████████████████████████████████████████████████████████████████████████████████████████████████████████████████████████████████████████████████████████████████████████████| 398/398 [00:04<00:00, 84.17it/s]\n"
     ]
    },
    {
     "name": "stdout",
     "output_type": "stream",
     "text": [
      "done skipped-scene-0655-CAM_BACK-2018-8-27-8-51-32-137558.mp4\n"
     ]
    },
    {
     "name": "stderr",
     "output_type": "stream",
     "text": [
      "100%|████████████████████████████████████████████████████████████████████████████████████████████████████████████████████████████████████████████████████████████████████████████████████| 235/235 [00:04<00:00, 57.88it/s]\n"
     ]
    },
    {
     "name": "stdout",
     "output_type": "stream",
     "text": [
      "Writing scene (/data/apperception-data/processed/nuscenes/full-dataset-v1.0/Mini/videos/boston-seaport/skipped-scene-0655-CAM_BACK_LEFT-2018-8-27-8-51-32-147405.mp4):\n"
     ]
    },
    {
     "name": "stderr",
     "output_type": "stream",
     "text": [
      "100%|████████████████████████████████████████████████████████████████████████████████████████████████████████████████████████████████████████████████████████████████████████████████████| 398/398 [00:05<00:00, 74.85it/s]\n"
     ]
    },
    {
     "name": "stdout",
     "output_type": "stream",
     "text": [
      "done skipped-scene-0655-CAM_BACK_LEFT-2018-8-27-8-51-32-147405.mp4\n"
     ]
    },
    {
     "name": "stderr",
     "output_type": "stream",
     "text": [
      "100%|████████████████████████████████████████████████████████████████████████████████████████████████████████████████████████████████████████████████████████████████████████████████████| 236/236 [01:47<00:00,  2.19it/s]\n"
     ]
    },
    {
     "name": "stdout",
     "output_type": "stream",
     "text": [
      "Writing scene (/data/apperception-data/processed/nuscenes/full-dataset-v1.0/Mini/videos/boston-seaport/skipped-scene-0757-CAM_FRONT_LEFT-2018-8-30-12-25-8-254799.mp4):\n"
     ]
    },
    {
     "name": "stderr",
     "output_type": "stream",
     "text": [
      "100%|████████████████████████████████████████████████████████████████████████████████████████████████████████████████████████████████████████████████████████████████████████████████████| 399/399 [00:04<00:00, 82.41it/s]\n"
     ]
    },
    {
     "name": "stdout",
     "output_type": "stream",
     "text": [
      "done skipped-scene-0757-CAM_FRONT_LEFT-2018-8-30-12-25-8-254799.mp4\n"
     ]
    },
    {
     "name": "stderr",
     "output_type": "stream",
     "text": [
      "100%|████████████████████████████████████████████████████████████████████████████████████████████████████████████████████████████████████████████████████████████████████████████████████| 237/237 [00:04<00:00, 55.34it/s]\n"
     ]
    },
    {
     "name": "stdout",
     "output_type": "stream",
     "text": [
      "Writing scene (/data/apperception-data/processed/nuscenes/full-dataset-v1.0/Mini/videos/boston-seaport/skipped-scene-0757-CAM_FRONT-2018-8-30-12-25-8-262404.mp4):\n"
     ]
    },
    {
     "name": "stderr",
     "output_type": "stream",
     "text": [
      "100%|████████████████████████████████████████████████████████████████████████████████████████████████████████████████████████████████████████████████████████████████████████████████████| 399/399 [00:04<00:00, 88.00it/s]\n"
     ]
    },
    {
     "name": "stdout",
     "output_type": "stream",
     "text": [
      "done skipped-scene-0757-CAM_FRONT-2018-8-30-12-25-8-262404.mp4\n"
     ]
    },
    {
     "name": "stderr",
     "output_type": "stream",
     "text": [
      "100%|████████████████████████████████████████████████████████████████████████████████████████████████████████████████████████████████████████████████████████████████████████████████████| 236/236 [00:03<00:00, 65.40it/s]\n"
     ]
    },
    {
     "name": "stdout",
     "output_type": "stream",
     "text": [
      "Writing scene (/data/apperception-data/processed/nuscenes/full-dataset-v1.0/Mini/videos/boston-seaport/skipped-scene-0757-CAM_FRONT_RIGHT-2018-8-30-12-25-8-270482.mp4):\n"
     ]
    },
    {
     "name": "stderr",
     "output_type": "stream",
     "text": [
      "100%|████████████████████████████████████████████████████████████████████████████████████████████████████████████████████████████████████████████████████████████████████████████████████| 399/399 [00:04<00:00, 82.97it/s]\n"
     ]
    },
    {
     "name": "stdout",
     "output_type": "stream",
     "text": [
      "done skipped-scene-0757-CAM_FRONT_RIGHT-2018-8-30-12-25-8-270482.mp4\n"
     ]
    },
    {
     "name": "stderr",
     "output_type": "stream",
     "text": [
      "100%|████████████████████████████████████████████████████████████████████████████████████████████████████████████████████████████████████████████████████████████████████████████████████| 238/238 [00:04<00:00, 53.36it/s]\n"
     ]
    },
    {
     "name": "stdout",
     "output_type": "stream",
     "text": [
      "Writing scene (/data/apperception-data/processed/nuscenes/full-dataset-v1.0/Mini/videos/boston-seaport/skipped-scene-0757-CAM_BACK_RIGHT-2018-8-30-12-25-8-278113.mp4):\n"
     ]
    },
    {
     "name": "stderr",
     "output_type": "stream",
     "text": [
      "100%|████████████████████████████████████████████████████████████████████████████████████████████████████████████████████████████████████████████████████████████████████████████████████| 399/399 [00:04<00:00, 81.20it/s]\n"
     ]
    },
    {
     "name": "stdout",
     "output_type": "stream",
     "text": [
      "done skipped-scene-0757-CAM_BACK_RIGHT-2018-8-30-12-25-8-278113.mp4\n"
     ]
    },
    {
     "name": "stderr",
     "output_type": "stream",
     "text": [
      "100%|████████████████████████████████████████████████████████████████████████████████████████████████████████████████████████████████████████████████████████████████████████████████████| 235/235 [00:04<00:00, 58.67it/s]\n"
     ]
    },
    {
     "name": "stdout",
     "output_type": "stream",
     "text": [
      "Writing scene (/data/apperception-data/processed/nuscenes/full-dataset-v1.0/Mini/videos/boston-seaport/skipped-scene-0757-CAM_BACK-2018-8-30-12-25-8-287558.mp4):\n"
     ]
    },
    {
     "name": "stderr",
     "output_type": "stream",
     "text": [
      "100%|███████████████████████████████████████████████████████████████████████████████████████████████████████████████████████████████████████████████████████████████████████████████████| 399/399 [00:03<00:00, 104.94it/s]\n"
     ]
    },
    {
     "name": "stdout",
     "output_type": "stream",
     "text": [
      "done skipped-scene-0757-CAM_BACK-2018-8-30-12-25-8-287558.mp4\n"
     ]
    },
    {
     "name": "stderr",
     "output_type": "stream",
     "text": [
      "100%|████████████████████████████████████████████████████████████████████████████████████████████████████████████████████████████████████████████████████████████████████████████████████| 238/238 [00:03<00:00, 71.83it/s]\n"
     ]
    },
    {
     "name": "stdout",
     "output_type": "stream",
     "text": [
      "Writing scene (/data/apperception-data/processed/nuscenes/full-dataset-v1.0/Mini/videos/boston-seaport/skipped-scene-0757-CAM_BACK_LEFT-2018-8-30-12-25-8-297405.mp4):\n"
     ]
    },
    {
     "name": "stderr",
     "output_type": "stream",
     "text": [
      "100%|████████████████████████████████████████████████████████████████████████████████████████████████████████████████████████████████████████████████████████████████████████████████████| 399/399 [00:04<00:00, 99.03it/s]\n"
     ]
    },
    {
     "name": "stdout",
     "output_type": "stream",
     "text": [
      "done skipped-scene-0757-CAM_BACK_LEFT-2018-8-30-12-25-8-297405.mp4\n"
     ]
    },
    {
     "name": "stderr",
     "output_type": "stream",
     "text": [
      "100%|████████████████████████████████████████████████████████████████████████████████████████████████████████████████████████████████████████████████████████████████████████████████████| 235/235 [00:04<00:00, 55.57it/s]\n"
     ]
    },
    {
     "name": "stdout",
     "output_type": "stream",
     "text": [
      "Writing scene (/data/apperception-data/processed/nuscenes/full-dataset-v1.0/Mini/videos/singapore-queenstown/skipped-scene-0796-CAM_FRONT_LEFT-2018-10-1-19-52-24-404844.mp4):\n"
     ]
    },
    {
     "name": "stderr",
     "output_type": "stream",
     "text": [
      "100%|████████████████████████████████████████████████████████████████████████████████████████████████████████████████████████████████████████████████████████████████████████████████████| 394/394 [00:05<00:00, 65.96it/s]\n"
     ]
    },
    {
     "name": "stdout",
     "output_type": "stream",
     "text": [
      "done skipped-scene-0796-CAM_FRONT_LEFT-2018-10-1-19-52-24-404844.mp4\n"
     ]
    },
    {
     "name": "stderr",
     "output_type": "stream",
     "text": [
      "100%|████████████████████████████████████████████████████████████████████████████████████████████████████████████████████████████████████████████████████████████████████████████████████| 234/234 [00:04<00:00, 52.54it/s]\n"
     ]
    },
    {
     "name": "stdout",
     "output_type": "stream",
     "text": [
      "Writing scene (/data/apperception-data/processed/nuscenes/full-dataset-v1.0/Mini/videos/singapore-queenstown/skipped-scene-0796-CAM_FRONT-2018-10-1-19-52-24-412460.mp4):\n"
     ]
    },
    {
     "name": "stderr",
     "output_type": "stream",
     "text": [
      "100%|████████████████████████████████████████████████████████████████████████████████████████████████████████████████████████████████████████████████████████████████████████████████████| 394/394 [00:05<00:00, 76.79it/s]\n"
     ]
    },
    {
     "name": "stdout",
     "output_type": "stream",
     "text": [
      "done skipped-scene-0796-CAM_FRONT-2018-10-1-19-52-24-412460.mp4\n"
     ]
    },
    {
     "name": "stderr",
     "output_type": "stream",
     "text": [
      "100%|████████████████████████████████████████████████████████████████████████████████████████████████████████████████████████████████████████████████████████████████████████████████████| 234/234 [03:24<00:00,  1.15it/s]\n"
     ]
    },
    {
     "name": "stdout",
     "output_type": "stream",
     "text": [
      "Writing scene (/data/apperception-data/processed/nuscenes/full-dataset-v1.0/Mini/videos/singapore-queenstown/skipped-scene-0796-CAM_FRONT_RIGHT-2018-10-1-19-52-24-420339.mp4):\n"
     ]
    },
    {
     "name": "stderr",
     "output_type": "stream",
     "text": [
      "100%|████████████████████████████████████████████████████████████████████████████████████████████████████████████████████████████████████████████████████████████████████████████████████| 394/394 [00:05<00:00, 71.24it/s]\n"
     ]
    },
    {
     "name": "stdout",
     "output_type": "stream",
     "text": [
      "done skipped-scene-0796-CAM_FRONT_RIGHT-2018-10-1-19-52-24-420339.mp4\n"
     ]
    },
    {
     "name": "stderr",
     "output_type": "stream",
     "text": [
      "100%|████████████████████████████████████████████████████████████████████████████████████████████████████████████████████████████████████████████████████████████████████████████████████| 231/231 [00:04<00:00, 50.68it/s]\n"
     ]
    },
    {
     "name": "stdout",
     "output_type": "stream",
     "text": [
      "Writing scene (/data/apperception-data/processed/nuscenes/full-dataset-v1.0/Mini/videos/singapore-queenstown/skipped-scene-0796-CAM_BACK_RIGHT-2018-10-1-19-52-24-427893.mp4):\n"
     ]
    },
    {
     "name": "stderr",
     "output_type": "stream",
     "text": [
      "100%|████████████████████████████████████████████████████████████████████████████████████████████████████████████████████████████████████████████████████████████████████████████████████| 394/394 [00:05<00:00, 73.05it/s]\n"
     ]
    },
    {
     "name": "stdout",
     "output_type": "stream",
     "text": [
      "done skipped-scene-0796-CAM_BACK_RIGHT-2018-10-1-19-52-24-427893.mp4\n"
     ]
    },
    {
     "name": "stderr",
     "output_type": "stream",
     "text": [
      "100%|████████████████████████████████████████████████████████████████████████████████████████████████████████████████████████████████████████████████████████████████████████████████████| 231/231 [01:00<00:00,  3.79it/s]\n"
     ]
    },
    {
     "name": "stdout",
     "output_type": "stream",
     "text": [
      "Writing scene (/data/apperception-data/processed/nuscenes/full-dataset-v1.0/Mini/videos/singapore-queenstown/skipped-scene-0796-CAM_BACK-2018-10-1-19-52-24-437780.mp4):\n"
     ]
    },
    {
     "name": "stderr",
     "output_type": "stream",
     "text": [
      "100%|████████████████████████████████████████████████████████████████████████████████████████████████████████████████████████████████████████████████████████████████████████████████████| 394/394 [00:04<00:00, 80.16it/s]\n"
     ]
    },
    {
     "name": "stdout",
     "output_type": "stream",
     "text": [
      "done skipped-scene-0796-CAM_BACK-2018-10-1-19-52-24-437780.mp4\n"
     ]
    },
    {
     "name": "stderr",
     "output_type": "stream",
     "text": [
      "100%|████████████████████████████████████████████████████████████████████████████████████████████████████████████████████████████████████████████████████████████████████████████████████| 234/234 [00:04<00:00, 49.62it/s]\n"
     ]
    },
    {
     "name": "stdout",
     "output_type": "stream",
     "text": [
      "Writing scene (/data/apperception-data/processed/nuscenes/full-dataset-v1.0/Mini/videos/singapore-queenstown/skipped-scene-0796-CAM_BACK_LEFT-2018-10-1-19-52-24-447423.mp4):\n"
     ]
    },
    {
     "name": "stderr",
     "output_type": "stream",
     "text": [
      "100%|████████████████████████████████████████████████████████████████████████████████████████████████████████████████████████████████████████████████████████████████████████████████████| 394/394 [00:05<00:00, 66.26it/s]\n"
     ]
    },
    {
     "name": "stdout",
     "output_type": "stream",
     "text": [
      "done skipped-scene-0796-CAM_BACK_LEFT-2018-10-1-19-52-24-447423.mp4\n"
     ]
    },
    {
     "name": "stderr",
     "output_type": "stream",
     "text": [
      "100%|████████████████████████████████████████████████████████████████████████████████████████████████████████████████████████████████████████████████████████████████████████████████████| 240/240 [00:35<00:00,  6.77it/s]\n"
     ]
    },
    {
     "name": "stdout",
     "output_type": "stream",
     "text": [
      "Writing scene (/data/apperception-data/processed/nuscenes/full-dataset-v1.0/Mini/videos/singapore-queenstown/skipped-scene-0916-CAM_FRONT_LEFT-2018-10-8-0-37-13-504844.mp4):\n"
     ]
    },
    {
     "name": "stderr",
     "output_type": "stream",
     "text": [
      "100%|████████████████████████████████████████████████████████████████████████████████████████████████████████████████████████████████████████████████████████████████████████████████████| 400/400 [00:05<00:00, 74.96it/s]\n"
     ]
    },
    {
     "name": "stdout",
     "output_type": "stream",
     "text": [
      "done skipped-scene-0916-CAM_FRONT_LEFT-2018-10-8-0-37-13-504844.mp4\n"
     ]
    },
    {
     "name": "stderr",
     "output_type": "stream",
     "text": [
      "100%|████████████████████████████████████████████████████████████████████████████████████████████████████████████████████████████████████████████████████████████████████████████████████| 240/240 [00:04<00:00, 48.47it/s]\n"
     ]
    },
    {
     "name": "stdout",
     "output_type": "stream",
     "text": [
      "Writing scene (/data/apperception-data/processed/nuscenes/full-dataset-v1.0/Mini/videos/singapore-queenstown/skipped-scene-0916-CAM_FRONT-2018-10-8-0-37-13-512470.mp4):\n"
     ]
    },
    {
     "name": "stderr",
     "output_type": "stream",
     "text": [
      "100%|████████████████████████████████████████████████████████████████████████████████████████████████████████████████████████████████████████████████████████████████████████████████████| 400/400 [00:05<00:00, 75.92it/s]\n"
     ]
    },
    {
     "name": "stdout",
     "output_type": "stream",
     "text": [
      "done skipped-scene-0916-CAM_FRONT-2018-10-8-0-37-13-512470.mp4\n"
     ]
    },
    {
     "name": "stderr",
     "output_type": "stream",
     "text": [
      "100%|████████████████████████████████████████████████████████████████████████████████████████████████████████████████████████████████████████████████████████████████████████████████████| 239/239 [00:04<00:00, 50.75it/s]\n"
     ]
    },
    {
     "name": "stdout",
     "output_type": "stream",
     "text": [
      "Writing scene (/data/apperception-data/processed/nuscenes/full-dataset-v1.0/Mini/videos/singapore-queenstown/skipped-scene-0916-CAM_FRONT_RIGHT-2018-10-8-0-37-13-520339.mp4):\n"
     ]
    },
    {
     "name": "stderr",
     "output_type": "stream",
     "text": [
      "100%|████████████████████████████████████████████████████████████████████████████████████████████████████████████████████████████████████████████████████████████████████████████████████| 400/400 [00:05<00:00, 74.54it/s]\n"
     ]
    },
    {
     "name": "stdout",
     "output_type": "stream",
     "text": [
      "done skipped-scene-0916-CAM_FRONT_RIGHT-2018-10-8-0-37-13-520339.mp4\n"
     ]
    },
    {
     "name": "stderr",
     "output_type": "stream",
     "text": [
      "100%|████████████████████████████████████████████████████████████████████████████████████████████████████████████████████████████████████████████████████████████████████████████████████| 240/240 [00:04<00:00, 49.57it/s]\n"
     ]
    },
    {
     "name": "stdout",
     "output_type": "stream",
     "text": [
      "Writing scene (/data/apperception-data/processed/nuscenes/full-dataset-v1.0/Mini/videos/singapore-queenstown/skipped-scene-0916-CAM_BACK_RIGHT-2018-10-8-0-37-13-527893.mp4):\n"
     ]
    },
    {
     "name": "stderr",
     "output_type": "stream",
     "text": [
      "100%|████████████████████████████████████████████████████████████████████████████████████████████████████████████████████████████████████████████████████████████████████████████████████| 400/400 [00:05<00:00, 75.34it/s]\n"
     ]
    },
    {
     "name": "stdout",
     "output_type": "stream",
     "text": [
      "done skipped-scene-0916-CAM_BACK_RIGHT-2018-10-8-0-37-13-527893.mp4\n"
     ]
    },
    {
     "name": "stderr",
     "output_type": "stream",
     "text": [
      "100%|████████████████████████████████████████████████████████████████████████████████████████████████████████████████████████████████████████████████████████████████████████████████████| 239/239 [00:04<00:00, 53.09it/s]\n"
     ]
    },
    {
     "name": "stdout",
     "output_type": "stream",
     "text": [
      "Writing scene (/data/apperception-data/processed/nuscenes/full-dataset-v1.0/Mini/videos/singapore-queenstown/skipped-scene-0916-CAM_BACK-2018-10-8-0-37-13-537525.mp4):\n"
     ]
    },
    {
     "name": "stderr",
     "output_type": "stream",
     "text": [
      "100%|████████████████████████████████████████████████████████████████████████████████████████████████████████████████████████████████████████████████████████████████████████████████████| 400/400 [00:04<00:00, 80.21it/s]\n"
     ]
    },
    {
     "name": "stdout",
     "output_type": "stream",
     "text": [
      "done skipped-scene-0916-CAM_BACK-2018-10-8-0-37-13-537525.mp4\n"
     ]
    },
    {
     "name": "stderr",
     "output_type": "stream",
     "text": [
      "100%|████████████████████████████████████████████████████████████████████████████████████████████████████████████████████████████████████████████████████████████████████████████████████| 238/238 [00:04<00:00, 50.26it/s]\n"
     ]
    },
    {
     "name": "stdout",
     "output_type": "stream",
     "text": [
      "Writing scene (/data/apperception-data/processed/nuscenes/full-dataset-v1.0/Mini/videos/singapore-queenstown/skipped-scene-0916-CAM_BACK_LEFT-2018-10-8-0-37-13-547423.mp4):\n"
     ]
    },
    {
     "name": "stderr",
     "output_type": "stream",
     "text": [
      "100%|████████████████████████████████████████████████████████████████████████████████████████████████████████████████████████████████████████████████████████████████████████████████████| 400/400 [00:05<00:00, 74.24it/s]\n"
     ]
    },
    {
     "name": "stdout",
     "output_type": "stream",
     "text": [
      "done skipped-scene-0916-CAM_BACK_LEFT-2018-10-8-0-37-13-547423.mp4\n"
     ]
    },
    {
     "name": "stderr",
     "output_type": "stream",
     "text": [
      "100%|████████████████████████████████████████████████████████████████████████████████████████████████████████████████████████████████████████████████████████████████████████████████████| 224/224 [00:04<00:00, 47.62it/s]\n"
     ]
    },
    {
     "name": "stdout",
     "output_type": "stream",
     "text": [
      "Writing scene (/data/apperception-data/processed/nuscenes/full-dataset-v1.0/Mini/videos/singapore-onenorth/skipped-scene-0061-CAM_FRONT_LEFT-2018-7-23-20-28-47-604844.mp4):\n"
     ]
    },
    {
     "name": "stderr",
     "output_type": "stream",
     "text": [
      "100%|████████████████████████████████████████████████████████████████████████████████████████████████████████████████████████████████████████████████████████████████████████████████████| 385/385 [00:05<00:00, 73.34it/s]\n"
     ]
    },
    {
     "name": "stdout",
     "output_type": "stream",
     "text": [
      "done skipped-scene-0061-CAM_FRONT_LEFT-2018-7-23-20-28-47-604844.mp4\n"
     ]
    },
    {
     "name": "stderr",
     "output_type": "stream",
     "text": [
      "100%|████████████████████████████████████████████████████████████████████████████████████████████████████████████████████████████████████████████████████████████████████████████████████| 224/224 [00:04<00:00, 50.31it/s]\n"
     ]
    },
    {
     "name": "stdout",
     "output_type": "stream",
     "text": [
      "Writing scene (/data/apperception-data/processed/nuscenes/full-dataset-v1.0/Mini/videos/singapore-onenorth/skipped-scene-0061-CAM_FRONT-2018-7-23-20-28-47-612460.mp4):\n"
     ]
    },
    {
     "name": "stderr",
     "output_type": "stream",
     "text": [
      "100%|████████████████████████████████████████████████████████████████████████████████████████████████████████████████████████████████████████████████████████████████████████████████████| 385/385 [00:04<00:00, 79.88it/s]\n"
     ]
    },
    {
     "name": "stdout",
     "output_type": "stream",
     "text": [
      "done skipped-scene-0061-CAM_FRONT-2018-7-23-20-28-47-612460.mp4\n"
     ]
    },
    {
     "name": "stderr",
     "output_type": "stream",
     "text": [
      "100%|████████████████████████████████████████████████████████████████████████████████████████████████████████████████████████████████████████████████████████████████████████████████████| 217/217 [00:04<00:00, 48.50it/s]\n"
     ]
    },
    {
     "name": "stdout",
     "output_type": "stream",
     "text": [
      "Writing scene (/data/apperception-data/processed/nuscenes/full-dataset-v1.0/Mini/videos/singapore-onenorth/skipped-scene-0061-CAM_FRONT_RIGHT-2018-7-23-20-28-47-620339.mp4):\n"
     ]
    },
    {
     "name": "stderr",
     "output_type": "stream",
     "text": [
      "100%|████████████████████████████████████████████████████████████████████████████████████████████████████████████████████████████████████████████████████████████████████████████████████| 385/385 [00:04<00:00, 78.91it/s]\n"
     ]
    },
    {
     "name": "stdout",
     "output_type": "stream",
     "text": [
      "done skipped-scene-0061-CAM_FRONT_RIGHT-2018-7-23-20-28-47-620339.mp4\n"
     ]
    },
    {
     "name": "stderr",
     "output_type": "stream",
     "text": [
      "100%|████████████████████████████████████████████████████████████████████████████████████████████████████████████████████████████████████████████████████████████████████████████████████| 218/218 [00:09<00:00, 24.09it/s]\n"
     ]
    },
    {
     "name": "stdout",
     "output_type": "stream",
     "text": [
      "Writing scene (/data/apperception-data/processed/nuscenes/full-dataset-v1.0/Mini/videos/singapore-onenorth/skipped-scene-0061-CAM_BACK_RIGHT-2018-7-23-20-28-47-627893.mp4):\n"
     ]
    },
    {
     "name": "stderr",
     "output_type": "stream",
     "text": [
      "100%|████████████████████████████████████████████████████████████████████████████████████████████████████████████████████████████████████████████████████████████████████████████████████| 385/385 [00:05<00:00, 76.85it/s]\n"
     ]
    },
    {
     "name": "stdout",
     "output_type": "stream",
     "text": [
      "done skipped-scene-0061-CAM_BACK_RIGHT-2018-7-23-20-28-47-627893.mp4\n"
     ]
    },
    {
     "name": "stderr",
     "output_type": "stream",
     "text": [
      "100%|████████████████████████████████████████████████████████████████████████████████████████████████████████████████████████████████████████████████████████████████████████████████████| 216/216 [01:12<00:00,  3.00it/s]\n"
     ]
    },
    {
     "name": "stdout",
     "output_type": "stream",
     "text": [
      "Writing scene (/data/apperception-data/processed/nuscenes/full-dataset-v1.0/Mini/videos/singapore-onenorth/skipped-scene-0061-CAM_BACK-2018-7-23-20-28-47-637525.mp4):\n"
     ]
    },
    {
     "name": "stderr",
     "output_type": "stream",
     "text": [
      "100%|████████████████████████████████████████████████████████████████████████████████████████████████████████████████████████████████████████████████████████████████████████████████████| 385/385 [00:04<00:00, 90.70it/s]\n"
     ]
    },
    {
     "name": "stdout",
     "output_type": "stream",
     "text": [
      "done skipped-scene-0061-CAM_BACK-2018-7-23-20-28-47-637525.mp4\n"
     ]
    },
    {
     "name": "stderr",
     "output_type": "stream",
     "text": [
      "100%|████████████████████████████████████████████████████████████████████████████████████████████████████████████████████████████████████████████████████████████████████████████████████| 219/219 [00:12<00:00, 17.41it/s]\n"
     ]
    },
    {
     "name": "stdout",
     "output_type": "stream",
     "text": [
      "Writing scene (/data/apperception-data/processed/nuscenes/full-dataset-v1.0/Mini/videos/singapore-onenorth/skipped-scene-0061-CAM_BACK_LEFT-2018-7-23-20-28-47-647423.mp4):\n"
     ]
    },
    {
     "name": "stderr",
     "output_type": "stream",
     "text": [
      "100%|████████████████████████████████████████████████████████████████████████████████████████████████████████████████████████████████████████████████████████████████████████████████████| 385/385 [00:04<00:00, 77.35it/s]\n"
     ]
    },
    {
     "name": "stdout",
     "output_type": "stream",
     "text": [
      "done skipped-scene-0061-CAM_BACK_LEFT-2018-7-23-20-28-47-647423.mp4\n"
     ]
    }
   ],
   "source": [
    "for l in os.listdir(partition_dir):\n",
    "    d = os.path.join(partition_dir, l)\n",
    "    with open(os.path.join(d, 'sample_data.pickle'), \"rb\") as f:\n",
    "        sample_data = pickle.load(f)\n",
    "    videos = get_videos(sample_data)\n",
    "    \n",
    "    \n",
    "    output = {}\n",
    "    for name in videos:\n",
    "        video = videos[name]\n",
    "        frames, filename = compose(l, name, video)\n",
    "#         prev = video[0][9]\n",
    "#         for v in video[1:]:\n",
    "#             print(int(round((v[9] - prev).total_seconds() * 100,)))\n",
    "#             prev = v[9] \n",
    "        output[name] = {\n",
    "            \"filename\": filename,\n",
    "            \"start\": video[0][9],\n",
    "            \"columns\": [\n",
    "                \"cameraId\",\n",
    "                \"frameId\",\n",
    "                \"frameNum\",\n",
    "                \"filename\",\n",
    "                \"cameraTranslation\",\n",
    "                \"cameraRotation\",\n",
    "                \"cameraIntrinsic\",\n",
    "                \"egoTranslation\",\n",
    "                \"egoRotation\",\n",
    "                \"timestamp\",\n",
    "                \"cameraHeading\",\n",
    "                \"egoHeading\",\n",
    "            ],\n",
    "            \"frames\": [(video[f] if f is not None else None) for img, f in frames]\n",
    "        }\n",
    "        print(\"done\", filename)\n",
    "    base = os.path.join(processed_dir, 'videos', l)\n",
    "    with open(os.path.join(base, 'frames-skip.pickle'), \"wb\") as f:\n",
    "        pickle.dump(output, f)\n",
    "    \n",
    "    with open(os.path.join(base, 'frames-skip.json'), \"w\") as f:\n",
    "        json.dump(output, f, indent=2, sort_keys=True, default=str)"
   ]
  },
  {
   "cell_type": "code",
   "execution_count": null,
   "id": "a1863824",
   "metadata": {
    "execution": {
     "iopub.execute_input": "2022-10-05T02:47:36.470011Z",
     "iopub.status.busy": "2022-10-05T02:47:36.469759Z",
     "iopub.status.idle": "2022-10-05T03:02:56.290475Z",
     "shell.execute_reply": "2022-10-05T03:02:56.289432Z"
    }
   },
   "outputs": [],
   "source": []
  },
  {
   "cell_type": "code",
   "execution_count": null,
   "id": "ac973260",
   "metadata": {},
   "outputs": [],
   "source": []
  }
 ],
 "metadata": {
  "kernelspec": {
   "display_name": "Python 3",
   "language": "python",
   "name": "python3"
  },
  "language_info": {
   "codemirror_mode": {
    "name": "ipython",
    "version": 3
   },
   "file_extension": ".py",
   "mimetype": "text/x-python",
   "name": "python",
   "nbconvert_exporter": "python",
   "pygments_lexer": "ipython3",
   "version": "3.10.8"
  },
  "vscode": {
   "interpreter": {
    "hash": "6da98d48e8fe947353054159aa9213a15d82944e6db20bad7c7d338a05ae337c"
   }
  }
 },
 "nbformat": 4,
 "nbformat_minor": 5
}
