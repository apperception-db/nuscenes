{
 "cells": [
  {
   "cell_type": "code",
   "execution_count": 1,
   "id": "d0bbe44d-7410-4539-b1c0-38b50f65e2c0",
   "metadata": {
    "execution": {
     "iopub.execute_input": "2022-10-05T02:47:35.779725Z",
     "iopub.status.busy": "2022-10-05T02:47:35.778898Z",
     "iopub.status.idle": "2022-10-05T02:47:36.265596Z",
     "shell.execute_reply": "2022-10-05T02:47:36.264731Z"
    }
   },
   "outputs": [],
   "source": [
    "from typing import List, Tuple\n",
    "from datetime import datetime, timedelta\n",
    "import numpy.typing as npt\n",
    "import numpy as np\n",
    "import os\n",
    "import cv2\n",
    "import pickle\n",
    "from tqdm import tqdm\n",
    "import itertools\n",
    "import json\n",
    "import multiprocessing\n",
    "import altair as alt\n",
    "import pandas as pd\n",
    "\n",
    "from utils.compose2_factory import compose2_factory\n",
    "from utils.data_dirs import data_dirs\n",
    "from utils.get_videos import get_videos\n",
    "from utils.frame_json_encoder import FrameJSONEncoder\n",
    "from utils.typings import Frame\n",
    "from utils.load_images import load_images"
   ]
  },
  {
   "cell_type": "code",
   "execution_count": 2,
   "id": "1e70ec21",
   "metadata": {},
   "outputs": [
    {
     "name": "stdout",
     "output_type": "stream",
     "text": [
      "/work/apperception/data/raw/nuScenes/full-dataset-v1.0/Mini\n",
      "/data/apperception-data/processed/nuscenes/full-dataset-v1.0/Mini\n",
      "v1.0-mini\n",
      "/work/apperception/data/raw/scenic/experiment_data\n",
      "\n"
     ]
    }
   ],
   "source": [
    "raw_dir, processed_dir, folder, EXPERIMENT_DATA, suffix, *_ = data_dirs(False)\n",
    "print(raw_dir)\n",
    "print(processed_dir)\n",
    "print(folder)\n",
    "print(EXPERIMENT_DATA)\n",
    "print(suffix)"
   ]
  },
  {
   "cell_type": "code",
   "execution_count": 3,
   "id": "7a388e68",
   "metadata": {},
   "outputs": [],
   "source": [
    "fps = 20"
   ]
  },
  {
   "cell_type": "code",
   "execution_count": 4,
   "id": "5b735bc4",
   "metadata": {},
   "outputs": [],
   "source": [
    "interpolate = False"
   ]
  },
  {
   "cell_type": "code",
   "execution_count": 5,
   "id": "d8d80573",
   "metadata": {
    "execution": {
     "iopub.execute_input": "2022-10-05T02:47:36.299634Z",
     "iopub.status.busy": "2022-10-05T02:47:36.299392Z",
     "iopub.status.idle": "2022-10-05T02:47:36.302730Z",
     "shell.execute_reply": "2022-10-05T02:47:36.302020Z"
    }
   },
   "outputs": [],
   "source": [
    "partition_dir = os.path.join(processed_dir, 'partition')"
   ]
  },
  {
   "cell_type": "code",
   "execution_count": 6,
   "id": "a0c62fb5",
   "metadata": {
    "execution": {
     "iopub.execute_input": "2022-10-05T02:47:36.445981Z",
     "iopub.status.busy": "2022-10-05T02:47:36.445440Z",
     "iopub.status.idle": "2022-10-05T02:47:36.464360Z",
     "shell.execute_reply": "2022-10-05T02:47:36.463537Z"
    }
   },
   "outputs": [],
   "source": [
    "compose = compose2_factory(fps, raw_dir, processed_dir, interpolate)"
   ]
  },
  {
   "cell_type": "code",
   "execution_count": 7,
   "id": "be9c8e7f",
   "metadata": {},
   "outputs": [],
   "source": [
    "def iframe(timestamp: \"datetime\"):\n",
    "    return Frame(None, None, None, None, None, None, None, None, None, timestamp, None, None)"
   ]
  },
  {
   "cell_type": "code",
   "execution_count": 8,
   "id": "50eff738",
   "metadata": {
    "scrolled": true
   },
   "outputs": [
    {
     "name": "stdout",
     "output_type": "stream",
     "text": [
      "Reading images\n"
     ]
    },
    {
     "name": "stderr",
     "output_type": "stream",
     "text": [
      "100%|█████████████████████████████████████████████████████████████████████████████████████████████████████████████████████████████████████████████████████| 4216/4216 [00:40<00:00, 104.31it/s]\n"
     ]
    },
    {
     "name": "stdout",
     "output_type": "stream",
     "text": [
      "Done Loading Images\n",
      "misalignment: 0.0011814346 %\n",
      "max misalignment: 0.088 %\n"
     ]
    },
    {
     "name": "stderr",
     "output_type": "stream",
     "text": [
      "100%|███████████████████████████████████████████████████████████████████████████████████████████████████████████████████████████████████████████████████▍| 236/237 [00:00<00:00, 162244.84it/s]\n"
     ]
    },
    {
     "name": "stdout",
     "output_type": "stream",
     "text": [
      "Writing scene (/data/apperception-data/processed/nuscenes/full-dataset-v1.0/Mini/videos/singapore-hollandvillage/skipped-scene-1077-CAM_FRONT_LEFT-2018-11-21-3-39-27-904844.mp4):\n"
     ]
    },
    {
     "name": "stderr",
     "output_type": "stream",
     "text": [
      "100%|████████████████████████████████████████████████████████████████████████████████████████████████████████████████████████████████████████████████████████| 400/400 [00:06<00:00, 59.01it/s]\n"
     ]
    },
    {
     "name": "stdout",
     "output_type": "stream",
     "text": [
      "done skipped-scene-1077-CAM_FRONT_LEFT-2018-11-21-3-39-27-904844.mp4\n",
      "misalignment: 0.0062666667 %\n",
      "max misalignment: 1.156 %\n"
     ]
    },
    {
     "name": "stderr",
     "output_type": "stream",
     "text": [
      "100%|███████████████████████████████████████████████████████████████████████████████████████████████████████████████████████████████████████████████████▍| 239/240 [00:00<00:00, 174428.16it/s]\n"
     ]
    },
    {
     "name": "stdout",
     "output_type": "stream",
     "text": [
      "Writing scene (/data/apperception-data/processed/nuscenes/full-dataset-v1.0/Mini/videos/singapore-hollandvillage/skipped-scene-1077-CAM_FRONT-2018-11-21-3-39-27-912460.mp4):\n"
     ]
    },
    {
     "name": "stderr",
     "output_type": "stream",
     "text": [
      "100%|████████████████████████████████████████████████████████████████████████████████████████████████████████████████████████████████████████████████████████| 400/400 [00:07<00:00, 55.01it/s]\n"
     ]
    },
    {
     "name": "stdout",
     "output_type": "stream",
     "text": [
      "done skipped-scene-1077-CAM_FRONT-2018-11-21-3-39-27-912460.mp4\n",
      "misalignment: 0.0014767932 %\n",
      "max misalignment: 0.290 %\n"
     ]
    },
    {
     "name": "stderr",
     "output_type": "stream",
     "text": [
      "100%|███████████████████████████████████████████████████████████████████████████████████████████████████████████████████████████████████████████████████▍| 236/237 [00:00<00:00, 344537.33it/s]\n"
     ]
    },
    {
     "name": "stdout",
     "output_type": "stream",
     "text": [
      "Writing scene (/data/apperception-data/processed/nuscenes/full-dataset-v1.0/Mini/videos/singapore-hollandvillage/skipped-scene-1077-CAM_FRONT_RIGHT-2018-11-21-3-39-27-920339.mp4):\n"
     ]
    },
    {
     "name": "stderr",
     "output_type": "stream",
     "text": [
      "100%|████████████████████████████████████████████████████████████████████████████████████████████████████████████████████████████████████████████████████████| 400/400 [00:07<00:00, 56.71it/s]\n"
     ]
    },
    {
     "name": "stdout",
     "output_type": "stream",
     "text": [
      "done skipped-scene-1077-CAM_FRONT_RIGHT-2018-11-21-3-39-27-920339.mp4\n",
      "misalignment: 0.0086527197 %\n",
      "max misalignment: 0.826 %\n"
     ]
    },
    {
     "name": "stderr",
     "output_type": "stream",
     "text": [
      "100%|███████████████████████████████████████████████████████████████████████████████████████████████████████████████████████████████████████████████████▍| 238/239 [00:00<00:00, 326223.64it/s]\n"
     ]
    },
    {
     "name": "stdout",
     "output_type": "stream",
     "text": [
      "Writing scene (/data/apperception-data/processed/nuscenes/full-dataset-v1.0/Mini/videos/singapore-hollandvillage/skipped-scene-1077-CAM_BACK_RIGHT-2018-11-21-3-39-27-927893.mp4):\n"
     ]
    },
    {
     "name": "stderr",
     "output_type": "stream",
     "text": [
      "100%|████████████████████████████████████████████████████████████████████████████████████████████████████████████████████████████████████████████████████████| 400/400 [00:06<00:00, 57.86it/s]\n"
     ]
    },
    {
     "name": "stdout",
     "output_type": "stream",
     "text": [
      "done skipped-scene-1077-CAM_BACK_RIGHT-2018-11-21-3-39-27-927893.mp4\n",
      "misalignment: 0.0001802575 %\n",
      "max misalignment: 0.018 %\n"
     ]
    },
    {
     "name": "stderr",
     "output_type": "stream",
     "text": [
      "100%|███████████████████████████████████████████████████████████████████████████████████████████████████████████████████████████████████████████████████▎| 232/233 [00:00<00:00, 377308.46it/s]\n"
     ]
    },
    {
     "name": "stdout",
     "output_type": "stream",
     "text": [
      "Writing scene (/data/apperception-data/processed/nuscenes/full-dataset-v1.0/Mini/videos/singapore-hollandvillage/skipped-scene-1077-CAM_BACK-2018-11-21-3-39-27-937525.mp4):\n"
     ]
    },
    {
     "name": "stderr",
     "output_type": "stream",
     "text": [
      "100%|████████████████████████████████████████████████████████████████████████████████████████████████████████████████████████████████████████████████████████| 400/400 [00:06<00:00, 60.46it/s]\n"
     ]
    },
    {
     "name": "stdout",
     "output_type": "stream",
     "text": [
      "done skipped-scene-1077-CAM_BACK-2018-11-21-3-39-27-937525.mp4\n",
      "misalignment: 0.0031512605 %\n",
      "max misalignment: 0.596 %\n"
     ]
    },
    {
     "name": "stderr",
     "output_type": "stream",
     "text": [
      "100%|███████████████████████████████████████████████████████████████████████████████████████████████████████████████████████████████████████████████████▍| 237/238 [00:00<00:00, 326131.91it/s]\n"
     ]
    },
    {
     "name": "stdout",
     "output_type": "stream",
     "text": [
      "Writing scene (/data/apperception-data/processed/nuscenes/full-dataset-v1.0/Mini/videos/singapore-hollandvillage/skipped-scene-1077-CAM_BACK_LEFT-2018-11-21-3-39-27-947423.mp4):\n"
     ]
    },
    {
     "name": "stderr",
     "output_type": "stream",
     "text": [
      "100%|████████████████████████████████████████████████████████████████████████████████████████████████████████████████████████████████████████████████████████| 400/400 [00:06<00:00, 64.61it/s]\n"
     ]
    },
    {
     "name": "stdout",
     "output_type": "stream",
     "text": [
      "done skipped-scene-1077-CAM_BACK_LEFT-2018-11-21-3-39-27-947423.mp4\n",
      "misalignment: 0.0132586207 %\n",
      "max misalignment: 2.798 %\n"
     ]
    },
    {
     "name": "stderr",
     "output_type": "stream",
     "text": [
      "100%|███████████████████████████████████████████████████████████████████████████████████████████████████████████████████████████████████████████████████▎| 231/232 [00:00<00:00, 289824.78it/s]\n"
     ]
    },
    {
     "name": "stdout",
     "output_type": "stream",
     "text": [
      "Writing scene (/data/apperception-data/processed/nuscenes/full-dataset-v1.0/Mini/videos/singapore-hollandvillage/skipped-scene-1094-CAM_FRONT_LEFT-2018-11-21-3-47-27-904844.mp4):\n"
     ]
    },
    {
     "name": "stderr",
     "output_type": "stream",
     "text": [
      "100%|████████████████████████████████████████████████████████████████████████████████████████████████████████████████████████████████████████████████████████| 391/391 [00:07<00:00, 55.03it/s]\n"
     ]
    },
    {
     "name": "stdout",
     "output_type": "stream",
     "text": [
      "done skipped-scene-1094-CAM_FRONT_LEFT-2018-11-21-3-47-27-904844.mp4\n",
      "misalignment: 0.0057500000 %\n",
      "max misalignment: 0.710 %\n"
     ]
    },
    {
     "name": "stderr",
     "output_type": "stream",
     "text": [
      "100%|███████████████████████████████████████████████████████████████████████████████████████████████████████████████████████████████████████████████████▎| 231/232 [00:00<00:00, 220501.64it/s]\n"
     ]
    },
    {
     "name": "stdout",
     "output_type": "stream",
     "text": [
      "Writing scene (/data/apperception-data/processed/nuscenes/full-dataset-v1.0/Mini/videos/singapore-hollandvillage/skipped-scene-1094-CAM_FRONT-2018-11-21-3-47-27-912460.mp4):\n"
     ]
    },
    {
     "name": "stderr",
     "output_type": "stream",
     "text": [
      "100%|████████████████████████████████████████████████████████████████████████████████████████████████████████████████████████████████████████████████████████| 391/391 [00:07<00:00, 55.75it/s]\n"
     ]
    },
    {
     "name": "stdout",
     "output_type": "stream",
     "text": [
      "done skipped-scene-1094-CAM_FRONT-2018-11-21-3-47-27-912460.mp4\n",
      "misalignment: 0.0007521368 %\n",
      "max misalignment: 0.036 %\n"
     ]
    },
    {
     "name": "stderr",
     "output_type": "stream",
     "text": [
      "100%|███████████████████████████████████████████████████████████████████████████████████████████████████████████████████████████████████████████████████▎| 233/234 [00:00<00:00, 205395.72it/s]\n"
     ]
    },
    {
     "name": "stdout",
     "output_type": "stream",
     "text": [
      "Writing scene (/data/apperception-data/processed/nuscenes/full-dataset-v1.0/Mini/videos/singapore-hollandvillage/skipped-scene-1094-CAM_FRONT_RIGHT-2018-11-21-3-47-27-920339.mp4):\n"
     ]
    },
    {
     "name": "stderr",
     "output_type": "stream",
     "text": [
      "100%|████████████████████████████████████████████████████████████████████████████████████████████████████████████████████████████████████████████████████████| 391/391 [00:07<00:00, 55.84it/s]\n"
     ]
    },
    {
     "name": "stdout",
     "output_type": "stream",
     "text": [
      "done skipped-scene-1094-CAM_FRONT_RIGHT-2018-11-21-3-47-27-920339.mp4\n",
      "misalignment: 0.0450893617 %\n",
      "max misalignment: 8.882 %\n"
     ]
    },
    {
     "name": "stderr",
     "output_type": "stream",
     "text": [
      "100%|███████████████████████████████████████████████████████████████████████████████████████████████████████████████████████████████████████████████████▎| 234/235 [00:00<00:00, 204302.07it/s]\n"
     ]
    },
    {
     "name": "stdout",
     "output_type": "stream",
     "text": [
      "Writing scene (/data/apperception-data/processed/nuscenes/full-dataset-v1.0/Mini/videos/singapore-hollandvillage/skipped-scene-1094-CAM_BACK_RIGHT-2018-11-21-3-47-27-927893.mp4):\n"
     ]
    },
    {
     "name": "stderr",
     "output_type": "stream",
     "text": [
      "100%|████████████████████████████████████████████████████████████████████████████████████████████████████████████████████████████████████████████████████████| 391/391 [00:07<00:00, 55.85it/s]\n"
     ]
    },
    {
     "name": "stdout",
     "output_type": "stream",
     "text": [
      "done skipped-scene-1094-CAM_BACK_RIGHT-2018-11-21-3-47-27-927893.mp4\n",
      "misalignment: 0.0302832618 %\n",
      "max misalignment: 4.324 %\n"
     ]
    },
    {
     "name": "stderr",
     "output_type": "stream",
     "text": [
      "100%|███████████████████████████████████████████████████████████████████████████████████████████████████████████████████████████████████████████████████▎| 232/233 [00:00<00:00, 205681.36it/s]\n"
     ]
    },
    {
     "name": "stdout",
     "output_type": "stream",
     "text": [
      "Writing scene (/data/apperception-data/processed/nuscenes/full-dataset-v1.0/Mini/videos/singapore-hollandvillage/skipped-scene-1094-CAM_BACK-2018-11-21-3-47-27-937525.mp4):\n"
     ]
    },
    {
     "name": "stderr",
     "output_type": "stream",
     "text": [
      "100%|████████████████████████████████████████████████████████████████████████████████████████████████████████████████████████████████████████████████████████| 391/391 [00:06<00:00, 57.66it/s]\n"
     ]
    },
    {
     "name": "stdout",
     "output_type": "stream",
     "text": [
      "done skipped-scene-1094-CAM_BACK-2018-11-21-3-47-27-937525.mp4\n",
      "misalignment: 0.0015720524 %\n",
      "max misalignment: 0.132 %\n"
     ]
    },
    {
     "name": "stderr",
     "output_type": "stream",
     "text": [
      "100%|███████████████████████████████████████████████████████████████████████████████████████████████████████████████████████████████████████████████████▎| 228/229 [00:00<00:00, 350293.52it/s]\n"
     ]
    },
    {
     "name": "stdout",
     "output_type": "stream",
     "text": [
      "Writing scene (/data/apperception-data/processed/nuscenes/full-dataset-v1.0/Mini/videos/singapore-hollandvillage/skipped-scene-1094-CAM_BACK_LEFT-2018-11-21-3-47-27-947423.mp4):\n"
     ]
    },
    {
     "name": "stderr",
     "output_type": "stream",
     "text": [
      "100%|████████████████████████████████████████████████████████████████████████████████████████████████████████████████████████████████████████████████████████| 391/391 [00:06<00:00, 58.37it/s]\n"
     ]
    },
    {
     "name": "stdout",
     "output_type": "stream",
     "text": [
      "done skipped-scene-1094-CAM_BACK_LEFT-2018-11-21-3-47-27-947423.mp4\n",
      "misalignment: 0.0006952790 %\n",
      "max misalignment: 0.132 %\n"
     ]
    },
    {
     "name": "stderr",
     "output_type": "stream",
     "text": [
      "100%|███████████████████████████████████████████████████████████████████████████████████████████████████████████████████████████████████████████████████▎| 232/233 [00:00<00:00, 160177.54it/s]\n"
     ]
    },
    {
     "name": "stdout",
     "output_type": "stream",
     "text": [
      "Writing scene (/data/apperception-data/processed/nuscenes/full-dataset-v1.0/Mini/videos/singapore-hollandvillage/skipped-scene-1100-CAM_FRONT_LEFT-2018-11-21-3-49-47-904844.mp4):\n"
     ]
    },
    {
     "name": "stderr",
     "output_type": "stream",
     "text": [
      "100%|████████████████████████████████████████████████████████████████████████████████████████████████████████████████████████████████████████████████████████| 391/391 [00:06<00:00, 56.45it/s]\n"
     ]
    },
    {
     "name": "stdout",
     "output_type": "stream",
     "text": [
      "done skipped-scene-1100-CAM_FRONT_LEFT-2018-11-21-3-49-47-904844.mp4\n",
      "misalignment: 0.0013103448 %\n",
      "max misalignment: 0.220 %\n"
     ]
    },
    {
     "name": "stderr",
     "output_type": "stream",
     "text": [
      "100%|███████████████████████████████████████████████████████████████████████████████████████████████████████████████████████████████████████████████████▎| 231/232 [00:00<00:00, 323933.21it/s]\n"
     ]
    },
    {
     "name": "stdout",
     "output_type": "stream",
     "text": [
      "Writing scene (/data/apperception-data/processed/nuscenes/full-dataset-v1.0/Mini/videos/singapore-hollandvillage/skipped-scene-1100-CAM_FRONT-2018-11-21-3-49-47-912460.mp4):\n"
     ]
    },
    {
     "name": "stderr",
     "output_type": "stream",
     "text": [
      "100%|████████████████████████████████████████████████████████████████████████████████████████████████████████████████████████████████████████████████████████| 391/391 [00:06<00:00, 56.59it/s]\n"
     ]
    },
    {
     "name": "stdout",
     "output_type": "stream",
     "text": [
      "done skipped-scene-1100-CAM_FRONT-2018-11-21-3-49-47-912460.mp4\n",
      "misalignment: 0.0142403433 %\n",
      "max misalignment: 3.092 %\n"
     ]
    },
    {
     "name": "stderr",
     "output_type": "stream",
     "text": [
      "100%|███████████████████████████████████████████████████████████████████████████████████████████████████████████████████████████████████████████████████▎| 232/233 [00:00<00:00, 177569.07it/s]\n"
     ]
    },
    {
     "name": "stdout",
     "output_type": "stream",
     "text": [
      "Writing scene (/data/apperception-data/processed/nuscenes/full-dataset-v1.0/Mini/videos/singapore-hollandvillage/skipped-scene-1100-CAM_FRONT_RIGHT-2018-11-21-3-49-47-920339.mp4):\n"
     ]
    },
    {
     "name": "stderr",
     "output_type": "stream",
     "text": [
      "100%|████████████████████████████████████████████████████████████████████████████████████████████████████████████████████████████████████████████████████████| 391/391 [00:07<00:00, 54.79it/s]\n"
     ]
    },
    {
     "name": "stdout",
     "output_type": "stream",
     "text": [
      "done skipped-scene-1100-CAM_FRONT_RIGHT-2018-11-21-3-49-47-920339.mp4\n",
      "misalignment: 0.0856495726 %\n",
      "max misalignment: 8.754 %\n"
     ]
    },
    {
     "name": "stderr",
     "output_type": "stream",
     "text": [
      "100%|███████████████████████████████████████████████████████████████████████████████████████████████████████████████████████████████████████████████████▎| 233/234 [00:00<00:00, 204836.06it/s]\n"
     ]
    },
    {
     "name": "stdout",
     "output_type": "stream",
     "text": [
      "Writing scene (/data/apperception-data/processed/nuscenes/full-dataset-v1.0/Mini/videos/singapore-hollandvillage/skipped-scene-1100-CAM_BACK_RIGHT-2018-11-21-3-49-47-927893.mp4):\n"
     ]
    },
    {
     "name": "stderr",
     "output_type": "stream",
     "text": [
      "100%|████████████████████████████████████████████████████████████████████████████████████████████████████████████████████████████████████████████████████████| 391/391 [00:07<00:00, 55.40it/s]\n"
     ]
    },
    {
     "name": "stdout",
     "output_type": "stream",
     "text": [
      "done skipped-scene-1100-CAM_BACK_RIGHT-2018-11-21-3-49-47-927893.mp4\n",
      "misalignment: 0.0201111111 %\n",
      "max misalignment: 4.252 %\n"
     ]
    },
    {
     "name": "stderr",
     "output_type": "stream",
     "text": [
      "100%|███████████████████████████████████████████████████████████████████████████████████████████████████████████████████████████████████████████████████▎| 233/234 [00:00<00:00, 255429.39it/s]\n"
     ]
    },
    {
     "name": "stdout",
     "output_type": "stream",
     "text": [
      "Writing scene (/data/apperception-data/processed/nuscenes/full-dataset-v1.0/Mini/videos/singapore-hollandvillage/skipped-scene-1100-CAM_BACK-2018-11-21-3-49-47-937525.mp4):\n"
     ]
    },
    {
     "name": "stderr",
     "output_type": "stream",
     "text": [
      "100%|████████████████████████████████████████████████████████████████████████████████████████████████████████████████████████████████████████████████████████| 391/391 [00:06<00:00, 57.37it/s]\n"
     ]
    },
    {
     "name": "stdout",
     "output_type": "stream",
     "text": [
      "done skipped-scene-1100-CAM_BACK-2018-11-21-3-49-47-937525.mp4\n",
      "misalignment: 0.0009783550 %\n",
      "max misalignment: 0.046 %\n"
     ]
    },
    {
     "name": "stderr",
     "output_type": "stream",
     "text": [
      "100%|███████████████████████████████████████████████████████████████████████████████████████████████████████████████████████████████████████████████████▎| 230/231 [00:00<00:00, 202793.76it/s]\n"
     ]
    },
    {
     "name": "stdout",
     "output_type": "stream",
     "text": [
      "Writing scene (/data/apperception-data/processed/nuscenes/full-dataset-v1.0/Mini/videos/singapore-hollandvillage/skipped-scene-1100-CAM_BACK_LEFT-2018-11-21-3-49-47-947423.mp4):\n"
     ]
    },
    {
     "name": "stderr",
     "output_type": "stream",
     "text": [
      "100%|████████████████████████████████████████████████████████████████████████████████████████████████████████████████████████████████████████████████████████| 391/391 [00:07<00:00, 55.34it/s]\n"
     ]
    },
    {
     "name": "stdout",
     "output_type": "stream",
     "text": [
      "done skipped-scene-1100-CAM_BACK_LEFT-2018-11-21-3-49-47-947423.mp4\n",
      "Reading images\n"
     ]
    },
    {
     "name": "stderr",
     "output_type": "stream",
     "text": [
      "100%|█████████████████████████████████████████████████████████████████████████████████████████████████████████████████████████████████████████████████████| 5639/5639 [00:37<00:00, 149.85it/s]\n"
     ]
    },
    {
     "name": "stdout",
     "output_type": "stream",
     "text": [
      "Done Loading Images\n",
      "misalignment: 0.0680952381 %\n",
      "max misalignment: 6.200 %\n"
     ]
    },
    {
     "name": "stderr",
     "output_type": "stream",
     "text": [
      "100%|███████████████████████████████████████████████████████████████████████████████████████████████████████████████████████████████████████████████████▎| 230/231 [00:00<00:00, 182568.12it/s]\n"
     ]
    },
    {
     "name": "stdout",
     "output_type": "stream",
     "text": [
      "Writing scene (/data/apperception-data/processed/nuscenes/full-dataset-v1.0/Mini/videos/boston-seaport/skipped-scene-0103-CAM_FRONT_LEFT-2018-8-1-12-26-43-504799.mp4):\n"
     ]
    },
    {
     "name": "stderr",
     "output_type": "stream",
     "text": [
      "100%|████████████████████████████████████████████████████████████████████████████████████████████████████████████████████████████████████████████████████████| 389/389 [00:06<00:00, 62.24it/s]\n"
     ]
    },
    {
     "name": "stdout",
     "output_type": "stream",
     "text": [
      "done skipped-scene-0103-CAM_FRONT_LEFT-2018-8-1-12-26-43-504799.mp4\n",
      "misalignment: 0.0062532751 %\n",
      "max misalignment: 0.534 %\n"
     ]
    },
    {
     "name": "stderr",
     "output_type": "stream",
     "text": [
      "100%|███████████████████████████████████████████████████████████████████████████████████████████████████████████████████████████████████████████████████▎| 228/229 [00:00<00:00, 193426.64it/s]\n"
     ]
    },
    {
     "name": "stdout",
     "output_type": "stream",
     "text": [
      "Writing scene (/data/apperception-data/processed/nuscenes/full-dataset-v1.0/Mini/videos/boston-seaport/skipped-scene-0103-CAM_FRONT-2018-8-1-12-26-43-512404.mp4):\n"
     ]
    },
    {
     "name": "stderr",
     "output_type": "stream",
     "text": [
      "100%|████████████████████████████████████████████████████████████████████████████████████████████████████████████████████████████████████████████████████████| 389/389 [00:05<00:00, 67.96it/s]\n"
     ]
    },
    {
     "name": "stdout",
     "output_type": "stream",
     "text": [
      "done skipped-scene-0103-CAM_FRONT-2018-8-1-12-26-43-512404.mp4\n",
      "misalignment: 0.0017854077 %\n",
      "max misalignment: 0.380 %\n"
     ]
    },
    {
     "name": "stderr",
     "output_type": "stream",
     "text": [
      "100%|███████████████████████████████████████████████████████████████████████████████████████████████████████████████████████████████████████████████████▎| 232/233 [00:00<00:00, 337405.87it/s]\n"
     ]
    },
    {
     "name": "stdout",
     "output_type": "stream",
     "text": [
      "Writing scene (/data/apperception-data/processed/nuscenes/full-dataset-v1.0/Mini/videos/boston-seaport/skipped-scene-0103-CAM_FRONT_RIGHT-2018-8-1-12-26-43-520482.mp4):\n"
     ]
    },
    {
     "name": "stderr",
     "output_type": "stream",
     "text": [
      "100%|████████████████████████████████████████████████████████████████████████████████████████████████████████████████████████████████████████████████████████| 389/389 [00:06<00:00, 63.58it/s]\n"
     ]
    },
    {
     "name": "stdout",
     "output_type": "stream",
     "text": [
      "done skipped-scene-0103-CAM_FRONT_RIGHT-2018-8-1-12-26-43-520482.mp4\n",
      "misalignment: 0.0031111111 %\n",
      "max misalignment: 0.514 %\n"
     ]
    },
    {
     "name": "stderr",
     "output_type": "stream",
     "text": [
      "100%|███████████████████████████████████████████████████████████████████████████████████████████████████████████████████████████████████████████████████▎| 233/234 [00:00<00:00, 351031.91it/s]\n"
     ]
    },
    {
     "name": "stdout",
     "output_type": "stream",
     "text": [
      "Writing scene (/data/apperception-data/processed/nuscenes/full-dataset-v1.0/Mini/videos/boston-seaport/skipped-scene-0103-CAM_BACK_RIGHT-2018-8-1-12-26-43-528113.mp4):\n"
     ]
    },
    {
     "name": "stderr",
     "output_type": "stream",
     "text": [
      "100%|████████████████████████████████████████████████████████████████████████████████████████████████████████████████████████████████████████████████████████| 389/389 [00:06<00:00, 62.83it/s]\n"
     ]
    },
    {
     "name": "stdout",
     "output_type": "stream",
     "text": [
      "done skipped-scene-0103-CAM_BACK_RIGHT-2018-8-1-12-26-43-528113.mp4\n",
      "misalignment: 0.0294061135 %\n",
      "max misalignment: 4.184 %\n"
     ]
    },
    {
     "name": "stderr",
     "output_type": "stream",
     "text": [
      "100%|███████████████████████████████████████████████████████████████████████████████████████████████████████████████████████████████████████████████████▎| 228/229 [00:00<00:00, 200398.43it/s]\n"
     ]
    },
    {
     "name": "stdout",
     "output_type": "stream",
     "text": [
      "Writing scene (/data/apperception-data/processed/nuscenes/full-dataset-v1.0/Mini/videos/boston-seaport/skipped-scene-0103-CAM_BACK-2018-8-1-12-26-43-537558.mp4):\n"
     ]
    },
    {
     "name": "stderr",
     "output_type": "stream",
     "text": [
      "100%|████████████████████████████████████████████████████████████████████████████████████████████████████████████████████████████████████████████████████████| 389/389 [00:05<00:00, 69.27it/s]\n"
     ]
    },
    {
     "name": "stdout",
     "output_type": "stream",
     "text": [
      "done skipped-scene-0103-CAM_BACK-2018-8-1-12-26-43-537558.mp4\n",
      "misalignment: 0.0107105263 %\n",
      "max misalignment: 1.430 %\n"
     ]
    },
    {
     "name": "stderr",
     "output_type": "stream",
     "text": [
      "100%|███████████████████████████████████████████████████████████████████████████████████████████████████████████████████████████████████████████████████▎| 227/228 [00:00<00:00, 201504.13it/s]\n"
     ]
    },
    {
     "name": "stdout",
     "output_type": "stream",
     "text": [
      "Writing scene (/data/apperception-data/processed/nuscenes/full-dataset-v1.0/Mini/videos/boston-seaport/skipped-scene-0103-CAM_BACK_LEFT-2018-8-1-12-26-43-547405.mp4):\n"
     ]
    },
    {
     "name": "stderr",
     "output_type": "stream",
     "text": [
      "100%|████████████████████████████████████████████████████████████████████████████████████████████████████████████████████████████████████████████████████████| 389/389 [00:05<00:00, 65.31it/s]\n"
     ]
    },
    {
     "name": "stdout",
     "output_type": "stream",
     "text": [
      "done skipped-scene-0103-CAM_BACK_LEFT-2018-8-1-12-26-43-547405.mp4\n",
      "misalignment: 0.0001506276 %\n",
      "max misalignment: 0.036 %\n"
     ]
    },
    {
     "name": "stderr",
     "output_type": "stream",
     "text": [
      "100%|███████████████████████████████████████████████████████████████████████████████████████████████████████████████████████████████████████████████████▍| 238/239 [00:00<00:00, 185581.77it/s]\n"
     ]
    },
    {
     "name": "stdout",
     "output_type": "stream",
     "text": [
      "Writing scene (/data/apperception-data/processed/nuscenes/full-dataset-v1.0/Mini/videos/boston-seaport/skipped-scene-0553-CAM_FRONT_LEFT-2018-8-28-13-48-16-4799.mp4):\n"
     ]
    },
    {
     "name": "stderr",
     "output_type": "stream",
     "text": [
      "100%|████████████████████████████████████████████████████████████████████████████████████████████████████████████████████████████████████████████████████████| 399/399 [00:04<00:00, 82.79it/s]\n"
     ]
    },
    {
     "name": "stdout",
     "output_type": "stream",
     "text": [
      "done skipped-scene-0553-CAM_FRONT_LEFT-2018-8-28-13-48-16-4799.mp4\n",
      "misalignment: 0.0173755274 %\n",
      "max misalignment: 4.018 %\n"
     ]
    },
    {
     "name": "stderr",
     "output_type": "stream",
     "text": [
      "100%|███████████████████████████████████████████████████████████████████████████████████████████████████████████████████████████████████████████████████▍| 236/237 [00:00<00:00, 193595.88it/s]\n"
     ]
    },
    {
     "name": "stdout",
     "output_type": "stream",
     "text": [
      "Writing scene (/data/apperception-data/processed/nuscenes/full-dataset-v1.0/Mini/videos/boston-seaport/skipped-scene-0553-CAM_FRONT-2018-8-28-13-48-16-12404.mp4):\n"
     ]
    },
    {
     "name": "stderr",
     "output_type": "stream",
     "text": [
      "100%|████████████████████████████████████████████████████████████████████████████████████████████████████████████████████████████████████████████████████████| 399/399 [00:04<00:00, 82.95it/s]\n"
     ]
    },
    {
     "name": "stdout",
     "output_type": "stream",
     "text": [
      "done skipped-scene-0553-CAM_FRONT-2018-8-28-13-48-16-12404.mp4\n",
      "misalignment: 0.0008451883 %\n",
      "max misalignment: 0.038 %\n"
     ]
    },
    {
     "name": "stderr",
     "output_type": "stream",
     "text": [
      "100%|███████████████████████████████████████████████████████████████████████████████████████████████████████████████████████████████████████████████████▍| 238/239 [00:00<00:00, 361945.02it/s]\n"
     ]
    },
    {
     "name": "stdout",
     "output_type": "stream",
     "text": [
      "Writing scene (/data/apperception-data/processed/nuscenes/full-dataset-v1.0/Mini/videos/boston-seaport/skipped-scene-0553-CAM_FRONT_RIGHT-2018-8-28-13-48-16-20482.mp4):\n"
     ]
    },
    {
     "name": "stderr",
     "output_type": "stream",
     "text": [
      "100%|████████████████████████████████████████████████████████████████████████████████████████████████████████████████████████████████████████████████████████| 399/399 [00:04<00:00, 80.67it/s]\n"
     ]
    },
    {
     "name": "stdout",
     "output_type": "stream",
     "text": [
      "done skipped-scene-0553-CAM_FRONT_RIGHT-2018-8-28-13-48-16-20482.mp4\n",
      "misalignment: 0.0467033898 %\n",
      "max misalignment: 6.878 %\n"
     ]
    },
    {
     "name": "stderr",
     "output_type": "stream",
     "text": [
      "100%|███████████████████████████████████████████████████████████████████████████████████████████████████████████████████████████████████████████████████▎| 235/236 [00:00<00:00, 221000.32it/s]\n"
     ]
    },
    {
     "name": "stdout",
     "output_type": "stream",
     "text": [
      "Writing scene (/data/apperception-data/processed/nuscenes/full-dataset-v1.0/Mini/videos/boston-seaport/skipped-scene-0553-CAM_BACK_RIGHT-2018-8-28-13-48-16-28113.mp4):\n"
     ]
    },
    {
     "name": "stderr",
     "output_type": "stream",
     "text": [
      "100%|████████████████████████████████████████████████████████████████████████████████████████████████████████████████████████████████████████████████████████| 399/399 [00:05<00:00, 78.07it/s]\n"
     ]
    },
    {
     "name": "stdout",
     "output_type": "stream",
     "text": [
      "done skipped-scene-0553-CAM_BACK_RIGHT-2018-8-28-13-48-16-28113.mp4\n",
      "misalignment: 0.0157702128 %\n",
      "max misalignment: 2.106 %\n"
     ]
    },
    {
     "name": "stderr",
     "output_type": "stream",
     "text": [
      "100%|███████████████████████████████████████████████████████████████████████████████████████████████████████████████████████████████████████████████████▎| 234/235 [00:00<00:00, 297414.28it/s]\n"
     ]
    },
    {
     "name": "stdout",
     "output_type": "stream",
     "text": [
      "Writing scene (/data/apperception-data/processed/nuscenes/full-dataset-v1.0/Mini/videos/boston-seaport/skipped-scene-0553-CAM_BACK-2018-8-28-13-48-16-37558.mp4):\n"
     ]
    },
    {
     "name": "stderr",
     "output_type": "stream",
     "text": [
      "100%|████████████████████████████████████████████████████████████████████████████████████████████████████████████████████████████████████████████████████████| 399/399 [00:05<00:00, 70.10it/s]\n"
     ]
    },
    {
     "name": "stdout",
     "output_type": "stream",
     "text": [
      "done skipped-scene-0553-CAM_BACK-2018-8-28-13-48-16-37558.mp4\n",
      "misalignment: 0.0713586498 %\n",
      "max misalignment: 8.232 %\n"
     ]
    },
    {
     "name": "stderr",
     "output_type": "stream",
     "text": [
      "100%|████████████████████████████████████████████████████████████████████████████████████████████████████████████████████████████████████████████████████▎| 236/237 [00:00<00:00, 94083.81it/s]\n"
     ]
    },
    {
     "name": "stdout",
     "output_type": "stream",
     "text": [
      "Writing scene (/data/apperception-data/processed/nuscenes/full-dataset-v1.0/Mini/videos/boston-seaport/skipped-scene-0553-CAM_BACK_LEFT-2018-8-28-13-48-16-47405.mp4):\n"
     ]
    },
    {
     "name": "stderr",
     "output_type": "stream",
     "text": [
      "100%|████████████████████████████████████████████████████████████████████████████████████████████████████████████████████████████████████████████████████████| 399/399 [00:04<00:00, 80.20it/s]\n"
     ]
    },
    {
     "name": "stdout",
     "output_type": "stream",
     "text": [
      "done skipped-scene-0553-CAM_BACK_LEFT-2018-8-28-13-48-16-47405.mp4\n",
      "misalignment: 0.0422109705 %\n",
      "max misalignment: 7.304 %\n"
     ]
    },
    {
     "name": "stderr",
     "output_type": "stream",
     "text": [
      "100%|███████████████████████████████████████████████████████████████████████████████████████████████████████████████████████████████████████████████████▍| 236/237 [00:00<00:00, 246478.02it/s]\n"
     ]
    },
    {
     "name": "stdout",
     "output_type": "stream",
     "text": [
      "Writing scene (/data/apperception-data/processed/nuscenes/full-dataset-v1.0/Mini/videos/boston-seaport/skipped-scene-0655-CAM_FRONT_LEFT-2018-8-27-8-51-32-104799.mp4):\n"
     ]
    },
    {
     "name": "stderr",
     "output_type": "stream",
     "text": [
      "100%|████████████████████████████████████████████████████████████████████████████████████████████████████████████████████████████████████████████████████████| 397/397 [00:05<00:00, 68.60it/s]\n"
     ]
    },
    {
     "name": "stdout",
     "output_type": "stream",
     "text": [
      "done skipped-scene-0655-CAM_FRONT_LEFT-2018-8-27-8-51-32-104799.mp4\n",
      "misalignment: 0.0085822785 %\n",
      "max misalignment: 0.872 %\n"
     ]
    },
    {
     "name": "stderr",
     "output_type": "stream",
     "text": [
      "100%|███████████████████████████████████████████████████████████████████████████████████████████████████████████████████████████████████████████████████▍| 236/237 [00:00<00:00, 213791.74it/s]\n"
     ]
    },
    {
     "name": "stdout",
     "output_type": "stream",
     "text": [
      "Writing scene (/data/apperception-data/processed/nuscenes/full-dataset-v1.0/Mini/videos/boston-seaport/skipped-scene-0655-CAM_FRONT-2018-8-27-8-51-32-112404.mp4):\n"
     ]
    },
    {
     "name": "stderr",
     "output_type": "stream",
     "text": [
      "100%|████████████████████████████████████████████████████████████████████████████████████████████████████████████████████████████████████████████████████████| 397/397 [00:05<00:00, 71.54it/s]\n"
     ]
    },
    {
     "name": "stdout",
     "output_type": "stream",
     "text": [
      "done skipped-scene-0655-CAM_FRONT-2018-8-27-8-51-32-112404.mp4\n",
      "misalignment: 0.0366186441 %\n",
      "max misalignment: 4.934 %\n"
     ]
    },
    {
     "name": "stderr",
     "output_type": "stream",
     "text": [
      "100%|███████████████████████████████████████████████████████████████████████████████████████████████████████████████████████████████████████████████████▎| 235/236 [00:00<00:00, 359206.06it/s]\n"
     ]
    },
    {
     "name": "stdout",
     "output_type": "stream",
     "text": [
      "Writing scene (/data/apperception-data/processed/nuscenes/full-dataset-v1.0/Mini/videos/boston-seaport/skipped-scene-0655-CAM_FRONT_RIGHT-2018-8-27-8-51-32-120482.mp4):\n"
     ]
    },
    {
     "name": "stderr",
     "output_type": "stream",
     "text": [
      "100%|████████████████████████████████████████████████████████████████████████████████████████████████████████████████████████████████████████████████████████| 397/397 [00:05<00:00, 67.23it/s]\n"
     ]
    },
    {
     "name": "stdout",
     "output_type": "stream",
     "text": [
      "done skipped-scene-0655-CAM_FRONT_RIGHT-2018-8-27-8-51-32-120482.mp4\n",
      "misalignment: 0.0076624473 %\n",
      "max misalignment: 0.738 %\n"
     ]
    },
    {
     "name": "stderr",
     "output_type": "stream",
     "text": [
      "100%|███████████████████████████████████████████████████████████████████████████████████████████████████████████████████████████████████████████████████▍| 236/237 [00:00<00:00, 326254.37it/s]\n"
     ]
    },
    {
     "name": "stdout",
     "output_type": "stream",
     "text": [
      "Writing scene (/data/apperception-data/processed/nuscenes/full-dataset-v1.0/Mini/videos/boston-seaport/skipped-scene-0655-CAM_BACK_RIGHT-2018-8-27-8-51-32-128113.mp4):\n"
     ]
    },
    {
     "name": "stderr",
     "output_type": "stream",
     "text": [
      "100%|████████████████████████████████████████████████████████████████████████████████████████████████████████████████████████████████████████████████████████| 397/397 [00:05<00:00, 71.44it/s]\n"
     ]
    },
    {
     "name": "stdout",
     "output_type": "stream",
     "text": [
      "done skipped-scene-0655-CAM_BACK_RIGHT-2018-8-27-8-51-32-128113.mp4\n",
      "misalignment: 0.0520608696 %\n",
      "max misalignment: 5.812 %\n"
     ]
    },
    {
     "name": "stderr",
     "output_type": "stream",
     "text": [
      "100%|███████████████████████████████████████████████████████████████████████████████████████████████████████████████████████████████████████████████████▎| 229/230 [00:00<00:00, 300342.59it/s]\n"
     ]
    },
    {
     "name": "stdout",
     "output_type": "stream",
     "text": [
      "Writing scene (/data/apperception-data/processed/nuscenes/full-dataset-v1.0/Mini/videos/boston-seaport/skipped-scene-0655-CAM_BACK-2018-8-27-8-51-32-137558.mp4):\n"
     ]
    },
    {
     "name": "stderr",
     "output_type": "stream",
     "text": [
      "100%|████████████████████████████████████████████████████████████████████████████████████████████████████████████████████████████████████████████████████████| 397/397 [00:05<00:00, 77.31it/s]\n"
     ]
    },
    {
     "name": "stdout",
     "output_type": "stream",
     "text": [
      "done skipped-scene-0655-CAM_BACK-2018-8-27-8-51-32-137558.mp4\n",
      "misalignment: 0.0530808511 %\n",
      "max misalignment: 5.184 %\n"
     ]
    },
    {
     "name": "stderr",
     "output_type": "stream",
     "text": [
      "100%|███████████████████████████████████████████████████████████████████████████████████████████████████████████████████████████████████████████████████▎| 234/235 [00:00<00:00, 314572.80it/s]\n"
     ]
    },
    {
     "name": "stdout",
     "output_type": "stream",
     "text": [
      "Writing scene (/data/apperception-data/processed/nuscenes/full-dataset-v1.0/Mini/videos/boston-seaport/skipped-scene-0655-CAM_BACK_LEFT-2018-8-27-8-51-32-147405.mp4):\n"
     ]
    },
    {
     "name": "stderr",
     "output_type": "stream",
     "text": [
      "100%|████████████████████████████████████████████████████████████████████████████████████████████████████████████████████████████████████████████████████████| 397/397 [00:05<00:00, 73.10it/s]\n"
     ]
    },
    {
     "name": "stdout",
     "output_type": "stream",
     "text": [
      "done skipped-scene-0655-CAM_BACK_LEFT-2018-8-27-8-51-32-147405.mp4\n",
      "misalignment: 0.0000254237 %\n",
      "max misalignment: 0.004 %\n"
     ]
    },
    {
     "name": "stderr",
     "output_type": "stream",
     "text": [
      "100%|███████████████████████████████████████████████████████████████████████████████████████████████████████████████████████████████████████████████████▎| 235/236 [00:00<00:00, 273718.81it/s]\n"
     ]
    },
    {
     "name": "stdout",
     "output_type": "stream",
     "text": [
      "Writing scene (/data/apperception-data/processed/nuscenes/full-dataset-v1.0/Mini/videos/boston-seaport/skipped-scene-0757-CAM_FRONT_LEFT-2018-8-30-12-25-8-254799.mp4):\n"
     ]
    },
    {
     "name": "stderr",
     "output_type": "stream",
     "text": [
      "100%|████████████████████████████████████████████████████████████████████████████████████████████████████████████████████████████████████████████████████████| 398/398 [00:04<00:00, 82.55it/s]\n"
     ]
    },
    {
     "name": "stdout",
     "output_type": "stream",
     "text": [
      "done skipped-scene-0757-CAM_FRONT_LEFT-2018-8-30-12-25-8-254799.mp4\n",
      "misalignment: 0.0004810127 %\n",
      "max misalignment: 0.106 %\n"
     ]
    },
    {
     "name": "stderr",
     "output_type": "stream",
     "text": [
      "100%|███████████████████████████████████████████████████████████████████████████████████████████████████████████████████████████████████████████████████▍| 236/237 [00:00<00:00, 247278.48it/s]\n"
     ]
    },
    {
     "name": "stdout",
     "output_type": "stream",
     "text": [
      "Writing scene (/data/apperception-data/processed/nuscenes/full-dataset-v1.0/Mini/videos/boston-seaport/skipped-scene-0757-CAM_FRONT-2018-8-30-12-25-8-262404.mp4):\n"
     ]
    },
    {
     "name": "stderr",
     "output_type": "stream",
     "text": [
      "100%|████████████████████████████████████████████████████████████████████████████████████████████████████████████████████████████████████████████████████████| 398/398 [00:04<00:00, 87.08it/s]\n"
     ]
    },
    {
     "name": "stdout",
     "output_type": "stream",
     "text": [
      "done skipped-scene-0757-CAM_FRONT-2018-8-30-12-25-8-262404.mp4\n",
      "misalignment: 0.0012372881 %\n",
      "max misalignment: 0.130 %\n"
     ]
    },
    {
     "name": "stderr",
     "output_type": "stream",
     "text": [
      "100%|███████████████████████████████████████████████████████████████████████████████████████████████████████████████████████████████████████████████████▎| 235/236 [00:00<00:00, 312115.72it/s]\n"
     ]
    },
    {
     "name": "stdout",
     "output_type": "stream",
     "text": [
      "Writing scene (/data/apperception-data/processed/nuscenes/full-dataset-v1.0/Mini/videos/boston-seaport/skipped-scene-0757-CAM_FRONT_RIGHT-2018-8-30-12-25-8-270482.mp4):\n"
     ]
    },
    {
     "name": "stderr",
     "output_type": "stream",
     "text": [
      "100%|████████████████████████████████████████████████████████████████████████████████████████████████████████████████████████████████████████████████████████| 398/398 [00:04<00:00, 82.95it/s]\n"
     ]
    },
    {
     "name": "stdout",
     "output_type": "stream",
     "text": [
      "done skipped-scene-0757-CAM_FRONT_RIGHT-2018-8-30-12-25-8-270482.mp4\n",
      "misalignment: 0.0011848739 %\n",
      "max misalignment: 0.182 %\n"
     ]
    },
    {
     "name": "stderr",
     "output_type": "stream",
     "text": [
      "100%|███████████████████████████████████████████████████████████████████████████████████████████████████████████████████████████████████████████████████▍| 237/238 [00:00<00:00, 313877.50it/s]\n"
     ]
    },
    {
     "name": "stdout",
     "output_type": "stream",
     "text": [
      "Writing scene (/data/apperception-data/processed/nuscenes/full-dataset-v1.0/Mini/videos/boston-seaport/skipped-scene-0757-CAM_BACK_RIGHT-2018-8-30-12-25-8-278113.mp4):\n"
     ]
    },
    {
     "name": "stderr",
     "output_type": "stream",
     "text": [
      "100%|████████████████████████████████████████████████████████████████████████████████████████████████████████████████████████████████████████████████████████| 398/398 [00:04<00:00, 84.26it/s]\n"
     ]
    },
    {
     "name": "stdout",
     "output_type": "stream",
     "text": [
      "done skipped-scene-0757-CAM_BACK_RIGHT-2018-8-30-12-25-8-278113.mp4\n",
      "misalignment: 0.0056510638 %\n",
      "max misalignment: 1.118 %\n"
     ]
    },
    {
     "name": "stderr",
     "output_type": "stream",
     "text": [
      "100%|███████████████████████████████████████████████████████████████████████████████████████████████████████████████████████████████████████████████████▎| 234/235 [00:00<00:00, 247595.14it/s]\n"
     ]
    },
    {
     "name": "stdout",
     "output_type": "stream",
     "text": [
      "Writing scene (/data/apperception-data/processed/nuscenes/full-dataset-v1.0/Mini/videos/boston-seaport/skipped-scene-0757-CAM_BACK-2018-8-30-12-25-8-287558.mp4):\n"
     ]
    },
    {
     "name": "stderr",
     "output_type": "stream",
     "text": [
      "100%|████████████████████████████████████████████████████████████████████████████████████████████████████████████████████████████████████████████████████████| 398/398 [00:04<00:00, 95.53it/s]\n"
     ]
    },
    {
     "name": "stdout",
     "output_type": "stream",
     "text": [
      "done skipped-scene-0757-CAM_BACK-2018-8-30-12-25-8-287558.mp4\n",
      "misalignment: 0.0007647059 %\n",
      "max misalignment: 0.102 %\n"
     ]
    },
    {
     "name": "stderr",
     "output_type": "stream",
     "text": [
      "100%|███████████████████████████████████████████████████████████████████████████████████████████████████████████████████████████████████████████████████▍| 237/238 [00:00<00:00, 306710.91it/s]\n"
     ]
    },
    {
     "name": "stdout",
     "output_type": "stream",
     "text": [
      "Writing scene (/data/apperception-data/processed/nuscenes/full-dataset-v1.0/Mini/videos/boston-seaport/skipped-scene-0757-CAM_BACK_LEFT-2018-8-30-12-25-8-297405.mp4):\n"
     ]
    },
    {
     "name": "stderr",
     "output_type": "stream",
     "text": [
      "100%|████████████████████████████████████████████████████████████████████████████████████████████████████████████████████████████████████████████████████████| 398/398 [00:04<00:00, 91.80it/s]\n"
     ]
    },
    {
     "name": "stdout",
     "output_type": "stream",
     "text": [
      "done skipped-scene-0757-CAM_BACK_LEFT-2018-8-30-12-25-8-297405.mp4\n",
      "Reading images\n"
     ]
    },
    {
     "name": "stderr",
     "output_type": "stream",
     "text": [
      "100%|█████████████████████████████████████████████████████████████████████████████████████████████████████████████████████████████████████████████████████| 2835/2835 [00:18<00:00, 149.30it/s]\n"
     ]
    },
    {
     "name": "stdout",
     "output_type": "stream",
     "text": [
      "Done Loading Images\n",
      "misalignment: 0.0005957447 %\n",
      "max misalignment: 0.082 %\n"
     ]
    },
    {
     "name": "stderr",
     "output_type": "stream",
     "text": [
      "100%|███████████████████████████████████████████████████████████████████████████████████████████████████████████████████████████████████████████████████▎| 234/235 [00:00<00:00, 109919.04it/s]\n"
     ]
    },
    {
     "name": "stdout",
     "output_type": "stream",
     "text": [
      "Writing scene (/data/apperception-data/processed/nuscenes/full-dataset-v1.0/Mini/videos/singapore-queenstown/skipped-scene-0796-CAM_FRONT_LEFT-2018-10-1-19-52-24-404844.mp4):\n"
     ]
    },
    {
     "name": "stderr",
     "output_type": "stream",
     "text": [
      "100%|████████████████████████████████████████████████████████████████████████████████████████████████████████████████████████████████████████████████████████| 393/393 [00:05<00:00, 76.12it/s]\n"
     ]
    },
    {
     "name": "stdout",
     "output_type": "stream",
     "text": [
      "done skipped-scene-0796-CAM_FRONT_LEFT-2018-10-1-19-52-24-404844.mp4\n",
      "misalignment: 0.0007264957 %\n",
      "max misalignment: 0.062 %\n"
     ]
    },
    {
     "name": "stderr",
     "output_type": "stream",
     "text": [
      "100%|███████████████████████████████████████████████████████████████████████████████████████████████████████████████████████████████████████████████████▎| 233/234 [00:00<00:00, 355113.67it/s]\n"
     ]
    },
    {
     "name": "stdout",
     "output_type": "stream",
     "text": [
      "Writing scene (/data/apperception-data/processed/nuscenes/full-dataset-v1.0/Mini/videos/singapore-queenstown/skipped-scene-0796-CAM_FRONT-2018-10-1-19-52-24-412460.mp4):\n"
     ]
    },
    {
     "name": "stderr",
     "output_type": "stream",
     "text": [
      "100%|████████████████████████████████████████████████████████████████████████████████████████████████████████████████████████████████████████████████████████| 393/393 [00:04<00:00, 84.58it/s]\n"
     ]
    },
    {
     "name": "stdout",
     "output_type": "stream",
     "text": [
      "done skipped-scene-0796-CAM_FRONT-2018-10-1-19-52-24-412460.mp4\n",
      "misalignment: 0.0859059829 %\n",
      "max misalignment: 13.528 %\n"
     ]
    },
    {
     "name": "stderr",
     "output_type": "stream",
     "text": [
      "100%|███████████████████████████████████████████████████████████████████████████████████████████████████████████████████████████████████████████████████▎| 233/234 [00:00<00:00, 318226.26it/s]\n"
     ]
    },
    {
     "name": "stdout",
     "output_type": "stream",
     "text": [
      "Writing scene (/data/apperception-data/processed/nuscenes/full-dataset-v1.0/Mini/videos/singapore-queenstown/skipped-scene-0796-CAM_FRONT_RIGHT-2018-10-1-19-52-24-420339.mp4):\n"
     ]
    },
    {
     "name": "stderr",
     "output_type": "stream",
     "text": [
      "100%|████████████████████████████████████████████████████████████████████████████████████████████████████████████████████████████████████████████████████████| 393/393 [00:04<00:00, 84.11it/s]\n"
     ]
    },
    {
     "name": "stdout",
     "output_type": "stream",
     "text": [
      "done skipped-scene-0796-CAM_FRONT_RIGHT-2018-10-1-19-52-24-420339.mp4\n",
      "misalignment: 0.0016277056 %\n",
      "max misalignment: 0.238 %\n"
     ]
    },
    {
     "name": "stderr",
     "output_type": "stream",
     "text": [
      "100%|███████████████████████████████████████████████████████████████████████████████████████████████████████████████████████████████████████████████████▎| 230/231 [00:00<00:00, 330034.18it/s]\n"
     ]
    },
    {
     "name": "stdout",
     "output_type": "stream",
     "text": [
      "Writing scene (/data/apperception-data/processed/nuscenes/full-dataset-v1.0/Mini/videos/singapore-queenstown/skipped-scene-0796-CAM_BACK_RIGHT-2018-10-1-19-52-24-427893.mp4):\n"
     ]
    },
    {
     "name": "stderr",
     "output_type": "stream",
     "text": [
      "100%|████████████████████████████████████████████████████████████████████████████████████████████████████████████████████████████████████████████████████████| 393/393 [00:04<00:00, 82.70it/s]\n"
     ]
    },
    {
     "name": "stdout",
     "output_type": "stream",
     "text": [
      "done skipped-scene-0796-CAM_BACK_RIGHT-2018-10-1-19-52-24-427893.mp4\n",
      "misalignment: 0.0098961039 %\n",
      "max misalignment: 0.514 %\n"
     ]
    },
    {
     "name": "stderr",
     "output_type": "stream",
     "text": [
      "100%|███████████████████████████████████████████████████████████████████████████████████████████████████████████████████████████████████████████████████▎| 230/231 [00:00<00:00, 373621.19it/s]\n"
     ]
    },
    {
     "name": "stdout",
     "output_type": "stream",
     "text": [
      "Writing scene (/data/apperception-data/processed/nuscenes/full-dataset-v1.0/Mini/videos/singapore-queenstown/skipped-scene-0796-CAM_BACK-2018-10-1-19-52-24-437780.mp4):\n"
     ]
    },
    {
     "name": "stderr",
     "output_type": "stream",
     "text": [
      "100%|████████████████████████████████████████████████████████████████████████████████████████████████████████████████████████████████████████████████████████| 393/393 [00:04<00:00, 84.18it/s]\n"
     ]
    },
    {
     "name": "stdout",
     "output_type": "stream",
     "text": [
      "done skipped-scene-0796-CAM_BACK-2018-10-1-19-52-24-437780.mp4\n",
      "misalignment: 0.0050683761 %\n",
      "max misalignment: 0.290 %\n"
     ]
    },
    {
     "name": "stderr",
     "output_type": "stream",
     "text": [
      "100%|███████████████████████████████████████████████████████████████████████████████████████████████████████████████████████████████████████████████████▎| 233/234 [00:00<00:00, 347289.56it/s]\n"
     ]
    },
    {
     "name": "stdout",
     "output_type": "stream",
     "text": [
      "Writing scene (/data/apperception-data/processed/nuscenes/full-dataset-v1.0/Mini/videos/singapore-queenstown/skipped-scene-0796-CAM_BACK_LEFT-2018-10-1-19-52-24-447423.mp4):\n"
     ]
    },
    {
     "name": "stderr",
     "output_type": "stream",
     "text": [
      "100%|████████████████████████████████████████████████████████████████████████████████████████████████████████████████████████████████████████████████████████| 393/393 [00:05<00:00, 70.96it/s]\n"
     ]
    },
    {
     "name": "stdout",
     "output_type": "stream",
     "text": [
      "done skipped-scene-0796-CAM_BACK_LEFT-2018-10-1-19-52-24-447423.mp4\n",
      "misalignment: 0.0001000000 %\n",
      "max misalignment: 0.014 %\n"
     ]
    },
    {
     "name": "stderr",
     "output_type": "stream",
     "text": [
      "100%|███████████████████████████████████████████████████████████████████████████████████████████████████████████████████████████████████████████████████▍| 239/240 [00:00<00:00, 227516.72it/s]\n"
     ]
    },
    {
     "name": "stdout",
     "output_type": "stream",
     "text": [
      "Writing scene (/data/apperception-data/processed/nuscenes/full-dataset-v1.0/Mini/videos/singapore-queenstown/skipped-scene-0916-CAM_FRONT_LEFT-2018-10-8-0-37-13-504844.mp4):\n"
     ]
    },
    {
     "name": "stderr",
     "output_type": "stream",
     "text": [
      "100%|████████████████████████████████████████████████████████████████████████████████████████████████████████████████████████████████████████████████████████| 399/399 [00:05<00:00, 69.92it/s]\n"
     ]
    },
    {
     "name": "stdout",
     "output_type": "stream",
     "text": [
      "done skipped-scene-0916-CAM_FRONT_LEFT-2018-10-8-0-37-13-504844.mp4\n",
      "misalignment: 0.0011750000 %\n",
      "max misalignment: 0.132 %\n"
     ]
    },
    {
     "name": "stderr",
     "output_type": "stream",
     "text": [
      "100%|███████████████████████████████████████████████████████████████████████████████████████████████████████████████████████████████████████████████████▍| 239/240 [00:00<00:00, 357885.99it/s]\n"
     ]
    },
    {
     "name": "stdout",
     "output_type": "stream",
     "text": [
      "Writing scene (/data/apperception-data/processed/nuscenes/full-dataset-v1.0/Mini/videos/singapore-queenstown/skipped-scene-0916-CAM_FRONT-2018-10-8-0-37-13-512470.mp4):\n"
     ]
    },
    {
     "name": "stderr",
     "output_type": "stream",
     "text": [
      "100%|████████████████████████████████████████████████████████████████████████████████████████████████████████████████████████████████████████████████████████| 399/399 [00:04<00:00, 83.97it/s]\n"
     ]
    },
    {
     "name": "stdout",
     "output_type": "stream",
     "text": [
      "done skipped-scene-0916-CAM_FRONT-2018-10-8-0-37-13-512470.mp4\n",
      "misalignment: 0.0005606695 %\n",
      "max misalignment: 0.038 %\n"
     ]
    },
    {
     "name": "stderr",
     "output_type": "stream",
     "text": [
      "100%|███████████████████████████████████████████████████████████████████████████████████████████████████████████████████████████████████████████████████▍| 238/239 [00:00<00:00, 345174.40it/s]\n"
     ]
    },
    {
     "name": "stdout",
     "output_type": "stream",
     "text": [
      "Writing scene (/data/apperception-data/processed/nuscenes/full-dataset-v1.0/Mini/videos/singapore-queenstown/skipped-scene-0916-CAM_FRONT_RIGHT-2018-10-8-0-37-13-520339.mp4):\n"
     ]
    },
    {
     "name": "stderr",
     "output_type": "stream",
     "text": [
      "100%|████████████████████████████████████████████████████████████████████████████████████████████████████████████████████████████████████████████████████████| 399/399 [00:04<00:00, 83.00it/s]\n"
     ]
    },
    {
     "name": "stdout",
     "output_type": "stream",
     "text": [
      "done skipped-scene-0916-CAM_FRONT_RIGHT-2018-10-8-0-37-13-520339.mp4\n",
      "misalignment: 0.0068666667 %\n",
      "max misalignment: 1.328 %\n"
     ]
    },
    {
     "name": "stderr",
     "output_type": "stream",
     "text": [
      "100%|███████████████████████████████████████████████████████████████████████████████████████████████████████████████████████████████████████████████████▍| 239/240 [00:00<00:00, 352971.36it/s]\n"
     ]
    },
    {
     "name": "stdout",
     "output_type": "stream",
     "text": [
      "Writing scene (/data/apperception-data/processed/nuscenes/full-dataset-v1.0/Mini/videos/singapore-queenstown/skipped-scene-0916-CAM_BACK_RIGHT-2018-10-8-0-37-13-527893.mp4):\n"
     ]
    },
    {
     "name": "stderr",
     "output_type": "stream",
     "text": [
      "100%|████████████████████████████████████████████████████████████████████████████████████████████████████████████████████████████████████████████████████████| 399/399 [00:05<00:00, 76.06it/s]\n"
     ]
    },
    {
     "name": "stdout",
     "output_type": "stream",
     "text": [
      "done skipped-scene-0916-CAM_BACK_RIGHT-2018-10-8-0-37-13-527893.mp4\n",
      "misalignment: 0.0003682008 %\n",
      "max misalignment: 0.024 %\n"
     ]
    },
    {
     "name": "stderr",
     "output_type": "stream",
     "text": [
      "100%|███████████████████████████████████████████████████████████████████████████████████████████████████████████████████████████████████████████████████▍| 238/239 [00:00<00:00, 365925.35it/s]\n"
     ]
    },
    {
     "name": "stdout",
     "output_type": "stream",
     "text": [
      "Writing scene (/data/apperception-data/processed/nuscenes/full-dataset-v1.0/Mini/videos/singapore-queenstown/skipped-scene-0916-CAM_BACK-2018-10-8-0-37-13-537525.mp4):\n"
     ]
    },
    {
     "name": "stderr",
     "output_type": "stream",
     "text": [
      "100%|████████████████████████████████████████████████████████████████████████████████████████████████████████████████████████████████████████████████████████| 399/399 [00:05<00:00, 76.05it/s]\n"
     ]
    },
    {
     "name": "stdout",
     "output_type": "stream",
     "text": [
      "done skipped-scene-0916-CAM_BACK-2018-10-8-0-37-13-537525.mp4\n",
      "misalignment: 0.0003277311 %\n",
      "max misalignment: 0.026 %\n"
     ]
    },
    {
     "name": "stderr",
     "output_type": "stream",
     "text": [
      "100%|███████████████████████████████████████████████████████████████████████████████████████████████████████████████████████████████████████████████████▍| 237/238 [00:00<00:00, 330249.19it/s]\n"
     ]
    },
    {
     "name": "stdout",
     "output_type": "stream",
     "text": [
      "Writing scene (/data/apperception-data/processed/nuscenes/full-dataset-v1.0/Mini/videos/singapore-queenstown/skipped-scene-0916-CAM_BACK_LEFT-2018-10-8-0-37-13-547423.mp4):\n"
     ]
    },
    {
     "name": "stderr",
     "output_type": "stream",
     "text": [
      "100%|████████████████████████████████████████████████████████████████████████████████████████████████████████████████████████████████████████████████████████| 399/399 [00:04<00:00, 80.74it/s]\n"
     ]
    },
    {
     "name": "stdout",
     "output_type": "stream",
     "text": [
      "done skipped-scene-0916-CAM_BACK_LEFT-2018-10-8-0-37-13-547423.mp4\n",
      "Reading images\n"
     ]
    },
    {
     "name": "stderr",
     "output_type": "stream",
     "text": [
      "100%|█████████████████████████████████████████████████████████████████████████████████████████████████████████████████████████████████████████████████████| 1318/1318 [00:09<00:00, 139.65it/s]\n"
     ]
    },
    {
     "name": "stdout",
     "output_type": "stream",
     "text": [
      "Done Loading Images\n",
      "misalignment: 0.0335000000 %\n",
      "max misalignment: 4.500 %\n"
     ]
    },
    {
     "name": "stderr",
     "output_type": "stream",
     "text": [
      "100%|███████████████████████████████████████████████████████████████████████████████████████████████████████████████████████████████████████████████████▎| 223/224 [00:00<00:00, 318247.63it/s]\n"
     ]
    },
    {
     "name": "stdout",
     "output_type": "stream",
     "text": [
      "Writing scene (/data/apperception-data/processed/nuscenes/full-dataset-v1.0/Mini/videos/singapore-onenorth/skipped-scene-0061-CAM_FRONT_LEFT-2018-7-23-20-28-47-604844.mp4):\n"
     ]
    },
    {
     "name": "stderr",
     "output_type": "stream",
     "text": [
      "100%|████████████████████████████████████████████████████████████████████████████████████████████████████████████████████████████████████████████████████████| 384/384 [00:04<00:00, 81.87it/s]\n"
     ]
    },
    {
     "name": "stdout",
     "output_type": "stream",
     "text": [
      "done skipped-scene-0061-CAM_FRONT_LEFT-2018-7-23-20-28-47-604844.mp4\n",
      "misalignment: 0.0131517857 %\n",
      "max misalignment: 2.644 %\n"
     ]
    },
    {
     "name": "stderr",
     "output_type": "stream",
     "text": [
      "100%|███████████████████████████████████████████████████████████████████████████████████████████████████████████████████████████████████████████████████▎| 223/224 [00:00<00:00, 348224.05it/s]\n"
     ]
    },
    {
     "name": "stdout",
     "output_type": "stream",
     "text": [
      "Writing scene (/data/apperception-data/processed/nuscenes/full-dataset-v1.0/Mini/videos/singapore-onenorth/skipped-scene-0061-CAM_FRONT-2018-7-23-20-28-47-612460.mp4):\n"
     ]
    },
    {
     "name": "stderr",
     "output_type": "stream",
     "text": [
      "100%|████████████████████████████████████████████████████████████████████████████████████████████████████████████████████████████████████████████████████████| 384/384 [00:04<00:00, 93.15it/s]\n"
     ]
    },
    {
     "name": "stdout",
     "output_type": "stream",
     "text": [
      "done skipped-scene-0061-CAM_FRONT-2018-7-23-20-28-47-612460.mp4\n",
      "misalignment: 0.0152350230 %\n",
      "max misalignment: 1.546 %\n"
     ]
    },
    {
     "name": "stderr",
     "output_type": "stream",
     "text": [
      "100%|███████████████████████████████████████████████████████████████████████████████████████████████████████████████████████████████████████████████████▎| 216/217 [00:00<00:00, 247803.52it/s]\n"
     ]
    },
    {
     "name": "stdout",
     "output_type": "stream",
     "text": [
      "Writing scene (/data/apperception-data/processed/nuscenes/full-dataset-v1.0/Mini/videos/singapore-onenorth/skipped-scene-0061-CAM_FRONT_RIGHT-2018-7-23-20-28-47-620339.mp4):\n"
     ]
    },
    {
     "name": "stderr",
     "output_type": "stream",
     "text": [
      "100%|████████████████████████████████████████████████████████████████████████████████████████████████████████████████████████████████████████████████████████| 384/384 [00:04<00:00, 80.85it/s]\n"
     ]
    },
    {
     "name": "stdout",
     "output_type": "stream",
     "text": [
      "done skipped-scene-0061-CAM_FRONT_RIGHT-2018-7-23-20-28-47-620339.mp4\n",
      "misalignment: 0.0114678899 %\n",
      "max misalignment: 1.608 %\n"
     ]
    },
    {
     "name": "stderr",
     "output_type": "stream",
     "text": [
      "100%|███████████████████████████████████████████████████████████████████████████████████████████████████████████████████████████████████████████████████▎| 217/218 [00:00<00:00, 329889.08it/s]\n"
     ]
    },
    {
     "name": "stdout",
     "output_type": "stream",
     "text": [
      "Writing scene (/data/apperception-data/processed/nuscenes/full-dataset-v1.0/Mini/videos/singapore-onenorth/skipped-scene-0061-CAM_BACK_RIGHT-2018-7-23-20-28-47-627893.mp4):\n"
     ]
    },
    {
     "name": "stderr",
     "output_type": "stream",
     "text": [
      "100%|████████████████████████████████████████████████████████████████████████████████████████████████████████████████████████████████████████████████████████| 384/384 [00:04<00:00, 86.25it/s]\n"
     ]
    },
    {
     "name": "stdout",
     "output_type": "stream",
     "text": [
      "done skipped-scene-0061-CAM_BACK_RIGHT-2018-7-23-20-28-47-627893.mp4\n",
      "misalignment: 0.0262962963 %\n",
      "max misalignment: 1.836 %\n"
     ]
    },
    {
     "name": "stderr",
     "output_type": "stream",
     "text": [
      "100%|███████████████████████████████████████████████████████████████████████████████████████████████████████████████████████████████████████████████████▎| 215/216 [00:00<00:00, 305376.01it/s]\n"
     ]
    },
    {
     "name": "stdout",
     "output_type": "stream",
     "text": [
      "Writing scene (/data/apperception-data/processed/nuscenes/full-dataset-v1.0/Mini/videos/singapore-onenorth/skipped-scene-0061-CAM_BACK-2018-7-23-20-28-47-637525.mp4):\n"
     ]
    },
    {
     "name": "stderr",
     "output_type": "stream",
     "text": [
      "100%|████████████████████████████████████████████████████████████████████████████████████████████████████████████████████████████████████████████████████████| 384/384 [00:04<00:00, 82.86it/s]\n"
     ]
    },
    {
     "name": "stdout",
     "output_type": "stream",
     "text": [
      "done skipped-scene-0061-CAM_BACK-2018-7-23-20-28-47-637525.mp4\n",
      "misalignment: 0.0473972603 %\n",
      "max misalignment: 5.652 %\n"
     ]
    },
    {
     "name": "stderr",
     "output_type": "stream",
     "text": [
      "100%|███████████████████████████████████████████████████████████████████████████████████████████████████████████████████████████████████████████████████▎| 218/219 [00:00<00:00, 290918.95it/s]\n"
     ]
    },
    {
     "name": "stdout",
     "output_type": "stream",
     "text": [
      "Writing scene (/data/apperception-data/processed/nuscenes/full-dataset-v1.0/Mini/videos/singapore-onenorth/skipped-scene-0061-CAM_BACK_LEFT-2018-7-23-20-28-47-647423.mp4):\n"
     ]
    },
    {
     "name": "stderr",
     "output_type": "stream",
     "text": [
      "100%|████████████████████████████████████████████████████████████████████████████████████████████████████████████████████████████████████████████████████████| 384/384 [00:04<00:00, 77.04it/s]\n"
     ]
    },
    {
     "name": "stdout",
     "output_type": "stream",
     "text": [
      "done skipped-scene-0061-CAM_BACK_LEFT-2018-7-23-20-28-47-647423.mp4\n"
     ]
    }
   ],
   "source": [
    "all_misalignments = []\n",
    "for l in os.listdir(partition_dir):\n",
    "    d = os.path.join(partition_dir, l)\n",
    "    with open(os.path.join(d, 'sample_data.pickle'), \"rb\") as f:\n",
    "        sample_data = pickle.load(f)\n",
    "    videos = get_videos(sample_data)\n",
    "    \n",
    "    filenames = []\n",
    "    for name, video in videos.items():\n",
    "#         if 'scene-1077-CAM_BACK' not in name:\n",
    "#             continue\n",
    "        for f in video:\n",
    "            filenames.append(f.filename)\n",
    "    \n",
    "    img_cache = load_images(raw_dir, filenames)\n",
    "    print(\"Done Loading Images\")\n",
    "    \n",
    "#     with multiprocessing.Pool() as pool:\n",
    "#         inputs = ((l, name, video, img_cache, compose) for name, video in videos.items())\n",
    "#         _outputs = tqdm(pool.imap_unordered(process_one_video, inputs), total=len(videos))\n",
    "#         output = {\n",
    "#             k: v\n",
    "#             for k, v\n",
    "#             in _outputs\n",
    "#         }\n",
    "    \n",
    "    output = {}\n",
    "    misalignments = []\n",
    "    for name in videos:\n",
    "#         if 'scene-1077-CAM_BACK' not in name:\n",
    "#             continue\n",
    "        video = videos[name]\n",
    "        frames, filename, _misalignments = compose(l, name, video, img_cache)\n",
    "        misalignments.extend(_misalignments)\n",
    "#         prev = video[0][9]\n",
    "#         for v in video[1:]:\n",
    "#             print(int(round((v[9] - prev).total_seconds() * 100,)))\n",
    "#             prev = v[9]\n",
    "        o = {\n",
    "            \"filename\": filename,\n",
    "            \"start\": video[0][9],\n",
    "            \"columns\": [\n",
    "                \"cameraId\",\n",
    "                \"frameId\",\n",
    "                \"frameNum\",\n",
    "                \"filename\",\n",
    "                \"cameraTranslation\",\n",
    "                \"cameraRotation\",\n",
    "                \"cameraIntrinsic\",\n",
    "                \"egoTranslation\",\n",
    "                \"egoRotation\",\n",
    "                \"timestamp\",\n",
    "                \"cameraHeading\",\n",
    "                \"egoHeading\",\n",
    "            ],\n",
    "            \"frames\": [\n",
    "                (tuple(iframe(f)) if isinstance(f, datetime) else tuple(video[f]))\n",
    "                for img, f in frames\n",
    "            ]\n",
    "        }\n",
    "#         print('---------------------------')\n",
    "        prev = o['frames'][0][9]\n",
    "        for i, v in enumerate(o['frames'][1:30]):\n",
    "#             print(int(round((v[9] - prev).total_seconds() * 100,)))\n",
    "            assert int(round((v[9] - prev).total_seconds() * 100)) == 5, (int(round((v[9] - prev).total_seconds() * 100,)), i + 1, v)\n",
    "            prev = v[9]\n",
    "        output[name] = o\n",
    "        print(\"done\", filename)\n",
    "    base = os.path.join(processed_dir, 'videos', l)\n",
    "    with open(os.path.join(base, 'frames-skip.pickle'), \"wb\") as f:\n",
    "        pickle.dump(output, f)\n",
    "    \n",
    "    with open(os.path.join(base, 'frames-skip.json'), \"w\") as f:\n",
    "        json.dump(output, f, indent=2, sort_keys=True, cls=FrameJSONEncoder)\n",
    "    \n",
    "    # with open(os.path.join(base, 'misalignments.json'), \"w\") as f:\n",
    "    #     json.dump([{'misalignment': m} for m in misalignments], f, indent=2)\n",
    "    all_misalignments.extend([{'misalignment': m, \"location\": l} for m in misalignments])"
   ]
  },
  {
   "cell_type": "code",
   "execution_count": 9,
   "id": "a1863824",
   "metadata": {
    "execution": {
     "iopub.execute_input": "2022-10-05T02:47:36.470011Z",
     "iopub.status.busy": "2022-10-05T02:47:36.469759Z",
     "iopub.status.idle": "2022-10-05T03:02:56.290475Z",
     "shell.execute_reply": "2022-10-05T03:02:56.289432Z"
    }
   },
   "outputs": [
    {
     "ename": "MaxRowsError",
     "evalue": "The number of rows in your dataset is greater than the maximum allowed (5000). For information on how to plot larger datasets in Altair, see the documentation",
     "output_type": "error",
     "traceback": [
      "\u001b[0;31m---------------------------------------------------------------------------\u001b[0m",
      "\u001b[0;31mMaxRowsError\u001b[0m                              Traceback (most recent call last)",
      "File \u001b[0;32m/data/chanwutk/.installs/mambaforge/envs/nuscenes/lib/python3.10/site-packages/altair/vegalite/v4/api.py:2020\u001b[0m, in \u001b[0;36mChart.to_dict\u001b[0;34m(self, *args, **kwargs)\u001b[0m\n\u001b[1;32m   2018\u001b[0m     copy\u001b[38;5;241m.\u001b[39mdata \u001b[38;5;241m=\u001b[39m core\u001b[38;5;241m.\u001b[39mInlineData(values\u001b[38;5;241m=\u001b[39m[{}])\n\u001b[1;32m   2019\u001b[0m     \u001b[38;5;28;01mreturn\u001b[39;00m \u001b[38;5;28msuper\u001b[39m(Chart, copy)\u001b[38;5;241m.\u001b[39mto_dict(\u001b[38;5;241m*\u001b[39margs, \u001b[38;5;241m*\u001b[39m\u001b[38;5;241m*\u001b[39mkwargs)\n\u001b[0;32m-> 2020\u001b[0m \u001b[38;5;28;01mreturn\u001b[39;00m \u001b[38;5;28;43msuper\u001b[39;49m\u001b[43m(\u001b[49m\u001b[43m)\u001b[49m\u001b[38;5;241;43m.\u001b[39;49m\u001b[43mto_dict\u001b[49m\u001b[43m(\u001b[49m\u001b[38;5;241;43m*\u001b[39;49m\u001b[43margs\u001b[49m\u001b[43m,\u001b[49m\u001b[43m \u001b[49m\u001b[38;5;241;43m*\u001b[39;49m\u001b[38;5;241;43m*\u001b[39;49m\u001b[43mkwargs\u001b[49m\u001b[43m)\u001b[49m\n",
      "File \u001b[0;32m/data/chanwutk/.installs/mambaforge/envs/nuscenes/lib/python3.10/site-packages/altair/vegalite/v4/api.py:374\u001b[0m, in \u001b[0;36mTopLevelMixin.to_dict\u001b[0;34m(self, *args, **kwargs)\u001b[0m\n\u001b[1;32m    372\u001b[0m copy \u001b[38;5;241m=\u001b[39m \u001b[38;5;28mself\u001b[39m\u001b[38;5;241m.\u001b[39mcopy(deep\u001b[38;5;241m=\u001b[39m\u001b[38;5;28;01mFalse\u001b[39;00m)\n\u001b[1;32m    373\u001b[0m original_data \u001b[38;5;241m=\u001b[39m \u001b[38;5;28mgetattr\u001b[39m(copy, \u001b[38;5;124m\"\u001b[39m\u001b[38;5;124mdata\u001b[39m\u001b[38;5;124m\"\u001b[39m, Undefined)\n\u001b[0;32m--> 374\u001b[0m copy\u001b[38;5;241m.\u001b[39mdata \u001b[38;5;241m=\u001b[39m \u001b[43m_prepare_data\u001b[49m\u001b[43m(\u001b[49m\u001b[43moriginal_data\u001b[49m\u001b[43m,\u001b[49m\u001b[43m \u001b[49m\u001b[43mcontext\u001b[49m\u001b[43m)\u001b[49m\n\u001b[1;32m    376\u001b[0m \u001b[38;5;28;01mif\u001b[39;00m original_data \u001b[38;5;129;01mis\u001b[39;00m \u001b[38;5;129;01mnot\u001b[39;00m Undefined:\n\u001b[1;32m    377\u001b[0m     context[\u001b[38;5;124m\"\u001b[39m\u001b[38;5;124mdata\u001b[39m\u001b[38;5;124m\"\u001b[39m] \u001b[38;5;241m=\u001b[39m original_data\n",
      "File \u001b[0;32m/data/chanwutk/.installs/mambaforge/envs/nuscenes/lib/python3.10/site-packages/altair/vegalite/v4/api.py:89\u001b[0m, in \u001b[0;36m_prepare_data\u001b[0;34m(data, context)\u001b[0m\n\u001b[1;32m     87\u001b[0m \u001b[38;5;66;03m# convert dataframes  or objects with __geo_interface__ to dict\u001b[39;00m\n\u001b[1;32m     88\u001b[0m \u001b[38;5;28;01mif\u001b[39;00m \u001b[38;5;28misinstance\u001b[39m(data, pd\u001b[38;5;241m.\u001b[39mDataFrame) \u001b[38;5;129;01mor\u001b[39;00m \u001b[38;5;28mhasattr\u001b[39m(data, \u001b[38;5;124m\"\u001b[39m\u001b[38;5;124m__geo_interface__\u001b[39m\u001b[38;5;124m\"\u001b[39m):\n\u001b[0;32m---> 89\u001b[0m     data \u001b[38;5;241m=\u001b[39m \u001b[43m_pipe\u001b[49m\u001b[43m(\u001b[49m\u001b[43mdata\u001b[49m\u001b[43m,\u001b[49m\u001b[43m \u001b[49m\u001b[43mdata_transformers\u001b[49m\u001b[38;5;241;43m.\u001b[39;49m\u001b[43mget\u001b[49m\u001b[43m(\u001b[49m\u001b[43m)\u001b[49m\u001b[43m)\u001b[49m\n\u001b[1;32m     91\u001b[0m \u001b[38;5;66;03m# convert string input to a URLData\u001b[39;00m\n\u001b[1;32m     92\u001b[0m \u001b[38;5;28;01mif\u001b[39;00m \u001b[38;5;28misinstance\u001b[39m(data, \u001b[38;5;28mstr\u001b[39m):\n",
      "File \u001b[0;32m/data/chanwutk/.installs/mambaforge/envs/nuscenes/lib/python3.10/site-packages/toolz/functoolz.py:628\u001b[0m, in \u001b[0;36mpipe\u001b[0;34m(data, *funcs)\u001b[0m\n\u001b[1;32m    608\u001b[0m \u001b[38;5;124;03m\"\"\" Pipe a value through a sequence of functions\u001b[39;00m\n\u001b[1;32m    609\u001b[0m \n\u001b[1;32m    610\u001b[0m \u001b[38;5;124;03mI.e. ``pipe(data, f, g, h)`` is equivalent to ``h(g(f(data)))``\u001b[39;00m\n\u001b[0;32m   (...)\u001b[0m\n\u001b[1;32m    625\u001b[0m \u001b[38;5;124;03m    thread_last\u001b[39;00m\n\u001b[1;32m    626\u001b[0m \u001b[38;5;124;03m\"\"\"\u001b[39;00m\n\u001b[1;32m    627\u001b[0m \u001b[38;5;28;01mfor\u001b[39;00m func \u001b[38;5;129;01min\u001b[39;00m funcs:\n\u001b[0;32m--> 628\u001b[0m     data \u001b[38;5;241m=\u001b[39m \u001b[43mfunc\u001b[49m\u001b[43m(\u001b[49m\u001b[43mdata\u001b[49m\u001b[43m)\u001b[49m\n\u001b[1;32m    629\u001b[0m \u001b[38;5;28;01mreturn\u001b[39;00m data\n",
      "File \u001b[0;32m/data/chanwutk/.installs/mambaforge/envs/nuscenes/lib/python3.10/site-packages/toolz/functoolz.py:304\u001b[0m, in \u001b[0;36mcurry.__call__\u001b[0;34m(self, *args, **kwargs)\u001b[0m\n\u001b[1;32m    302\u001b[0m \u001b[38;5;28;01mdef\u001b[39;00m \u001b[38;5;21m__call__\u001b[39m(\u001b[38;5;28mself\u001b[39m, \u001b[38;5;241m*\u001b[39margs, \u001b[38;5;241m*\u001b[39m\u001b[38;5;241m*\u001b[39mkwargs):\n\u001b[1;32m    303\u001b[0m     \u001b[38;5;28;01mtry\u001b[39;00m:\n\u001b[0;32m--> 304\u001b[0m         \u001b[38;5;28;01mreturn\u001b[39;00m \u001b[38;5;28;43mself\u001b[39;49m\u001b[38;5;241;43m.\u001b[39;49m\u001b[43m_partial\u001b[49m\u001b[43m(\u001b[49m\u001b[38;5;241;43m*\u001b[39;49m\u001b[43margs\u001b[49m\u001b[43m,\u001b[49m\u001b[43m \u001b[49m\u001b[38;5;241;43m*\u001b[39;49m\u001b[38;5;241;43m*\u001b[39;49m\u001b[43mkwargs\u001b[49m\u001b[43m)\u001b[49m\n\u001b[1;32m    305\u001b[0m     \u001b[38;5;28;01mexcept\u001b[39;00m \u001b[38;5;167;01mTypeError\u001b[39;00m \u001b[38;5;28;01mas\u001b[39;00m exc:\n\u001b[1;32m    306\u001b[0m         \u001b[38;5;28;01mif\u001b[39;00m \u001b[38;5;28mself\u001b[39m\u001b[38;5;241m.\u001b[39m_should_curry(args, kwargs, exc):\n",
      "File \u001b[0;32m/data/chanwutk/.installs/mambaforge/envs/nuscenes/lib/python3.10/site-packages/altair/vegalite/data.py:19\u001b[0m, in \u001b[0;36mdefault_data_transformer\u001b[0;34m(data, max_rows)\u001b[0m\n\u001b[1;32m     17\u001b[0m \u001b[38;5;129m@curried\u001b[39m\u001b[38;5;241m.\u001b[39mcurry\n\u001b[1;32m     18\u001b[0m \u001b[38;5;28;01mdef\u001b[39;00m \u001b[38;5;21mdefault_data_transformer\u001b[39m(data, max_rows\u001b[38;5;241m=\u001b[39m\u001b[38;5;241m5000\u001b[39m):\n\u001b[0;32m---> 19\u001b[0m     \u001b[38;5;28;01mreturn\u001b[39;00m \u001b[43mcurried\u001b[49m\u001b[38;5;241;43m.\u001b[39;49m\u001b[43mpipe\u001b[49m\u001b[43m(\u001b[49m\u001b[43mdata\u001b[49m\u001b[43m,\u001b[49m\u001b[43m \u001b[49m\u001b[43mlimit_rows\u001b[49m\u001b[43m(\u001b[49m\u001b[43mmax_rows\u001b[49m\u001b[38;5;241;43m=\u001b[39;49m\u001b[43mmax_rows\u001b[49m\u001b[43m)\u001b[49m\u001b[43m,\u001b[49m\u001b[43m \u001b[49m\u001b[43mto_values\u001b[49m\u001b[43m)\u001b[49m\n",
      "File \u001b[0;32m/data/chanwutk/.installs/mambaforge/envs/nuscenes/lib/python3.10/site-packages/toolz/functoolz.py:628\u001b[0m, in \u001b[0;36mpipe\u001b[0;34m(data, *funcs)\u001b[0m\n\u001b[1;32m    608\u001b[0m \u001b[38;5;124;03m\"\"\" Pipe a value through a sequence of functions\u001b[39;00m\n\u001b[1;32m    609\u001b[0m \n\u001b[1;32m    610\u001b[0m \u001b[38;5;124;03mI.e. ``pipe(data, f, g, h)`` is equivalent to ``h(g(f(data)))``\u001b[39;00m\n\u001b[0;32m   (...)\u001b[0m\n\u001b[1;32m    625\u001b[0m \u001b[38;5;124;03m    thread_last\u001b[39;00m\n\u001b[1;32m    626\u001b[0m \u001b[38;5;124;03m\"\"\"\u001b[39;00m\n\u001b[1;32m    627\u001b[0m \u001b[38;5;28;01mfor\u001b[39;00m func \u001b[38;5;129;01min\u001b[39;00m funcs:\n\u001b[0;32m--> 628\u001b[0m     data \u001b[38;5;241m=\u001b[39m \u001b[43mfunc\u001b[49m\u001b[43m(\u001b[49m\u001b[43mdata\u001b[49m\u001b[43m)\u001b[49m\n\u001b[1;32m    629\u001b[0m \u001b[38;5;28;01mreturn\u001b[39;00m data\n",
      "File \u001b[0;32m/data/chanwutk/.installs/mambaforge/envs/nuscenes/lib/python3.10/site-packages/toolz/functoolz.py:304\u001b[0m, in \u001b[0;36mcurry.__call__\u001b[0;34m(self, *args, **kwargs)\u001b[0m\n\u001b[1;32m    302\u001b[0m \u001b[38;5;28;01mdef\u001b[39;00m \u001b[38;5;21m__call__\u001b[39m(\u001b[38;5;28mself\u001b[39m, \u001b[38;5;241m*\u001b[39margs, \u001b[38;5;241m*\u001b[39m\u001b[38;5;241m*\u001b[39mkwargs):\n\u001b[1;32m    303\u001b[0m     \u001b[38;5;28;01mtry\u001b[39;00m:\n\u001b[0;32m--> 304\u001b[0m         \u001b[38;5;28;01mreturn\u001b[39;00m \u001b[38;5;28;43mself\u001b[39;49m\u001b[38;5;241;43m.\u001b[39;49m\u001b[43m_partial\u001b[49m\u001b[43m(\u001b[49m\u001b[38;5;241;43m*\u001b[39;49m\u001b[43margs\u001b[49m\u001b[43m,\u001b[49m\u001b[43m \u001b[49m\u001b[38;5;241;43m*\u001b[39;49m\u001b[38;5;241;43m*\u001b[39;49m\u001b[43mkwargs\u001b[49m\u001b[43m)\u001b[49m\n\u001b[1;32m    305\u001b[0m     \u001b[38;5;28;01mexcept\u001b[39;00m \u001b[38;5;167;01mTypeError\u001b[39;00m \u001b[38;5;28;01mas\u001b[39;00m exc:\n\u001b[1;32m    306\u001b[0m         \u001b[38;5;28;01mif\u001b[39;00m \u001b[38;5;28mself\u001b[39m\u001b[38;5;241m.\u001b[39m_should_curry(args, kwargs, exc):\n",
      "File \u001b[0;32m/data/chanwutk/.installs/mambaforge/envs/nuscenes/lib/python3.10/site-packages/altair/utils/data.py:80\u001b[0m, in \u001b[0;36mlimit_rows\u001b[0;34m(data, max_rows)\u001b[0m\n\u001b[1;32m     78\u001b[0m         \u001b[38;5;28;01mreturn\u001b[39;00m data\n\u001b[1;32m     79\u001b[0m \u001b[38;5;28;01mif\u001b[39;00m max_rows \u001b[38;5;129;01mis\u001b[39;00m \u001b[38;5;129;01mnot\u001b[39;00m \u001b[38;5;28;01mNone\u001b[39;00m \u001b[38;5;129;01mand\u001b[39;00m \u001b[38;5;28mlen\u001b[39m(values) \u001b[38;5;241m>\u001b[39m max_rows:\n\u001b[0;32m---> 80\u001b[0m     \u001b[38;5;28;01mraise\u001b[39;00m MaxRowsError(\n\u001b[1;32m     81\u001b[0m         \u001b[38;5;124m\"\u001b[39m\u001b[38;5;124mThe number of rows in your dataset is greater \u001b[39m\u001b[38;5;124m\"\u001b[39m\n\u001b[1;32m     82\u001b[0m         \u001b[38;5;124m\"\u001b[39m\u001b[38;5;124mthan the maximum allowed (\u001b[39m\u001b[38;5;132;01m{}\u001b[39;00m\u001b[38;5;124m). \u001b[39m\u001b[38;5;124m\"\u001b[39m\n\u001b[1;32m     83\u001b[0m         \u001b[38;5;124m\"\u001b[39m\u001b[38;5;124mFor information on how to plot larger datasets \u001b[39m\u001b[38;5;124m\"\u001b[39m\n\u001b[1;32m     84\u001b[0m         \u001b[38;5;124m\"\u001b[39m\u001b[38;5;124min Altair, see the documentation\u001b[39m\u001b[38;5;124m\"\u001b[39m\u001b[38;5;241m.\u001b[39mformat(max_rows)\n\u001b[1;32m     85\u001b[0m     )\n\u001b[1;32m     86\u001b[0m \u001b[38;5;28;01mreturn\u001b[39;00m data\n",
      "\u001b[0;31mMaxRowsError\u001b[0m: The number of rows in your dataset is greater than the maximum allowed (5000). For information on how to plot larger datasets in Altair, see the documentation"
     ]
    },
    {
     "data": {
      "text/plain": [
       "alt.Chart(...)"
      ]
     },
     "execution_count": 9,
     "metadata": {},
     "output_type": "execute_result"
    }
   ],
   "source": [
    "# TODO: Partition data based on location\n",
    "alt.Chart(pd.DataFrame(all_misalignments)).mark_tick().encode(\n",
    "    alt.X('misalignment:Q', title='Misalignment (%)'),\n",
    "    alt.Y('location:Q', title='Location'),\n",
    ")"
   ]
  },
  {
   "cell_type": "code",
   "execution_count": null,
   "id": "ac973260",
   "metadata": {},
   "outputs": [],
   "source": []
  }
 ],
 "metadata": {
  "kernelspec": {
   "display_name": "Python 3",
   "language": "python",
   "name": "python3"
  },
  "language_info": {
   "codemirror_mode": {
    "name": "ipython",
    "version": 3
   },
   "file_extension": ".py",
   "mimetype": "text/x-python",
   "name": "python",
   "nbconvert_exporter": "python",
   "pygments_lexer": "ipython3",
   "version": "3.10.8 | packaged by conda-forge | (main, Nov 22 2022, 08:26:04) [GCC 10.4.0]"
  },
  "vscode": {
   "interpreter": {
    "hash": "7a68e3870120896cc011159b0b8d16aa386310a929479cd4a55bc648d6632153"
   }
  }
 },
 "nbformat": 4,
 "nbformat_minor": 5
}
