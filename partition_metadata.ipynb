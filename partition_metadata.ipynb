{
 "cells": [
  {
   "cell_type": "code",
   "execution_count": null,
   "id": "31d85549",
   "metadata": {
    "execution": {
     "iopub.execute_input": "2022-10-05T04:01:38.793233Z",
     "iopub.status.busy": "2022-10-05T04:01:38.792538Z",
     "iopub.status.idle": "2022-10-05T04:01:38.838848Z",
     "shell.execute_reply": "2022-10-05T04:01:38.837332Z"
    }
   },
   "outputs": [],
   "source": [
    "import os\n",
    "import json\n",
    "import pickle\n",
    "\n",
    "from utils.data_dirs import data_dirs\n",
    "from utils.get_location import get_location\n",
    "from utils.index import index"
   ]
  },
  {
   "cell_type": "code",
   "execution_count": null,
   "id": "700bca2a",
   "metadata": {
    "execution": {
     "iopub.execute_input": "2022-10-05T04:01:38.843041Z",
     "iopub.status.busy": "2022-10-05T04:01:38.842415Z",
     "iopub.status.idle": "2022-10-05T04:01:38.847485Z",
     "shell.execute_reply": "2022-10-05T04:01:38.846517Z"
    }
   },
   "outputs": [],
   "source": [
    "EXPERIMENT = False"
   ]
  },
  {
   "cell_type": "code",
   "execution_count": null,
   "id": "50afc5eb",
   "metadata": {
    "execution": {
     "iopub.execute_input": "2022-10-05T04:01:38.850885Z",
     "iopub.status.busy": "2022-10-05T04:01:38.850536Z",
     "iopub.status.idle": "2022-10-05T04:01:38.856517Z",
     "shell.execute_reply": "2022-10-05T04:01:38.855654Z"
    }
   },
   "outputs": [],
   "source": [
    "raw_dir, processed_dir, folder, EXPERIMENT_DATA, suffix, *_ = data_dirs(False)\n",
    "print(raw_dir)\n",
    "print(processed_dir)\n",
    "print(folder)\n",
    "print(EXPERIMENT_DATA)\n",
    "print(suffix)"
   ]
  },
  {
   "cell_type": "code",
   "execution_count": null,
   "id": "4730ffd3",
   "metadata": {
    "execution": {
     "iopub.execute_input": "2022-10-05T04:01:38.860255Z",
     "iopub.status.busy": "2022-10-05T04:01:38.859844Z",
     "iopub.status.idle": "2022-10-05T04:11:26.862795Z",
     "shell.execute_reply": "2022-10-05T04:11:26.861221Z"
    }
   },
   "outputs": [],
   "source": [
    "with open(os.path.join(raw_dir, folder, 'scene.json')) as f:\n",
    "    scene_json = json.load(f)\n",
    "\n",
    "with open(os.path.join(raw_dir, folder, 'log.json')) as f:\n",
    "    log_json = json.load(f)\n",
    "\n",
    "with open(os.path.join(processed_dir, 'sample_data.pickle'), \"rb\") as f:\n",
    "    sample_data = pickle.load(f)\n",
    "\n",
    "with open(os.path.join(processed_dir, 'annotation.pickle'), \"rb\") as f:\n",
    "    annotation = pickle.load(f)"
   ]
  },
  {
   "cell_type": "code",
   "execution_count": null,
   "id": "af9542b1",
   "metadata": {
    "execution": {
     "iopub.execute_input": "2022-10-05T04:11:26.878993Z",
     "iopub.status.busy": "2022-10-05T04:11:26.878325Z",
     "iopub.status.idle": "2022-10-05T04:11:26.938486Z",
     "shell.execute_reply": "2022-10-05T04:11:26.937584Z"
    }
   },
   "outputs": [],
   "source": [
    "sample_data"
   ]
  },
  {
   "cell_type": "code",
   "execution_count": null,
   "id": "7c215ff1",
   "metadata": {
    "execution": {
     "iopub.execute_input": "2022-10-05T04:11:26.945746Z",
     "iopub.status.busy": "2022-10-05T04:11:26.945407Z",
     "iopub.status.idle": "2022-10-05T04:11:26.967903Z",
     "shell.execute_reply": "2022-10-05T04:11:26.967050Z"
    }
   },
   "outputs": [],
   "source": [
    "annotation"
   ]
  },
  {
   "cell_type": "code",
   "execution_count": null,
   "id": "82291366",
   "metadata": {
    "execution": {
     "iopub.execute_input": "2022-10-05T04:11:26.972683Z",
     "iopub.status.busy": "2022-10-05T04:11:26.972389Z",
     "iopub.status.idle": "2022-10-05T04:11:26.977610Z",
     "shell.execute_reply": "2022-10-05T04:11:26.976908Z"
    }
   },
   "outputs": [],
   "source": [
    "scene_json[0]"
   ]
  },
  {
   "cell_type": "code",
   "execution_count": null,
   "id": "dc3cf8a8",
   "metadata": {
    "execution": {
     "iopub.execute_input": "2022-10-05T04:11:26.980959Z",
     "iopub.status.busy": "2022-10-05T04:11:26.980654Z",
     "iopub.status.idle": "2022-10-05T04:11:26.985924Z",
     "shell.execute_reply": "2022-10-05T04:11:26.985113Z"
    }
   },
   "outputs": [],
   "source": [
    "log_json[0]"
   ]
  },
  {
   "cell_type": "code",
   "execution_count": null,
   "id": "f99171c4",
   "metadata": {
    "execution": {
     "iopub.execute_input": "2022-10-05T04:11:26.988640Z",
     "iopub.status.busy": "2022-10-05T04:11:26.988298Z",
     "iopub.status.idle": "2022-10-05T04:11:26.992703Z",
     "shell.execute_reply": "2022-10-05T04:11:26.991835Z"
    }
   },
   "outputs": [],
   "source": [
    "scene_map = index(scene_json)\n",
    "log_map = index(log_json)"
   ]
  },
  {
   "cell_type": "code",
   "execution_count": null,
   "id": "1a4b2213",
   "metadata": {
    "execution": {
     "iopub.execute_input": "2022-10-05T04:11:26.995828Z",
     "iopub.status.busy": "2022-10-05T04:11:26.995400Z",
     "iopub.status.idle": "2022-10-05T04:11:26.999053Z",
     "shell.execute_reply": "2022-10-05T04:11:26.998394Z"
    }
   },
   "outputs": [],
   "source": [
    "data = {\n",
    "    'scene': scene_map,\n",
    "    'log': log_map\n",
    "}"
   ]
  },
  {
   "cell_type": "code",
   "execution_count": null,
   "id": "66fcbb69",
   "metadata": {
    "execution": {
     "iopub.execute_input": "2022-10-05T04:11:27.002051Z",
     "iopub.status.busy": "2022-10-05T04:11:27.001718Z",
     "iopub.status.idle": "2022-10-05T04:11:27.007065Z",
     "shell.execute_reply": "2022-10-05T04:11:27.006236Z"
    }
   },
   "outputs": [],
   "source": [
    "locations = {}\n",
    "for s in scene_json:\n",
    "    location = log_map[s['log_token']]['location']\n",
    "    \n",
    "    if location not in locations:\n",
    "        locations[location] = []\n",
    "    locations[location].append(s)"
   ]
  },
  {
   "cell_type": "code",
   "execution_count": null,
   "id": "7b3f4893",
   "metadata": {
    "execution": {
     "iopub.execute_input": "2022-10-05T04:11:27.010528Z",
     "iopub.status.busy": "2022-10-05T04:11:27.010139Z",
     "iopub.status.idle": "2022-10-05T04:11:27.065986Z",
     "shell.execute_reply": "2022-10-05T04:11:27.065102Z"
    }
   },
   "outputs": [],
   "source": [
    "annotation[:1]"
   ]
  },
  {
   "cell_type": "code",
   "execution_count": null,
   "id": "345ec1bd",
   "metadata": {
    "execution": {
     "iopub.execute_input": "2022-10-05T04:11:27.153295Z",
     "iopub.status.busy": "2022-10-05T04:11:27.152735Z",
     "iopub.status.idle": "2022-10-05T04:15:39.284571Z",
     "shell.execute_reply": "2022-10-05T04:15:39.282780Z"
    }
   },
   "outputs": [],
   "source": [
    "a = annotation.reset_index()\n",
    "for l, s in locations.items():\n",
    "    scenes = {_s['name'] for _s in s}\n",
    "    _sample_data = sample_data[sample_data['scene_name'].isin(scenes)]\n",
    "    sample_tokens = {*_sample_data['sample_token'].tolist()}\n",
    "    _annotation = a[a['sample_token'].isin(sample_tokens)]\n",
    "    base = os.path.join(processed_dir, 'partition', l)\n",
    "    if not os.path.exists(base):\n",
    "        os.makedirs(base)\n",
    "    with open(os.path.join(base, 'sample_data.pickle'), \"wb\") as f:\n",
    "        pickle.dump(_sample_data, f)\n",
    "    with open(os.path.join(base, 'annotation.pickle'), \"wb\") as f:\n",
    "        pickle.dump(_annotation, f)\n"
   ]
  },
  {
   "cell_type": "code",
   "execution_count": null,
   "id": "8bf391a0",
   "metadata": {},
   "outputs": [],
   "source": []
  },
  {
   "cell_type": "code",
   "execution_count": null,
   "id": "2753ea37",
   "metadata": {},
   "outputs": [],
   "source": []
  },
  {
   "cell_type": "code",
   "execution_count": null,
   "id": "6094db1e",
   "metadata": {},
   "outputs": [],
   "source": []
  },
  {
   "cell_type": "code",
   "execution_count": null,
   "id": "4a07df15",
   "metadata": {},
   "outputs": [],
   "source": []
  },
  {
   "cell_type": "code",
   "execution_count": null,
   "id": "dda9eac7",
   "metadata": {},
   "outputs": [],
   "source": []
  }
 ],
 "metadata": {
  "kernelspec": {
   "display_name": "Python 3 (ipykernel)",
   "language": "python",
   "name": "python3"
  },
  "language_info": {
   "codemirror_mode": {
    "name": "ipython",
    "version": 3
   },
   "file_extension": ".py",
   "mimetype": "text/x-python",
   "name": "python",
   "nbconvert_exporter": "python",
   "pygments_lexer": "ipython3",
   "version": "3.10.7"
  }
 },
 "nbformat": 4,
 "nbformat_minor": 5
}
