{
 "cells": [
  {
   "cell_type": "code",
   "execution_count": null,
   "id": "d0bbe44d-7410-4539-b1c0-38b50f65e2c0",
   "metadata": {
    "execution": {
     "iopub.execute_input": "2022-10-05T02:47:35.779725Z",
     "iopub.status.busy": "2022-10-05T02:47:35.778898Z",
     "iopub.status.idle": "2022-10-05T02:47:36.265596Z",
     "shell.execute_reply": "2022-10-05T02:47:36.264731Z"
    }
   },
   "outputs": [],
   "source": [
    "from typing import List, Tuple\n",
    "from datetime import datetime, timedelta\n",
    "import os\n",
    "import cv2\n",
    "import pickle\n",
    "import itertools\n",
    "import json\n",
    "import multiprocessing\n",
    "from math import nan\n",
    "\n",
    "import altair as alt\n",
    "import numpy.typing as npt\n",
    "import numpy as np\n",
    "import pandas as pd\n",
    "from tqdm import tqdm\n",
    "\n",
    "from utils.compose_factories.compose import compose_factory\n",
    "from utils.data_dirs import data_dirs\n",
    "from utils.get_videos import get_videos\n",
    "from utils.frame_json_encoder import FrameJSONEncoder\n",
    "from utils.typings import Frame\n",
    "from utils.load_images import load_images"
   ]
  },
  {
   "cell_type": "code",
   "execution_count": null,
   "id": "1e70ec21",
   "metadata": {},
   "outputs": [],
   "source": [
    "raw_dir, processed_dir, folder, EXPERIMENT_DATA, suffix, *_ = data_dirs(False)\n",
    "print(raw_dir)\n",
    "print(processed_dir)\n",
    "print(folder)\n",
    "print(EXPERIMENT_DATA)\n",
    "print(suffix)"
   ]
  },
  {
   "cell_type": "code",
   "execution_count": null,
   "id": "7a388e68",
   "metadata": {},
   "outputs": [],
   "source": [
    "fps = 12"
   ]
  },
  {
   "cell_type": "code",
   "execution_count": null,
   "id": "5b735bc4",
   "metadata": {},
   "outputs": [],
   "source": [
    "interpolate = False"
   ]
  },
  {
   "cell_type": "code",
   "execution_count": null,
   "id": "a0c62fb5",
   "metadata": {
    "execution": {
     "iopub.execute_input": "2022-10-05T02:47:36.445981Z",
     "iopub.status.busy": "2022-10-05T02:47:36.445440Z",
     "iopub.status.idle": "2022-10-05T02:47:36.464360Z",
     "shell.execute_reply": "2022-10-05T02:47:36.463537Z"
    }
   },
   "outputs": [],
   "source": [
    "compose = compose_factory(fps, raw_dir, processed_dir, interpolate)"
   ]
  },
  {
   "cell_type": "code",
   "execution_count": null,
   "id": "d9155798",
   "metadata": {},
   "outputs": [],
   "source": [
    "sample_data = pd.read_pickle(os.path.join(processed_dir, 'sample_data.pkl'))"
   ]
  },
  {
   "cell_type": "code",
   "execution_count": null,
   "id": "70de6698",
   "metadata": {},
   "outputs": [],
   "source": [
    "videos = get_videos(sample_data)"
   ]
  },
  {
   "cell_type": "code",
   "execution_count": null,
   "id": "2fc87f8d",
   "metadata": {},
   "outputs": [],
   "source": [
    "output = {}\n",
    "misalignments = []\n",
    "for i, name in enumerate(videos):\n",
    "    print(f'{i} / {len(videos)}:', name)\n",
    "    video = videos[name]\n",
    "    \n",
    "    filenames = []\n",
    "    for f in video:\n",
    "        filenames.append(f.filename)\n",
    "    img_cache = load_images(raw_dir, filenames)\n",
    "\n",
    "    assert len(set(f.location for f in video)) == 1, set(f.location for f in video)\n",
    "    frames, filename, _misalignments = compose(video[0].location, name, video, img_cache)\n",
    "    o = {\n",
    "        \"filename\": filename,\n",
    "        \"start\": video[0].timestamp,\n",
    "        \"location\": video[0].location,\n",
    "        \"columns\": [\n",
    "            \"cameraId\",\n",
    "            \"frameId\",  # sample data token\n",
    "            \"frameNum\",\n",
    "            \"filename\",\n",
    "            \"cameraTranslation\",\n",
    "            \"cameraRotation\",\n",
    "            \"cameraIntrinsic\",\n",
    "            \"egoTranslation\",\n",
    "            \"egoRotation\",\n",
    "            \"timestamp\",\n",
    "            \"cameraHeading\",\n",
    "            \"egoHeading\",\n",
    "            \"location\",\n",
    "        ],\n",
    "        \"frames\": [\n",
    "            tuple(video[f])\n",
    "            for img, f in frames\n",
    "        ]\n",
    "    }\n",
    "    output[name] = o\n",
    "    print(\"done\", filename)\n",
    "base = os.path.join(processed_dir, 'videos')\n",
    "with open(os.path.join(base, 'frames.pickle'), \"wb\") as f:\n",
    "    pickle.dump(output, f)\n",
    "\n",
    "with open(os.path.join(base, 'frames.pkl'), \"wb\") as f:\n",
    "    pickle.dump(output, f)\n",
    "\n",
    "with open(os.path.join(base, 'frames.json'), \"w\") as f:\n",
    "    json.dump(output, f, indent=2, sort_keys=True, cls=FrameJSONEncoder)"
   ]
  },
  {
   "cell_type": "code",
   "execution_count": null,
   "id": "49166bad",
   "metadata": {},
   "outputs": [],
   "source": []
  },
  {
   "cell_type": "code",
   "execution_count": null,
   "id": "5e440a16",
   "metadata": {},
   "outputs": [],
   "source": []
  }
 ],
 "metadata": {
  "kernelspec": {
   "display_name": "Python 3 (ipykernel)",
   "language": "python",
   "name": "python3"
  },
  "language_info": {
   "codemirror_mode": {
    "name": "ipython",
    "version": 3
   },
   "file_extension": ".py",
   "mimetype": "text/x-python",
   "name": "python",
   "nbconvert_exporter": "python",
   "pygments_lexer": "ipython3",
   "version": "3.10.9"
  },
  "vscode": {
   "interpreter": {
    "hash": "7a68e3870120896cc011159b0b8d16aa386310a929479cd4a55bc648d6632153"
   }
  }
 },
 "nbformat": 4,
 "nbformat_minor": 5
}
