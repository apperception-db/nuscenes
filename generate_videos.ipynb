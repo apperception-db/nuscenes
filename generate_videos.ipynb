{
 "cells": [
  {
   "cell_type": "code",
   "execution_count": 1,
   "id": "d0bbe44d-7410-4539-b1c0-38b50f65e2c0",
   "metadata": {
    "execution": {
     "iopub.execute_input": "2022-10-05T02:47:35.779725Z",
     "iopub.status.busy": "2022-10-05T02:47:35.778898Z",
     "iopub.status.idle": "2022-10-05T02:47:36.265596Z",
     "shell.execute_reply": "2022-10-05T02:47:36.264731Z"
    }
   },
   "outputs": [],
   "source": [
    "from typing import List, Tuple\n",
    "from datetime import datetime, timedelta\n",
    "import numpy.typing as npt\n",
    "import numpy as np\n",
    "import os\n",
    "import cv2\n",
    "import pickle\n",
    "from tqdm import tqdm\n",
    "import itertools\n",
    "\n",
    "from utils.compose_factory import compose_factory\n",
    "from utils.data_dirs import data_dirs\n",
    "from utils.get_videos import get_videos"
   ]
  },
  {
   "cell_type": "code",
   "execution_count": 2,
   "id": "1e70ec21",
   "metadata": {},
   "outputs": [
    {
     "name": "stdout",
     "output_type": "stream",
     "text": [
      "/Users/chanwutk/Documents/apperception/data/v1.0-mini\n",
      "/Users/chanwutk/Documents/apperception/data/v1.0-mini\n",
      "v1.0-mini\n",
      "/work/apperception/data/raw/scenic/experiment_data\n",
      "\n"
     ]
    }
   ],
   "source": [
    "raw_dir, processed_dir, folder, EXPERIMENT_DATA, suffix = data_dirs(False)\n",
    "print(raw_dir)\n",
    "print(processed_dir)\n",
    "print(folder)\n",
    "print(EXPERIMENT_DATA)\n",
    "print(suffix)"
   ]
  },
  {
   "cell_type": "code",
   "execution_count": 3,
   "id": "7a388e68",
   "metadata": {},
   "outputs": [],
   "source": [
    "fps = 20"
   ]
  },
  {
   "cell_type": "code",
   "execution_count": 4,
   "id": "5b735bc4",
   "metadata": {},
   "outputs": [],
   "source": [
    "interpolate = False"
   ]
  },
  {
   "cell_type": "code",
   "execution_count": 5,
   "id": "d8d80573",
   "metadata": {
    "execution": {
     "iopub.execute_input": "2022-10-05T02:47:36.299634Z",
     "iopub.status.busy": "2022-10-05T02:47:36.299392Z",
     "iopub.status.idle": "2022-10-05T02:47:36.302730Z",
     "shell.execute_reply": "2022-10-05T02:47:36.302020Z"
    }
   },
   "outputs": [],
   "source": [
    "partition_dir = os.path.join(processed_dir, 'partition')"
   ]
  },
  {
   "cell_type": "code",
   "execution_count": 6,
   "id": "a0c62fb5",
   "metadata": {
    "execution": {
     "iopub.execute_input": "2022-10-05T02:47:36.445981Z",
     "iopub.status.busy": "2022-10-05T02:47:36.445440Z",
     "iopub.status.idle": "2022-10-05T02:47:36.464360Z",
     "shell.execute_reply": "2022-10-05T02:47:36.463537Z"
    }
   },
   "outputs": [],
   "source": [
    "compose = compose_factory(fps, raw_dir, processed_dir, interpolate)"
   ]
  },
  {
   "cell_type": "code",
   "execution_count": null,
   "id": "a1863824",
   "metadata": {
    "execution": {
     "iopub.execute_input": "2022-10-05T02:47:36.470011Z",
     "iopub.status.busy": "2022-10-05T02:47:36.469759Z",
     "iopub.status.idle": "2022-10-05T03:02:56.290475Z",
     "shell.execute_reply": "2022-10-05T03:02:56.289432Z"
    },
    "scrolled": true
   },
   "outputs": [
    {
     "name": "stdout",
     "output_type": "stream",
     "text": [
      "Reading scene: scene-0103-CAM_FRONT_LEFT\n"
     ]
    },
    {
     "name": "stderr",
     "output_type": "stream",
     "text": [
      "100%|█████████████████████████████████████████████████████████████████████████████████████████████████████████████████████████████████████████████████████████████████| 388/388 [00:02<00:00, 139.95it/s]\n"
     ]
    },
    {
     "name": "stdout",
     "output_type": "stream",
     "text": [
      "Writing scene (/Users/chanwutk/Documents/apperception/data/v1.0-mini/videos/boston-seaport/scene-0103-CAM_FRONT_LEFT-2018-8-1-12-26-43-504799.mp4):\n"
     ]
    },
    {
     "name": "stderr",
     "output_type": "stream",
     "text": [
      "100%|█████████████████████████████████████████████████████████████████████████████████████████████████████████████████████████████████████████████████████████████████| 388/388 [00:02<00:00, 131.43it/s]\n"
     ]
    },
    {
     "name": "stdout",
     "output_type": "stream",
     "text": [
      "done scene-0103-CAM_FRONT_LEFT-2018-8-1-12-26-43-504799.mp4\n",
      "Reading scene: scene-0103-CAM_FRONT\n"
     ]
    },
    {
     "name": "stderr",
     "output_type": "stream",
     "text": [
      "100%|█████████████████████████████████████████████████████████████████████████████████████████████████████████████████████████████████████████████████████████████████| 388/388 [00:03<00:00, 119.45it/s]\n"
     ]
    },
    {
     "name": "stdout",
     "output_type": "stream",
     "text": [
      "Writing scene (/Users/chanwutk/Documents/apperception/data/v1.0-mini/videos/boston-seaport/scene-0103-CAM_FRONT-2018-8-1-12-26-43-512404.mp4):\n"
     ]
    },
    {
     "name": "stderr",
     "output_type": "stream",
     "text": [
      "100%|█████████████████████████████████████████████████████████████████████████████████████████████████████████████████████████████████████████████████████████████████| 388/388 [00:03<00:00, 128.47it/s]\n"
     ]
    },
    {
     "name": "stdout",
     "output_type": "stream",
     "text": [
      "done scene-0103-CAM_FRONT-2018-8-1-12-26-43-512404.mp4\n",
      "Reading scene: scene-0103-CAM_FRONT_RIGHT\n"
     ]
    },
    {
     "name": "stderr",
     "output_type": "stream",
     "text": [
      "100%|█████████████████████████████████████████████████████████████████████████████████████████████████████████████████████████████████████████████████████████████████| 388/388 [00:03<00:00, 119.76it/s]\n"
     ]
    },
    {
     "name": "stdout",
     "output_type": "stream",
     "text": [
      "Writing scene (/Users/chanwutk/Documents/apperception/data/v1.0-mini/videos/boston-seaport/scene-0103-CAM_FRONT_RIGHT-2018-8-1-12-26-43-520482.mp4):\n"
     ]
    },
    {
     "name": "stderr",
     "output_type": "stream",
     "text": [
      "100%|█████████████████████████████████████████████████████████████████████████████████████████████████████████████████████████████████████████████████████████████████| 388/388 [00:03<00:00, 109.50it/s]\n"
     ]
    },
    {
     "name": "stdout",
     "output_type": "stream",
     "text": [
      "done scene-0103-CAM_FRONT_RIGHT-2018-8-1-12-26-43-520482.mp4\n",
      "Reading scene: scene-0103-CAM_BACK_RIGHT\n"
     ]
    },
    {
     "name": "stderr",
     "output_type": "stream",
     "text": [
      "100%|█████████████████████████████████████████████████████████████████████████████████████████████████████████████████████████████████████████████████████████████████| 388/388 [00:03<00:00, 129.12it/s]\n"
     ]
    },
    {
     "name": "stdout",
     "output_type": "stream",
     "text": [
      "Writing scene (/Users/chanwutk/Documents/apperception/data/v1.0-mini/videos/boston-seaport/scene-0103-CAM_BACK_RIGHT-2018-8-1-12-26-43-528113.mp4):\n"
     ]
    },
    {
     "name": "stderr",
     "output_type": "stream",
     "text": [
      "100%|█████████████████████████████████████████████████████████████████████████████████████████████████████████████████████████████████████████████████████████████████| 388/388 [00:03<00:00, 122.07it/s]\n"
     ]
    },
    {
     "name": "stdout",
     "output_type": "stream",
     "text": [
      "done scene-0103-CAM_BACK_RIGHT-2018-8-1-12-26-43-528113.mp4\n",
      "Reading scene: scene-0103-CAM_BACK\n"
     ]
    },
    {
     "name": "stderr",
     "output_type": "stream",
     "text": [
      "100%|█████████████████████████████████████████████████████████████████████████████████████████████████████████████████████████████████████████████████████████████████| 388/388 [00:02<00:00, 133.36it/s]\n"
     ]
    },
    {
     "name": "stdout",
     "output_type": "stream",
     "text": [
      "Writing scene (/Users/chanwutk/Documents/apperception/data/v1.0-mini/videos/boston-seaport/scene-0103-CAM_BACK-2018-8-1-12-26-43-537558.mp4):\n"
     ]
    },
    {
     "name": "stderr",
     "output_type": "stream",
     "text": [
      "100%|█████████████████████████████████████████████████████████████████████████████████████████████████████████████████████████████████████████████████████████████████| 388/388 [00:02<00:00, 130.99it/s]\n"
     ]
    },
    {
     "name": "stdout",
     "output_type": "stream",
     "text": [
      "done scene-0103-CAM_BACK-2018-8-1-12-26-43-537558.mp4\n",
      "Reading scene: scene-0103-CAM_BACK_LEFT\n"
     ]
    },
    {
     "name": "stderr",
     "output_type": "stream",
     "text": [
      "100%|█████████████████████████████████████████████████████████████████████████████████████████████████████████████████████████████████████████████████████████████████| 388/388 [00:03<00:00, 126.36it/s]\n"
     ]
    },
    {
     "name": "stdout",
     "output_type": "stream",
     "text": [
      "Writing scene (/Users/chanwutk/Documents/apperception/data/v1.0-mini/videos/boston-seaport/scene-0103-CAM_BACK_LEFT-2018-8-1-12-26-43-547405.mp4):\n"
     ]
    },
    {
     "name": "stderr",
     "output_type": "stream",
     "text": [
      "100%|█████████████████████████████████████████████████████████████████████████████████████████████████████████████████████████████████████████████████████████████████| 388/388 [00:03<00:00, 113.04it/s]\n"
     ]
    },
    {
     "name": "stdout",
     "output_type": "stream",
     "text": [
      "done scene-0103-CAM_BACK_LEFT-2018-8-1-12-26-43-547405.mp4\n",
      "Reading scene: scene-0553-CAM_FRONT_LEFT\n"
     ]
    },
    {
     "name": "stderr",
     "output_type": "stream",
     "text": [
      "100%|█████████████████████████████████████████████████████████████████████████████████████████████████████████████████████████████████████████████████████████████████| 398/398 [00:02<00:00, 139.33it/s]\n"
     ]
    },
    {
     "name": "stdout",
     "output_type": "stream",
     "text": [
      "Writing scene (/Users/chanwutk/Documents/apperception/data/v1.0-mini/videos/boston-seaport/scene-0553-CAM_FRONT_LEFT-2018-8-28-13-48-16-4799.mp4):\n"
     ]
    },
    {
     "name": "stderr",
     "output_type": "stream",
     "text": [
      "100%|█████████████████████████████████████████████████████████████████████████████████████████████████████████████████████████████████████████████████████████████████| 398/398 [00:02<00:00, 148.49it/s]\n"
     ]
    },
    {
     "name": "stdout",
     "output_type": "stream",
     "text": [
      "done scene-0553-CAM_FRONT_LEFT-2018-8-28-13-48-16-4799.mp4\n",
      "Reading scene: scene-0553-CAM_FRONT\n"
     ]
    },
    {
     "name": "stderr",
     "output_type": "stream",
     "text": [
      "100%|█████████████████████████████████████████████████████████████████████████████████████████████████████████████████████████████████████████████████████████████████| 398/398 [00:02<00:00, 134.97it/s]\n"
     ]
    },
    {
     "name": "stdout",
     "output_type": "stream",
     "text": [
      "Writing scene (/Users/chanwutk/Documents/apperception/data/v1.0-mini/videos/boston-seaport/scene-0553-CAM_FRONT-2018-8-28-13-48-16-12404.mp4):\n"
     ]
    },
    {
     "name": "stderr",
     "output_type": "stream",
     "text": [
      "100%|█████████████████████████████████████████████████████████████████████████████████████████████████████████████████████████████████████████████████████████████████| 398/398 [00:02<00:00, 156.28it/s]\n"
     ]
    },
    {
     "name": "stdout",
     "output_type": "stream",
     "text": [
      "done scene-0553-CAM_FRONT-2018-8-28-13-48-16-12404.mp4\n",
      "Reading scene: scene-0553-CAM_FRONT_RIGHT\n"
     ]
    },
    {
     "name": "stderr",
     "output_type": "stream",
     "text": [
      "100%|█████████████████████████████████████████████████████████████████████████████████████████████████████████████████████████████████████████████████████████████████| 398/398 [00:02<00:00, 136.71it/s]\n"
     ]
    },
    {
     "name": "stdout",
     "output_type": "stream",
     "text": [
      "Writing scene (/Users/chanwutk/Documents/apperception/data/v1.0-mini/videos/boston-seaport/scene-0553-CAM_FRONT_RIGHT-2018-8-28-13-48-16-20482.mp4):\n"
     ]
    },
    {
     "name": "stderr",
     "output_type": "stream",
     "text": [
      "100%|█████████████████████████████████████████████████████████████████████████████████████████████████████████████████████████████████████████████████████████████████| 398/398 [00:02<00:00, 156.14it/s]\n"
     ]
    },
    {
     "name": "stdout",
     "output_type": "stream",
     "text": [
      "done scene-0553-CAM_FRONT_RIGHT-2018-8-28-13-48-16-20482.mp4\n",
      "Reading scene: scene-0553-CAM_BACK_RIGHT\n"
     ]
    },
    {
     "name": "stderr",
     "output_type": "stream",
     "text": [
      "100%|█████████████████████████████████████████████████████████████████████████████████████████████████████████████████████████████████████████████████████████████████| 398/398 [00:02<00:00, 140.37it/s]\n"
     ]
    },
    {
     "name": "stdout",
     "output_type": "stream",
     "text": [
      "Writing scene (/Users/chanwutk/Documents/apperception/data/v1.0-mini/videos/boston-seaport/scene-0553-CAM_BACK_RIGHT-2018-8-28-13-48-16-28113.mp4):\n"
     ]
    },
    {
     "name": "stderr",
     "output_type": "stream",
     "text": [
      "100%|█████████████████████████████████████████████████████████████████████████████████████████████████████████████████████████████████████████████████████████████████| 398/398 [00:02<00:00, 161.52it/s]\n"
     ]
    },
    {
     "name": "stdout",
     "output_type": "stream",
     "text": [
      "done scene-0553-CAM_BACK_RIGHT-2018-8-28-13-48-16-28113.mp4\n",
      "Reading scene: scene-0553-CAM_BACK\n"
     ]
    },
    {
     "name": "stderr",
     "output_type": "stream",
     "text": [
      "100%|█████████████████████████████████████████████████████████████████████████████████████████████████████████████████████████████████████████████████████████████████| 399/399 [00:02<00:00, 139.86it/s]\n"
     ]
    },
    {
     "name": "stdout",
     "output_type": "stream",
     "text": [
      "Writing scene (/Users/chanwutk/Documents/apperception/data/v1.0-mini/videos/boston-seaport/scene-0553-CAM_BACK-2018-8-28-13-48-16-37558.mp4):\n"
     ]
    },
    {
     "name": "stderr",
     "output_type": "stream",
     "text": [
      "100%|█████████████████████████████████████████████████████████████████████████████████████████████████████████████████████████████████████████████████████████████████| 399/399 [00:02<00:00, 155.51it/s]\n"
     ]
    },
    {
     "name": "stdout",
     "output_type": "stream",
     "text": [
      "done scene-0553-CAM_BACK-2018-8-28-13-48-16-37558.mp4\n",
      "Reading scene: scene-0553-CAM_BACK_LEFT\n"
     ]
    },
    {
     "name": "stderr",
     "output_type": "stream",
     "text": [
      "100%|█████████████████████████████████████████████████████████████████████████████████████████████████████████████████████████████████████████████████████████████████| 398/398 [00:02<00:00, 142.47it/s]\n"
     ]
    },
    {
     "name": "stdout",
     "output_type": "stream",
     "text": [
      "Writing scene (/Users/chanwutk/Documents/apperception/data/v1.0-mini/videos/boston-seaport/scene-0553-CAM_BACK_LEFT-2018-8-28-13-48-16-47405.mp4):\n"
     ]
    },
    {
     "name": "stderr",
     "output_type": "stream",
     "text": [
      "100%|█████████████████████████████████████████████████████████████████████████████████████████████████████████████████████████████████████████████████████████████████| 398/398 [00:02<00:00, 165.56it/s]\n"
     ]
    },
    {
     "name": "stdout",
     "output_type": "stream",
     "text": [
      "done scene-0553-CAM_BACK_LEFT-2018-8-28-13-48-16-47405.mp4\n",
      "Reading scene: scene-0655-CAM_FRONT_LEFT\n"
     ]
    },
    {
     "name": "stderr",
     "output_type": "stream",
     "text": [
      "100%|█████████████████████████████████████████████████████████████████████████████████████████████████████████████████████████████████████████████████████████████████| 396/396 [00:02<00:00, 135.95it/s]\n"
     ]
    },
    {
     "name": "stdout",
     "output_type": "stream",
     "text": [
      "Writing scene (/Users/chanwutk/Documents/apperception/data/v1.0-mini/videos/boston-seaport/scene-0655-CAM_FRONT_LEFT-2018-8-27-8-51-32-104799.mp4):\n"
     ]
    },
    {
     "name": "stderr",
     "output_type": "stream",
     "text": [
      "100%|█████████████████████████████████████████████████████████████████████████████████████████████████████████████████████████████████████████████████████████████████| 396/396 [00:03<00:00, 127.58it/s]\n"
     ]
    },
    {
     "name": "stdout",
     "output_type": "stream",
     "text": [
      "done scene-0655-CAM_FRONT_LEFT-2018-8-27-8-51-32-104799.mp4\n",
      "Reading scene: scene-0655-CAM_FRONT\n"
     ]
    },
    {
     "name": "stderr",
     "output_type": "stream",
     "text": [
      "100%|█████████████████████████████████████████████████████████████████████████████████████████████████████████████████████████████████████████████████████████████████| 396/396 [00:03<00:00, 128.92it/s]\n"
     ]
    },
    {
     "name": "stdout",
     "output_type": "stream",
     "text": [
      "Writing scene (/Users/chanwutk/Documents/apperception/data/v1.0-mini/videos/boston-seaport/scene-0655-CAM_FRONT-2018-8-27-8-51-32-112404.mp4):\n"
     ]
    },
    {
     "name": "stderr",
     "output_type": "stream",
     "text": [
      "100%|█████████████████████████████████████████████████████████████████████████████████████████████████████████████████████████████████████████████████████████████████| 396/396 [00:02<00:00, 137.09it/s]\n"
     ]
    },
    {
     "name": "stdout",
     "output_type": "stream",
     "text": [
      "done scene-0655-CAM_FRONT-2018-8-27-8-51-32-112404.mp4\n",
      "Reading scene: scene-0655-CAM_FRONT_RIGHT\n"
     ]
    },
    {
     "name": "stderr",
     "output_type": "stream",
     "text": [
      "100%|█████████████████████████████████████████████████████████████████████████████████████████████████████████████████████████████████████████████████████████████████| 396/396 [00:02<00:00, 136.87it/s]\n"
     ]
    },
    {
     "name": "stdout",
     "output_type": "stream",
     "text": [
      "Writing scene (/Users/chanwutk/Documents/apperception/data/v1.0-mini/videos/boston-seaport/scene-0655-CAM_FRONT_RIGHT-2018-8-27-8-51-32-120482.mp4):\n"
     ]
    },
    {
     "name": "stderr",
     "output_type": "stream",
     "text": [
      "100%|█████████████████████████████████████████████████████████████████████████████████████████████████████████████████████████████████████████████████████████████████| 396/396 [00:02<00:00, 133.11it/s]\n"
     ]
    },
    {
     "name": "stdout",
     "output_type": "stream",
     "text": [
      "done scene-0655-CAM_FRONT_RIGHT-2018-8-27-8-51-32-120482.mp4\n",
      "Reading scene: scene-0655-CAM_BACK_RIGHT\n"
     ]
    },
    {
     "name": "stderr",
     "output_type": "stream",
     "text": [
      "100%|█████████████████████████████████████████████████████████████████████████████████████████████████████████████████████████████████████████████████████████████████| 396/396 [00:03<00:00, 120.28it/s]\n"
     ]
    },
    {
     "name": "stdout",
     "output_type": "stream",
     "text": [
      "Writing scene (/Users/chanwutk/Documents/apperception/data/v1.0-mini/videos/boston-seaport/scene-0655-CAM_BACK_RIGHT-2018-8-27-8-51-32-128113.mp4):\n"
     ]
    },
    {
     "name": "stderr",
     "output_type": "stream",
     "text": [
      "100%|█████████████████████████████████████████████████████████████████████████████████████████████████████████████████████████████████████████████████████████████████| 396/396 [00:03<00:00, 120.17it/s]\n"
     ]
    },
    {
     "name": "stdout",
     "output_type": "stream",
     "text": [
      "done scene-0655-CAM_BACK_RIGHT-2018-8-27-8-51-32-128113.mp4\n",
      "Reading scene: scene-0655-CAM_BACK\n"
     ]
    },
    {
     "name": "stderr",
     "output_type": "stream",
     "text": [
      "100%|█████████████████████████████████████████████████████████████████████████████████████████████████████████████████████████████████████████████████████████████████| 397/397 [00:03<00:00, 129.69it/s]\n"
     ]
    },
    {
     "name": "stdout",
     "output_type": "stream",
     "text": [
      "Writing scene (/Users/chanwutk/Documents/apperception/data/v1.0-mini/videos/boston-seaport/scene-0655-CAM_BACK-2018-8-27-8-51-32-137558.mp4):\n"
     ]
    },
    {
     "name": "stderr",
     "output_type": "stream",
     "text": [
      "100%|█████████████████████████████████████████████████████████████████████████████████████████████████████████████████████████████████████████████████████████████████| 397/397 [00:03<00:00, 116.01it/s]\n"
     ]
    },
    {
     "name": "stdout",
     "output_type": "stream",
     "text": [
      "done scene-0655-CAM_BACK-2018-8-27-8-51-32-137558.mp4\n",
      "Reading scene: scene-0655-CAM_BACK_LEFT\n"
     ]
    },
    {
     "name": "stderr",
     "output_type": "stream",
     "text": [
      "100%|█████████████████████████████████████████████████████████████████████████████████████████████████████████████████████████████████████████████████████████████████| 396/396 [00:03<00:00, 128.63it/s]\n"
     ]
    },
    {
     "name": "stdout",
     "output_type": "stream",
     "text": [
      "Writing scene (/Users/chanwutk/Documents/apperception/data/v1.0-mini/videos/boston-seaport/scene-0655-CAM_BACK_LEFT-2018-8-27-8-51-32-147405.mp4):\n"
     ]
    },
    {
     "name": "stderr",
     "output_type": "stream",
     "text": [
      "100%|█████████████████████████████████████████████████████████████████████████████████████████████████████████████████████████████████████████████████████████████████| 396/396 [00:03<00:00, 110.32it/s]\n"
     ]
    },
    {
     "name": "stdout",
     "output_type": "stream",
     "text": [
      "done scene-0655-CAM_BACK_LEFT-2018-8-27-8-51-32-147405.mp4\n",
      "Reading scene: scene-0757-CAM_FRONT_LEFT\n"
     ]
    },
    {
     "name": "stderr",
     "output_type": "stream",
     "text": [
      "100%|███████████████████████████████████████████████████████████████████████████████████████████████████████████████████████████████████| 397/397 [00:03<00:00, 120.24it/s]\n"
     ]
    },
    {
     "name": "stdout",
     "output_type": "stream",
     "text": [
      "Writing scene (/Users/chanwutk/Documents/apperception/data/v1.0-mini/videos/boston-seaport/scene-0757-CAM_FRONT_LEFT-2018-8-30-12-25-8-254799.mp4):\n"
     ]
    },
    {
     "name": "stderr",
     "output_type": "stream",
     "text": [
      " 74%|████████████████████████████████████████████████████████████████████████████████████████████████▎                                  | 292/397 [00:03<00:00, 113.41it/s]"
     ]
    }
   ],
   "source": [
    "for l in os.listdir(partition_dir):\n",
    "    d = os.path.join(partition_dir, l)\n",
    "    with open(os.path.join(d, 'sample_data.pickle'), \"rb\") as f:\n",
    "        sample_data = pickle.load(f)\n",
    "    videos = get_videos(sample_data)\n",
    "    \n",
    "    \n",
    "    output = {}\n",
    "    for name in videos:\n",
    "        video = videos[name]\n",
    "        frames, filename, start = compose(l, name, video)\n",
    "        output[name] = {\n",
    "            \"filename\": filename,\n",
    "            \"start\": start,\n",
    "            \"columns\": [\n",
    "                \"cameraId\",\n",
    "                \"frameId\",\n",
    "                \"frameNum\",\n",
    "                \"filename\",\n",
    "                \"cameraTranslation\",\n",
    "                \"cameraRotation\",\n",
    "                \"cameraIntrinsic\",\n",
    "                \"egoTranslation\",\n",
    "                \"egoRotation\",\n",
    "                \"timestamp\",\n",
    "                \"cameraHeading\",\n",
    "                \"egoHeading\",\n",
    "            ],\n",
    "            \"frames\": video\n",
    "        }\n",
    "        print(\"done\", filename)\n",
    "    base = os.path.join(processed_dir, 'videos', l)\n",
    "    with open(os.path.join(base, 'frames.pickle'), \"wb\") as f:\n",
    "        pickle.dump(output, f)"
   ]
  },
  {
   "cell_type": "code",
   "execution_count": null,
   "id": "ac973260",
   "metadata": {},
   "outputs": [],
   "source": []
  }
 ],
 "metadata": {
  "kernelspec": {
   "display_name": "Python 3 (ipykernel)",
   "language": "python",
   "name": "python3"
  },
  "language_info": {
   "codemirror_mode": {
    "name": "ipython",
    "version": 3
   },
   "file_extension": ".py",
   "mimetype": "text/x-python",
   "name": "python",
   "nbconvert_exporter": "python",
   "pygments_lexer": "ipython3",
   "version": "3.10.6"
  },
  "vscode": {
   "interpreter": {
    "hash": "6da98d48e8fe947353054159aa9213a15d82944e6db20bad7c7d338a05ae337c"
   }
  }
 },
 "nbformat": 4,
 "nbformat_minor": 5
}
