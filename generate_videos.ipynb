{
 "cells": [
  {
   "cell_type": "code",
   "execution_count": 1,
   "id": "d0bbe44d-7410-4539-b1c0-38b50f65e2c0",
   "metadata": {
    "tags": []
   },
   "outputs": [],
   "source": [
    "from typing import List, Tuple\n",
    "from datetime import datetime, timedelta\n",
    "import os\n",
    "import cv2\n",
    "import pickle\n",
    "import itertools\n",
    "import json\n",
    "import multiprocessing\n",
    "from math import nan\n",
    "\n",
    "import altair as alt\n",
    "import numpy.typing as npt\n",
    "import numpy as np\n",
    "import pandas as pd\n",
    "from tqdm import tqdm\n",
    "\n",
    "from utils.compose_factories.compose import compose_factory\n",
    "from utils.data_dirs import data_dirs\n",
    "from utils.get_videos import get_videos\n",
    "from utils.frame_json_encoder import FrameJSONEncoder\n",
    "from utils.typings import Frame\n",
    "from utils.load_images import load_images\n",
    "from utils.get_compose_and_videos import get_compose_and_videos"
   ]
  },
  {
   "cell_type": "code",
   "execution_count": 2,
   "id": "1e70ec21",
   "metadata": {
    "tags": []
   },
   "outputs": [
    {
     "name": "stdout",
     "output_type": "stream",
     "text": [
      "/home/chanwutk/data/raw/full-dataset/trainval\n",
      "/home/chanwutk/data/processed/full-dataset/trainval\n",
      "v1.0-trainval\n",
      "/home/chanwutk/data/raw/scenic/experiment_data\n",
      "\n"
     ]
    }
   ],
   "source": [
    "raw_dir, processed_dir, folder, EXPERIMENT_DATA, suffix, *_ = data_dirs(False)\n",
    "print(raw_dir)\n",
    "print(processed_dir)\n",
    "print(folder)\n",
    "print(EXPERIMENT_DATA)\n",
    "print(suffix)"
   ]
  },
  {
   "cell_type": "code",
   "execution_count": 3,
   "id": "5b735bc4",
   "metadata": {
    "tags": []
   },
   "outputs": [],
   "source": [
    "interpolate = False"
   ]
  },
  {
   "cell_type": "code",
   "execution_count": 4,
   "id": "d36eca83-55ba-4744-bac2-de9f4792dc28",
   "metadata": {
    "tags": []
   },
   "outputs": [],
   "source": [
    "only_keyframe = True"
   ]
  },
  {
   "cell_type": "code",
   "execution_count": 5,
   "id": "7a388e68",
   "metadata": {
    "tags": []
   },
   "outputs": [],
   "source": [
    "fps = 12"
   ]
  },
  {
   "cell_type": "code",
   "execution_count": 6,
   "id": "cda7eeaa-afaf-4de0-aec8-6b9db19f00e3",
   "metadata": {
    "tags": []
   },
   "outputs": [
    {
     "name": "stderr",
     "output_type": "stream",
     "text": [
      "100%|█████████████████████████████████████████████████████████████████████████████████████████| 1183790/1183790 [00:04<00:00, 280842.96it/s]\n"
     ]
    }
   ],
   "source": [
    "compose, videos = get_compose_and_videos(fps, raw_dir, processed_dir, only_keyframe, interpolate)"
   ]
  },
  {
   "cell_type": "code",
   "execution_count": 7,
   "id": "a0c62fb5",
   "metadata": {
    "tags": []
   },
   "outputs": [],
   "source": [
    "# compose = compose_factory(fps, raw_dir, processed_dir, interpolate)\n",
    "# sample_data = pd.read_pickle(os.path.join(processed_dir, 'sample_data.pkl'))\n",
    "# videos = get_videos(sample_data, only_keyframe=only_keyframe)"
   ]
  },
  {
   "cell_type": "code",
   "execution_count": 10,
   "id": "2fc87f8d",
   "metadata": {
    "collapsed": true,
    "jupyter": {
     "outputs_hidden": true
    },
    "tags": []
   },
   "outputs": [
    {
     "name": "stdout",
     "output_type": "stream",
     "text": [
      "0 / 5100: scene-0001-CAM_FRONT\n",
      "Reading images\n"
     ]
    },
    {
     "name": "stderr",
     "output_type": "stream",
     "text": [
      "100%|███████████████████████████████████████████████████████████████████████████████████████████████████████| 40/40 [00:00<00:00, 44.47it/s]\n",
      "100%|███████████████████████████████████████████████████████████████████████████████████████████████████| 40/40 [00:00<00:00, 323260.42it/s]\n"
     ]
    },
    {
     "name": "stdout",
     "output_type": "stream",
     "text": [
      "Writing scene (/home/chanwutk/data/processed/full-dataset/trainval/videos/keyframe-singapore-onenorth-scene-0001-CAM_FRONT.mp4):\n"
     ]
    },
    {
     "name": "stderr",
     "output_type": "stream",
     "text": [
      "100%|███████████████████████████████████████████████████████████████████████████████████████████████████████| 40/40 [00:00<00:00, 40.22it/s]"
     ]
    },
    {
     "name": "stdout",
     "output_type": "stream",
     "text": [
      "done keyframe-singapore-onenorth-scene-0001-CAM_FRONT.mp4\n",
      "1 / 5100: scene-0001-CAM_FRONT_RIGHT\n",
      "Reading images\n"
     ]
    },
    {
     "name": "stderr",
     "output_type": "stream",
     "text": [
      "\n",
      "100%|███████████████████████████████████████████████████████████████████████████████████████████████████████| 40/40 [00:01<00:00, 34.04it/s]\n",
      "100%|███████████████████████████████████████████████████████████████████████████████████████████████████| 40/40 [00:00<00:00, 222804.99it/s]\n"
     ]
    },
    {
     "name": "stdout",
     "output_type": "stream",
     "text": [
      "Writing scene (/home/chanwutk/data/processed/full-dataset/trainval/videos/keyframe-singapore-onenorth-scene-0001-CAM_FRONT_RIGHT.mp4):\n"
     ]
    },
    {
     "name": "stderr",
     "output_type": "stream",
     "text": [
      "100%|███████████████████████████████████████████████████████████████████████████████████████████████████████| 40/40 [00:00<00:00, 60.57it/s]"
     ]
    },
    {
     "name": "stdout",
     "output_type": "stream",
     "text": [
      "done keyframe-singapore-onenorth-scene-0001-CAM_FRONT_RIGHT.mp4\n",
      "2 / 5100: scene-0001-CAM_BACK_RIGHT\n",
      "Reading images\n"
     ]
    },
    {
     "name": "stderr",
     "output_type": "stream",
     "text": [
      "\n",
      "100%|███████████████████████████████████████████████████████████████████████████████████████████████████████| 40/40 [00:00<00:00, 45.67it/s]\n",
      "100%|███████████████████████████████████████████████████████████████████████████████████████████████████| 40/40 [00:00<00:00, 218738.15it/s]\n"
     ]
    },
    {
     "name": "stdout",
     "output_type": "stream",
     "text": [
      "Writing scene (/home/chanwutk/data/processed/full-dataset/trainval/videos/keyframe-singapore-onenorth-scene-0001-CAM_BACK_RIGHT.mp4):\n"
     ]
    },
    {
     "name": "stderr",
     "output_type": "stream",
     "text": [
      "100%|███████████████████████████████████████████████████████████████████████████████████████████████████████| 40/40 [00:00<00:00, 47.35it/s]"
     ]
    },
    {
     "name": "stdout",
     "output_type": "stream",
     "text": [
      "done keyframe-singapore-onenorth-scene-0001-CAM_BACK_RIGHT.mp4\n",
      "3 / 5100: scene-0001-CAM_BACK\n",
      "Reading images\n"
     ]
    },
    {
     "name": "stderr",
     "output_type": "stream",
     "text": [
      "\n",
      "100%|███████████████████████████████████████████████████████████████████████████████████████████████████████| 40/40 [00:00<00:00, 48.95it/s]\n",
      "100%|███████████████████████████████████████████████████████████████████████████████████████████████████| 40/40 [00:00<00:00, 192178.88it/s]\n"
     ]
    },
    {
     "name": "stdout",
     "output_type": "stream",
     "text": [
      "Writing scene (/home/chanwutk/data/processed/full-dataset/trainval/videos/keyframe-singapore-onenorth-scene-0001-CAM_BACK.mp4):\n"
     ]
    },
    {
     "name": "stderr",
     "output_type": "stream",
     "text": [
      "100%|███████████████████████████████████████████████████████████████████████████████████████████████████████| 40/40 [00:00<00:00, 69.17it/s]"
     ]
    },
    {
     "name": "stdout",
     "output_type": "stream",
     "text": [
      "done keyframe-singapore-onenorth-scene-0001-CAM_BACK.mp4\n",
      "4 / 5100: scene-0001-CAM_BACK_LEFT\n",
      "Reading images\n"
     ]
    },
    {
     "name": "stderr",
     "output_type": "stream",
     "text": [
      "\n",
      "100%|███████████████████████████████████████████████████████████████████████████████████████████████████████| 40/40 [00:00<00:00, 49.80it/s]\n",
      "100%|████████████████████████████████████████████████████████████████████████████████████████████████████| 40/40 [00:00<00:00, 68450.49it/s]\n"
     ]
    },
    {
     "name": "stdout",
     "output_type": "stream",
     "text": [
      "Writing scene (/home/chanwutk/data/processed/full-dataset/trainval/videos/keyframe-singapore-onenorth-scene-0001-CAM_BACK_LEFT.mp4):\n"
     ]
    },
    {
     "name": "stderr",
     "output_type": "stream",
     "text": [
      "100%|███████████████████████████████████████████████████████████████████████████████████████████████████████| 40/40 [00:00<00:00, 57.54it/s]"
     ]
    },
    {
     "name": "stdout",
     "output_type": "stream",
     "text": [
      "done keyframe-singapore-onenorth-scene-0001-CAM_BACK_LEFT.mp4\n",
      "5 / 5100: scene-0001-CAM_FRONT_LEFT\n",
      "Reading images\n"
     ]
    },
    {
     "name": "stderr",
     "output_type": "stream",
     "text": [
      "\n",
      "100%|███████████████████████████████████████████████████████████████████████████████████████████████████████| 40/40 [00:00<00:00, 56.06it/s]\n",
      "100%|███████████████████████████████████████████████████████████████████████████████████████████████████| 40/40 [00:00<00:00, 360800.34it/s]\n"
     ]
    },
    {
     "name": "stdout",
     "output_type": "stream",
     "text": [
      "Writing scene (/home/chanwutk/data/processed/full-dataset/trainval/videos/keyframe-singapore-onenorth-scene-0001-CAM_FRONT_LEFT.mp4):\n"
     ]
    },
    {
     "name": "stderr",
     "output_type": "stream",
     "text": [
      "100%|███████████████████████████████████████████████████████████████████████████████████████████████████████| 40/40 [00:01<00:00, 35.27it/s]"
     ]
    },
    {
     "name": "stdout",
     "output_type": "stream",
     "text": [
      "done keyframe-singapore-onenorth-scene-0001-CAM_FRONT_LEFT.mp4\n",
      "6 / 5100: scene-0002-CAM_FRONT\n",
      "Reading images\n"
     ]
    },
    {
     "name": "stderr",
     "output_type": "stream",
     "text": [
      "\n",
      "100%|███████████████████████████████████████████████████████████████████████████████████████████████████████| 40/40 [00:00<00:00, 47.89it/s]\n",
      "100%|███████████████████████████████████████████████████████████████████████████████████████████████████| 40/40 [00:00<00:00, 293821.65it/s]\n"
     ]
    },
    {
     "name": "stdout",
     "output_type": "stream",
     "text": [
      "Writing scene (/home/chanwutk/data/processed/full-dataset/trainval/videos/keyframe-singapore-onenorth-scene-0002-CAM_FRONT.mp4):\n"
     ]
    },
    {
     "name": "stderr",
     "output_type": "stream",
     "text": [
      "100%|███████████████████████████████████████████████████████████████████████████████████████████████████████| 40/40 [00:00<00:00, 49.69it/s]"
     ]
    },
    {
     "name": "stdout",
     "output_type": "stream",
     "text": [
      "done keyframe-singapore-onenorth-scene-0002-CAM_FRONT.mp4\n",
      "7 / 5100: scene-0002-CAM_FRONT_RIGHT\n",
      "Reading images\n"
     ]
    },
    {
     "name": "stderr",
     "output_type": "stream",
     "text": [
      "\n",
      "100%|███████████████████████████████████████████████████████████████████████████████████████████████████████| 40/40 [00:01<00:00, 36.65it/s]\n",
      "100%|███████████████████████████████████████████████████████████████████████████████████████████████████| 40/40 [00:00<00:00, 223994.87it/s]\n"
     ]
    },
    {
     "name": "stdout",
     "output_type": "stream",
     "text": [
      "Writing scene (/home/chanwutk/data/processed/full-dataset/trainval/videos/keyframe-singapore-onenorth-scene-0002-CAM_FRONT_RIGHT.mp4):\n"
     ]
    },
    {
     "name": "stderr",
     "output_type": "stream",
     "text": [
      "100%|███████████████████████████████████████████████████████████████████████████████████████████████████████| 40/40 [00:00<00:00, 43.26it/s]\n"
     ]
    },
    {
     "name": "stdout",
     "output_type": "stream",
     "text": [
      "done keyframe-singapore-onenorth-scene-0002-CAM_FRONT_RIGHT.mp4\n",
      "8 / 5100: scene-0002-CAM_BACK_RIGHT\n",
      "Reading images\n"
     ]
    },
    {
     "name": "stderr",
     "output_type": "stream",
     "text": [
      "100%|███████████████████████████████████████████████████████████████████████████████████████████████████████| 40/40 [00:00<00:00, 45.39it/s]\n",
      "100%|███████████████████████████████████████████████████████████████████████████████████████████████████| 40/40 [00:00<00:00, 303935.07it/s]\n"
     ]
    },
    {
     "name": "stdout",
     "output_type": "stream",
     "text": [
      "Writing scene (/home/chanwutk/data/processed/full-dataset/trainval/videos/keyframe-singapore-onenorth-scene-0002-CAM_BACK_RIGHT.mp4):\n"
     ]
    },
    {
     "name": "stderr",
     "output_type": "stream",
     "text": [
      "100%|███████████████████████████████████████████████████████████████████████████████████████████████████████| 40/40 [00:00<00:00, 59.85it/s]"
     ]
    },
    {
     "name": "stdout",
     "output_type": "stream",
     "text": [
      "done keyframe-singapore-onenorth-scene-0002-CAM_BACK_RIGHT.mp4\n",
      "9 / 5100: scene-0002-CAM_BACK\n",
      "Reading images\n"
     ]
    },
    {
     "name": "stderr",
     "output_type": "stream",
     "text": [
      "\n",
      "100%|███████████████████████████████████████████████████████████████████████████████████████████████████████| 40/40 [00:00<00:00, 50.24it/s]\n",
      "100%|███████████████████████████████████████████████████████████████████████████████████████████████████| 40/40 [00:00<00:00, 238991.68it/s]\n"
     ]
    },
    {
     "name": "stdout",
     "output_type": "stream",
     "text": [
      "Writing scene (/home/chanwutk/data/processed/full-dataset/trainval/videos/keyframe-singapore-onenorth-scene-0002-CAM_BACK.mp4):\n"
     ]
    },
    {
     "name": "stderr",
     "output_type": "stream",
     "text": [
      "100%|███████████████████████████████████████████████████████████████████████████████████████████████████████| 40/40 [00:00<00:00, 54.88it/s]"
     ]
    },
    {
     "name": "stdout",
     "output_type": "stream",
     "text": [
      "done keyframe-singapore-onenorth-scene-0002-CAM_BACK.mp4\n",
      "10 / 5100: scene-0002-CAM_BACK_LEFT\n",
      "Reading images\n"
     ]
    },
    {
     "name": "stderr",
     "output_type": "stream",
     "text": [
      "\n",
      "100%|███████████████████████████████████████████████████████████████████████████████████████████████████████| 40/40 [00:01<00:00, 38.03it/s]\n",
      "100%|███████████████████████████████████████████████████████████████████████████████████████████████████| 40/40 [00:00<00:00, 405246.76it/s]\n"
     ]
    },
    {
     "name": "stdout",
     "output_type": "stream",
     "text": [
      "Writing scene (/home/chanwutk/data/processed/full-dataset/trainval/videos/keyframe-singapore-onenorth-scene-0002-CAM_BACK_LEFT.mp4):\n"
     ]
    },
    {
     "name": "stderr",
     "output_type": "stream",
     "text": [
      "100%|███████████████████████████████████████████████████████████████████████████████████████████████████████| 40/40 [00:00<00:00, 41.59it/s]"
     ]
    },
    {
     "name": "stdout",
     "output_type": "stream",
     "text": [
      "done keyframe-singapore-onenorth-scene-0002-CAM_BACK_LEFT.mp4\n",
      "11 / 5100: scene-0002-CAM_FRONT_LEFT\n",
      "Reading images\n"
     ]
    },
    {
     "name": "stderr",
     "output_type": "stream",
     "text": [
      "\n",
      "100%|███████████████████████████████████████████████████████████████████████████████████████████████████████| 40/40 [00:01<00:00, 29.96it/s]\n",
      "100%|███████████████████████████████████████████████████████████████████████████████████████████████████| 40/40 [00:00<00:00, 261735.04it/s]\n"
     ]
    },
    {
     "name": "stdout",
     "output_type": "stream",
     "text": [
      "Writing scene (/home/chanwutk/data/processed/full-dataset/trainval/videos/keyframe-singapore-onenorth-scene-0002-CAM_FRONT_LEFT.mp4):\n"
     ]
    },
    {
     "name": "stderr",
     "output_type": "stream",
     "text": [
      "100%|███████████████████████████████████████████████████████████████████████████████████████████████████████| 40/40 [00:00<00:00, 40.97it/s]"
     ]
    },
    {
     "name": "stdout",
     "output_type": "stream",
     "text": [
      "done keyframe-singapore-onenorth-scene-0002-CAM_FRONT_LEFT.mp4\n",
      "12 / 5100: scene-0003-CAM_FRONT\n",
      "Reading images\n"
     ]
    },
    {
     "name": "stderr",
     "output_type": "stream",
     "text": [
      "\n",
      "100%|███████████████████████████████████████████████████████████████████████████████████████████████████████| 40/40 [00:00<00:00, 42.70it/s]\n",
      "100%|███████████████████████████████████████████████████████████████████████████████████████████████████| 40/40 [00:00<00:00, 348798.67it/s]\n"
     ]
    },
    {
     "name": "stdout",
     "output_type": "stream",
     "text": [
      "Writing scene (/home/chanwutk/data/processed/full-dataset/trainval/videos/keyframe-singapore-onenorth-scene-0003-CAM_FRONT.mp4):\n"
     ]
    },
    {
     "name": "stderr",
     "output_type": "stream",
     "text": [
      "100%|███████████████████████████████████████████████████████████████████████████████████████████████████████| 40/40 [00:00<00:00, 70.06it/s]"
     ]
    },
    {
     "name": "stdout",
     "output_type": "stream",
     "text": [
      "done keyframe-singapore-onenorth-scene-0003-CAM_FRONT.mp4\n",
      "13 / 5100: scene-0003-CAM_FRONT_RIGHT\n",
      "Reading images\n"
     ]
    },
    {
     "name": "stderr",
     "output_type": "stream",
     "text": [
      "\n",
      "100%|███████████████████████████████████████████████████████████████████████████████████████████████████████| 40/40 [00:00<00:00, 50.49it/s]\n",
      "100%|███████████████████████████████████████████████████████████████████████████████████████████████████| 40/40 [00:00<00:00, 227642.01it/s]\n"
     ]
    },
    {
     "name": "stdout",
     "output_type": "stream",
     "text": [
      "Writing scene (/home/chanwutk/data/processed/full-dataset/trainval/videos/keyframe-singapore-onenorth-scene-0003-CAM_FRONT_RIGHT.mp4):\n"
     ]
    },
    {
     "name": "stderr",
     "output_type": "stream",
     "text": [
      "100%|███████████████████████████████████████████████████████████████████████████████████████████████████████| 40/40 [00:00<00:00, 62.69it/s]"
     ]
    },
    {
     "name": "stdout",
     "output_type": "stream",
     "text": [
      "done keyframe-singapore-onenorth-scene-0003-CAM_FRONT_RIGHT.mp4\n",
      "14 / 5100: scene-0003-CAM_BACK_RIGHT\n",
      "Reading images\n"
     ]
    },
    {
     "name": "stderr",
     "output_type": "stream",
     "text": [
      "\n",
      "100%|███████████████████████████████████████████████████████████████████████████████████████████████████████| 40/40 [00:00<00:00, 54.14it/s]\n",
      "100%|███████████████████████████████████████████████████████████████████████████████████████████████████| 40/40 [00:00<00:00, 233340.97it/s]\n"
     ]
    },
    {
     "name": "stdout",
     "output_type": "stream",
     "text": [
      "Writing scene (/home/chanwutk/data/processed/full-dataset/trainval/videos/keyframe-singapore-onenorth-scene-0003-CAM_BACK_RIGHT.mp4):\n"
     ]
    },
    {
     "name": "stderr",
     "output_type": "stream",
     "text": [
      "100%|███████████████████████████████████████████████████████████████████████████████████████████████████████| 40/40 [00:00<00:00, 64.35it/s]"
     ]
    },
    {
     "name": "stdout",
     "output_type": "stream",
     "text": [
      "done keyframe-singapore-onenorth-scene-0003-CAM_BACK_RIGHT.mp4\n",
      "15 / 5100: scene-0003-CAM_BACK\n",
      "Reading images\n"
     ]
    },
    {
     "name": "stderr",
     "output_type": "stream",
     "text": [
      "\n",
      "100%|███████████████████████████████████████████████████████████████████████████████████████████████████████| 40/40 [00:00<00:00, 52.00it/s]\n",
      "100%|███████████████████████████████████████████████████████████████████████████████████████████████████| 40/40 [00:00<00:00, 287773.86it/s]\n"
     ]
    },
    {
     "name": "stdout",
     "output_type": "stream",
     "text": [
      "Writing scene (/home/chanwutk/data/processed/full-dataset/trainval/videos/keyframe-singapore-onenorth-scene-0003-CAM_BACK.mp4):\n"
     ]
    },
    {
     "name": "stderr",
     "output_type": "stream",
     "text": [
      "100%|███████████████████████████████████████████████████████████████████████████████████████████████████████| 40/40 [00:00<00:00, 74.18it/s]\n"
     ]
    },
    {
     "name": "stdout",
     "output_type": "stream",
     "text": [
      "done keyframe-singapore-onenorth-scene-0003-CAM_BACK.mp4\n",
      "16 / 5100: scene-0003-CAM_BACK_LEFT\n",
      "Reading images\n"
     ]
    },
    {
     "name": "stderr",
     "output_type": "stream",
     "text": [
      "100%|███████████████████████████████████████████████████████████████████████████████████████████████████████| 40/40 [00:00<00:00, 42.10it/s]\n",
      "100%|███████████████████████████████████████████████████████████████████████████████████████████████████| 40/40 [00:00<00:00, 191739.61it/s]\n"
     ]
    },
    {
     "name": "stdout",
     "output_type": "stream",
     "text": [
      "Writing scene (/home/chanwutk/data/processed/full-dataset/trainval/videos/keyframe-singapore-onenorth-scene-0003-CAM_BACK_LEFT.mp4):\n"
     ]
    },
    {
     "name": "stderr",
     "output_type": "stream",
     "text": [
      "100%|███████████████████████████████████████████████████████████████████████████████████████████████████████| 40/40 [00:00<00:00, 52.83it/s]\n"
     ]
    },
    {
     "name": "stdout",
     "output_type": "stream",
     "text": [
      "done keyframe-singapore-onenorth-scene-0003-CAM_BACK_LEFT.mp4\n",
      "17 / 5100: scene-0003-CAM_FRONT_LEFT\n",
      "Reading images\n"
     ]
    },
    {
     "name": "stderr",
     "output_type": "stream",
     "text": [
      "100%|███████████████████████████████████████████████████████████████████████████████████████████████████████| 40/40 [00:01<00:00, 30.12it/s]\n",
      "100%|███████████████████████████████████████████████████████████████████████████████████████████████████| 40/40 [00:00<00:00, 362358.88it/s]\n"
     ]
    },
    {
     "name": "stdout",
     "output_type": "stream",
     "text": [
      "Writing scene (/home/chanwutk/data/processed/full-dataset/trainval/videos/keyframe-singapore-onenorth-scene-0003-CAM_FRONT_LEFT.mp4):\n"
     ]
    },
    {
     "name": "stderr",
     "output_type": "stream",
     "text": [
      "100%|███████████████████████████████████████████████████████████████████████████████████████████████████████| 40/40 [00:00<00:00, 51.57it/s]"
     ]
    },
    {
     "name": "stdout",
     "output_type": "stream",
     "text": [
      "done keyframe-singapore-onenorth-scene-0003-CAM_FRONT_LEFT.mp4\n",
      "18 / 5100: scene-0004-CAM_FRONT\n",
      "Reading images\n"
     ]
    },
    {
     "name": "stderr",
     "output_type": "stream",
     "text": [
      "\n",
      "100%|███████████████████████████████████████████████████████████████████████████████████████████████████████| 40/40 [00:00<00:00, 41.24it/s]\n",
      "100%|███████████████████████████████████████████████████████████████████████████████████████████████████| 40/40 [00:00<00:00, 301206.75it/s]\n"
     ]
    },
    {
     "name": "stdout",
     "output_type": "stream",
     "text": [
      "Writing scene (/home/chanwutk/data/processed/full-dataset/trainval/videos/keyframe-singapore-onenorth-scene-0004-CAM_FRONT.mp4):\n"
     ]
    },
    {
     "name": "stderr",
     "output_type": "stream",
     "text": [
      "100%|███████████████████████████████████████████████████████████████████████████████████████████████████████| 40/40 [00:00<00:00, 50.91it/s]"
     ]
    },
    {
     "name": "stdout",
     "output_type": "stream",
     "text": [
      "done keyframe-singapore-onenorth-scene-0004-CAM_FRONT.mp4\n",
      "19 / 5100: scene-0004-CAM_FRONT_RIGHT\n",
      "Reading images\n"
     ]
    },
    {
     "name": "stderr",
     "output_type": "stream",
     "text": [
      "\n",
      "100%|███████████████████████████████████████████████████████████████████████████████████████████████████████| 40/40 [00:01<00:00, 39.89it/s]\n",
      "100%|███████████████████████████████████████████████████████████████████████████████████████████████████| 40/40 [00:00<00:00, 361577.93it/s]\n"
     ]
    },
    {
     "name": "stdout",
     "output_type": "stream",
     "text": [
      "Writing scene (/home/chanwutk/data/processed/full-dataset/trainval/videos/keyframe-singapore-onenorth-scene-0004-CAM_FRONT_RIGHT.mp4):\n"
     ]
    },
    {
     "name": "stderr",
     "output_type": "stream",
     "text": [
      "100%|███████████████████████████████████████████████████████████████████████████████████████████████████████| 40/40 [00:00<00:00, 62.69it/s]"
     ]
    },
    {
     "name": "stdout",
     "output_type": "stream",
     "text": [
      "done keyframe-singapore-onenorth-scene-0004-CAM_FRONT_RIGHT.mp4\n",
      "20 / 5100: scene-0004-CAM_BACK_RIGHT\n",
      "Reading images\n"
     ]
    },
    {
     "name": "stderr",
     "output_type": "stream",
     "text": [
      "\n",
      "100%|███████████████████████████████████████████████████████████████████████████████████████████████████████| 40/40 [00:00<00:00, 53.24it/s]\n",
      "100%|███████████████████████████████████████████████████████████████████████████████████████████████████| 40/40 [00:00<00:00, 224895.66it/s]\n"
     ]
    },
    {
     "name": "stdout",
     "output_type": "stream",
     "text": [
      "Writing scene (/home/chanwutk/data/processed/full-dataset/trainval/videos/keyframe-singapore-onenorth-scene-0004-CAM_BACK_RIGHT.mp4):\n"
     ]
    },
    {
     "name": "stderr",
     "output_type": "stream",
     "text": [
      "100%|███████████████████████████████████████████████████████████████████████████████████████████████████████| 40/40 [00:00<00:00, 62.92it/s]"
     ]
    },
    {
     "name": "stdout",
     "output_type": "stream",
     "text": [
      "done keyframe-singapore-onenorth-scene-0004-CAM_BACK_RIGHT.mp4\n",
      "21 / 5100: scene-0004-CAM_BACK\n",
      "Reading images\n"
     ]
    },
    {
     "name": "stderr",
     "output_type": "stream",
     "text": [
      "\n",
      "100%|███████████████████████████████████████████████████████████████████████████████████████████████████████| 40/40 [00:00<00:00, 41.09it/s]\n",
      "100%|███████████████████████████████████████████████████████████████████████████████████████████████████| 40/40 [00:00<00:00, 208154.04it/s]\n"
     ]
    },
    {
     "name": "stdout",
     "output_type": "stream",
     "text": [
      "Writing scene (/home/chanwutk/data/processed/full-dataset/trainval/videos/keyframe-singapore-onenorth-scene-0004-CAM_BACK.mp4):\n"
     ]
    },
    {
     "name": "stderr",
     "output_type": "stream",
     "text": [
      " 98%|████████████████████████████████████████████████████████████████████████████████████████████████████▍  | 39/40 [00:00<00:00, 50.76it/s]\n"
     ]
    },
    {
     "ename": "KeyboardInterrupt",
     "evalue": "",
     "output_type": "error",
     "traceback": [
      "\u001b[0;31m---------------------------------------------------------------------------\u001b[0m",
      "\u001b[0;31mKeyboardInterrupt\u001b[0m                         Traceback (most recent call last)",
      "Cell \u001b[0;32mIn [10], line 13\u001b[0m\n\u001b[1;32m     10\u001b[0m img_cache \u001b[38;5;241m=\u001b[39m load_images(raw_dir, filenames)\n\u001b[1;32m     12\u001b[0m \u001b[38;5;28;01massert\u001b[39;00m \u001b[38;5;28mlen\u001b[39m(\u001b[38;5;28mset\u001b[39m(f\u001b[38;5;241m.\u001b[39mlocation \u001b[38;5;28;01mfor\u001b[39;00m f \u001b[38;5;129;01min\u001b[39;00m video)) \u001b[38;5;241m==\u001b[39m \u001b[38;5;241m1\u001b[39m, \u001b[38;5;28mset\u001b[39m(f\u001b[38;5;241m.\u001b[39mlocation \u001b[38;5;28;01mfor\u001b[39;00m f \u001b[38;5;129;01min\u001b[39;00m video)\n\u001b[0;32m---> 13\u001b[0m frames, filename, _misalignments \u001b[38;5;241m=\u001b[39m compose(video[\u001b[38;5;241m0\u001b[39m]\u001b[38;5;241m.\u001b[39mlocation, name, video, img_cache)\n\u001b[1;32m     14\u001b[0m o \u001b[38;5;241m=\u001b[39m {\n\u001b[1;32m     15\u001b[0m     \u001b[38;5;124m\"\u001b[39m\u001b[38;5;124mfilename\u001b[39m\u001b[38;5;124m\"\u001b[39m: filename,\n\u001b[1;32m     16\u001b[0m     \u001b[38;5;124m\"\u001b[39m\u001b[38;5;124mstart\u001b[39m\u001b[38;5;124m\"\u001b[39m: video[\u001b[38;5;241m0\u001b[39m]\u001b[38;5;241m.\u001b[39mtimestamp,\n\u001b[0;32m   (...)\u001b[0m\n\u001b[1;32m     36\u001b[0m     ]\n\u001b[1;32m     37\u001b[0m }\n\u001b[1;32m     38\u001b[0m output[name] \u001b[38;5;241m=\u001b[39m o\n",
      "File \u001b[0;32m~/code/nuscenes/utils/get_compose_and_videos.py:71\u001b[0m, in \u001b[0;36mget_compose_and_videos.<locals>.compose\u001b[0;34m(location, name, scene, img_cache)\u001b[0m\n\u001b[1;32m     69\u001b[0m \u001b[38;5;28mprint\u001b[39m(\u001b[38;5;124mf\u001b[39m\u001b[38;5;124m\"\u001b[39m\u001b[38;5;124mWriting scene (\u001b[39m\u001b[38;5;132;01m{\u001b[39;00mos\u001b[38;5;241m.\u001b[39mpath\u001b[38;5;241m.\u001b[39mjoin(base, filename)\u001b[38;5;132;01m}\u001b[39;00m\u001b[38;5;124m):\u001b[39m\u001b[38;5;124m\"\u001b[39m)\n\u001b[1;32m     70\u001b[0m \u001b[38;5;28;01mfor\u001b[39;00m frame, i \u001b[38;5;129;01min\u001b[39;00m tqdm(_frames):\n\u001b[0;32m---> 71\u001b[0m     \u001b[43mout\u001b[49m\u001b[38;5;241;43m.\u001b[39;49m\u001b[43mwrite\u001b[49m\u001b[43m(\u001b[49m\u001b[43mframe\u001b[49m\u001b[43m)\u001b[49m\n\u001b[1;32m     72\u001b[0m out\u001b[38;5;241m.\u001b[39mrelease()\n\u001b[1;32m     73\u001b[0m cv2\u001b[38;5;241m.\u001b[39mdestroyAllWindows()\n",
      "\u001b[0;31mKeyboardInterrupt\u001b[0m: "
     ]
    }
   ],
   "source": [
    "output = {}\n",
    "misalignments = []\n",
    "for i, name in enumerate(videos):\n",
    "    print(f'{i} / {len(videos)}:', name)\n",
    "    video = videos[name]\n",
    "\n",
    "    filenames = []\n",
    "    for f in video:\n",
    "        filenames.append(f.filename)\n",
    "    img_cache = load_images(raw_dir, filenames)\n",
    "\n",
    "    assert len(set(f.location for f in video)) == 1, set(f.location for f in video)\n",
    "    frames, filename, _misalignments = compose(video[0].location, name, video, img_cache)\n",
    "    o = {\n",
    "        \"filename\": filename,\n",
    "        \"start\": video[0].timestamp,\n",
    "        \"location\": video[0].location,\n",
    "        \"columns\": [\n",
    "            \"cameraId\",\n",
    "            \"frameId\",  # sample data token\n",
    "            \"frameNum\",\n",
    "            \"filename\",\n",
    "            \"cameraTranslation\",\n",
    "            \"cameraRotation\",\n",
    "            \"cameraIntrinsic\",\n",
    "            \"egoTranslation\",\n",
    "            \"egoRotation\",\n",
    "            \"timestamp\",\n",
    "            \"cameraHeading\",\n",
    "            \"egoHeading\",\n",
    "            \"location\",\n",
    "        ],\n",
    "        \"frames\": [\n",
    "            tuple(video[f])\n",
    "            for img, f in frames\n",
    "        ]\n",
    "    }\n",
    "    output[name] = o\n",
    "    print(\"done\", filename)\n",
    "base = os.path.join(processed_dir, 'videos')\n",
    "frames_name = 'frames'\n",
    "if only_keyframe:\n",
    "    frames_name = 'keyframes-' + frames_name\n",
    "with open(os.path.join(base, frames_name + '.pickle'), \"wb\") as f:\n",
    "    pickle.dump(output, f)\n",
    "\n",
    "with open(os.path.join(base, frames_name + '.pkl'), \"wb\") as f:\n",
    "    pickle.dump(output, f)\n",
    "\n",
    "with open(os.path.join(base, frames_name + '.json'), \"w\") as f:\n",
    "    json.dump(output, f, indent=2, sort_keys=True, cls=FrameJSONEncoder)"
   ]
  },
  {
   "cell_type": "code",
   "execution_count": null,
   "id": "49166bad",
   "metadata": {},
   "outputs": [],
   "source": []
  },
  {
   "cell_type": "code",
   "execution_count": null,
   "id": "5e440a16",
   "metadata": {},
   "outputs": [],
   "source": []
  }
 ],
 "metadata": {
  "kernelspec": {
   "display_name": "Python 3 (ipykernel)",
   "language": "python",
   "name": "python3"
  },
  "language_info": {
   "codemirror_mode": {
    "name": "ipython",
    "version": 3
   },
   "file_extension": ".py",
   "mimetype": "text/x-python",
   "name": "python",
   "nbconvert_exporter": "python",
   "pygments_lexer": "ipython3",
   "version": "3.10.10"
  },
  "vscode": {
   "interpreter": {
    "hash": "7a68e3870120896cc011159b0b8d16aa386310a929479cd4a55bc648d6632153"
   }
  }
 },
 "nbformat": 4,
 "nbformat_minor": 5
}
