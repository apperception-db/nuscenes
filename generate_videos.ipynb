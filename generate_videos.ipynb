{
 "cells": [
  {
   "cell_type": "code",
   "execution_count": null,
   "id": "d0bbe44d-7410-4539-b1c0-38b50f65e2c0",
   "metadata": {
    "execution": {
     "iopub.execute_input": "2022-10-05T02:47:35.779725Z",
     "iopub.status.busy": "2022-10-05T02:47:35.778898Z",
     "iopub.status.idle": "2022-10-05T02:47:36.265596Z",
     "shell.execute_reply": "2022-10-05T02:47:36.264731Z"
    }
   },
   "outputs": [],
   "source": [
    "from typing import List, Tuple\n",
    "from datetime import datetime, timedelta\n",
    "import numpy.typing as npt\n",
    "import numpy as np\n",
    "import os\n",
    "import cv2\n",
    "import pickle\n",
    "from tqdm import tqdm\n",
    "import itertools\n",
    "\n",
    "from utils.data_dirs import data_dirs"
   ]
  },
  {
   "cell_type": "code",
   "execution_count": null,
   "id": "1e70ec21",
   "metadata": {},
   "outputs": [],
   "source": [
    "raw_dir, processed_dir, folder, EXPERIMENT_DATA, suffix = data_dirs(False)\n",
    "print(raw_dir)\n",
    "print(processed_dir)\n",
    "print(folder)\n",
    "print(EXPERIMENT_DATA)\n",
    "print(suffix)"
   ]
  },
  {
   "cell_type": "code",
   "execution_count": null,
   "id": "7a388e68",
   "metadata": {},
   "outputs": [],
   "source": [
    "fps = 20"
   ]
  },
  {
   "cell_type": "code",
   "execution_count": null,
   "id": "d8d80573",
   "metadata": {
    "execution": {
     "iopub.execute_input": "2022-10-05T02:47:36.299634Z",
     "iopub.status.busy": "2022-10-05T02:47:36.299392Z",
     "iopub.status.idle": "2022-10-05T02:47:36.302730Z",
     "shell.execute_reply": "2022-10-05T02:47:36.302020Z"
    }
   },
   "outputs": [],
   "source": [
    "partition_dir = os.path.join(processed_dir, 'partition')"
   ]
  },
  {
   "cell_type": "code",
   "execution_count": null,
   "id": "a4d0755c",
   "metadata": {
    "execution": {
     "iopub.execute_input": "2022-10-05T02:47:36.305667Z",
     "iopub.status.busy": "2022-10-05T02:47:36.305395Z",
     "iopub.status.idle": "2022-10-05T02:47:36.309072Z",
     "shell.execute_reply": "2022-10-05T02:47:36.308364Z"
    }
   },
   "outputs": [],
   "source": [
    "cameras = [\n",
    "    'CAM_FRONT',\n",
    "    'CAM_FRONT_LEFT',\n",
    "    'CAM_FRONT_RIGHT',\n",
    "    'CAM_BACK_LEFT',\n",
    "    'CAM_BACK_RIGHT',\n",
    "    'CAM_BACK',\n",
    "]"
   ]
  },
  {
   "cell_type": "code",
   "execution_count": null,
   "id": "1c59c250",
   "metadata": {
    "execution": {
     "iopub.execute_input": "2022-10-05T02:47:36.312105Z",
     "iopub.status.busy": "2022-10-05T02:47:36.311829Z",
     "iopub.status.idle": "2022-10-05T02:47:36.319042Z",
     "shell.execute_reply": "2022-10-05T02:47:36.318152Z"
    }
   },
   "outputs": [],
   "source": [
    "def get_videos(sample_data):\n",
    "    videos = {}\n",
    "    for t in sample_data.itertuples(index=False):\n",
    "        scene = t.scene_name\n",
    "        file = t.filename.split('/')[1]\n",
    "        key = f\"{scene}-{file}\"\n",
    "        if key not in videos:\n",
    "            videos[key] = []\n",
    "        t = (\n",
    "            t.scene_name,\n",
    "            t.token,\n",
    "            t.frame_order,\n",
    "            t.filename,\n",
    "            t.camera_translation,\n",
    "            t.camera_rotation,\n",
    "            t.camera_intrinsic,\n",
    "            t.ego_translation,\n",
    "            t.ego_rotation,\n",
    "            datetime.fromtimestamp(t.timestamp / 1_000_000),\n",
    "            t.camera_heading,\n",
    "            t.ego_heading\n",
    "        )\n",
    "        videos[key].append(t)\n",
    "\n",
    "    for video in videos.values():\n",
    "        video.sort(key=lambda v: v[9])\n",
    "            \n",
    "    return videos"
   ]
  },
  {
   "cell_type": "code",
   "execution_count": null,
   "id": "a0c62fb5",
   "metadata": {
    "execution": {
     "iopub.execute_input": "2022-10-05T02:47:36.445981Z",
     "iopub.status.busy": "2022-10-05T02:47:36.445440Z",
     "iopub.status.idle": "2022-10-05T02:47:36.464360Z",
     "shell.execute_reply": "2022-10-05T02:47:36.463537Z"
    }
   },
   "outputs": [],
   "source": [
    "rame = tuple\n",
    "\n",
    "def frame_with_best_alignments(scene: \"List[Frame]\") -> \"Frame\":\n",
    "    max_aligned_frames = -1\n",
    "    frame_idx = None\n",
    "    frame_t = None\n",
    "    for idx, frame in enumerate(scene):\n",
    "        t = frame[9]\n",
    "        aligned_frames = 0\n",
    "        for _frame in scene:\n",
    "            _t = _frame[9]\n",
    "            sec_diff = (t - _t).total_seconds()\n",
    "            if (sec_diff * fps).is_integer():\n",
    "                aligned_frames += 1\n",
    "        if aligned_frames > max_aligned_frames:\n",
    "            max_aligned_frames = aligned_frames\n",
    "            frame_idx = idx\n",
    "            frame_t = t\n",
    "    \n",
    "    return frame_idx, frame_t\n",
    "\n",
    "\n",
    "def load_image(cache: \"Dict[str, npt.NDArray]\", name: str) -> \"npt.NDArray\":\n",
    "    if name not in cache:\n",
    "        cache[name] = cv2.imread(os.path.join(raw_dir, name))\n",
    "    return cache[name]\n",
    "    \n",
    "\n",
    "def compose(location: str, name: str, scene: \"List[Frame]\"):\n",
    "    t_start = scene[0][9]\n",
    "    t_end = scene[-1][9]\n",
    "\n",
    "    frame_idx, frame_t = frame_with_best_alignments(scene)\n",
    "    \n",
    "    frames_before = int((frame_t - t_start).total_seconds() * fps)\n",
    "    \n",
    "    def get_timestamp(idx: int):\n",
    "        return frame_t - timedelta(seconds=(frames_before - idx) / fps)\n",
    "    \n",
    "    assert get_timestamp(0) >= t_start, f'{get_timestamp(0)} {t_start}'\n",
    "    \n",
    "    frames: \"List[npt.NDArray]\" = []\n",
    "    frame_idx = 0\n",
    "    img_cache = {}\n",
    "    print(\"Reading scene:\", name)\n",
    "    n = 0\n",
    "    while get_timestamp(n) < t_end:\n",
    "        t = get_timestamp(n)\n",
    "        n += 1\n",
    "\n",
    "    for i in tqdm(itertools.count(), total=n):\n",
    "        if get_timestamp(i) >= t_end:\n",
    "            break\n",
    "#         print(i)\n",
    "        t = get_timestamp(i)\n",
    "        while scene[frame_idx + 1][9] < t:\n",
    "            frame_idx += 1\n",
    "        f_curr, t_curr = scene[frame_idx][3::6]\n",
    "        f_next, t_next = scene[frame_idx + 1][3::6]\n",
    "        \n",
    "        img_curr = load_image(img_cache, f_curr)\n",
    "        img_next = load_image(img_cache, f_next)\n",
    "#         img_curr = cv2.imread(os.path.join(BASE_DIR, f_curr))\n",
    "#         img_next = cv2.imread(os.path.join(BASE_DIR, f_next))\n",
    "        \n",
    "        ratio = (t - t_curr).total_seconds() / (t_next - t_curr).total_seconds()\n",
    "#         print(ratio)\n",
    "        \n",
    "        if ratio < 0.5:\n",
    "            img = img_curr\n",
    "        else:\n",
    "            img = img_next\n",
    "        frames.append(img)\n",
    "    \n",
    "    t0 = get_timestamp(0)\n",
    "    t0_tuple = (t0.year, t0.month, t0.day, t0.hour, t0.minute, t0.second, t0.microsecond)\n",
    "    filename = f'{name}-{\"-\".join([*map(str, t0_tuple)])}.mp4'\n",
    "    base = os.path.join(processed_dir, 'videos', location)\n",
    "    if not os.path.exists(base):\n",
    "        os.makedirs(base)\n",
    "    out = cv2.VideoWriter(\n",
    "        os.path.join(base, filename),\n",
    "        cv2.VideoWriter_fourcc(*'mp4v'),\n",
    "        fps,\n",
    "        (1600, 900)\n",
    "    )\n",
    "    print(f\"Writing scene ({os.path.join(base, filename)}):\")\n",
    "    for frame in tqdm(frames):\n",
    "        out.write(frame)\n",
    "    out.release()\n",
    "    cv2.destroyAllWindows()\n",
    "    \n",
    "    return frames, filename, get_timestamp(0)"
   ]
  },
  {
   "cell_type": "code",
   "execution_count": null,
   "id": "a1863824",
   "metadata": {
    "execution": {
     "iopub.execute_input": "2022-10-05T02:47:36.470011Z",
     "iopub.status.busy": "2022-10-05T02:47:36.469759Z",
     "iopub.status.idle": "2022-10-05T03:02:56.290475Z",
     "shell.execute_reply": "2022-10-05T03:02:56.289432Z"
    }
   },
   "outputs": [],
   "source": [
    "for l in os.listdir(partition_dir):\n",
    "    d = os.path.join(partition_dir, l)\n",
    "    with open(os.path.join(d, 'sample_data.pickle'), \"rb\") as f:\n",
    "        sample_data = pickle.load(f)\n",
    "    videos = get_videos(sample_data)\n",
    "    \n",
    "    \n",
    "    output = {}\n",
    "    for name in videos:\n",
    "        video = videos[name]\n",
    "        frames, filename, start = compose(l, name, video)\n",
    "        output[name] = {\n",
    "            \"filename\": filename,\n",
    "            \"start\": start,\n",
    "            \"columns\": [\n",
    "                \"cameraId\",\n",
    "                \"frameId\",\n",
    "                \"frameNum\",\n",
    "                \"filename\",\n",
    "                \"cameraTranslation\",\n",
    "                \"cameraRotation\",\n",
    "                \"cameraIntrinsic\",\n",
    "                \"egoTranslation\",\n",
    "                \"egoRotation\",\n",
    "                \"timestamp\",\n",
    "                \"cameraHeading\",\n",
    "                \"egoHeading\",\n",
    "            ],\n",
    "            \"frames\": video\n",
    "        }\n",
    "        print(\"done\", filename)\n",
    "    base = os.path.join(processed_dir, 'videos', l)\n",
    "    with open(os.path.join(base, 'frames.pickle'), \"wb\") as f:\n",
    "        pickle.dump(output, f)"
   ]
  },
  {
   "cell_type": "code",
   "execution_count": null,
   "id": "07a5f611",
   "metadata": {},
   "outputs": [],
   "source": []
  },
  {
   "cell_type": "code",
   "execution_count": null,
   "id": "0b20b209",
   "metadata": {},
   "outputs": [],
   "source": []
  },
  {
   "cell_type": "code",
   "execution_count": null,
   "id": "f86c66ff",
   "metadata": {},
   "outputs": [],
   "source": []
  },
  {
   "cell_type": "code",
   "execution_count": null,
   "id": "4565fc46",
   "metadata": {},
   "outputs": [],
   "source": []
  }
 ],
 "metadata": {
  "kernelspec": {
   "display_name": "Python 3 (ipykernel)",
   "language": "python",
   "name": "python3"
  },
  "language_info": {
   "codemirror_mode": {
    "name": "ipython",
    "version": 3
   },
   "file_extension": ".py",
   "mimetype": "text/x-python",
   "name": "python",
   "nbconvert_exporter": "python",
   "pygments_lexer": "ipython3",
   "version": "3.10.7"
  },
  "vscode": {
   "interpreter": {
    "hash": "6da98d48e8fe947353054159aa9213a15d82944e6db20bad7c7d338a05ae337c"
   }
  }
 },
 "nbformat": 4,
 "nbformat_minor": 5
}
