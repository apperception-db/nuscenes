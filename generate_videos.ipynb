{
 "cells": [
  {
   "cell_type": "code",
   "execution_count": 1,
   "id": "d0bbe44d-7410-4539-b1c0-38b50f65e2c0",
   "metadata": {
    "execution": {
     "iopub.execute_input": "2022-10-05T02:47:35.779725Z",
     "iopub.status.busy": "2022-10-05T02:47:35.778898Z",
     "iopub.status.idle": "2022-10-05T02:47:36.265596Z",
     "shell.execute_reply": "2022-10-05T02:47:36.264731Z"
    }
   },
   "outputs": [],
   "source": [
    "from typing import List, Tuple\n",
    "from datetime import datetime, timedelta\n",
    "import os\n",
    "import cv2\n",
    "import pickle\n",
    "import itertools\n",
    "import json\n",
    "import multiprocessing\n",
    "from math import nan\n",
    "\n",
    "import altair as alt\n",
    "import numpy.typing as npt\n",
    "import numpy as np\n",
    "import pandas as pd\n",
    "from tqdm import tqdm\n",
    "\n",
    "from utils.compose_factories.compose import compose_factory\n",
    "from utils.data_dirs import data_dirs\n",
    "from utils.get_videos import get_videos\n",
    "from utils.frame_json_encoder import FrameJSONEncoder\n",
    "from utils.typings import Frame\n",
    "from utils.load_images import load_images"
   ]
  },
  {
   "cell_type": "code",
   "execution_count": 2,
   "id": "1e70ec21",
   "metadata": {},
   "outputs": [
    {
     "name": "stdout",
     "output_type": "stream",
     "text": [
      "/work/apperception/data/raw/nuScenes/full-dataset-v1.0/Trainval\n",
      "/data/apperception-data/processed/nuscenes/full-dataset-v1.0/Trainval\n",
      "v1.0-trainval\n",
      "/work/apperception/data/raw/scenic/experiment_data\n",
      "\n"
     ]
    }
   ],
   "source": [
    "raw_dir, processed_dir, folder, EXPERIMENT_DATA, suffix, *_ = data_dirs(False)\n",
    "print(raw_dir)\n",
    "print(processed_dir)\n",
    "print(folder)\n",
    "print(EXPERIMENT_DATA)\n",
    "print(suffix)"
   ]
  },
  {
   "cell_type": "code",
   "execution_count": 3,
   "id": "7a388e68",
   "metadata": {},
   "outputs": [],
   "source": [
    "fps = 12"
   ]
  },
  {
   "cell_type": "code",
   "execution_count": 4,
   "id": "5b735bc4",
   "metadata": {},
   "outputs": [],
   "source": [
    "interpolate = False"
   ]
  },
  {
   "cell_type": "code",
   "execution_count": 5,
   "id": "d8d80573",
   "metadata": {
    "execution": {
     "iopub.execute_input": "2022-10-05T02:47:36.299634Z",
     "iopub.status.busy": "2022-10-05T02:47:36.299392Z",
     "iopub.status.idle": "2022-10-05T02:47:36.302730Z",
     "shell.execute_reply": "2022-10-05T02:47:36.302020Z"
    }
   },
   "outputs": [
    {
     "data": {
      "text/plain": [
       "'/data/apperception-data/processed/nuscenes/full-dataset-v1.0/Trainval/partition'"
      ]
     },
     "execution_count": 5,
     "metadata": {},
     "output_type": "execute_result"
    }
   ],
   "source": [
    "partition_dir = os.path.join(processed_dir, 'partition')\n",
    "partition_dir"
   ]
  },
  {
   "cell_type": "code",
   "execution_count": 6,
   "id": "a0c62fb5",
   "metadata": {
    "execution": {
     "iopub.execute_input": "2022-10-05T02:47:36.445981Z",
     "iopub.status.busy": "2022-10-05T02:47:36.445440Z",
     "iopub.status.idle": "2022-10-05T02:47:36.464360Z",
     "shell.execute_reply": "2022-10-05T02:47:36.463537Z"
    }
   },
   "outputs": [],
   "source": [
    "compose = compose_factory(fps, raw_dir, processed_dir, interpolate)"
   ]
  },
  {
   "cell_type": "code",
   "execution_count": 7,
   "id": "d9155798",
   "metadata": {},
   "outputs": [],
   "source": [
    "sample_data = pd.read_pickle(os.path.join(processed_dir, 'sample_data.pkl'))"
   ]
  },
  {
   "cell_type": "code",
   "execution_count": 8,
   "id": "70de6698",
   "metadata": {},
   "outputs": [],
   "source": [
    "videos = get_videos(sample_data)"
   ]
  },
  {
   "cell_type": "code",
   "execution_count": 9,
   "id": "2fc87f8d",
   "metadata": {
    "scrolled": true
   },
   "outputs": [
    {
     "name": "stdout",
     "output_type": "stream",
     "text": [
      "0 / 5100: scene-0001-CAM_FRONT\n",
      "Reading images\n"
     ]
    },
    {
     "name": "stderr",
     "output_type": "stream",
     "text": [
      "100%|█████████████████████████████████████████████████████████████████████████████████████████████████████████████████████████████████████████████████████████████████████████████████████████████████████████████████████████████████████████████████████████████████████████████| 233/233 [00:17<00:00, 13.23it/s]\n",
      "100%|█████████████████████████████████████████████████████████████████████████████████████████████████████████████████████████████████████████████████████████████████████████████████████████████████████████████████████████████████████████████████████████████████████████| 233/233 [00:00<00:00, 759341.75it/s]\n"
     ]
    },
    {
     "name": "stdout",
     "output_type": "stream",
     "text": [
      "Writing scene (/data/apperception-data/processed/nuscenes/full-dataset-v1.0/Trainval/videos/singapore-onenorth-scene-0001-CAM_FRONT.mp4):\n"
     ]
    },
    {
     "name": "stderr",
     "output_type": "stream",
     "text": [
      "100%|█████████████████████████████████████████████████████████████████████████████████████████████████████████████████████████████████████████████████████████████████████████████████████████████████████████████████████████████████████████████████████████████████████████████| 233/233 [00:03<00:00, 58.84it/s]"
     ]
    },
    {
     "name": "stdout",
     "output_type": "stream",
     "text": [
      "done singapore-onenorth-scene-0001-CAM_FRONT.mp4\n",
      "1 / 5100: scene-0001-CAM_FRONT_RIGHT\n",
      "Reading images\n"
     ]
    },
    {
     "name": "stderr",
     "output_type": "stream",
     "text": [
      "\n",
      "100%|████████████████████████████████████████████████████████████████████████████████████████████████████████████████████████████████████████████████████████████████████████████████████████████████████████████████████████████████████████████████████████████████████████████| 231/231 [00:01<00:00, 144.12it/s]\n",
      "100%|█████████████████████████████████████████████████████████████████████████████████████████████████████████████████████████████████████████████████████████████████████████████████████████████████████████████████████████████████████████████████████████████████████████| 231/231 [00:00<00:00, 641220.53it/s]\n"
     ]
    },
    {
     "name": "stdout",
     "output_type": "stream",
     "text": [
      "Writing scene (/data/apperception-data/processed/nuscenes/full-dataset-v1.0/Trainval/videos/singapore-onenorth-scene-0001-CAM_FRONT_RIGHT.mp4):\n"
     ]
    },
    {
     "name": "stderr",
     "output_type": "stream",
     "text": [
      "100%|█████████████████████████████████████████████████████████████████████████████████████████████████████████████████████████████████████████████████████████████████████████████████████████████████████████████████████████████████████████████████████████████████████████████| 231/231 [00:04<00:00, 52.43it/s]"
     ]
    },
    {
     "name": "stdout",
     "output_type": "stream",
     "text": [
      "done singapore-onenorth-scene-0001-CAM_FRONT_RIGHT.mp4\n",
      "2 / 5100: scene-0001-CAM_BACK_RIGHT\n",
      "Reading images\n"
     ]
    },
    {
     "name": "stderr",
     "output_type": "stream",
     "text": [
      "\n",
      "100%|████████████████████████████████████████████████████████████████████████████████████████████████████████████████████████████████████████████████████████████████████████████████████████████████████████████████████████████████████████████████████████████████████████████| 233/233 [00:01<00:00, 156.44it/s]\n",
      "100%|█████████████████████████████████████████████████████████████████████████████████████████████████████████████████████████████████████████████████████████████████████████████████████████████████████████████████████████████████████████████████████████████████████████| 233/233 [00:00<00:00, 899882.90it/s]\n"
     ]
    },
    {
     "name": "stdout",
     "output_type": "stream",
     "text": [
      "Writing scene (/data/apperception-data/processed/nuscenes/full-dataset-v1.0/Trainval/videos/singapore-onenorth-scene-0001-CAM_BACK_RIGHT.mp4):\n"
     ]
    },
    {
     "name": "stderr",
     "output_type": "stream",
     "text": [
      "100%|█████████████████████████████████████████████████████████████████████████████████████████████████████████████████████████████████████████████████████████████████████████████████████████████████████████████████████████████████████████████████████████████████████████████| 233/233 [00:04<00:00, 57.69it/s]"
     ]
    },
    {
     "name": "stdout",
     "output_type": "stream",
     "text": [
      "done singapore-onenorth-scene-0001-CAM_BACK_RIGHT.mp4\n",
      "3 / 5100: scene-0001-CAM_BACK\n",
      "Reading images\n"
     ]
    },
    {
     "name": "stderr",
     "output_type": "stream",
     "text": [
      "\n",
      "100%|████████████████████████████████████████████████████████████████████████████████████████████████████████████████████████████████████████████████████████████████████████████████████████████████████████████████████████████████████████████████████████████████████████████| 227/227 [00:02<00:00, 111.09it/s]\n",
      "100%|█████████████████████████████████████████████████████████████████████████████████████████████████████████████████████████████████████████████████████████████████████████████████████████████████████████████████████████████████████████████████████████████████████████| 227/227 [00:00<00:00, 799418.14it/s]\n"
     ]
    },
    {
     "name": "stdout",
     "output_type": "stream",
     "text": [
      "Writing scene (/data/apperception-data/processed/nuscenes/full-dataset-v1.0/Trainval/videos/singapore-onenorth-scene-0001-CAM_BACK.mp4):\n"
     ]
    },
    {
     "name": "stderr",
     "output_type": "stream",
     "text": [
      "100%|█████████████████████████████████████████████████████████████████████████████████████████████████████████████████████████████████████████████████████████████████████████████████████████████████████████████████████████████████████████████████████████████████████████████| 227/227 [00:03<00:00, 61.36it/s]"
     ]
    },
    {
     "name": "stdout",
     "output_type": "stream",
     "text": [
      "done singapore-onenorth-scene-0001-CAM_BACK.mp4\n",
      "4 / 5100: scene-0001-CAM_BACK_LEFT\n",
      "Reading images\n"
     ]
    },
    {
     "name": "stderr",
     "output_type": "stream",
     "text": [
      "\n",
      "100%|█████████████████████████████████████████████████████████████████████████████████████████████████████████████████████████████████████████████████████████████████████████████████████████████████████████████████████████████████████████████████████████████████████████████| 226/226 [00:03<00:00, 60.25it/s]\n",
      "100%|█████████████████████████████████████████████████████████████████████████████████████████████████████████████████████████████████████████████████████████████████████████████████████████████████████████████████████████████████████████████████████████████████████████| 226/226 [00:00<00:00, 757118.77it/s]\n"
     ]
    },
    {
     "name": "stdout",
     "output_type": "stream",
     "text": [
      "Writing scene (/data/apperception-data/processed/nuscenes/full-dataset-v1.0/Trainval/videos/singapore-onenorth-scene-0001-CAM_BACK_LEFT.mp4):\n"
     ]
    },
    {
     "name": "stderr",
     "output_type": "stream",
     "text": [
      "100%|█████████████████████████████████████████████████████████████████████████████████████████████████████████████████████████████████████████████████████████████████████████████████████████████████████████████████████████████████████████████████████████████████████████████| 226/226 [00:04<00:00, 49.40it/s]"
     ]
    },
    {
     "name": "stdout",
     "output_type": "stream",
     "text": [
      "done singapore-onenorth-scene-0001-CAM_BACK_LEFT.mp4\n",
      "5 / 5100: scene-0001-CAM_FRONT_LEFT\n",
      "Reading images\n"
     ]
    },
    {
     "name": "stderr",
     "output_type": "stream",
     "text": [
      "\n",
      "100%|█████████████████████████████████████████████████████████████████████████████████████████████████████████████████████████████████████████████████████████████████████████████████████████████████████████████████████████████████████████████████████████████████████████████| 234/234 [00:04<00:00, 51.40it/s]\n",
      "100%|█████████████████████████████████████████████████████████████████████████████████████████████████████████████████████████████████████████████████████████████████████████████████████████████████████████████████████████████████████████████████████████████████████████| 234/234 [00:00<00:00, 631574.73it/s]\n"
     ]
    },
    {
     "name": "stdout",
     "output_type": "stream",
     "text": [
      "Writing scene (/data/apperception-data/processed/nuscenes/full-dataset-v1.0/Trainval/videos/singapore-onenorth-scene-0001-CAM_FRONT_LEFT.mp4):\n"
     ]
    },
    {
     "name": "stderr",
     "output_type": "stream",
     "text": [
      "100%|█████████████████████████████████████████████████████████████████████████████████████████████████████████████████████████████████████████████████████████████████████████████████████████████████████████████████████████████████████████████████████████████████████████████| 234/234 [00:04<00:00, 53.24it/s]"
     ]
    },
    {
     "name": "stdout",
     "output_type": "stream",
     "text": [
      "done singapore-onenorth-scene-0001-CAM_FRONT_LEFT.mp4\n",
      "6 / 5100: scene-0002-CAM_FRONT\n",
      "Reading images\n"
     ]
    },
    {
     "name": "stderr",
     "output_type": "stream",
     "text": [
      "\n",
      "100%|████████████████████████████████████████████████████████████████████████████████████████████████████████████████████████████████████████████████████████████████████████████████████████████████████████████████████████████████████████████████████████████████████████████| 232/232 [00:01<00:00, 118.52it/s]\n",
      "100%|█████████████████████████████████████████████████████████████████████████████████████████████████████████████████████████████████████████████████████████████████████████████████████████████████████████████████████████████████████████████████████████████████████████| 232/232 [00:00<00:00, 607035.89it/s]\n"
     ]
    },
    {
     "name": "stdout",
     "output_type": "stream",
     "text": [
      "Writing scene (/data/apperception-data/processed/nuscenes/full-dataset-v1.0/Trainval/videos/singapore-onenorth-scene-0002-CAM_FRONT.mp4):\n"
     ]
    },
    {
     "name": "stderr",
     "output_type": "stream",
     "text": [
      " 53%|█████████████████████████████████████████████████████████████████████████████████████████████████████████████████████████████████████████████▍                                                                                                                               | 122/232 [00:02<00:01, 59.62it/s]\n"
     ]
    },
    {
     "ename": "KeyboardInterrupt",
     "evalue": "",
     "output_type": "error",
     "traceback": [
      "\u001b[0;31m---------------------------------------------------------------------------\u001b[0m",
      "\u001b[0;31mKeyboardInterrupt\u001b[0m                         Traceback (most recent call last)",
      "Cell \u001b[0;32mIn [9], line 13\u001b[0m\n\u001b[1;32m     10\u001b[0m img_cache \u001b[38;5;241m=\u001b[39m load_images(raw_dir, filenames)\n\u001b[1;32m     12\u001b[0m \u001b[38;5;28;01massert\u001b[39;00m \u001b[38;5;28mlen\u001b[39m(\u001b[38;5;28mset\u001b[39m(f\u001b[38;5;241m.\u001b[39mlocation \u001b[38;5;28;01mfor\u001b[39;00m f \u001b[38;5;129;01min\u001b[39;00m video)) \u001b[38;5;241m==\u001b[39m \u001b[38;5;241m1\u001b[39m, \u001b[38;5;28mset\u001b[39m(f\u001b[38;5;241m.\u001b[39mlocation \u001b[38;5;28;01mfor\u001b[39;00m f \u001b[38;5;129;01min\u001b[39;00m video)\n\u001b[0;32m---> 13\u001b[0m frames, filename, _misalignments \u001b[38;5;241m=\u001b[39m compose(video[\u001b[38;5;241m0\u001b[39m]\u001b[38;5;241m.\u001b[39mlocation, name, video, img_cache)\n\u001b[1;32m     14\u001b[0m o \u001b[38;5;241m=\u001b[39m {\n\u001b[1;32m     15\u001b[0m     \u001b[38;5;124m\"\u001b[39m\u001b[38;5;124mfilename\u001b[39m\u001b[38;5;124m\"\u001b[39m: filename,\n\u001b[1;32m     16\u001b[0m     \u001b[38;5;124m\"\u001b[39m\u001b[38;5;124mstart\u001b[39m\u001b[38;5;124m\"\u001b[39m: video[\u001b[38;5;241m0\u001b[39m]\u001b[38;5;241m.\u001b[39mtimestamp,\n\u001b[0;32m   (...)\u001b[0m\n\u001b[1;32m     36\u001b[0m     ]\n\u001b[1;32m     37\u001b[0m }\n\u001b[1;32m     38\u001b[0m output[name] \u001b[38;5;241m=\u001b[39m o\n",
      "File \u001b[0;32m/data/chanwutk/code/nuscenes/utils/compose_factories/compose.py:37\u001b[0m, in \u001b[0;36mcompose_factory.<locals>.compose\u001b[0;34m(location, name, scene, img_cache)\u001b[0m\n\u001b[1;32m     35\u001b[0m \u001b[38;5;28mprint\u001b[39m(\u001b[38;5;124mf\u001b[39m\u001b[38;5;124m\"\u001b[39m\u001b[38;5;124mWriting scene (\u001b[39m\u001b[38;5;132;01m{\u001b[39;00mos\u001b[38;5;241m.\u001b[39mpath\u001b[38;5;241m.\u001b[39mjoin(base, filename)\u001b[38;5;132;01m}\u001b[39;00m\u001b[38;5;124m):\u001b[39m\u001b[38;5;124m\"\u001b[39m)\n\u001b[1;32m     36\u001b[0m \u001b[38;5;28;01mfor\u001b[39;00m frame, i \u001b[38;5;129;01min\u001b[39;00m tqdm(_frames):\n\u001b[0;32m---> 37\u001b[0m     \u001b[43mout\u001b[49m\u001b[38;5;241;43m.\u001b[39;49m\u001b[43mwrite\u001b[49m\u001b[43m(\u001b[49m\u001b[43mframe\u001b[49m\u001b[43m)\u001b[49m\n\u001b[1;32m     38\u001b[0m out\u001b[38;5;241m.\u001b[39mrelease()\n\u001b[1;32m     39\u001b[0m cv2\u001b[38;5;241m.\u001b[39mdestroyAllWindows()\n",
      "\u001b[0;31mKeyboardInterrupt\u001b[0m: "
     ]
    }
   ],
   "source": [
    "output = {}\n",
    "misalignments = []\n",
    "for i, name in enumerate(videos):\n",
    "    print(f'{i} / {len(videos)}:', name)\n",
    "    video = videos[name]\n",
    "    \n",
    "    filenames = []\n",
    "    for f in video:\n",
    "        filenames.append(f.filename)\n",
    "    img_cache = load_images(raw_dir, filenames)\n",
    "\n",
    "    assert len(set(f.location for f in video)) == 1, set(f.location for f in video)\n",
    "    frames, filename, _misalignments = compose(video[0].location, name, video, img_cache)\n",
    "    o = {\n",
    "        \"filename\": filename,\n",
    "        \"start\": video[0].timestamp,\n",
    "        \"location\": video[0].location,\n",
    "        \"columns\": [\n",
    "            \"cameraId\",\n",
    "            \"frameId\",\n",
    "            \"frameNum\",\n",
    "            \"filename\",\n",
    "            \"cameraTranslation\",\n",
    "            \"cameraRotation\",\n",
    "            \"cameraIntrinsic\",\n",
    "            \"egoTranslation\",\n",
    "            \"egoRotation\",\n",
    "            \"timestamp\",\n",
    "            \"cameraHeading\",\n",
    "            \"egoHeading\",\n",
    "            \"location\",\n",
    "        ],\n",
    "        \"frames\": [\n",
    "            tuple(video[f])\n",
    "            for img, f in frames\n",
    "        ]\n",
    "    }\n",
    "    output[name] = o\n",
    "    print(\"done\", filename)\n",
    "base = os.path.join(processed_dir, 'videos')\n",
    "with open(os.path.join(base, 'frames.pickle'), \"wb\") as f:\n",
    "    pickle.dump(output, f)\n",
    "\n",
    "with open(os.path.join(base, 'frames.pkl'), \"wb\") as f:\n",
    "    pickle.dump(output, f)\n",
    "\n",
    "with open(os.path.join(base, 'frames.json'), \"w\") as f:\n",
    "    json.dump(output, f, indent=2, sort_keys=True, cls=FrameJSONEncoder)"
   ]
  },
  {
   "cell_type": "code",
   "execution_count": null,
   "id": "49166bad",
   "metadata": {},
   "outputs": [],
   "source": []
  },
  {
   "cell_type": "code",
   "execution_count": null,
   "id": "5e440a16",
   "metadata": {},
   "outputs": [],
   "source": []
  }
 ],
 "metadata": {
  "kernelspec": {
   "display_name": "Python 3",
   "language": "python",
   "name": "python3"
  },
  "language_info": {
   "codemirror_mode": {
    "name": "ipython",
    "version": 3
   },
   "file_extension": ".py",
   "mimetype": "text/x-python",
   "name": "python",
   "nbconvert_exporter": "python",
   "pygments_lexer": "ipython3",
   "version": "3.10.8"
  },
  "vscode": {
   "interpreter": {
    "hash": "7a68e3870120896cc011159b0b8d16aa386310a929479cd4a55bc648d6632153"
   }
  }
 },
 "nbformat": 4,
 "nbformat_minor": 5
}
