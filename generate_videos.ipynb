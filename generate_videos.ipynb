{
 "cells": [
  {
   "cell_type": "code",
   "execution_count": 42,
   "id": "d0bbe44d-7410-4539-b1c0-38b50f65e2c0",
   "metadata": {
    "execution": {
     "iopub.execute_input": "2022-10-05T02:47:35.779725Z",
     "iopub.status.busy": "2022-10-05T02:47:35.778898Z",
     "iopub.status.idle": "2022-10-05T02:47:36.265596Z",
     "shell.execute_reply": "2022-10-05T02:47:36.264731Z"
    }
   },
   "outputs": [],
   "source": [
    "from typing import List, Tuple\n",
    "from datetime import datetime, timedelta\n",
    "import numpy.typing as npt\n",
    "import numpy as np\n",
    "import os\n",
    "import cv2\n",
    "import pickle\n",
    "from tqdm import tqdm\n",
    "import itertools\n",
    "\n",
    "from utils.data_dirs import data_dirs"
   ]
  },
  {
   "cell_type": "code",
   "execution_count": 43,
   "id": "1e70ec21",
   "metadata": {},
   "outputs": [
    {
     "name": "stdout",
     "output_type": "stream",
     "text": [
      "/Users/chanwutk/Documents/apperception/data/v1.0-mini\n",
      "/Users/chanwutk/Documents/apperception/data/v1.0-mini\n",
      "v1.0-mini\n",
      "/work/apperception/data/raw/scenic/experiment_data\n",
      "\n"
     ]
    }
   ],
   "source": [
    "raw_dir, processed_dir, folder, EXPERIMENT_DATA, suffix = data_dirs(False)\n",
    "print(raw_dir)\n",
    "print(processed_dir)\n",
    "print(folder)\n",
    "print(EXPERIMENT_DATA)\n",
    "print(suffix)"
   ]
  },
  {
   "cell_type": "code",
   "execution_count": 44,
   "id": "7a388e68",
   "metadata": {},
   "outputs": [],
   "source": [
    "fps = 20"
   ]
  },
  {
   "cell_type": "code",
   "execution_count": 45,
   "id": "5b735bc4",
   "metadata": {},
   "outputs": [],
   "source": [
    "interpolate = False"
   ]
  },
  {
   "cell_type": "code",
   "execution_count": 46,
   "id": "d8d80573",
   "metadata": {
    "execution": {
     "iopub.execute_input": "2022-10-05T02:47:36.299634Z",
     "iopub.status.busy": "2022-10-05T02:47:36.299392Z",
     "iopub.status.idle": "2022-10-05T02:47:36.302730Z",
     "shell.execute_reply": "2022-10-05T02:47:36.302020Z"
    }
   },
   "outputs": [],
   "source": [
    "partition_dir = os.path.join(processed_dir, 'partition')"
   ]
  },
  {
   "cell_type": "code",
   "execution_count": 47,
   "id": "a4d0755c",
   "metadata": {
    "execution": {
     "iopub.execute_input": "2022-10-05T02:47:36.305667Z",
     "iopub.status.busy": "2022-10-05T02:47:36.305395Z",
     "iopub.status.idle": "2022-10-05T02:47:36.309072Z",
     "shell.execute_reply": "2022-10-05T02:47:36.308364Z"
    }
   },
   "outputs": [],
   "source": [
    "cameras = [\n",
    "    'CAM_FRONT',\n",
    "    'CAM_FRONT_LEFT',\n",
    "    'CAM_FRONT_RIGHT',\n",
    "    'CAM_BACK_LEFT',\n",
    "    'CAM_BACK_RIGHT',\n",
    "    'CAM_BACK',\n",
    "]"
   ]
  },
  {
   "cell_type": "code",
   "execution_count": 48,
   "id": "1c59c250",
   "metadata": {
    "execution": {
     "iopub.execute_input": "2022-10-05T02:47:36.312105Z",
     "iopub.status.busy": "2022-10-05T02:47:36.311829Z",
     "iopub.status.idle": "2022-10-05T02:47:36.319042Z",
     "shell.execute_reply": "2022-10-05T02:47:36.318152Z"
    }
   },
   "outputs": [],
   "source": [
    "def get_videos(sample_data):\n",
    "    videos = {}\n",
    "    for t in sample_data.itertuples(index=False):\n",
    "        scene = t.scene_name\n",
    "        file = t.filename.split('/')[1]\n",
    "        key = f\"{scene}-{file}\"\n",
    "        if key not in videos:\n",
    "            videos[key] = []\n",
    "        t = (\n",
    "            t.scene_name,\n",
    "            t.token,\n",
    "            t.frame_order,\n",
    "            t.filename,\n",
    "            t.camera_translation,\n",
    "            t.camera_rotation,\n",
    "            t.camera_intrinsic,\n",
    "            t.ego_translation,\n",
    "            t.ego_rotation,\n",
    "            datetime.fromtimestamp(t.timestamp / 1_000_000),\n",
    "            t.camera_heading,\n",
    "            t.ego_heading\n",
    "        )\n",
    "        videos[key].append(t)\n",
    "\n",
    "    for video in videos.values():\n",
    "        video.sort(key=lambda v: v[9])\n",
    "            \n",
    "    return videos"
   ]
  },
  {
   "cell_type": "code",
   "execution_count": 49,
   "id": "a0c62fb5",
   "metadata": {
    "execution": {
     "iopub.execute_input": "2022-10-05T02:47:36.445981Z",
     "iopub.status.busy": "2022-10-05T02:47:36.445440Z",
     "iopub.status.idle": "2022-10-05T02:47:36.464360Z",
     "shell.execute_reply": "2022-10-05T02:47:36.463537Z"
    }
   },
   "outputs": [],
   "source": [
    "rame = tuple\n",
    "\n",
    "def frame_with_best_alignments(scene: \"List[Frame]\") -> \"Frame\":\n",
    "    max_aligned_frames = -1\n",
    "    frame_idx = None\n",
    "    frame_t = None\n",
    "    for idx, frame in enumerate(scene):\n",
    "        t = frame[9]\n",
    "        aligned_frames = 0\n",
    "        for _frame in scene:\n",
    "            _t = _frame[9]\n",
    "            sec_diff = (t - _t).total_seconds()\n",
    "            if (sec_diff * fps).is_integer():\n",
    "                aligned_frames += 1\n",
    "        if aligned_frames > max_aligned_frames:\n",
    "            max_aligned_frames = aligned_frames\n",
    "            frame_idx = idx\n",
    "            frame_t = t\n",
    "    \n",
    "    return frame_idx, frame_t\n",
    "\n",
    "\n",
    "def load_image(cache: \"Dict[str, npt.NDArray]\", name: str) -> \"npt.NDArray\":\n",
    "    if name not in cache:\n",
    "        cache[name] = cv2.imread(os.path.join(raw_dir, name))\n",
    "    return cache[name]\n",
    "    \n",
    "\n",
    "def compose(location: str, name: str, scene: \"List[Frame]\"):\n",
    "    t_start = scene[0][9]\n",
    "    t_end = scene[-1][9]\n",
    "\n",
    "    frame_idx, frame_t = frame_with_best_alignments(scene)\n",
    "    \n",
    "    frames_before = int((frame_t - t_start).total_seconds() * fps)\n",
    "    \n",
    "    def get_timestamp(idx: int):\n",
    "        return frame_t - timedelta(seconds=(frames_before - idx) / fps)\n",
    "    \n",
    "    assert get_timestamp(0) >= t_start, f'{get_timestamp(0)} {t_start}'\n",
    "    \n",
    "    frames: \"List[npt.NDArray]\" = []\n",
    "    frame_idx = 0\n",
    "    img_cache = {}\n",
    "    print(\"Reading scene:\", name)\n",
    "    n = 0\n",
    "    while get_timestamp(n) < t_end:\n",
    "        t = get_timestamp(n)\n",
    "        n += 1\n",
    "\n",
    "    for i in tqdm(itertools.count(), total=n):\n",
    "        if get_timestamp(i) >= t_end:\n",
    "            break\n",
    "#         print(i)\n",
    "        t = get_timestamp(i)\n",
    "        while scene[frame_idx + 1][9] < t:\n",
    "            frame_idx += 1\n",
    "        f_curr, t_curr = scene[frame_idx][3::6]\n",
    "        f_next, t_next = scene[frame_idx + 1][3::6]\n",
    "        \n",
    "        img_curr = load_image(img_cache, f_curr)\n",
    "        img_next = load_image(img_cache, f_next)\n",
    "#         img_curr = cv2.imread(os.path.join(BASE_DIR, f_curr))\n",
    "#         img_next = cv2.imread(os.path.join(BASE_DIR, f_next))\n",
    "        \n",
    "        ratio = (t - t_curr).total_seconds() / (t_next - t_curr).total_seconds()\n",
    "        \n",
    "        if interpolate:\n",
    "            img = (img_curr * (1 - ratio) + img_next * ratio).astype(np.uint8)\n",
    "        else:\n",
    "            if ratio < 0.5:\n",
    "                img = img_curr\n",
    "            else:\n",
    "                img = img_next\n",
    "        frames.append(img)\n",
    "    \n",
    "    t0 = get_timestamp(0)\n",
    "    t0_tuple = (t0.year, t0.month, t0.day, t0.hour, t0.minute, t0.second, t0.microsecond)\n",
    "    filename = f'{name}-{\"-\".join([*map(str, t0_tuple)])}.mp4'\n",
    "    base = os.path.join(processed_dir, 'videos', location)\n",
    "    if not os.path.exists(base):\n",
    "        os.makedirs(base)\n",
    "    out = cv2.VideoWriter(\n",
    "        os.path.join(base, filename),\n",
    "        cv2.VideoWriter_fourcc(*'mp4v'),\n",
    "        fps,\n",
    "        (1600, 900)\n",
    "    )\n",
    "    print(f\"Writing scene ({os.path.join(base, filename)}):\")\n",
    "    for frame in tqdm(frames):\n",
    "        out.write(frame)\n",
    "    out.release()\n",
    "    cv2.destroyAllWindows()\n",
    "    \n",
    "    return frames, filename, get_timestamp(0)"
   ]
  },
  {
   "cell_type": "code",
   "execution_count": 50,
   "id": "a1863824",
   "metadata": {
    "execution": {
     "iopub.execute_input": "2022-10-05T02:47:36.470011Z",
     "iopub.status.busy": "2022-10-05T02:47:36.469759Z",
     "iopub.status.idle": "2022-10-05T03:02:56.290475Z",
     "shell.execute_reply": "2022-10-05T03:02:56.289432Z"
    },
    "scrolled": true
   },
   "outputs": [
    {
     "name": "stdout",
     "output_type": "stream",
     "text": [
      "Reading scene: scene-0103-CAM_FRONT_LEFT\n"
     ]
    },
    {
     "name": "stderr",
     "output_type": "stream",
     "text": [
      "100%|██████████████████████████████████████████████████████████████████████████████████████████████████████████████████████████████████████████████████████████████████| 388/388 [00:04<00:00, 94.94it/s]\n"
     ]
    },
    {
     "name": "stdout",
     "output_type": "stream",
     "text": [
      "Writing scene (/Users/chanwutk/Documents/apperception/data/v1.0-mini/videos/boston-seaport/scene-0103-CAM_FRONT_LEFT-2018-8-1-12-26-43-504799.mp4):\n"
     ]
    },
    {
     "name": "stderr",
     "output_type": "stream",
     "text": [
      "100%|██████████████████████████████████████████████████████████████████████████████████████████████████████████████████████████████████████████████████████████████████| 388/388 [00:04<00:00, 84.11it/s]\n"
     ]
    },
    {
     "name": "stdout",
     "output_type": "stream",
     "text": [
      "done scene-0103-CAM_FRONT_LEFT-2018-8-1-12-26-43-504799.mp4\n",
      "Reading scene: scene-0103-CAM_FRONT\n"
     ]
    },
    {
     "name": "stderr",
     "output_type": "stream",
     "text": [
      "100%|█████████████████████████████████████████████████████████████████████████████████████████████████████████████████████████████████████████████████████████████████| 388/388 [00:03<00:00, 116.68it/s]\n"
     ]
    },
    {
     "name": "stdout",
     "output_type": "stream",
     "text": [
      "Writing scene (/Users/chanwutk/Documents/apperception/data/v1.0-mini/videos/boston-seaport/scene-0103-CAM_FRONT-2018-8-1-12-26-43-512404.mp4):\n"
     ]
    },
    {
     "name": "stderr",
     "output_type": "stream",
     "text": [
      "100%|█████████████████████████████████████████████████████████████████████████████████████████████████████████████████████████████████████████████████████████████████| 388/388 [00:03<00:00, 103.65it/s]\n"
     ]
    },
    {
     "name": "stdout",
     "output_type": "stream",
     "text": [
      "done scene-0103-CAM_FRONT-2018-8-1-12-26-43-512404.mp4\n",
      "Reading scene: scene-0103-CAM_FRONT_RIGHT\n"
     ]
    },
    {
     "name": "stderr",
     "output_type": "stream",
     "text": [
      "100%|█████████████████████████████████████████████████████████████████████████████████████████████████████████████████████████████████████████████████████████████████| 388/388 [00:03<00:00, 117.16it/s]\n"
     ]
    },
    {
     "name": "stdout",
     "output_type": "stream",
     "text": [
      "Writing scene (/Users/chanwutk/Documents/apperception/data/v1.0-mini/videos/boston-seaport/scene-0103-CAM_FRONT_RIGHT-2018-8-1-12-26-43-520482.mp4):\n"
     ]
    },
    {
     "name": "stderr",
     "output_type": "stream",
     "text": [
      "100%|█████████████████████████████████████████████████████████████████████████████████████████████████████████████████████████████████████████████████████████████████| 388/388 [00:03<00:00, 105.49it/s]\n"
     ]
    },
    {
     "name": "stdout",
     "output_type": "stream",
     "text": [
      "done scene-0103-CAM_FRONT_RIGHT-2018-8-1-12-26-43-520482.mp4\n",
      "Reading scene: scene-0103-CAM_BACK_RIGHT\n"
     ]
    },
    {
     "name": "stderr",
     "output_type": "stream",
     "text": [
      "100%|█████████████████████████████████████████████████████████████████████████████████████████████████████████████████████████████████████████████████████████████████| 388/388 [00:03<00:00, 116.87it/s]\n"
     ]
    },
    {
     "name": "stdout",
     "output_type": "stream",
     "text": [
      "Writing scene (/Users/chanwutk/Documents/apperception/data/v1.0-mini/videos/boston-seaport/scene-0103-CAM_BACK_RIGHT-2018-8-1-12-26-43-528113.mp4):\n"
     ]
    },
    {
     "name": "stderr",
     "output_type": "stream",
     "text": [
      "100%|█████████████████████████████████████████████████████████████████████████████████████████████████████████████████████████████████████████████████████████████████| 388/388 [00:03<00:00, 107.23it/s]\n"
     ]
    },
    {
     "name": "stdout",
     "output_type": "stream",
     "text": [
      "done scene-0103-CAM_BACK_RIGHT-2018-8-1-12-26-43-528113.mp4\n",
      "Reading scene: scene-0103-CAM_BACK\n"
     ]
    },
    {
     "name": "stderr",
     "output_type": "stream",
     "text": [
      "100%|█████████████████████████████████████████████████████████████████████████████████████████████████████████████████████████████████████████████████████████████████| 388/388 [00:03<00:00, 122.24it/s]\n"
     ]
    },
    {
     "name": "stdout",
     "output_type": "stream",
     "text": [
      "Writing scene (/Users/chanwutk/Documents/apperception/data/v1.0-mini/videos/boston-seaport/scene-0103-CAM_BACK-2018-8-1-12-26-43-537558.mp4):\n"
     ]
    },
    {
     "name": "stderr",
     "output_type": "stream",
     "text": [
      "100%|█████████████████████████████████████████████████████████████████████████████████████████████████████████████████████████████████████████████████████████████████| 388/388 [00:03<00:00, 110.20it/s]\n"
     ]
    },
    {
     "name": "stdout",
     "output_type": "stream",
     "text": [
      "done scene-0103-CAM_BACK-2018-8-1-12-26-43-537558.mp4\n",
      "Reading scene: scene-0103-CAM_BACK_LEFT\n"
     ]
    },
    {
     "name": "stderr",
     "output_type": "stream",
     "text": [
      "100%|█████████████████████████████████████████████████████████████████████████████████████████████████████████████████████████████████████████████████████████████████| 388/388 [00:03<00:00, 119.14it/s]\n"
     ]
    },
    {
     "name": "stdout",
     "output_type": "stream",
     "text": [
      "Writing scene (/Users/chanwutk/Documents/apperception/data/v1.0-mini/videos/boston-seaport/scene-0103-CAM_BACK_LEFT-2018-8-1-12-26-43-547405.mp4):\n"
     ]
    },
    {
     "name": "stderr",
     "output_type": "stream",
     "text": [
      "100%|█████████████████████████████████████████████████████████████████████████████████████████████████████████████████████████████████████████████████████████████████| 388/388 [00:03<00:00, 108.11it/s]\n"
     ]
    },
    {
     "name": "stdout",
     "output_type": "stream",
     "text": [
      "done scene-0103-CAM_BACK_LEFT-2018-8-1-12-26-43-547405.mp4\n",
      "Reading scene: scene-0553-CAM_FRONT_LEFT\n"
     ]
    },
    {
     "name": "stderr",
     "output_type": "stream",
     "text": [
      "100%|█████████████████████████████████████████████████████████████████████████████████████████████████████████████████████████████████████████████████████████████████| 398/398 [00:03<00:00, 123.03it/s]\n"
     ]
    },
    {
     "name": "stdout",
     "output_type": "stream",
     "text": [
      "Writing scene (/Users/chanwutk/Documents/apperception/data/v1.0-mini/videos/boston-seaport/scene-0553-CAM_FRONT_LEFT-2018-8-28-13-48-16-4799.mp4):\n"
     ]
    },
    {
     "name": "stderr",
     "output_type": "stream",
     "text": [
      "100%|█████████████████████████████████████████████████████████████████████████████████████████████████████████████████████████████████████████████████████████████████| 398/398 [00:03<00:00, 123.76it/s]\n"
     ]
    },
    {
     "name": "stdout",
     "output_type": "stream",
     "text": [
      "done scene-0553-CAM_FRONT_LEFT-2018-8-28-13-48-16-4799.mp4\n",
      "Reading scene: scene-0553-CAM_FRONT\n"
     ]
    },
    {
     "name": "stderr",
     "output_type": "stream",
     "text": [
      "100%|█████████████████████████████████████████████████████████████████████████████████████████████████████████████████████████████████████████████████████████████████| 398/398 [00:03<00:00, 125.01it/s]\n"
     ]
    },
    {
     "name": "stdout",
     "output_type": "stream",
     "text": [
      "Writing scene (/Users/chanwutk/Documents/apperception/data/v1.0-mini/videos/boston-seaport/scene-0553-CAM_FRONT-2018-8-28-13-48-16-12404.mp4):\n"
     ]
    },
    {
     "name": "stderr",
     "output_type": "stream",
     "text": [
      "100%|█████████████████████████████████████████████████████████████████████████████████████████████████████████████████████████████████████████████████████████████████| 398/398 [00:03<00:00, 123.59it/s]\n"
     ]
    },
    {
     "name": "stdout",
     "output_type": "stream",
     "text": [
      "done scene-0553-CAM_FRONT-2018-8-28-13-48-16-12404.mp4\n",
      "Reading scene: scene-0553-CAM_FRONT_RIGHT\n"
     ]
    },
    {
     "name": "stderr",
     "output_type": "stream",
     "text": [
      "100%|█████████████████████████████████████████████████████████████████████████████████████████████████████████████████████████████████████████████████████████████████| 398/398 [00:03<00:00, 122.54it/s]\n"
     ]
    },
    {
     "name": "stdout",
     "output_type": "stream",
     "text": [
      "Writing scene (/Users/chanwutk/Documents/apperception/data/v1.0-mini/videos/boston-seaport/scene-0553-CAM_FRONT_RIGHT-2018-8-28-13-48-16-20482.mp4):\n"
     ]
    },
    {
     "name": "stderr",
     "output_type": "stream",
     "text": [
      "100%|█████████████████████████████████████████████████████████████████████████████████████████████████████████████████████████████████████████████████████████████████| 398/398 [00:03<00:00, 125.46it/s]\n"
     ]
    },
    {
     "name": "stdout",
     "output_type": "stream",
     "text": [
      "done scene-0553-CAM_FRONT_RIGHT-2018-8-28-13-48-16-20482.mp4\n",
      "Reading scene: scene-0553-CAM_BACK_RIGHT\n"
     ]
    },
    {
     "name": "stderr",
     "output_type": "stream",
     "text": [
      "100%|█████████████████████████████████████████████████████████████████████████████████████████████████████████████████████████████████████████████████████████████████| 398/398 [00:03<00:00, 126.52it/s]\n"
     ]
    },
    {
     "name": "stdout",
     "output_type": "stream",
     "text": [
      "Writing scene (/Users/chanwutk/Documents/apperception/data/v1.0-mini/videos/boston-seaport/scene-0553-CAM_BACK_RIGHT-2018-8-28-13-48-16-28113.mp4):\n"
     ]
    },
    {
     "name": "stderr",
     "output_type": "stream",
     "text": [
      "100%|█████████████████████████████████████████████████████████████████████████████████████████████████████████████████████████████████████████████████████████████████| 398/398 [00:03<00:00, 127.50it/s]\n"
     ]
    },
    {
     "name": "stdout",
     "output_type": "stream",
     "text": [
      "done scene-0553-CAM_BACK_RIGHT-2018-8-28-13-48-16-28113.mp4\n",
      "Reading scene: scene-0553-CAM_BACK\n"
     ]
    },
    {
     "name": "stderr",
     "output_type": "stream",
     "text": [
      "100%|█████████████████████████████████████████████████████████████████████████████████████████████████████████████████████████████████████████████████████████████████| 399/399 [00:03<00:00, 127.10it/s]\n"
     ]
    },
    {
     "name": "stdout",
     "output_type": "stream",
     "text": [
      "Writing scene (/Users/chanwutk/Documents/apperception/data/v1.0-mini/videos/boston-seaport/scene-0553-CAM_BACK-2018-8-28-13-48-16-37558.mp4):\n"
     ]
    },
    {
     "name": "stderr",
     "output_type": "stream",
     "text": [
      "100%|█████████████████████████████████████████████████████████████████████████████████████████████████████████████████████████████████████████████████████████████████| 399/399 [00:03<00:00, 125.70it/s]\n"
     ]
    },
    {
     "name": "stdout",
     "output_type": "stream",
     "text": [
      "done scene-0553-CAM_BACK-2018-8-28-13-48-16-37558.mp4\n",
      "Reading scene: scene-0553-CAM_BACK_LEFT\n"
     ]
    },
    {
     "name": "stderr",
     "output_type": "stream",
     "text": [
      "100%|█████████████████████████████████████████████████████████████████████████████████████████████████████████████████████████████████████████████████████████████████| 398/398 [00:03<00:00, 123.42it/s]\n"
     ]
    },
    {
     "name": "stdout",
     "output_type": "stream",
     "text": [
      "Writing scene (/Users/chanwutk/Documents/apperception/data/v1.0-mini/videos/boston-seaport/scene-0553-CAM_BACK_LEFT-2018-8-28-13-48-16-47405.mp4):\n"
     ]
    },
    {
     "name": "stderr",
     "output_type": "stream",
     "text": [
      "100%|█████████████████████████████████████████████████████████████████████████████████████████████████████████████████████████████████████████████████████████████████| 398/398 [00:03<00:00, 127.37it/s]\n"
     ]
    },
    {
     "name": "stdout",
     "output_type": "stream",
     "text": [
      "done scene-0553-CAM_BACK_LEFT-2018-8-28-13-48-16-47405.mp4\n",
      "Reading scene: scene-0655-CAM_FRONT_LEFT\n"
     ]
    },
    {
     "name": "stderr",
     "output_type": "stream",
     "text": [
      "100%|█████████████████████████████████████████████████████████████████████████████████████████████████████████████████████████████████████████████████████████████████| 396/396 [00:03<00:00, 122.72it/s]\n"
     ]
    },
    {
     "name": "stdout",
     "output_type": "stream",
     "text": [
      "Writing scene (/Users/chanwutk/Documents/apperception/data/v1.0-mini/videos/boston-seaport/scene-0655-CAM_FRONT_LEFT-2018-8-27-8-51-32-104799.mp4):\n"
     ]
    },
    {
     "name": "stderr",
     "output_type": "stream",
     "text": [
      "100%|█████████████████████████████████████████████████████████████████████████████████████████████████████████████████████████████████████████████████████████████████| 396/396 [00:03<00:00, 104.69it/s]\n"
     ]
    },
    {
     "name": "stdout",
     "output_type": "stream",
     "text": [
      "done scene-0655-CAM_FRONT_LEFT-2018-8-27-8-51-32-104799.mp4\n",
      "Reading scene: scene-0655-CAM_FRONT\n"
     ]
    },
    {
     "name": "stderr",
     "output_type": "stream",
     "text": [
      "100%|█████████████████████████████████████████████████████████████████████████████████████████████████████████████████████████████████████████████████████████████████| 396/396 [00:03<00:00, 123.10it/s]\n"
     ]
    },
    {
     "name": "stdout",
     "output_type": "stream",
     "text": [
      "Writing scene (/Users/chanwutk/Documents/apperception/data/v1.0-mini/videos/boston-seaport/scene-0655-CAM_FRONT-2018-8-27-8-51-32-112404.mp4):\n"
     ]
    },
    {
     "name": "stderr",
     "output_type": "stream",
     "text": [
      "100%|█████████████████████████████████████████████████████████████████████████████████████████████████████████████████████████████████████████████████████████████████| 396/396 [00:03<00:00, 110.93it/s]\n"
     ]
    },
    {
     "name": "stdout",
     "output_type": "stream",
     "text": [
      "done scene-0655-CAM_FRONT-2018-8-27-8-51-32-112404.mp4\n",
      "Reading scene: scene-0655-CAM_FRONT_RIGHT\n"
     ]
    },
    {
     "name": "stderr",
     "output_type": "stream",
     "text": [
      "100%|█████████████████████████████████████████████████████████████████████████████████████████████████████████████████████████████████████████████████████████████████| 396/396 [00:03<00:00, 119.19it/s]\n"
     ]
    },
    {
     "name": "stdout",
     "output_type": "stream",
     "text": [
      "Writing scene (/Users/chanwutk/Documents/apperception/data/v1.0-mini/videos/boston-seaport/scene-0655-CAM_FRONT_RIGHT-2018-8-27-8-51-32-120482.mp4):\n"
     ]
    },
    {
     "name": "stderr",
     "output_type": "stream",
     "text": [
      "100%|█████████████████████████████████████████████████████████████████████████████████████████████████████████████████████████████████████████████████████████████████| 396/396 [00:03<00:00, 105.35it/s]\n"
     ]
    },
    {
     "name": "stdout",
     "output_type": "stream",
     "text": [
      "done scene-0655-CAM_FRONT_RIGHT-2018-8-27-8-51-32-120482.mp4\n",
      "Reading scene: scene-0655-CAM_BACK_RIGHT\n"
     ]
    },
    {
     "name": "stderr",
     "output_type": "stream",
     "text": [
      "100%|█████████████████████████████████████████████████████████████████████████████████████████████████████████████████████████████████████████████████████████████████| 396/396 [00:03<00:00, 122.86it/s]\n"
     ]
    },
    {
     "name": "stdout",
     "output_type": "stream",
     "text": [
      "Writing scene (/Users/chanwutk/Documents/apperception/data/v1.0-mini/videos/boston-seaport/scene-0655-CAM_BACK_RIGHT-2018-8-27-8-51-32-128113.mp4):\n"
     ]
    },
    {
     "name": "stderr",
     "output_type": "stream",
     "text": [
      "100%|█████████████████████████████████████████████████████████████████████████████████████████████████████████████████████████████████████████████████████████████████| 396/396 [00:03<00:00, 104.72it/s]\n"
     ]
    },
    {
     "name": "stdout",
     "output_type": "stream",
     "text": [
      "done scene-0655-CAM_BACK_RIGHT-2018-8-27-8-51-32-128113.mp4\n",
      "Reading scene: scene-0655-CAM_BACK\n"
     ]
    },
    {
     "name": "stderr",
     "output_type": "stream",
     "text": [
      "100%|█████████████████████████████████████████████████████████████████████████████████████████████████████████████████████████████████████████████████████████████████| 397/397 [00:02<00:00, 133.32it/s]\n"
     ]
    },
    {
     "name": "stdout",
     "output_type": "stream",
     "text": [
      "Writing scene (/Users/chanwutk/Documents/apperception/data/v1.0-mini/videos/boston-seaport/scene-0655-CAM_BACK-2018-8-27-8-51-32-137558.mp4):\n"
     ]
    },
    {
     "name": "stderr",
     "output_type": "stream",
     "text": [
      "100%|█████████████████████████████████████████████████████████████████████████████████████████████████████████████████████████████████████████████████████████████████| 397/397 [00:03<00:00, 116.65it/s]\n"
     ]
    },
    {
     "name": "stdout",
     "output_type": "stream",
     "text": [
      "done scene-0655-CAM_BACK-2018-8-27-8-51-32-137558.mp4\n",
      "Reading scene: scene-0655-CAM_BACK_LEFT\n"
     ]
    },
    {
     "name": "stderr",
     "output_type": "stream",
     "text": [
      "100%|█████████████████████████████████████████████████████████████████████████████████████████████████████████████████████████████████████████████████████████████████| 396/396 [00:03<00:00, 127.18it/s]\n"
     ]
    },
    {
     "name": "stdout",
     "output_type": "stream",
     "text": [
      "Writing scene (/Users/chanwutk/Documents/apperception/data/v1.0-mini/videos/boston-seaport/scene-0655-CAM_BACK_LEFT-2018-8-27-8-51-32-147405.mp4):\n"
     ]
    },
    {
     "name": "stderr",
     "output_type": "stream",
     "text": [
      "100%|█████████████████████████████████████████████████████████████████████████████████████████████████████████████████████████████████████████████████████████████████| 396/396 [00:03<00:00, 106.52it/s]\n"
     ]
    },
    {
     "name": "stdout",
     "output_type": "stream",
     "text": [
      "done scene-0655-CAM_BACK_LEFT-2018-8-27-8-51-32-147405.mp4\n",
      "Reading scene: scene-0757-CAM_FRONT_LEFT\n"
     ]
    },
    {
     "name": "stderr",
     "output_type": "stream",
     "text": [
      "100%|█████████████████████████████████████████████████████████████████████████████████████████████████████████████████████████████████████████████████████████████████| 397/397 [00:03<00:00, 125.06it/s]\n"
     ]
    },
    {
     "name": "stdout",
     "output_type": "stream",
     "text": [
      "Writing scene (/Users/chanwutk/Documents/apperception/data/v1.0-mini/videos/boston-seaport/scene-0757-CAM_FRONT_LEFT-2018-8-30-12-25-8-254799.mp4):\n"
     ]
    },
    {
     "name": "stderr",
     "output_type": "stream",
     "text": [
      "100%|█████████████████████████████████████████████████████████████████████████████████████████████████████████████████████████████████████████████████████████████████| 397/397 [00:03<00:00, 113.47it/s]\n"
     ]
    },
    {
     "name": "stdout",
     "output_type": "stream",
     "text": [
      "done scene-0757-CAM_FRONT_LEFT-2018-8-30-12-25-8-254799.mp4\n",
      "Reading scene: scene-0757-CAM_FRONT\n"
     ]
    },
    {
     "name": "stderr",
     "output_type": "stream",
     "text": [
      "100%|█████████████████████████████████████████████████████████████████████████████████████████████████████████████████████████████████████████████████████████████████| 397/397 [00:03<00:00, 122.59it/s]\n"
     ]
    },
    {
     "name": "stdout",
     "output_type": "stream",
     "text": [
      "Writing scene (/Users/chanwutk/Documents/apperception/data/v1.0-mini/videos/boston-seaport/scene-0757-CAM_FRONT-2018-8-30-12-25-8-262404.mp4):\n"
     ]
    },
    {
     "name": "stderr",
     "output_type": "stream",
     "text": [
      "100%|█████████████████████████████████████████████████████████████████████████████████████████████████████████████████████████████████████████████████████████████████| 397/397 [00:03<00:00, 115.16it/s]\n"
     ]
    },
    {
     "name": "stdout",
     "output_type": "stream",
     "text": [
      "done scene-0757-CAM_FRONT-2018-8-30-12-25-8-262404.mp4\n",
      "Reading scene: scene-0757-CAM_FRONT_RIGHT\n"
     ]
    },
    {
     "name": "stderr",
     "output_type": "stream",
     "text": [
      "100%|█████████████████████████████████████████████████████████████████████████████████████████████████████████████████████████████████████████████████████████████████| 397/397 [00:03<00:00, 121.02it/s]\n"
     ]
    },
    {
     "name": "stdout",
     "output_type": "stream",
     "text": [
      "Writing scene (/Users/chanwutk/Documents/apperception/data/v1.0-mini/videos/boston-seaport/scene-0757-CAM_FRONT_RIGHT-2018-8-30-12-25-8-270482.mp4):\n"
     ]
    },
    {
     "name": "stderr",
     "output_type": "stream",
     "text": [
      "100%|█████████████████████████████████████████████████████████████████████████████████████████████████████████████████████████████████████████████████████████████████| 397/397 [00:03<00:00, 119.89it/s]\n"
     ]
    },
    {
     "name": "stdout",
     "output_type": "stream",
     "text": [
      "done scene-0757-CAM_FRONT_RIGHT-2018-8-30-12-25-8-270482.mp4\n",
      "Reading scene: scene-0757-CAM_BACK_RIGHT\n"
     ]
    },
    {
     "name": "stderr",
     "output_type": "stream",
     "text": [
      "100%|█████████████████████████████████████████████████████████████████████████████████████████████████████████████████████████████████████████████████████████████████| 397/397 [00:03<00:00, 114.98it/s]\n"
     ]
    },
    {
     "name": "stdout",
     "output_type": "stream",
     "text": [
      "Writing scene (/Users/chanwutk/Documents/apperception/data/v1.0-mini/videos/boston-seaport/scene-0757-CAM_BACK_RIGHT-2018-8-30-12-25-8-278113.mp4):\n"
     ]
    },
    {
     "name": "stderr",
     "output_type": "stream",
     "text": [
      "100%|██████████████████████████████████████████████████████████████████████████████████████████████████████████████████████████████████████████████████████████████████| 397/397 [00:04<00:00, 97.26it/s]\n"
     ]
    },
    {
     "name": "stdout",
     "output_type": "stream",
     "text": [
      "done scene-0757-CAM_BACK_RIGHT-2018-8-30-12-25-8-278113.mp4\n",
      "Reading scene: scene-0757-CAM_BACK\n"
     ]
    },
    {
     "name": "stderr",
     "output_type": "stream",
     "text": [
      "100%|█████████████████████████████████████████████████████████████████████████████████████████████████████████████████████████████████████████████████████████████████| 397/397 [00:03<00:00, 118.74it/s]\n"
     ]
    },
    {
     "name": "stdout",
     "output_type": "stream",
     "text": [
      "Writing scene (/Users/chanwutk/Documents/apperception/data/v1.0-mini/videos/boston-seaport/scene-0757-CAM_BACK-2018-8-30-12-25-8-287558.mp4):\n"
     ]
    },
    {
     "name": "stderr",
     "output_type": "stream",
     "text": [
      "100%|█████████████████████████████████████████████████████████████████████████████████████████████████████████████████████████████████████████████████████████████████| 397/397 [00:03<00:00, 115.24it/s]\n"
     ]
    },
    {
     "name": "stdout",
     "output_type": "stream",
     "text": [
      "done scene-0757-CAM_BACK-2018-8-30-12-25-8-287558.mp4\n",
      "Reading scene: scene-0757-CAM_BACK_LEFT\n"
     ]
    },
    {
     "name": "stderr",
     "output_type": "stream",
     "text": [
      "100%|█████████████████████████████████████████████████████████████████████████████████████████████████████████████████████████████████████████████████████████████████| 397/397 [00:02<00:00, 136.04it/s]\n"
     ]
    },
    {
     "name": "stdout",
     "output_type": "stream",
     "text": [
      "Writing scene (/Users/chanwutk/Documents/apperception/data/v1.0-mini/videos/boston-seaport/scene-0757-CAM_BACK_LEFT-2018-8-30-12-25-8-297405.mp4):\n"
     ]
    },
    {
     "name": "stderr",
     "output_type": "stream",
     "text": [
      "100%|█████████████████████████████████████████████████████████████████████████████████████████████████████████████████████████████████████████████████████████████████| 397/397 [00:02<00:00, 147.61it/s]\n"
     ]
    },
    {
     "name": "stdout",
     "output_type": "stream",
     "text": [
      "done scene-0757-CAM_BACK_LEFT-2018-8-30-12-25-8-297405.mp4\n",
      "Reading scene: scene-0796-CAM_FRONT_LEFT\n"
     ]
    },
    {
     "name": "stderr",
     "output_type": "stream",
     "text": [
      "100%|█████████████████████████████████████████████████████████████████████████████████████████████████████████████████████████████████████████████████████████████████| 392/392 [00:03<00:00, 123.34it/s]\n"
     ]
    },
    {
     "name": "stdout",
     "output_type": "stream",
     "text": [
      "Writing scene (/Users/chanwutk/Documents/apperception/data/v1.0-mini/videos/singapore-queenstown/scene-0796-CAM_FRONT_LEFT-2018-10-1-19-52-24-404844.mp4):\n"
     ]
    },
    {
     "name": "stderr",
     "output_type": "stream",
     "text": [
      "100%|█████████████████████████████████████████████████████████████████████████████████████████████████████████████████████████████████████████████████████████████████| 392/392 [00:03<00:00, 107.52it/s]\n"
     ]
    },
    {
     "name": "stdout",
     "output_type": "stream",
     "text": [
      "done scene-0796-CAM_FRONT_LEFT-2018-10-1-19-52-24-404844.mp4\n",
      "Reading scene: scene-0796-CAM_FRONT\n"
     ]
    },
    {
     "name": "stderr",
     "output_type": "stream",
     "text": [
      "100%|█████████████████████████████████████████████████████████████████████████████████████████████████████████████████████████████████████████████████████████████████| 392/392 [00:03<00:00, 117.04it/s]\n"
     ]
    },
    {
     "name": "stdout",
     "output_type": "stream",
     "text": [
      "Writing scene (/Users/chanwutk/Documents/apperception/data/v1.0-mini/videos/singapore-queenstown/scene-0796-CAM_FRONT-2018-10-1-19-52-24-412460.mp4):\n"
     ]
    },
    {
     "name": "stderr",
     "output_type": "stream",
     "text": [
      "100%|█████████████████████████████████████████████████████████████████████████████████████████████████████████████████████████████████████████████████████████████████| 392/392 [00:03<00:00, 112.15it/s]\n"
     ]
    },
    {
     "name": "stdout",
     "output_type": "stream",
     "text": [
      "done scene-0796-CAM_FRONT-2018-10-1-19-52-24-412460.mp4\n",
      "Reading scene: scene-0796-CAM_FRONT_RIGHT\n"
     ]
    },
    {
     "name": "stderr",
     "output_type": "stream",
     "text": [
      "100%|█████████████████████████████████████████████████████████████████████████████████████████████████████████████████████████████████████████████████████████████████| 392/392 [00:03<00:00, 125.30it/s]\n"
     ]
    },
    {
     "name": "stdout",
     "output_type": "stream",
     "text": [
      "Writing scene (/Users/chanwutk/Documents/apperception/data/v1.0-mini/videos/singapore-queenstown/scene-0796-CAM_FRONT_RIGHT-2018-10-1-19-52-24-420339.mp4):\n"
     ]
    },
    {
     "name": "stderr",
     "output_type": "stream",
     "text": [
      "100%|█████████████████████████████████████████████████████████████████████████████████████████████████████████████████████████████████████████████████████████████████| 392/392 [00:03<00:00, 120.39it/s]\n"
     ]
    },
    {
     "name": "stdout",
     "output_type": "stream",
     "text": [
      "done scene-0796-CAM_FRONT_RIGHT-2018-10-1-19-52-24-420339.mp4\n",
      "Reading scene: scene-0796-CAM_BACK_RIGHT\n"
     ]
    },
    {
     "name": "stderr",
     "output_type": "stream",
     "text": [
      "100%|█████████████████████████████████████████████████████████████████████████████████████████████████████████████████████████████████████████████████████████████████| 392/392 [00:03<00:00, 125.69it/s]\n"
     ]
    },
    {
     "name": "stdout",
     "output_type": "stream",
     "text": [
      "Writing scene (/Users/chanwutk/Documents/apperception/data/v1.0-mini/videos/singapore-queenstown/scene-0796-CAM_BACK_RIGHT-2018-10-1-19-52-24-427893.mp4):\n"
     ]
    },
    {
     "name": "stderr",
     "output_type": "stream",
     "text": [
      "100%|█████████████████████████████████████████████████████████████████████████████████████████████████████████████████████████████████████████████████████████████████| 392/392 [00:03<00:00, 123.43it/s]\n"
     ]
    },
    {
     "name": "stdout",
     "output_type": "stream",
     "text": [
      "done scene-0796-CAM_BACK_RIGHT-2018-10-1-19-52-24-427893.mp4\n",
      "Reading scene: scene-0796-CAM_BACK\n"
     ]
    },
    {
     "name": "stderr",
     "output_type": "stream",
     "text": [
      "100%|█████████████████████████████████████████████████████████████████████████████████████████████████████████████████████████████████████████████████████████████████| 391/391 [00:02<00:00, 134.50it/s]\n"
     ]
    },
    {
     "name": "stdout",
     "output_type": "stream",
     "text": [
      "Writing scene (/Users/chanwutk/Documents/apperception/data/v1.0-mini/videos/singapore-queenstown/scene-0796-CAM_BACK-2018-10-1-19-52-24-487525.mp4):\n"
     ]
    },
    {
     "name": "stderr",
     "output_type": "stream",
     "text": [
      "100%|█████████████████████████████████████████████████████████████████████████████████████████████████████████████████████████████████████████████████████████████████| 391/391 [00:02<00:00, 133.86it/s]\n"
     ]
    },
    {
     "name": "stdout",
     "output_type": "stream",
     "text": [
      "done scene-0796-CAM_BACK-2018-10-1-19-52-24-487525.mp4\n",
      "Reading scene: scene-0796-CAM_BACK_LEFT\n"
     ]
    },
    {
     "name": "stderr",
     "output_type": "stream",
     "text": [
      "100%|█████████████████████████████████████████████████████████████████████████████████████████████████████████████████████████████████████████████████████████████████| 392/392 [00:03<00:00, 122.24it/s]\n"
     ]
    },
    {
     "name": "stdout",
     "output_type": "stream",
     "text": [
      "Writing scene (/Users/chanwutk/Documents/apperception/data/v1.0-mini/videos/singapore-queenstown/scene-0796-CAM_BACK_LEFT-2018-10-1-19-52-24-447423.mp4):\n"
     ]
    },
    {
     "name": "stderr",
     "output_type": "stream",
     "text": [
      "100%|█████████████████████████████████████████████████████████████████████████████████████████████████████████████████████████████████████████████████████████████████| 392/392 [00:03<00:00, 112.99it/s]\n"
     ]
    },
    {
     "name": "stdout",
     "output_type": "stream",
     "text": [
      "done scene-0796-CAM_BACK_LEFT-2018-10-1-19-52-24-447423.mp4\n",
      "Reading scene: scene-0916-CAM_FRONT_LEFT\n"
     ]
    },
    {
     "name": "stderr",
     "output_type": "stream",
     "text": [
      "100%|█████████████████████████████████████████████████████████████████████████████████████████████████████████████████████████████████████████████████████████████████| 398/398 [00:03<00:00, 120.75it/s]\n"
     ]
    },
    {
     "name": "stdout",
     "output_type": "stream",
     "text": [
      "Writing scene (/Users/chanwutk/Documents/apperception/data/v1.0-mini/videos/singapore-queenstown/scene-0916-CAM_FRONT_LEFT-2018-10-8-0-37-13-504844.mp4):\n"
     ]
    },
    {
     "name": "stderr",
     "output_type": "stream",
     "text": [
      "100%|█████████████████████████████████████████████████████████████████████████████████████████████████████████████████████████████████████████████████████████████████| 398/398 [00:03<00:00, 112.73it/s]\n"
     ]
    },
    {
     "name": "stdout",
     "output_type": "stream",
     "text": [
      "done scene-0916-CAM_FRONT_LEFT-2018-10-8-0-37-13-504844.mp4\n",
      "Reading scene: scene-0916-CAM_FRONT\n"
     ]
    },
    {
     "name": "stderr",
     "output_type": "stream",
     "text": [
      "100%|█████████████████████████████████████████████████████████████████████████████████████████████████████████████████████████████████████████████████████████████████| 397/397 [00:03<00:00, 124.06it/s]\n"
     ]
    },
    {
     "name": "stdout",
     "output_type": "stream",
     "text": [
      "Writing scene (/Users/chanwutk/Documents/apperception/data/v1.0-mini/videos/singapore-queenstown/scene-0916-CAM_FRONT-2018-10-8-0-37-13-562460.mp4):\n"
     ]
    },
    {
     "name": "stderr",
     "output_type": "stream",
     "text": [
      "100%|█████████████████████████████████████████████████████████████████████████████████████████████████████████████████████████████████████████████████████████████████| 397/397 [00:03<00:00, 115.68it/s]\n"
     ]
    },
    {
     "name": "stdout",
     "output_type": "stream",
     "text": [
      "done scene-0916-CAM_FRONT-2018-10-8-0-37-13-562460.mp4\n",
      "Reading scene: scene-0916-CAM_FRONT_RIGHT\n"
     ]
    },
    {
     "name": "stderr",
     "output_type": "stream",
     "text": [
      "100%|█████████████████████████████████████████████████████████████████████████████████████████████████████████████████████████████████████████████████████████████████| 398/398 [00:03<00:00, 124.34it/s]\n"
     ]
    },
    {
     "name": "stdout",
     "output_type": "stream",
     "text": [
      "Writing scene (/Users/chanwutk/Documents/apperception/data/v1.0-mini/videos/singapore-queenstown/scene-0916-CAM_FRONT_RIGHT-2018-10-8-0-37-13-520339.mp4):\n"
     ]
    },
    {
     "name": "stderr",
     "output_type": "stream",
     "text": [
      "100%|█████████████████████████████████████████████████████████████████████████████████████████████████████████████████████████████████████████████████████████████████| 398/398 [00:03<00:00, 119.87it/s]\n"
     ]
    },
    {
     "name": "stdout",
     "output_type": "stream",
     "text": [
      "done scene-0916-CAM_FRONT_RIGHT-2018-10-8-0-37-13-520339.mp4\n",
      "Reading scene: scene-0916-CAM_BACK_RIGHT\n"
     ]
    },
    {
     "name": "stderr",
     "output_type": "stream",
     "text": [
      "100%|█████████████████████████████████████████████████████████████████████████████████████████████████████████████████████████████████████████████████████████████████| 398/398 [00:03<00:00, 122.60it/s]\n"
     ]
    },
    {
     "name": "stdout",
     "output_type": "stream",
     "text": [
      "Writing scene (/Users/chanwutk/Documents/apperception/data/v1.0-mini/videos/singapore-queenstown/scene-0916-CAM_BACK_RIGHT-2018-10-8-0-37-13-527893.mp4):\n"
     ]
    },
    {
     "name": "stderr",
     "output_type": "stream",
     "text": [
      "100%|█████████████████████████████████████████████████████████████████████████████████████████████████████████████████████████████████████████████████████████████████| 398/398 [00:03<00:00, 107.33it/s]\n"
     ]
    },
    {
     "name": "stdout",
     "output_type": "stream",
     "text": [
      "done scene-0916-CAM_BACK_RIGHT-2018-10-8-0-37-13-527893.mp4\n",
      "Reading scene: scene-0916-CAM_BACK\n"
     ]
    },
    {
     "name": "stderr",
     "output_type": "stream",
     "text": [
      "100%|█████████████████████████████████████████████████████████████████████████████████████████████████████████████████████████████████████████████████████████████████| 398/398 [00:03<00:00, 130.89it/s]\n"
     ]
    },
    {
     "name": "stdout",
     "output_type": "stream",
     "text": [
      "Writing scene (/Users/chanwutk/Documents/apperception/data/v1.0-mini/videos/singapore-queenstown/scene-0916-CAM_BACK-2018-10-8-0-37-13-537525.mp4):\n"
     ]
    },
    {
     "name": "stderr",
     "output_type": "stream",
     "text": [
      "100%|█████████████████████████████████████████████████████████████████████████████████████████████████████████████████████████████████████████████████████████████████| 398/398 [00:03<00:00, 122.63it/s]\n"
     ]
    },
    {
     "name": "stdout",
     "output_type": "stream",
     "text": [
      "done scene-0916-CAM_BACK-2018-10-8-0-37-13-537525.mp4\n",
      "Reading scene: scene-0916-CAM_BACK_LEFT\n"
     ]
    },
    {
     "name": "stderr",
     "output_type": "stream",
     "text": [
      "100%|█████████████████████████████████████████████████████████████████████████████████████████████████████████████████████████████████████████████████████████████████| 398/398 [00:03<00:00, 129.06it/s]\n"
     ]
    },
    {
     "name": "stdout",
     "output_type": "stream",
     "text": [
      "Writing scene (/Users/chanwutk/Documents/apperception/data/v1.0-mini/videos/singapore-queenstown/scene-0916-CAM_BACK_LEFT-2018-10-8-0-37-13-547423.mp4):\n"
     ]
    },
    {
     "name": "stderr",
     "output_type": "stream",
     "text": [
      "100%|█████████████████████████████████████████████████████████████████████████████████████████████████████████████████████████████████████████████████████████████████| 398/398 [00:03<00:00, 118.49it/s]\n"
     ]
    },
    {
     "name": "stdout",
     "output_type": "stream",
     "text": [
      "done scene-0916-CAM_BACK_LEFT-2018-10-8-0-37-13-547423.mp4\n",
      "Reading scene: scene-0061-CAM_FRONT_LEFT\n"
     ]
    },
    {
     "name": "stderr",
     "output_type": "stream",
     "text": [
      "100%|█████████████████████████████████████████████████████████████████████████████████████████████████████████████████████████████████████████████████████████████████| 383/383 [00:03<00:00, 116.50it/s]\n"
     ]
    },
    {
     "name": "stdout",
     "output_type": "stream",
     "text": [
      "Writing scene (/Users/chanwutk/Documents/apperception/data/v1.0-mini/videos/singapore-onenorth/scene-0061-CAM_FRONT_LEFT-2018-7-23-20-28-47-604844.mp4):\n"
     ]
    },
    {
     "name": "stderr",
     "output_type": "stream",
     "text": [
      "100%|█████████████████████████████████████████████████████████████████████████████████████████████████████████████████████████████████████████████████████████████████| 383/383 [00:03<00:00, 102.33it/s]\n"
     ]
    },
    {
     "name": "stdout",
     "output_type": "stream",
     "text": [
      "done scene-0061-CAM_FRONT_LEFT-2018-7-23-20-28-47-604844.mp4\n",
      "Reading scene: scene-0061-CAM_FRONT\n"
     ]
    },
    {
     "name": "stderr",
     "output_type": "stream",
     "text": [
      "100%|█████████████████████████████████████████████████████████████████████████████████████████████████████████████████████████████████████████████████████████████████| 383/383 [00:02<00:00, 133.08it/s]\n"
     ]
    },
    {
     "name": "stdout",
     "output_type": "stream",
     "text": [
      "Writing scene (/Users/chanwutk/Documents/apperception/data/v1.0-mini/videos/singapore-onenorth/scene-0061-CAM_FRONT-2018-7-23-20-28-47-612460.mp4):\n"
     ]
    },
    {
     "name": "stderr",
     "output_type": "stream",
     "text": [
      "100%|█████████████████████████████████████████████████████████████████████████████████████████████████████████████████████████████████████████████████████████████████| 383/383 [00:02<00:00, 127.76it/s]\n"
     ]
    },
    {
     "name": "stdout",
     "output_type": "stream",
     "text": [
      "done scene-0061-CAM_FRONT-2018-7-23-20-28-47-612460.mp4\n",
      "Reading scene: scene-0061-CAM_FRONT_RIGHT\n"
     ]
    },
    {
     "name": "stderr",
     "output_type": "stream",
     "text": [
      "100%|█████████████████████████████████████████████████████████████████████████████████████████████████████████████████████████████████████████████████████████████████| 383/383 [00:02<00:00, 138.86it/s]\n"
     ]
    },
    {
     "name": "stdout",
     "output_type": "stream",
     "text": [
      "Writing scene (/Users/chanwutk/Documents/apperception/data/v1.0-mini/videos/singapore-onenorth/scene-0061-CAM_FRONT_RIGHT-2018-7-23-20-28-47-620339.mp4):\n"
     ]
    },
    {
     "name": "stderr",
     "output_type": "stream",
     "text": [
      "100%|█████████████████████████████████████████████████████████████████████████████████████████████████████████████████████████████████████████████████████████████████| 383/383 [00:03<00:00, 124.91it/s]\n"
     ]
    },
    {
     "name": "stdout",
     "output_type": "stream",
     "text": [
      "done scene-0061-CAM_FRONT_RIGHT-2018-7-23-20-28-47-620339.mp4\n",
      "Reading scene: scene-0061-CAM_BACK_RIGHT\n"
     ]
    },
    {
     "name": "stderr",
     "output_type": "stream",
     "text": [
      "100%|█████████████████████████████████████████████████████████████████████████████████████████████████████████████████████████████████████████████████████████████████| 383/383 [00:02<00:00, 136.71it/s]\n"
     ]
    },
    {
     "name": "stdout",
     "output_type": "stream",
     "text": [
      "Writing scene (/Users/chanwutk/Documents/apperception/data/v1.0-mini/videos/singapore-onenorth/scene-0061-CAM_BACK_RIGHT-2018-7-23-20-28-47-627893.mp4):\n"
     ]
    },
    {
     "name": "stderr",
     "output_type": "stream",
     "text": [
      "100%|█████████████████████████████████████████████████████████████████████████████████████████████████████████████████████████████████████████████████████████████████| 383/383 [00:03<00:00, 108.03it/s]\n"
     ]
    },
    {
     "name": "stdout",
     "output_type": "stream",
     "text": [
      "done scene-0061-CAM_BACK_RIGHT-2018-7-23-20-28-47-627893.mp4\n",
      "Reading scene: scene-0061-CAM_BACK\n"
     ]
    },
    {
     "name": "stderr",
     "output_type": "stream",
     "text": [
      "100%|█████████████████████████████████████████████████████████████████████████████████████████████████████████████████████████████████████████████████████████████████| 383/383 [00:03<00:00, 112.13it/s]\n"
     ]
    },
    {
     "name": "stdout",
     "output_type": "stream",
     "text": [
      "Writing scene (/Users/chanwutk/Documents/apperception/data/v1.0-mini/videos/singapore-onenorth/scene-0061-CAM_BACK-2018-7-23-20-28-47-637525.mp4):\n"
     ]
    },
    {
     "name": "stderr",
     "output_type": "stream",
     "text": [
      "100%|█████████████████████████████████████████████████████████████████████████████████████████████████████████████████████████████████████████████████████████████████| 383/383 [00:03<00:00, 105.66it/s]\n"
     ]
    },
    {
     "name": "stdout",
     "output_type": "stream",
     "text": [
      "done scene-0061-CAM_BACK-2018-7-23-20-28-47-637525.mp4\n",
      "Reading scene: scene-0061-CAM_BACK_LEFT\n"
     ]
    },
    {
     "name": "stderr",
     "output_type": "stream",
     "text": [
      "100%|█████████████████████████████████████████████████████████████████████████████████████████████████████████████████████████████████████████████████████████████████| 383/383 [00:03<00:00, 117.70it/s]\n"
     ]
    },
    {
     "name": "stdout",
     "output_type": "stream",
     "text": [
      "Writing scene (/Users/chanwutk/Documents/apperception/data/v1.0-mini/videos/singapore-onenorth/scene-0061-CAM_BACK_LEFT-2018-7-23-20-28-47-647423.mp4):\n"
     ]
    },
    {
     "name": "stderr",
     "output_type": "stream",
     "text": [
      "100%|██████████████████████████████████████████████████████████████████████████████████████████████████████████████████████████████████████████████████████████████████| 383/383 [00:03<00:00, 98.57it/s]\n"
     ]
    },
    {
     "name": "stdout",
     "output_type": "stream",
     "text": [
      "done scene-0061-CAM_BACK_LEFT-2018-7-23-20-28-47-647423.mp4\n",
      "Reading scene: scene-1077-CAM_FRONT_LEFT\n"
     ]
    },
    {
     "name": "stderr",
     "output_type": "stream",
     "text": [
      "100%|█████████████████████████████████████████████████████████████████████████████████████████████████████████████████████████████████████████████████████████████████| 400/400 [00:03<00:00, 121.94it/s]\n"
     ]
    },
    {
     "name": "stdout",
     "output_type": "stream",
     "text": [
      "Writing scene (/Users/chanwutk/Documents/apperception/data/v1.0-mini/videos/singapore-hollandvillage/scene-1077-CAM_FRONT_LEFT-2018-11-21-3-39-27-904844.mp4):\n"
     ]
    },
    {
     "name": "stderr",
     "output_type": "stream",
     "text": [
      "100%|██████████████████████████████████████████████████████████████████████████████████████████████████████████████████████████████████████████████████████████████████| 400/400 [00:04<00:00, 84.85it/s]\n"
     ]
    },
    {
     "name": "stdout",
     "output_type": "stream",
     "text": [
      "done scene-1077-CAM_FRONT_LEFT-2018-11-21-3-39-27-904844.mp4\n",
      "Reading scene: scene-1077-CAM_FRONT\n"
     ]
    },
    {
     "name": "stderr",
     "output_type": "stream",
     "text": [
      "100%|██████████████████████████████████████████████████████████████████████████████████████████████████████████████████████████████████████████████████████████████████| 399/399 [00:04<00:00, 99.21it/s]\n"
     ]
    },
    {
     "name": "stdout",
     "output_type": "stream",
     "text": [
      "Writing scene (/Users/chanwutk/Documents/apperception/data/v1.0-mini/videos/singapore-hollandvillage/scene-1077-CAM_FRONT-2018-11-21-3-39-27-912460.mp4):\n"
     ]
    },
    {
     "name": "stderr",
     "output_type": "stream",
     "text": [
      "100%|██████████████████████████████████████████████████████████████████████████████████████████████████████████████████████████████████████████████████████████████████| 399/399 [00:04<00:00, 85.98it/s]\n"
     ]
    },
    {
     "name": "stdout",
     "output_type": "stream",
     "text": [
      "done scene-1077-CAM_FRONT-2018-11-21-3-39-27-912460.mp4\n",
      "Reading scene: scene-1077-CAM_FRONT_RIGHT\n"
     ]
    },
    {
     "name": "stderr",
     "output_type": "stream",
     "text": [
      "100%|█████████████████████████████████████████████████████████████████████████████████████████████████████████████████████████████████████████████████████████████████| 399/399 [00:03<00:00, 100.30it/s]\n"
     ]
    },
    {
     "name": "stdout",
     "output_type": "stream",
     "text": [
      "Writing scene (/Users/chanwutk/Documents/apperception/data/v1.0-mini/videos/singapore-hollandvillage/scene-1077-CAM_FRONT_RIGHT-2018-11-21-3-39-27-920339.mp4):\n"
     ]
    },
    {
     "name": "stderr",
     "output_type": "stream",
     "text": [
      "100%|██████████████████████████████████████████████████████████████████████████████████████████████████████████████████████████████████████████████████████████████████| 399/399 [00:04<00:00, 91.76it/s]\n"
     ]
    },
    {
     "name": "stdout",
     "output_type": "stream",
     "text": [
      "done scene-1077-CAM_FRONT_RIGHT-2018-11-21-3-39-27-920339.mp4\n",
      "Reading scene: scene-1077-CAM_BACK_RIGHT\n"
     ]
    },
    {
     "name": "stderr",
     "output_type": "stream",
     "text": [
      "100%|██████████████████████████████████████████████████████████████████████████████████████████████████████████████████████████████████████████████████████████████████| 400/400 [00:04<00:00, 97.11it/s]\n"
     ]
    },
    {
     "name": "stdout",
     "output_type": "stream",
     "text": [
      "Writing scene (/Users/chanwutk/Documents/apperception/data/v1.0-mini/videos/singapore-hollandvillage/scene-1077-CAM_BACK_RIGHT-2018-11-21-3-39-27-927893.mp4):\n"
     ]
    },
    {
     "name": "stderr",
     "output_type": "stream",
     "text": [
      "100%|██████████████████████████████████████████████████████████████████████████████████████████████████████████████████████████████████████████████████████████████████| 400/400 [00:04<00:00, 80.29it/s]\n"
     ]
    },
    {
     "name": "stdout",
     "output_type": "stream",
     "text": [
      "done scene-1077-CAM_BACK_RIGHT-2018-11-21-3-39-27-927893.mp4\n",
      "Reading scene: scene-1077-CAM_BACK\n"
     ]
    },
    {
     "name": "stderr",
     "output_type": "stream",
     "text": [
      "100%|██████████████████████████████████████████████████████████████████████████████████████████████████████████████████████████████████████████████████████████████████| 399/399 [00:04<00:00, 98.34it/s]\n"
     ]
    },
    {
     "name": "stdout",
     "output_type": "stream",
     "text": [
      "Writing scene (/Users/chanwutk/Documents/apperception/data/v1.0-mini/videos/singapore-hollandvillage/scene-1077-CAM_BACK-2018-11-21-3-39-27-937525.mp4):\n"
     ]
    },
    {
     "name": "stderr",
     "output_type": "stream",
     "text": [
      "100%|██████████████████████████████████████████████████████████████████████████████████████████████████████████████████████████████████████████████████████████████████| 399/399 [00:04<00:00, 89.20it/s]\n"
     ]
    },
    {
     "name": "stdout",
     "output_type": "stream",
     "text": [
      "done scene-1077-CAM_BACK-2018-11-21-3-39-27-937525.mp4\n",
      "Reading scene: scene-1077-CAM_BACK_LEFT\n"
     ]
    },
    {
     "name": "stderr",
     "output_type": "stream",
     "text": [
      "100%|█████████████████████████████████████████████████████████████████████████████████████████████████████████████████████████████████████████████████████████████████| 399/399 [00:03<00:00, 106.97it/s]\n"
     ]
    },
    {
     "name": "stdout",
     "output_type": "stream",
     "text": [
      "Writing scene (/Users/chanwutk/Documents/apperception/data/v1.0-mini/videos/singapore-hollandvillage/scene-1077-CAM_BACK_LEFT-2018-11-21-3-39-27-947423.mp4):\n"
     ]
    },
    {
     "name": "stderr",
     "output_type": "stream",
     "text": [
      "100%|██████████████████████████████████████████████████████████████████████████████████████████████████████████████████████████████████████████████████████████████████| 399/399 [00:04<00:00, 98.56it/s]\n"
     ]
    },
    {
     "name": "stdout",
     "output_type": "stream",
     "text": [
      "done scene-1077-CAM_BACK_LEFT-2018-11-21-3-39-27-947423.mp4\n",
      "Reading scene: scene-1094-CAM_FRONT_LEFT\n"
     ]
    },
    {
     "name": "stderr",
     "output_type": "stream",
     "text": [
      "100%|█████████████████████████████████████████████████████████████████████████████████████████████████████████████████████████████████████████████████████████████████| 390/390 [00:03<00:00, 108.92it/s]\n"
     ]
    },
    {
     "name": "stdout",
     "output_type": "stream",
     "text": [
      "Writing scene (/Users/chanwutk/Documents/apperception/data/v1.0-mini/videos/singapore-hollandvillage/scene-1094-CAM_FRONT_LEFT-2018-11-21-3-47-27-904844.mp4):\n"
     ]
    },
    {
     "name": "stderr",
     "output_type": "stream",
     "text": [
      "100%|██████████████████████████████████████████████████████████████████████████████████████████████████████████████████████████████████████████████████████████████████| 390/390 [00:04<00:00, 80.23it/s]\n"
     ]
    },
    {
     "name": "stdout",
     "output_type": "stream",
     "text": [
      "done scene-1094-CAM_FRONT_LEFT-2018-11-21-3-47-27-904844.mp4\n",
      "Reading scene: scene-1094-CAM_FRONT\n"
     ]
    },
    {
     "name": "stderr",
     "output_type": "stream",
     "text": [
      "100%|██████████████████████████████████████████████████████████████████████████████████████████████████████████████████████████████████████████████████████████████████| 390/390 [00:04<00:00, 92.93it/s]\n"
     ]
    },
    {
     "name": "stdout",
     "output_type": "stream",
     "text": [
      "Writing scene (/Users/chanwutk/Documents/apperception/data/v1.0-mini/videos/singapore-hollandvillage/scene-1094-CAM_FRONT-2018-11-21-3-47-27-912460.mp4):\n"
     ]
    },
    {
     "name": "stderr",
     "output_type": "stream",
     "text": [
      "100%|██████████████████████████████████████████████████████████████████████████████████████████████████████████████████████████████████████████████████████████████████| 390/390 [00:04<00:00, 78.30it/s]\n"
     ]
    },
    {
     "name": "stdout",
     "output_type": "stream",
     "text": [
      "done scene-1094-CAM_FRONT-2018-11-21-3-47-27-912460.mp4\n",
      "Reading scene: scene-1094-CAM_FRONT_RIGHT\n"
     ]
    },
    {
     "name": "stderr",
     "output_type": "stream",
     "text": [
      "100%|██████████████████████████████████████████████████████████████████████████████████████████████████████████████████████████████████████████████████████████████████| 390/390 [00:04<00:00, 91.42it/s]\n"
     ]
    },
    {
     "name": "stdout",
     "output_type": "stream",
     "text": [
      "Writing scene (/Users/chanwutk/Documents/apperception/data/v1.0-mini/videos/singapore-hollandvillage/scene-1094-CAM_FRONT_RIGHT-2018-11-21-3-47-27-920339.mp4):\n"
     ]
    },
    {
     "name": "stderr",
     "output_type": "stream",
     "text": [
      "100%|██████████████████████████████████████████████████████████████████████████████████████████████████████████████████████████████████████████████████████████████████| 390/390 [00:04<00:00, 78.75it/s]\n"
     ]
    },
    {
     "name": "stdout",
     "output_type": "stream",
     "text": [
      "done scene-1094-CAM_FRONT_RIGHT-2018-11-21-3-47-27-920339.mp4\n",
      "Reading scene: scene-1094-CAM_BACK_RIGHT\n"
     ]
    },
    {
     "name": "stderr",
     "output_type": "stream",
     "text": [
      "100%|██████████████████████████████████████████████████████████████████████████████████████████████████████████████████████████████████████████████████████████████████| 390/390 [00:03<00:00, 98.12it/s]\n"
     ]
    },
    {
     "name": "stdout",
     "output_type": "stream",
     "text": [
      "Writing scene (/Users/chanwutk/Documents/apperception/data/v1.0-mini/videos/singapore-hollandvillage/scene-1094-CAM_BACK_RIGHT-2018-11-21-3-47-27-927893.mp4):\n"
     ]
    },
    {
     "name": "stderr",
     "output_type": "stream",
     "text": [
      "100%|██████████████████████████████████████████████████████████████████████████████████████████████████████████████████████████████████████████████████████████████████| 390/390 [00:04<00:00, 85.80it/s]\n"
     ]
    },
    {
     "name": "stdout",
     "output_type": "stream",
     "text": [
      "done scene-1094-CAM_BACK_RIGHT-2018-11-21-3-47-27-927893.mp4\n",
      "Reading scene: scene-1094-CAM_BACK\n"
     ]
    },
    {
     "name": "stderr",
     "output_type": "stream",
     "text": [
      "100%|█████████████████████████████████████████████████████████████████████████████████████████████████████████████████████████████████████████████████████████████████| 390/390 [00:03<00:00, 109.02it/s]\n"
     ]
    },
    {
     "name": "stdout",
     "output_type": "stream",
     "text": [
      "Writing scene (/Users/chanwutk/Documents/apperception/data/v1.0-mini/videos/singapore-hollandvillage/scene-1094-CAM_BACK-2018-11-21-3-47-27-937525.mp4):\n"
     ]
    },
    {
     "name": "stderr",
     "output_type": "stream",
     "text": [
      "100%|█████████████████████████████████████████████████████████████████████████████████████████████████████████████████████████████████████████████████████████████████| 390/390 [00:03<00:00, 108.28it/s]\n"
     ]
    },
    {
     "name": "stdout",
     "output_type": "stream",
     "text": [
      "done scene-1094-CAM_BACK-2018-11-21-3-47-27-937525.mp4\n",
      "Reading scene: scene-1094-CAM_BACK_LEFT\n"
     ]
    },
    {
     "name": "stderr",
     "output_type": "stream",
     "text": [
      "100%|█████████████████████████████████████████████████████████████████████████████████████████████████████████████████████████████████████████████████████████████████| 390/390 [00:03<00:00, 118.43it/s]\n"
     ]
    },
    {
     "name": "stdout",
     "output_type": "stream",
     "text": [
      "Writing scene (/Users/chanwutk/Documents/apperception/data/v1.0-mini/videos/singapore-hollandvillage/scene-1094-CAM_BACK_LEFT-2018-11-21-3-47-27-947423.mp4):\n"
     ]
    },
    {
     "name": "stderr",
     "output_type": "stream",
     "text": [
      "100%|█████████████████████████████████████████████████████████████████████████████████████████████████████████████████████████████████████████████████████████████████| 390/390 [00:03<00:00, 103.62it/s]\n"
     ]
    },
    {
     "name": "stdout",
     "output_type": "stream",
     "text": [
      "done scene-1094-CAM_BACK_LEFT-2018-11-21-3-47-27-947423.mp4\n",
      "Reading scene: scene-1100-CAM_FRONT_LEFT\n"
     ]
    },
    {
     "name": "stderr",
     "output_type": "stream",
     "text": [
      "100%|█████████████████████████████████████████████████████████████████████████████████████████████████████████████████████████████████████████████████████████████████| 390/390 [00:03<00:00, 114.49it/s]\n"
     ]
    },
    {
     "name": "stdout",
     "output_type": "stream",
     "text": [
      "Writing scene (/Users/chanwutk/Documents/apperception/data/v1.0-mini/videos/singapore-hollandvillage/scene-1100-CAM_FRONT_LEFT-2018-11-21-3-49-47-904844.mp4):\n"
     ]
    },
    {
     "name": "stderr",
     "output_type": "stream",
     "text": [
      "100%|█████████████████████████████████████████████████████████████████████████████████████████████████████████████████████████████████████████████████████████████████| 390/390 [00:03<00:00, 107.94it/s]\n"
     ]
    },
    {
     "name": "stdout",
     "output_type": "stream",
     "text": [
      "done scene-1100-CAM_FRONT_LEFT-2018-11-21-3-49-47-904844.mp4\n",
      "Reading scene: scene-1100-CAM_FRONT\n"
     ]
    },
    {
     "name": "stderr",
     "output_type": "stream",
     "text": [
      "100%|█████████████████████████████████████████████████████████████████████████████████████████████████████████████████████████████████████████████████████████████████| 391/391 [00:03<00:00, 116.46it/s]\n"
     ]
    },
    {
     "name": "stdout",
     "output_type": "stream",
     "text": [
      "Writing scene (/Users/chanwutk/Documents/apperception/data/v1.0-mini/videos/singapore-hollandvillage/scene-1100-CAM_FRONT-2018-11-21-3-49-47-912460.mp4):\n"
     ]
    },
    {
     "name": "stderr",
     "output_type": "stream",
     "text": [
      "100%|█████████████████████████████████████████████████████████████████████████████████████████████████████████████████████████████████████████████████████████████████| 391/391 [00:03<00:00, 111.48it/s]\n"
     ]
    },
    {
     "name": "stdout",
     "output_type": "stream",
     "text": [
      "done scene-1100-CAM_FRONT-2018-11-21-3-49-47-912460.mp4\n",
      "Reading scene: scene-1100-CAM_FRONT_RIGHT\n"
     ]
    },
    {
     "name": "stderr",
     "output_type": "stream",
     "text": [
      "100%|█████████████████████████████████████████████████████████████████████████████████████████████████████████████████████████████████████████████████████████████████| 390/390 [00:03<00:00, 112.77it/s]\n"
     ]
    },
    {
     "name": "stdout",
     "output_type": "stream",
     "text": [
      "Writing scene (/Users/chanwutk/Documents/apperception/data/v1.0-mini/videos/singapore-hollandvillage/scene-1100-CAM_FRONT_RIGHT-2018-11-21-3-49-47-920339.mp4):\n"
     ]
    },
    {
     "name": "stderr",
     "output_type": "stream",
     "text": [
      "100%|█████████████████████████████████████████████████████████████████████████████████████████████████████████████████████████████████████████████████████████████████| 390/390 [00:03<00:00, 108.36it/s]\n"
     ]
    },
    {
     "name": "stdout",
     "output_type": "stream",
     "text": [
      "done scene-1100-CAM_FRONT_RIGHT-2018-11-21-3-49-47-920339.mp4\n",
      "Reading scene: scene-1100-CAM_BACK_RIGHT\n"
     ]
    },
    {
     "name": "stderr",
     "output_type": "stream",
     "text": [
      "100%|█████████████████████████████████████████████████████████████████████████████████████████████████████████████████████████████████████████████████████████████████| 390/390 [00:03<00:00, 112.34it/s]\n"
     ]
    },
    {
     "name": "stdout",
     "output_type": "stream",
     "text": [
      "Writing scene (/Users/chanwutk/Documents/apperception/data/v1.0-mini/videos/singapore-hollandvillage/scene-1100-CAM_BACK_RIGHT-2018-11-21-3-49-47-927893.mp4):\n"
     ]
    },
    {
     "name": "stderr",
     "output_type": "stream",
     "text": [
      "100%|█████████████████████████████████████████████████████████████████████████████████████████████████████████████████████████████████████████████████████████████████| 390/390 [00:03<00:00, 106.38it/s]\n"
     ]
    },
    {
     "name": "stdout",
     "output_type": "stream",
     "text": [
      "done scene-1100-CAM_BACK_RIGHT-2018-11-21-3-49-47-927893.mp4\n",
      "Reading scene: scene-1100-CAM_BACK\n"
     ]
    },
    {
     "name": "stderr",
     "output_type": "stream",
     "text": [
      "100%|█████████████████████████████████████████████████████████████████████████████████████████████████████████████████████████████████████████████████████████████████| 391/391 [00:03<00:00, 115.40it/s]\n"
     ]
    },
    {
     "name": "stdout",
     "output_type": "stream",
     "text": [
      "Writing scene (/Users/chanwutk/Documents/apperception/data/v1.0-mini/videos/singapore-hollandvillage/scene-1100-CAM_BACK-2018-11-21-3-49-47-937525.mp4):\n"
     ]
    },
    {
     "name": "stderr",
     "output_type": "stream",
     "text": [
      "100%|█████████████████████████████████████████████████████████████████████████████████████████████████████████████████████████████████████████████████████████████████| 391/391 [00:03<00:00, 108.60it/s]\n"
     ]
    },
    {
     "name": "stdout",
     "output_type": "stream",
     "text": [
      "done scene-1100-CAM_BACK-2018-11-21-3-49-47-937525.mp4\n",
      "Reading scene: scene-1100-CAM_BACK_LEFT\n"
     ]
    },
    {
     "name": "stderr",
     "output_type": "stream",
     "text": [
      "100%|██████████████████████████████████████████████████████████████████████████████████████████████████████████████████████████████████████████████████████████████████| 390/390 [00:03<00:00, 97.79it/s]\n"
     ]
    },
    {
     "name": "stdout",
     "output_type": "stream",
     "text": [
      "Writing scene (/Users/chanwutk/Documents/apperception/data/v1.0-mini/videos/singapore-hollandvillage/scene-1100-CAM_BACK_LEFT-2018-11-21-3-49-47-947423.mp4):\n"
     ]
    },
    {
     "name": "stderr",
     "output_type": "stream",
     "text": [
      "100%|██████████████████████████████████████████████████████████████████████████████████████████████████████████████████████████████████████████████████████████████████| 390/390 [00:05<00:00, 65.61it/s]\n"
     ]
    },
    {
     "name": "stdout",
     "output_type": "stream",
     "text": [
      "done scene-1100-CAM_BACK_LEFT-2018-11-21-3-49-47-947423.mp4\n"
     ]
    }
   ],
   "source": [
    "for l in os.listdir(partition_dir):\n",
    "    d = os.path.join(partition_dir, l)\n",
    "    with open(os.path.join(d, 'sample_data.pickle'), \"rb\") as f:\n",
    "        sample_data = pickle.load(f)\n",
    "    videos = get_videos(sample_data)\n",
    "    \n",
    "    \n",
    "    output = {}\n",
    "    for name in videos:\n",
    "        video = videos[name]\n",
    "        frames, filename, start = compose(l, name, video)\n",
    "        output[name] = {\n",
    "            \"filename\": filename,\n",
    "            \"start\": start,\n",
    "            \"columns\": [\n",
    "                \"cameraId\",\n",
    "                \"frameId\",\n",
    "                \"frameNum\",\n",
    "                \"filename\",\n",
    "                \"cameraTranslation\",\n",
    "                \"cameraRotation\",\n",
    "                \"cameraIntrinsic\",\n",
    "                \"egoTranslation\",\n",
    "                \"egoRotation\",\n",
    "                \"timestamp\",\n",
    "                \"cameraHeading\",\n",
    "                \"egoHeading\",\n",
    "            ],\n",
    "            \"frames\": video\n",
    "        }\n",
    "        print(\"done\", filename)\n",
    "    base = os.path.join(processed_dir, 'videos', l)\n",
    "    with open(os.path.join(base, 'frames.pickle'), \"wb\") as f:\n",
    "        pickle.dump(output, f)"
   ]
  },
  {
   "cell_type": "code",
   "execution_count": null,
   "id": "07a5f611",
   "metadata": {},
   "outputs": [],
   "source": []
  },
  {
   "cell_type": "code",
   "execution_count": null,
   "id": "0b20b209",
   "metadata": {},
   "outputs": [],
   "source": []
  },
  {
   "cell_type": "code",
   "execution_count": null,
   "id": "f86c66ff",
   "metadata": {},
   "outputs": [],
   "source": []
  },
  {
   "cell_type": "code",
   "execution_count": null,
   "id": "4565fc46",
   "metadata": {},
   "outputs": [],
   "source": []
  }
 ],
 "metadata": {
  "kernelspec": {
   "display_name": "Python 3 (ipykernel)",
   "language": "python",
   "name": "python3"
  },
  "language_info": {
   "codemirror_mode": {
    "name": "ipython",
    "version": 3
   },
   "file_extension": ".py",
   "mimetype": "text/x-python",
   "name": "python",
   "nbconvert_exporter": "python",
   "pygments_lexer": "ipython3",
   "version": "3.10.6"
  },
  "vscode": {
   "interpreter": {
    "hash": "6da98d48e8fe947353054159aa9213a15d82944e6db20bad7c7d338a05ae337c"
   }
  }
 },
 "nbformat": 4,
 "nbformat_minor": 5
}
