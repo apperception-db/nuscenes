{
 "cells": [
  {
   "cell_type": "code",
   "execution_count": 1,
   "id": "7f4b84d6",
   "metadata": {},
   "outputs": [],
   "source": [
    "import json\n",
    "import os\n",
    "from utils.data_dirs import data_dirs\n",
    "from utils.filter_road import filter_road"
   ]
  },
  {
   "cell_type": "code",
   "execution_count": 2,
   "id": "3fa28c88",
   "metadata": {},
   "outputs": [
    {
     "name": "stdout",
     "output_type": "stream",
     "text": [
      "/work/apperception/data/raw/road-network\n",
      "/data/apperception-data/processed/road-network\n",
      "/work/apperception/data/raw/nuScenes/Map-expansion\n",
      "/data/apperception-data/processed/nuscenes/Map-expansion\n"
     ]
    }
   ],
   "source": [
    "d = data_dirs()\n",
    "print(d.raw_road)\n",
    "print(d.processed_road)\n",
    "print(d.raw_map)\n",
    "print(d.processed_map)"
   ]
  },
  {
   "cell_type": "code",
   "execution_count": 3,
   "id": "387a6215",
   "metadata": {},
   "outputs": [],
   "source": [
    "raw_expansion = os.path.join(d.raw_map, 'expansion')\n",
    "processed_expansion = os.path.join(d.processed_map, 'expansion')"
   ]
  },
  {
   "cell_type": "code",
   "execution_count": 4,
   "id": "02d5be34",
   "metadata": {},
   "outputs": [
    {
     "data": {
      "text/plain": [
       "'/work/apperception/data/raw/nuScenes/Map-expansion/expansion'"
      ]
     },
     "execution_count": 4,
     "metadata": {},
     "output_type": "execute_result"
    }
   ],
   "source": [
    "raw_expansion"
   ]
  },
  {
   "cell_type": "code",
   "execution_count": 5,
   "id": "05134e3e",
   "metadata": {},
   "outputs": [
    {
     "data": {
      "text/plain": [
       "'/data/apperception-data/processed/nuscenes/Map-expansion/expansion'"
      ]
     },
     "execution_count": 5,
     "metadata": {},
     "output_type": "execute_result"
    }
   ],
   "source": [
    "processed_expansion"
   ]
  },
  {
   "cell_type": "code",
   "execution_count": 6,
   "id": "a9a2265f",
   "metadata": {},
   "outputs": [
    {
     "data": {
      "text/plain": [
       "15"
      ]
     },
     "execution_count": 6,
     "metadata": {},
     "output_type": "execute_result"
    }
   ],
   "source": [
    "int('f', 16)"
   ]
  },
  {
   "cell_type": "code",
   "execution_count": 7,
   "id": "11960e23",
   "metadata": {},
   "outputs": [],
   "source": [
    "EXAMPLE_TOKEN = '0073298b-b2f4-4f89-97cd-4241a1599831'\n",
    "\n",
    "def is_hex(h: 'str'):\n",
    "    try:\n",
    "        int(h, 16)\n",
    "        return True\n",
    "    except:\n",
    "        return False\n",
    "\n",
    "def is_token(token) -> \"bool\":\n",
    "    if not isinstance(token, str):\n",
    "        return False\n",
    "\n",
    "    chunks = token.split('-')\n",
    "    if len(chunks) != 5:\n",
    "        return False\n",
    "    \n",
    "    if [len(c) for c in chunks] != [8, 4, 4, 4, 12]:\n",
    "        return False\n",
    "    \n",
    "    return all(map(is_hex, chunks))"
   ]
  },
  {
   "cell_type": "code",
   "execution_count": 8,
   "id": "58795b4d",
   "metadata": {},
   "outputs": [
    {
     "data": {
      "text/plain": [
       "[1, 2, 4, 1, 2, 2]"
      ]
     },
     "execution_count": 8,
     "metadata": {},
     "output_type": "execute_result"
    }
   ],
   "source": [
    "import itertools\n",
    "\n",
    "[*itertools.chain([1,2], [4], itertools.chain(*(x for x in [[1], [2]])), map(lambda x: x, [2]))]"
   ]
  },
  {
   "cell_type": "code",
   "execution_count": 9,
   "id": "5d0f8c74",
   "metadata": {},
   "outputs": [],
   "source": [
    "import itertools\n",
    "\n",
    "def extract_all_tokens(o):\n",
    "    if isinstance(o, dict):\n",
    "        return itertools.chain(itertools.chain(*map(extract_all_tokens, o.values())), itertools.chain(*map(extract_all_tokens, o.keys())))\n",
    "    elif isinstance(o, list) or isinstance(o, tuple):\n",
    "        return itertools.chain(*map(extract_all_tokens, o))\n",
    "    elif is_token(o):\n",
    "        return [o]\n",
    "    else:\n",
    "        return []\n",
    "\n",
    "def extract_all_non_tokens(o):\n",
    "    if isinstance(o, dict):\n",
    "        return itertools.chain(*map(extract_all_non_tokens, o.values()))\n",
    "    elif isinstance(o, list):\n",
    "        return itertools.chain(*map(extract_all_non_tokens, o))\n",
    "    elif is_token(o):\n",
    "        return []\n",
    "    else:\n",
    "        if not (isinstance(o, int) or isinstance(o, float)):\n",
    "            return [o]\n",
    "        return []"
   ]
  },
  {
   "cell_type": "code",
   "execution_count": 10,
   "id": "0b5187f8",
   "metadata": {
    "scrolled": true
   },
   "outputs": [
    {
     "name": "stdout",
     "output_type": "stream",
     "text": [
      "{'', 'NIL', 'UP', 'SINGLE_ZIGZAG_WHITE', 'SINGLE_SOLID_WHITE', 'YIELD', 'CAR', 'STOP_SIGN', 'LSR', '1.3', 'DOUBLE_DASHED_WHITE', 'VERTICAL', 'YELLOW', 'TRAFFIC_LIGHT', 'LEFT', 'RIGHT', 'TURN_STOP', 'GREEN', 'SINGLE_SOLID_YELLOW', 'RED', 'RSL', 'HORIZONTAL', 'RSR', 'PED_CROSSING', 'DOUBLE_SOLID_WHITE', 'CIRCLE', 'LSL', None}\n",
      "dict_keys(['boston-seaport', 'singapore-queenstown', 'singapore-onenorth', 'singapore-hollandvillage'])\n"
     ]
    }
   ],
   "source": [
    "all_non_tokens = set()\n",
    "tokens = dict()\n",
    "for e in os.listdir(raw_expansion):\n",
    "    with open(os.path.join(raw_expansion, e), \"r\") as f:\n",
    "        e_json = json.load(f)\n",
    "    key = e.split('.')[0]\n",
    "    tokens[key] = {*extract_all_tokens(e_json)}\n",
    "    all_non_tokens.update(extract_all_non_tokens(e_json))\n",
    "\n",
    "print(all_non_tokens)\n",
    "print(tokens.keys())"
   ]
  },
  {
   "cell_type": "code",
   "execution_count": 11,
   "id": "363ad325",
   "metadata": {},
   "outputs": [
    {
     "name": "stdout",
     "output_type": "stream",
     "text": [
      "set()\n",
      "set()\n",
      "set()\n",
      "set()\n",
      "set()\n",
      "set()\n",
      "set()\n",
      "set()\n",
      "set()\n",
      "set()\n",
      "set()\n",
      "set()\n"
     ]
    }
   ],
   "source": [
    "_tokens = []\n",
    "for e in os.listdir(raw_expansion):\n",
    "    with open(os.path.join(raw_expansion, e), \"r\") as f:\n",
    "        e_json = json.load(f)\n",
    "    \n",
    "#     tokens: \"Set[str]\" = set()\n",
    "        \n",
    "#     for k, value in e_json.items():\n",
    "#         if type(value) == list:\n",
    "#             tokens.update({v[\"token\"] for v in value if type(v) == dict})\n",
    "#         elif type(value) == dict:\n",
    "#             tokens.update(value.keys())\n",
    "    tokens = {*extract_all_tokens(e_json)}\n",
    "    \n",
    "    if not os.path.exists(processed_expansion):\n",
    "        os.makedirs(processed_expansion)\n",
    "    \n",
    "    with open(os.path.join(processed_expansion, e[:-len(\".json\")] + \"-tokens.json\"), \"w\") as f:\n",
    "        json.dump([*tokens], f)\n",
    "    \n",
    "    _tokens.append(tokens)\n",
    "\n",
    "for t1 in _tokens:\n",
    "    for t2 in _tokens:\n",
    "        if t1 == t2: continue\n",
    "        print(t1 & t2)"
   ]
  },
  {
   "cell_type": "code",
   "execution_count": 12,
   "id": "35960959",
   "metadata": {},
   "outputs": [
    {
     "name": "stdout",
     "output_type": "stream",
     "text": [
      "singapore-hollandvillage\n",
      "Filtering intersection\n",
      "Filtering lane_LaneSec\n",
      "Filtering lane\n",
      "Filtering laneGroup_Lane\n",
      "Filtering laneGroup_opposite\n",
      "Filtering laneGroup\n",
      "Filtering laneSection\n",
      "Filtering polygon\n",
      "Filtering road_laneGroup\n",
      "Filtering road_roadSec\n",
      "Filtering road\n",
      "Filtering roadSec_laneSec\n",
      "Filtering roadSection\n",
      "Filtering segment\n",
      "intersection 167\n",
      "lane_LaneSec 0\n",
      "lane 0\n",
      "laneGroup_Lane 0\n",
      "laneGroup_opposite 0\n",
      "laneGroup 0\n",
      "laneSection 0\n",
      "polygon 334\n",
      "road_laneGroup 0\n",
      "road_roadSec 0\n",
      "road 167\n",
      "roadSec_laneSec 0\n",
      "roadSection 0\n",
      "segment 167\n",
      "singapore-onenorth\n",
      "Filtering intersection\n",
      "Filtering lane_LaneSec\n",
      "Filtering lane\n",
      "Filtering laneGroup_Lane\n",
      "Filtering laneGroup_opposite\n",
      "Filtering laneGroup\n",
      "Filtering laneSection\n",
      "Filtering polygon\n",
      "Filtering road_laneGroup\n",
      "Filtering road_roadSec\n",
      "Filtering road\n",
      "Filtering roadSec_laneSec\n",
      "Filtering roadSection\n",
      "Filtering segment\n",
      "intersection 293\n",
      "lane_LaneSec 933\n",
      "lane 933\n",
      "laneGroup_Lane 933\n",
      "laneGroup_opposite 300\n",
      "laneGroup 632\n",
      "laneSection 933\n",
      "polygon 4045\n",
      "road_laneGroup 629\n",
      "road_roadSec 479\n",
      "road 772\n",
      "roadSec_laneSec 933\n",
      "roadSection 482\n",
      "segment 14575\n",
      "singapore-queenstown\n",
      "Filtering intersection\n",
      "Filtering lane_LaneSec\n",
      "Filtering lane\n",
      "Filtering laneGroup_Lane\n",
      "Filtering laneGroup_opposite\n",
      "Filtering laneGroup\n",
      "Filtering laneSection\n",
      "Filtering polygon\n",
      "Filtering road_laneGroup\n",
      "Filtering road_roadSec\n",
      "Filtering road\n",
      "Filtering roadSec_laneSec\n",
      "Filtering roadSection\n",
      "Filtering segment\n",
      "intersection 260\n",
      "lane_LaneSec 0\n",
      "lane 0\n",
      "laneGroup_Lane 0\n",
      "laneGroup_opposite 0\n",
      "laneGroup 0\n",
      "laneSection 0\n",
      "polygon 520\n",
      "road_laneGroup 0\n",
      "road_roadSec 0\n",
      "road 260\n",
      "roadSec_laneSec 0\n",
      "roadSection 0\n",
      "segment 260\n",
      "boston-seaport\n",
      "Filtering intersection\n",
      "Filtering lane_LaneSec\n",
      "Filtering lane\n",
      "Filtering laneGroup_Lane\n",
      "Filtering laneGroup_opposite\n",
      "Filtering laneGroup\n",
      "Filtering laneSection\n",
      "Filtering polygon\n",
      "Filtering road_laneGroup\n",
      "Filtering road_roadSec\n",
      "Filtering road\n",
      "Filtering roadSec_laneSec\n",
      "Filtering roadSection\n",
      "Filtering segment\n",
      "intersection 332\n",
      "lane_LaneSec 1180\n",
      "lane 1180\n",
      "laneGroup_Lane 1180\n",
      "laneGroup_opposite 744\n",
      "laneGroup 966\n",
      "laneSection 1180\n",
      "polygon 5178\n",
      "road_laneGroup 966\n",
      "road_roadSec 594\n",
      "road 926\n",
      "roadSec_laneSec 1180\n",
      "roadSection 594\n",
      "segment 16527\n"
     ]
    }
   ],
   "source": [
    "for tokens_f in os.listdir(processed_expansion):\n",
    "    with open(os.path.join(processed_expansion, tokens_f), \"r\") as f:\n",
    "        tokens = {*json.load(f)}\n",
    "    \n",
    "    region = tokens_f[:-len(\"-tokens.json\")]\n",
    "    print(region)\n",
    "    filtered = filter_road(d.raw_road, tokens)\n",
    "    for k, v in filtered.items():\n",
    "        print(k, len(v))\n",
    "        base = os.path.join(d.processed_road, region)\n",
    "        if not os.path.exists(base):\n",
    "            os.makedirs(base)\n",
    "        with open(os.path.join(base, k + \".json\"), \"w\") as f:\n",
    "            json.dump(v, f, indent=1)\n",
    "    "
   ]
  },
  {
   "cell_type": "code",
   "execution_count": 13,
   "id": "b805a70e",
   "metadata": {
    "scrolled": false
   },
   "outputs": [
    {
     "name": "stdout",
     "output_type": "stream",
     "text": [
      "laneGroup.json\n",
      "boston-old is subset: True\n",
      "\n",
      "roadSec_laneSec.json\n",
      "boston-old is subset: True\n",
      "\n",
      "road.json\n",
      "boston-old is subset: True\n",
      "\n",
      "segment.json\n",
      "boston-old is subset: True\n",
      "\n",
      "road_roadSec.json\n",
      "boston-old is subset: True\n",
      "\n",
      "lane.json\n",
      "boston-old is subset: True\n",
      "\n",
      "intersection.json\n",
      "boston-old is subset: True\n",
      "\n",
      "laneSection.json\n",
      "boston-old is subset: True\n",
      "\n",
      "laneGroup_opposite.json\n",
      "boston-old is subset: True\n",
      "\n",
      "polygon.json\n",
      "boston-old is subset: True\n",
      "\n",
      "lane_LaneSec.json\n",
      "boston-old is subset: True\n",
      "\n",
      "laneGroup_Lane.json\n",
      "boston-old is subset: True\n",
      "\n",
      "road_laneGroup.json\n",
      "boston-old is subset: True\n",
      "\n",
      "roadSection.json\n",
      "boston-old is subset: True\n",
      "\n"
     ]
    }
   ],
   "source": [
    "base_old = os.path.join(d.processed_road, \"boston-old\")\n",
    "base_seaport = os.path.join(d.processed_road, \"boston-seaport\")\n",
    "\n",
    "def remove_heading(d):\n",
    "    if 'heading' in d:\n",
    "        del d['heading']\n",
    "    return d\n",
    "\n",
    "for e in os.listdir(base_old):\n",
    "    with open(os.path.join(base_old, e), \"r\") as f:\n",
    "        old = json.load(f)\n",
    "    with open(os.path.join(base_seaport, e), \"r\") as f:\n",
    "        seaport = json.load(f)\n",
    "    \n",
    "    print(e)\n",
    "    old_set = set((json.dumps(o, sort_keys=True) for o in map(remove_heading, old)))\n",
    "    seaport_set = set((json.dumps(o, sort_keys=True) for o in map(remove_heading, seaport)))\n",
    "    print('boston-old is subset:', len(old_set - seaport_set) == 0)\n",
    "    print()\n",
    "    "
   ]
  },
  {
   "cell_type": "code",
   "execution_count": 14,
   "id": "d3517e9e",
   "metadata": {},
   "outputs": [
    {
     "name": "stdout",
     "output_type": "stream",
     "text": [
      "[{'id': '971af7a8-855a-474a-8715-f6b8016e78ff', 'polygon': 'POLYGON ((2525.6528905288387250 870.0673772124993093, 2532.6247537459998966 872.5188277609444185, 2532.3638174254715523 871.7643520778366337, 2532.0731055887108596 869.9739163944096845, 2532.1660582513122790 863.9078996779289810, 2532.2265815159626072 862.7908341711502089, 2532.4372961932372164 858.7061014861466219, 2527.9970330620476489 858.0422771163575817, 2527.9222186058777879 862.6161804021471653, 2527.3011173659033375 866.2497474613342092, 2525.6528905288387250 870.0673772124993093))'}]\n",
      "[{'id': '971af7a8-855a-474a-8715-f6b8016e78ff', 'polygon': 'POLYGON ((2525.6528905288387250 870.0673772124993093, 2532.6247537459998966 872.5188277609444185, 2532.3638174254715523 871.7643520778366337, 2532.0731055887108596 869.9739163944096845, 2532.1660582513122790 863.9078996779289810, 2532.2265815159626072 862.7908341711502089, 2532.4372961932372164 858.7061014861466219, 2527.9970330620476489 858.0422771163575817, 2527.9222186058777879 862.6161804021471653, 2527.3011173659033375 866.2497474613342092, 2525.6528905288387250 870.0673772124993093))'}]\n"
     ]
    }
   ],
   "source": [
    "with open(os.path.join(base_old, 'polygon.json'), \"r\") as f:\n",
    "    old = json.load(f)\n",
    "with open(os.path.join(base_seaport, 'polygon.json'), \"r\") as f:\n",
    "    seaport = json.load(f)\n",
    "# old[0]\n",
    "print([o for o in old if o['id'] == \"971af7a8-855a-474a-8715-f6b8016e78ff\"])\n",
    "print([o for o in seaport if o['id'] == \"971af7a8-855a-474a-8715-f6b8016e78ff\"])"
   ]
  },
  {
   "cell_type": "code",
   "execution_count": 15,
   "id": "d0e7f19d",
   "metadata": {},
   "outputs": [
    {
     "name": "stdout",
     "output_type": "stream",
     "text": [
      "[\n",
      "  {\n",
      "    \"start\": \"POINT (2532.4372961932372164 858.7061014861466219)\",\n",
      "    \"end\": \"POINT (2532.2265815159626072 862.7908341711502089)\",\n",
      "    \"heading\": 0.051540230404979015,\n",
      "    \"polygonId\": \"971af7a8-855a-474a-8715-f6b8016e78ff\"\n",
      "  },\n",
      "  {\n",
      "    \"start\": \"POINT (2532.2265815159626072 862.7908341711502089)\",\n",
      "    \"end\": \"POINT (2532.1660582513122790 863.9078996779289810)\",\n",
      "    \"heading\": 0.054127663628520395,\n",
      "    \"polygonId\": \"971af7a8-855a-474a-8715-f6b8016e78ff\"\n",
      "  },\n",
      "  {\n",
      "    \"start\": \"POINT (2532.1660582513122790 863.9078996779289810)\",\n",
      "    \"end\": \"POINT (2532.0731055887108596 869.9739163944096845)\",\n",
      "    \"heading\": 0.015322309938731404,\n",
      "    \"polygonId\": \"971af7a8-855a-474a-8715-f6b8016e78ff\"\n",
      "  },\n",
      "  {\n",
      "    \"start\": \"POINT (2532.0731055887108596 869.9739163944096845)\",\n",
      "    \"end\": \"POINT (2532.3638174254715523 871.7643520778366337)\",\n",
      "    \"heading\": -0.1609645906098347,\n",
      "    \"polygonId\": \"971af7a8-855a-474a-8715-f6b8016e78ff\"\n",
      "  },\n",
      "  {\n",
      "    \"start\": \"POINT (2532.3638174254715523 871.7643520778366337)\",\n",
      "    \"end\": \"POINT (2532.6247537459998966 872.5188277609444185)\",\n",
      "    \"heading\": -0.3329740133997072,\n",
      "    \"polygonId\": \"971af7a8-855a-474a-8715-f6b8016e78ff\"\n",
      "  }\n",
      "]\n",
      "[\n",
      "  {\n",
      "    \"start\": \"POINT (2532.4372961932372164 858.7061014861466219)\",\n",
      "    \"end\": \"POINT (2532.2265815159626072 862.7908341711502089)\",\n",
      "    \"heading\": 0.051540230404979015,\n",
      "    \"polygonId\": \"971af7a8-855a-474a-8715-f6b8016e78ff\"\n",
      "  },\n",
      "  {\n",
      "    \"start\": \"POINT (2532.2265815159626072 862.7908341711502089)\",\n",
      "    \"end\": \"POINT (2532.1660582513122790 863.9078996779289810)\",\n",
      "    \"heading\": 0.05412766362852017,\n",
      "    \"polygonId\": \"971af7a8-855a-474a-8715-f6b8016e78ff\"\n",
      "  },\n",
      "  {\n",
      "    \"start\": \"POINT (2532.1660582513122790 863.9078996779289810)\",\n",
      "    \"end\": \"POINT (2532.0731055887108596 869.9739163944096845)\",\n",
      "    \"heading\": 0.015322309938731404,\n",
      "    \"polygonId\": \"971af7a8-855a-474a-8715-f6b8016e78ff\"\n",
      "  },\n",
      "  {\n",
      "    \"start\": \"POINT (2532.0731055887108596 869.9739163944096845)\",\n",
      "    \"end\": \"POINT (2532.3638174254715523 871.7643520778366337)\",\n",
      "    \"heading\": -0.1609645906098347,\n",
      "    \"polygonId\": \"971af7a8-855a-474a-8715-f6b8016e78ff\"\n",
      "  },\n",
      "  {\n",
      "    \"start\": \"POINT (2532.3638174254715523 871.7643520778366337)\",\n",
      "    \"end\": \"POINT (2532.6247537459998966 872.5188277609444185)\",\n",
      "    \"heading\": -0.3329740133997072,\n",
      "    \"polygonId\": \"971af7a8-855a-474a-8715-f6b8016e78ff\"\n",
      "  }\n",
      "]\n"
     ]
    }
   ],
   "source": [
    "with open(os.path.join(base_old, 'segment.json'), \"r\") as f:\n",
    "    old = json.load(f)\n",
    "with open(os.path.join(base_seaport, 'segment.json'), 'r') as f:\n",
    "    seaport = json.load(f)\n",
    "print(json.dumps([o for o in old if o['polygonId'] == \"971af7a8-855a-474a-8715-f6b8016e78ff\"], indent=2))\n",
    "print(json.dumps([o for o in seaport if o['polygonId'] == \"971af7a8-855a-474a-8715-f6b8016e78ff\"], indent=2))"
   ]
  },
  {
   "cell_type": "code",
   "execution_count": null,
   "id": "99b6fff2",
   "metadata": {},
   "outputs": [],
   "source": []
  }
 ],
 "metadata": {
  "kernelspec": {
   "display_name": "Python 3",
   "language": "python",
   "name": "python3"
  },
  "language_info": {
   "codemirror_mode": {
    "name": "ipython",
    "version": 3
   },
   "file_extension": ".py",
   "mimetype": "text/x-python",
   "name": "python",
   "nbconvert_exporter": "python",
   "pygments_lexer": "ipython3",
   "version": "3.10.8"
  }
 },
 "nbformat": 4,
 "nbformat_minor": 5
}
