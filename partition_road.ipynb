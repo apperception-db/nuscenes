{
 "cells": [
  {
   "cell_type": "code",
   "execution_count": null,
   "id": "7f4b84d6",
   "metadata": {},
   "outputs": [],
   "source": [
    "import json\n",
    "import os\n",
    "from utils.data_dirs import data_dirs\n",
    "from utils.filter_road import filter_road"
   ]
  },
  {
   "cell_type": "code",
   "execution_count": null,
   "id": "3fa28c88",
   "metadata": {},
   "outputs": [],
   "source": [
    "d = data_dirs()\n",
    "print(d.raw_road)\n",
    "print(d.processed_road)\n",
    "print(d.raw_map)\n",
    "print(d.processed_map)"
   ]
  },
  {
   "cell_type": "code",
   "execution_count": null,
   "id": "387a6215",
   "metadata": {},
   "outputs": [],
   "source": [
    "raw_expansion = os.path.join(d.raw_map, 'expansion')\n",
    "processed_expansion = os.path.join(d.processed_map, 'expansion')"
   ]
  },
  {
   "cell_type": "code",
   "execution_count": null,
   "id": "02d5be34",
   "metadata": {},
   "outputs": [],
   "source": [
    "raw_expansion"
   ]
  },
  {
   "cell_type": "code",
   "execution_count": null,
   "id": "05134e3e",
   "metadata": {},
   "outputs": [],
   "source": [
    "processed_expansion"
   ]
  },
  {
   "cell_type": "code",
   "execution_count": null,
   "id": "a9a2265f",
   "metadata": {},
   "outputs": [],
   "source": [
    "int('f', 16)"
   ]
  },
  {
   "cell_type": "code",
   "execution_count": null,
   "id": "11960e23",
   "metadata": {},
   "outputs": [],
   "source": [
    "EXAMPLE_TOKEN = '0073298b-b2f4-4f89-97cd-4241a1599831'\n",
    "\n",
    "def is_hex(h: 'str'):\n",
    "    try:\n",
    "        int(h, 16)\n",
    "        return True\n",
    "    except:\n",
    "        return False\n",
    "\n",
    "def is_token(token) -> \"bool\":\n",
    "    if not isinstance(token, str):\n",
    "        return False\n",
    "\n",
    "    chunks = token.split('-')\n",
    "    if len(chunks) != 5:\n",
    "        return False\n",
    "    \n",
    "    if [len(c) for c in chunks] != [8, 4, 4, 4, 12]:\n",
    "        return False\n",
    "    \n",
    "    return all(map(is_hex, chunks))"
   ]
  },
  {
   "cell_type": "code",
   "execution_count": null,
   "id": "58795b4d",
   "metadata": {},
   "outputs": [],
   "source": [
    "import itertools\n",
    "\n",
    "[*itertools.chain([1,2], [4], itertools.chain(*(x for x in [[1], [2]])), map(lambda x: x, [2]))]"
   ]
  },
  {
   "cell_type": "code",
   "execution_count": null,
   "id": "5d0f8c74",
   "metadata": {},
   "outputs": [],
   "source": [
    "import itertools\n",
    "\n",
    "def extract_all_tokens(o):\n",
    "    if isinstance(o, dict):\n",
    "        return itertools.chain(itertools.chain(*map(extract_all_tokens, o.values())), itertools.chain(*map(extract_all_tokens, o.keys())))\n",
    "    elif isinstance(o, list) or isinstance(o, tuple):\n",
    "        return itertools.chain(*map(extract_all_tokens, o))\n",
    "    elif is_token(o):\n",
    "        return [o]\n",
    "    else:\n",
    "        return []\n",
    "\n",
    "def extract_all_non_tokens(o):\n",
    "    if isinstance(o, dict):\n",
    "        return itertools.chain(*map(extract_all_non_tokens, o.values()))\n",
    "    elif isinstance(o, list):\n",
    "        return itertools.chain(*map(extract_all_non_tokens, o))\n",
    "    elif is_token(o):\n",
    "        return []\n",
    "    else:\n",
    "        if not (isinstance(o, int) or isinstance(o, float)):\n",
    "            return [o]\n",
    "        return []"
   ]
  },
  {
   "cell_type": "code",
   "execution_count": null,
   "id": "0b5187f8",
   "metadata": {},
   "outputs": [],
   "source": [
    "all_non_tokens = set()\n",
    "tokens = dict()\n",
    "for e in os.listdir(raw_expansion):\n",
    "    with open(os.path.join(raw_expansion, e), \"r\") as f:\n",
    "        e_json = json.load(f)\n",
    "    key = e.split('.')[0]\n",
    "    tokens[key] = {*extract_all_tokens(e_json)}\n",
    "    all_non_tokens.update(extract_all_non_tokens(e_json))\n",
    "\n",
    "print(all_non_tokens)\n",
    "print(tokens.keys())"
   ]
  },
  {
   "cell_type": "code",
   "execution_count": null,
   "id": "363ad325",
   "metadata": {},
   "outputs": [],
   "source": [
    "_tokens = []\n",
    "for e in os.listdir(raw_expansion):\n",
    "    with open(os.path.join(raw_expansion, e), \"r\") as f:\n",
    "        e_json = json.load(f)\n",
    "    \n",
    "#     tokens: \"Set[str]\" = set()\n",
    "        \n",
    "#     for k, value in e_json.items():\n",
    "#         if type(value) == list:\n",
    "#             tokens.update({v[\"token\"] for v in value if type(v) == dict})\n",
    "#         elif type(value) == dict:\n",
    "#             tokens.update(value.keys())\n",
    "    tokens = {*extract_all_tokens(e_json)}\n",
    "    \n",
    "    if not os.path.exists(processed_expansion):\n",
    "        os.makedirs(processed_expansion)\n",
    "    \n",
    "    with open(os.path.join(processed_expansion, e[:-len(\".json\")] + \"-tokens.json\"), \"w\") as f:\n",
    "        json.dump([*tokens], f)\n",
    "    \n",
    "    _tokens.append(tokens)\n",
    "\n",
    "for t1 in _tokens:\n",
    "    for t2 in _tokens:\n",
    "        if t1 == t2: continue\n",
    "        print(t1 & t2)"
   ]
  },
  {
   "cell_type": "code",
   "execution_count": null,
   "id": "35960959",
   "metadata": {},
   "outputs": [],
   "source": [
    "for tokens_f in os.listdir(processed_expansion):\n",
    "    with open(os.path.join(processed_expansion, tokens_f), \"r\") as f:\n",
    "        tokens = {*json.load(f)}\n",
    "    \n",
    "    region = tokens_f[:-len(\"-tokens.json\")]\n",
    "    print(region)\n",
    "    filtered = filter_road(d.raw_road, tokens)\n",
    "    for k, v in filtered.items():\n",
    "        print(k, len(v))\n",
    "        base = os.path.join(d.processed_road, region)\n",
    "        if not os.path.exists(base):\n",
    "            os.makedirs(base)\n",
    "        with open(os.path.join(base, k + \".json\"), \"w\") as f:\n",
    "            json.dump(v, f, indent=1)\n",
    "    "
   ]
  },
  {
   "cell_type": "code",
   "execution_count": null,
   "id": "b805a70e",
   "metadata": {},
   "outputs": [],
   "source": [
    "base_old = os.path.join(d.processed_road, \"boston-old\")\n",
    "base_seaport = os.path.join(d.processed_road, \"boston-seaport\")\n",
    "\n",
    "def remove_heading(d):\n",
    "    if 'heading' in d:\n",
    "        del d['heading']\n",
    "    return d\n",
    "\n",
    "for e in os.listdir(base_old):\n",
    "    with open(os.path.join(base_old, e), \"r\") as f:\n",
    "        old = json.load(f)\n",
    "    with open(os.path.join(base_seaport, e), \"r\") as f:\n",
    "        seaport = json.load(f)\n",
    "    \n",
    "    print(e)\n",
    "    old_set = set((json.dumps(o, sort_keys=True) for o in map(remove_heading, old)))\n",
    "    seaport_set = set((json.dumps(o, sort_keys=True) for o in map(remove_heading, seaport)))\n",
    "    print('boston-old is subset:', len(old_set - seaport_set) == 0)\n",
    "    print()\n",
    "    "
   ]
  },
  {
   "cell_type": "code",
   "execution_count": null,
   "id": "d3517e9e",
   "metadata": {},
   "outputs": [],
   "source": [
    "with open(os.path.join(base_old, 'polygon.json'), \"r\") as f:\n",
    "    old = json.load(f)\n",
    "with open(os.path.join(base_seaport, 'polygon.json'), \"r\") as f:\n",
    "    seaport = json.load(f)\n",
    "# old[0]\n",
    "print([o for o in old if o['id'] == \"971af7a8-855a-474a-8715-f6b8016e78ff\"])\n",
    "print([o for o in seaport if o['id'] == \"971af7a8-855a-474a-8715-f6b8016e78ff\"])"
   ]
  },
  {
   "cell_type": "code",
   "execution_count": null,
   "id": "d0e7f19d",
   "metadata": {},
   "outputs": [],
   "source": [
    "with open(os.path.join(base_old, 'segment.json'), \"r\") as f:\n",
    "    old = json.load(f)\n",
    "with open(os.path.join(base_seaport, 'segment.json'), 'r') as f:\n",
    "    seaport = json.load(f)\n",
    "print(json.dumps([o for o in old if o['polygonId'] == \"971af7a8-855a-474a-8715-f6b8016e78ff\"], indent=2))\n",
    "print(json.dumps([o for o in seaport if o['polygonId'] == \"971af7a8-855a-474a-8715-f6b8016e78ff\"], indent=2))"
   ]
  },
  {
   "cell_type": "code",
   "execution_count": null,
   "id": "99b6fff2",
   "metadata": {},
   "outputs": [],
   "source": []
  }
 ],
 "metadata": {
  "kernelspec": {
   "display_name": "Python 3 (ipykernel)",
   "language": "python",
   "name": "python3"
  },
  "language_info": {
   "codemirror_mode": {
    "name": "ipython",
    "version": 3
   },
   "file_extension": ".py",
   "mimetype": "text/x-python",
   "name": "python",
   "nbconvert_exporter": "python",
   "pygments_lexer": "ipython3",
   "version": "3.10.9"
  }
 },
 "nbformat": 4,
 "nbformat_minor": 5
}
